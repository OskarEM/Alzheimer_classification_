{
 "cells": [
  {
   "cell_type": "code",
   "execution_count": 2,
   "id": "8838c05f-3f30-4cc1-b38c-560d5fe6a6fd",
   "metadata": {},
   "outputs": [],
   "source": [
    "#NB!!! last model is the one used in the final result, it provides a keras file"
   ]
  },
  {
   "cell_type": "code",
   "execution_count": null,
   "id": "67dc3166-4724-441a-985f-a3eb1d5a19ea",
   "metadata": {},
   "outputs": [],
   "source": []
  },
  {
   "cell_type": "code",
   "execution_count": 1,
   "id": "d3059c84-6002-459f-92aa-b0f79e4b5727",
   "metadata": {},
   "outputs": [
    {
     "name": "stderr",
     "output_type": "stream",
     "text": [
      "2024-05-03 21:50:43.417388: E tensorflow/compiler/xla/stream_executor/cuda/cuda_dnn.cc:9360] Unable to register cuDNN factory: Attempting to register factory for plugin cuDNN when one has already been registered\n",
      "2024-05-03 21:50:43.417440: E tensorflow/compiler/xla/stream_executor/cuda/cuda_fft.cc:609] Unable to register cuFFT factory: Attempting to register factory for plugin cuFFT when one has already been registered\n",
      "2024-05-03 21:50:43.417497: E tensorflow/compiler/xla/stream_executor/cuda/cuda_blas.cc:1537] Unable to register cuBLAS factory: Attempting to register factory for plugin cuBLAS when one has already been registered\n",
      "2024-05-03 21:50:43.427739: I tensorflow/core/platform/cpu_feature_guard.cc:183] This TensorFlow binary is optimized to use available CPU instructions in performance-critical operations.\n",
      "To enable the following instructions: SSE3 SSE4.1 SSE4.2 AVX, in other operations, rebuild TensorFlow with the appropriate compiler flags.\n",
      "\u001b[34m\u001b[1mwandb\u001b[0m: Currently logged in as: \u001b[33moskar-amarkussen\u001b[0m (\u001b[33mossyandlars\u001b[0m). Use \u001b[1m`wandb login --relogin`\u001b[0m to force relogin\n"
     ]
    },
    {
     "data": {
      "text/html": [
       "wandb version 0.16.6 is available!  To upgrade, please run:\n",
       " $ pip install wandb --upgrade"
      ],
      "text/plain": [
       "<IPython.core.display.HTML object>"
      ]
     },
     "metadata": {},
     "output_type": "display_data"
    },
    {
     "data": {
      "text/html": [
       "Tracking run with wandb version 0.16.0"
      ],
      "text/plain": [
       "<IPython.core.display.HTML object>"
      ]
     },
     "metadata": {},
     "output_type": "display_data"
    },
    {
     "data": {
      "text/html": [
       "Run data is saved locally in <code>/home/oskarem/CompVision/Project/wandb/run-20240503_215048-1ua9bb2b</code>"
      ],
      "text/plain": [
       "<IPython.core.display.HTML object>"
      ]
     },
     "metadata": {},
     "output_type": "display_data"
    },
    {
     "data": {
      "text/html": [
       "Syncing run <strong><a href='https://wandb.ai/ossyandlars/computer_vision/runs/1ua9bb2b' target=\"_blank\">amber-star-126</a></strong> to <a href='https://wandb.ai/ossyandlars/computer_vision' target=\"_blank\">Weights & Biases</a> (<a href='https://wandb.me/run' target=\"_blank\">docs</a>)<br/>"
      ],
      "text/plain": [
       "<IPython.core.display.HTML object>"
      ]
     },
     "metadata": {},
     "output_type": "display_data"
    },
    {
     "data": {
      "text/html": [
       " View project at <a href='https://wandb.ai/ossyandlars/computer_vision' target=\"_blank\">https://wandb.ai/ossyandlars/computer_vision</a>"
      ],
      "text/plain": [
       "<IPython.core.display.HTML object>"
      ]
     },
     "metadata": {},
     "output_type": "display_data"
    },
    {
     "data": {
      "text/html": [
       " View run at <a href='https://wandb.ai/ossyandlars/computer_vision/runs/1ua9bb2b' target=\"_blank\">https://wandb.ai/ossyandlars/computer_vision/runs/1ua9bb2b</a>"
      ],
      "text/plain": [
       "<IPython.core.display.HTML object>"
      ]
     },
     "metadata": {},
     "output_type": "display_data"
    },
    {
     "name": "stdout",
     "output_type": "stream",
     "text": [
      "Found 5121 images belonging to 4 classes.\n",
      "Found 1291 images belonging to 4 classes.\n"
     ]
    },
    {
     "name": "stderr",
     "output_type": "stream",
     "text": [
      "2024-05-03 21:50:49.239839: E tensorflow/compiler/xla/stream_executor/cuda/cuda_driver.cc:268] failed call to cuInit: CUDA_ERROR_NO_DEVICE: no CUDA-capable device is detected\n"
     ]
    },
    {
     "name": "stdout",
     "output_type": "stream",
     "text": [
      "Model: \"sequential\"\n",
      "_________________________________________________________________\n",
      " Layer (type)                Output Shape              Param #   \n",
      "=================================================================\n",
      " conv2d (Conv2D)             (None, 297, 297, 32)      896       \n",
      "                                                                 \n",
      " max_pooling2d (MaxPooling2  (None, 148, 148, 32)      0         \n",
      " D)                                                              \n",
      "                                                                 \n",
      " conv2d_1 (Conv2D)           (None, 146, 146, 64)      18496     \n",
      "                                                                 \n",
      " max_pooling2d_1 (MaxPoolin  (None, 73, 73, 64)        0         \n",
      " g2D)                                                            \n",
      "                                                                 \n",
      " conv2d_2 (Conv2D)           (None, 71, 71, 128)       73856     \n",
      "                                                                 \n",
      " max_pooling2d_2 (MaxPoolin  (None, 35, 35, 128)       0         \n",
      " g2D)                                                            \n",
      "                                                                 \n",
      " flatten (Flatten)           (None, 156800)            0         \n",
      "                                                                 \n",
      " dense (Dense)               (None, 512)               80282112  \n",
      "                                                                 \n",
      " dense_1 (Dense)             (None, 4)                 2052      \n",
      "                                                                 \n",
      "=================================================================\n",
      "Total params: 80377412 (306.62 MB)\n",
      "Trainable params: 80377412 (306.62 MB)\n",
      "Non-trainable params: 0 (0.00 Byte)\n",
      "_________________________________________________________________\n"
     ]
    },
    {
     "name": "stderr",
     "output_type": "stream",
     "text": [
      "\u001b[34m\u001b[1mwandb\u001b[0m: \u001b[33mWARNING\u001b[0m The save_model argument by default saves the model in the HDF5 format that cannot save custom objects like subclassed models and custom layers. This behavior will be deprecated in a future release in favor of the SavedModel format. Meanwhile, the HDF5 model is saved as W&B files and the SavedModel as W&B Artifacts.\n"
     ]
    },
    {
     "name": "stdout",
     "output_type": "stream",
     "text": [
      "Epoch 1/100\n",
      "320/320 [==============================] - ETA: 0s - loss: 0.9763 - accuracy: 0.5497"
     ]
    },
    {
     "name": "stderr",
     "output_type": "stream",
     "text": [
      "/home/oskarem/.local/lib/python3.10/site-packages/keras/src/engine/training.py:3000: UserWarning: You are saving your model as an HDF5 file via `model.save()`. This file format is considered legacy. We recommend using instead the native Keras format, e.g. `model.save('my_model.keras')`.\n",
      "  saving_api.save_model(\n"
     ]
    },
    {
     "name": "stdout",
     "output_type": "stream",
     "text": [
      "INFO:tensorflow:Assets written to: /home/oskarem/CompVision/Project/wandb/run-20240503_215048-1ua9bb2b/files/model-best/assets\n"
     ]
    },
    {
     "name": "stderr",
     "output_type": "stream",
     "text": [
      "INFO:tensorflow:Assets written to: /home/oskarem/CompVision/Project/wandb/run-20240503_215048-1ua9bb2b/files/model-best/assets\n",
      "\u001b[34m\u001b[1mwandb\u001b[0m: Adding directory to artifact (/home/oskarem/CompVision/Project/wandb/run-20240503_215048-1ua9bb2b/files/model-best)... Done. 3.2s\n"
     ]
    },
    {
     "name": "stdout",
     "output_type": "stream",
     "text": [
      "\n",
      "Epoch 1: val_accuracy improved from -inf to 0.59453, saving model to model_best_custom_cnn.h5\n"
     ]
    },
    {
     "name": "stderr",
     "output_type": "stream",
     "text": [
      "/home/oskarem/.local/lib/python3.10/site-packages/keras/src/engine/training.py:3000: UserWarning: You are saving your model as an HDF5 file via `model.save()`. This file format is considered legacy. We recommend using instead the native Keras format, e.g. `model.save('my_model.keras')`.\n",
      "  saving_api.save_model(\n"
     ]
    },
    {
     "name": "stdout",
     "output_type": "stream",
     "text": [
      "320/320 [==============================] - 282s 877ms/step - loss: 0.9763 - accuracy: 0.5497 - val_loss: 0.9630 - val_accuracy: 0.5945\n",
      "Epoch 2/100\n",
      "320/320 [==============================] - ETA: 0s - loss: 0.4223 - accuracy: 0.8366\n",
      "Epoch 2: val_accuracy did not improve from 0.59453\n",
      "320/320 [==============================] - 264s 825ms/step - loss: 0.4223 - accuracy: 0.8366 - val_loss: 1.3005 - val_accuracy: 0.4930\n",
      "Epoch 3/100\n",
      "320/320 [==============================] - ETA: 0s - loss: 0.0728 - accuracy: 0.9745\n",
      "Epoch 3: val_accuracy improved from 0.59453 to 0.61484, saving model to model_best_custom_cnn.h5\n",
      "320/320 [==============================] - 266s 830ms/step - loss: 0.0728 - accuracy: 0.9745 - val_loss: 1.5841 - val_accuracy: 0.6148\n",
      "Epoch 4/100\n",
      "320/320 [==============================] - ETA: 0s - loss: 0.0328 - accuracy: 0.9900\n",
      "Epoch 4: val_accuracy improved from 0.61484 to 0.62969, saving model to model_best_custom_cnn.h5\n",
      "320/320 [==============================] - 265s 830ms/step - loss: 0.0328 - accuracy: 0.9900 - val_loss: 1.9943 - val_accuracy: 0.6297\n",
      "Epoch 5/100\n",
      "320/320 [==============================] - ETA: 0s - loss: 0.0126 - accuracy: 0.9971\n",
      "Epoch 5: val_accuracy did not improve from 0.62969\n",
      "320/320 [==============================] - 265s 827ms/step - loss: 0.0126 - accuracy: 0.9971 - val_loss: 2.5878 - val_accuracy: 0.5312\n",
      "Epoch 6/100\n",
      "320/320 [==============================] - ETA: 0s - loss: 0.0054 - accuracy: 0.9986\n",
      "Epoch 6: val_accuracy did not improve from 0.62969\n",
      "320/320 [==============================] - 263s 821ms/step - loss: 0.0054 - accuracy: 0.9986 - val_loss: 2.4142 - val_accuracy: 0.6031\n",
      "Epoch 7/100\n",
      "320/320 [==============================] - ETA: 0s - loss: 0.0340 - accuracy: 0.9873\n",
      "Epoch 7: val_accuracy did not improve from 0.62969\n",
      "320/320 [==============================] - 262s 818ms/step - loss: 0.0340 - accuracy: 0.9873 - val_loss: 2.4438 - val_accuracy: 0.5797\n",
      "Epoch 8/100\n",
      "320/320 [==============================] - ETA: 0s - loss: 0.0174 - accuracy: 0.9937\n",
      "Epoch 8: val_accuracy improved from 0.62969 to 0.63437, saving model to model_best_custom_cnn.h5\n",
      "320/320 [==============================] - 266s 832ms/step - loss: 0.0174 - accuracy: 0.9937 - val_loss: 2.2977 - val_accuracy: 0.6344\n",
      "Epoch 9/100\n",
      "320/320 [==============================] - ETA: 0s - loss: 0.0018 - accuracy: 0.9998\n",
      "Epoch 9: val_accuracy did not improve from 0.63437\n",
      "320/320 [==============================] - 263s 823ms/step - loss: 0.0018 - accuracy: 0.9998 - val_loss: 3.3873 - val_accuracy: 0.5711\n",
      "Epoch 10/100\n",
      "320/320 [==============================] - ETA: 0s - loss: 0.0228 - accuracy: 0.9922\n",
      "Epoch 10: val_accuracy did not improve from 0.63437\n",
      "320/320 [==============================] - 263s 821ms/step - loss: 0.0228 - accuracy: 0.9922 - val_loss: 2.3107 - val_accuracy: 0.6344\n",
      "Epoch 11/100\n",
      "320/320 [==============================] - ETA: 0s - loss: 0.0144 - accuracy: 0.9953\n",
      "Epoch 11: val_accuracy did not improve from 0.63437\n",
      "320/320 [==============================] - 264s 825ms/step - loss: 0.0144 - accuracy: 0.9953 - val_loss: 2.3328 - val_accuracy: 0.6313\n",
      "Epoch 12/100\n",
      "320/320 [==============================] - ETA: 0s - loss: 0.0029 - accuracy: 0.9992\n",
      "Epoch 12: val_accuracy did not improve from 0.63437\n",
      "320/320 [==============================] - 265s 829ms/step - loss: 0.0029 - accuracy: 0.9992 - val_loss: 2.9258 - val_accuracy: 0.6086\n",
      "Epoch 13/100\n",
      "320/320 [==============================] - ETA: 0s - loss: 6.1714e-05 - accuracy: 1.0000\n",
      "Epoch 13: val_accuracy did not improve from 0.63437\n",
      "320/320 [==============================] - 265s 827ms/step - loss: 6.1714e-05 - accuracy: 1.0000 - val_loss: 2.9745 - val_accuracy: 0.6086\n",
      "Epoch 14/100\n",
      "320/320 [==============================] - ETA: 0s - loss: 1.6823e-05 - accuracy: 1.0000\n",
      "Epoch 14: val_accuracy did not improve from 0.63437\n",
      "320/320 [==============================] - 264s 826ms/step - loss: 1.6823e-05 - accuracy: 1.0000 - val_loss: 2.9979 - val_accuracy: 0.6141\n",
      "Epoch 15/100\n",
      "320/320 [==============================] - ETA: 0s - loss: 1.2168e-05 - accuracy: 1.0000\n",
      "Epoch 15: val_accuracy did not improve from 0.63437\n",
      "320/320 [==============================] - 264s 824ms/step - loss: 1.2168e-05 - accuracy: 1.0000 - val_loss: 3.0494 - val_accuracy: 0.6141\n",
      "Epoch 16/100\n",
      "320/320 [==============================] - ETA: 0s - loss: 9.4735e-06 - accuracy: 1.0000\n",
      "Epoch 16: val_accuracy did not improve from 0.63437\n",
      "320/320 [==============================] - 264s 824ms/step - loss: 9.4735e-06 - accuracy: 1.0000 - val_loss: 3.0524 - val_accuracy: 0.6195\n",
      "Epoch 17/100\n",
      "320/320 [==============================] - ETA: 0s - loss: 7.6238e-06 - accuracy: 1.0000\n",
      "Epoch 17: val_accuracy did not improve from 0.63437\n",
      "320/320 [==============================] - 262s 818ms/step - loss: 7.6238e-06 - accuracy: 1.0000 - val_loss: 3.1001 - val_accuracy: 0.6195\n",
      "Epoch 18/100\n",
      "320/320 [==============================] - ETA: 0s - loss: 6.2862e-06 - accuracy: 1.0000\n",
      "Epoch 18: val_accuracy did not improve from 0.63437\n",
      "320/320 [==============================] - 262s 820ms/step - loss: 6.2862e-06 - accuracy: 1.0000 - val_loss: 3.1113 - val_accuracy: 0.6227\n",
      "Epoch 19/100\n",
      "320/320 [==============================] - ETA: 0s - loss: 5.1858e-06 - accuracy: 1.0000\n",
      "Epoch 19: val_accuracy did not improve from 0.63437\n",
      "320/320 [==============================] - 263s 821ms/step - loss: 5.1858e-06 - accuracy: 1.0000 - val_loss: 3.1823 - val_accuracy: 0.6211\n",
      "Epoch 20/100\n",
      "320/320 [==============================] - ETA: 0s - loss: 4.2982e-06 - accuracy: 1.0000\n",
      "Epoch 20: val_accuracy did not improve from 0.63437\n",
      "320/320 [==============================] - 263s 823ms/step - loss: 4.2982e-06 - accuracy: 1.0000 - val_loss: 3.2097 - val_accuracy: 0.6234\n",
      "Epoch 21/100\n",
      "320/320 [==============================] - ETA: 0s - loss: 3.6129e-06 - accuracy: 1.0000\n",
      "Epoch 21: val_accuracy did not improve from 0.63437\n",
      "320/320 [==============================] - 263s 820ms/step - loss: 3.6129e-06 - accuracy: 1.0000 - val_loss: 3.2609 - val_accuracy: 0.6234\n",
      "Epoch 22/100\n",
      "320/320 [==============================] - ETA: 0s - loss: 3.0472e-06 - accuracy: 1.0000\n",
      "Epoch 22: val_accuracy did not improve from 0.63437\n",
      "320/320 [==============================] - 263s 821ms/step - loss: 3.0472e-06 - accuracy: 1.0000 - val_loss: 3.2791 - val_accuracy: 0.6250\n",
      "Epoch 23/100\n",
      "320/320 [==============================] - ETA: 0s - loss: 2.5832e-06 - accuracy: 1.0000\n",
      "Epoch 23: val_accuracy did not improve from 0.63437\n",
      "320/320 [==============================] - 262s 819ms/step - loss: 2.5832e-06 - accuracy: 1.0000 - val_loss: 3.3232 - val_accuracy: 0.6258\n",
      "Epoch 24/100\n",
      "320/320 [==============================] - ETA: 0s - loss: 2.1887e-06 - accuracy: 1.0000\n",
      "Epoch 24: val_accuracy did not improve from 0.63437\n",
      "320/320 [==============================] - 262s 818ms/step - loss: 2.1887e-06 - accuracy: 1.0000 - val_loss: 3.3627 - val_accuracy: 0.6250\n",
      "Epoch 25/100\n",
      "320/320 [==============================] - ETA: 0s - loss: 1.8684e-06 - accuracy: 1.0000\n",
      "Epoch 25: val_accuracy did not improve from 0.63437\n",
      "320/320 [==============================] - 263s 821ms/step - loss: 1.8684e-06 - accuracy: 1.0000 - val_loss: 3.3774 - val_accuracy: 0.6242\n",
      "Epoch 26/100\n",
      "320/320 [==============================] - ETA: 0s - loss: 1.5980e-06 - accuracy: 1.0000\n",
      "Epoch 26: val_accuracy did not improve from 0.63437\n",
      "320/320 [==============================] - 262s 818ms/step - loss: 1.5980e-06 - accuracy: 1.0000 - val_loss: 3.4073 - val_accuracy: 0.6266\n",
      "Epoch 27/100\n",
      "320/320 [==============================] - ETA: 0s - loss: 1.3613e-06 - accuracy: 1.0000\n",
      "Epoch 27: val_accuracy did not improve from 0.63437\n",
      "320/320 [==============================] - 264s 825ms/step - loss: 1.3613e-06 - accuracy: 1.0000 - val_loss: 3.4503 - val_accuracy: 0.6305\n",
      "Epoch 28/100\n",
      "320/320 [==============================] - ETA: 0s - loss: 1.1578e-06 - accuracy: 1.0000\n",
      "Epoch 28: val_accuracy did not improve from 0.63437\n",
      "320/320 [==============================] - 263s 822ms/step - loss: 1.1578e-06 - accuracy: 1.0000 - val_loss: 3.4694 - val_accuracy: 0.6320\n",
      "Epoch 29/100\n",
      "320/320 [==============================] - ETA: 0s - loss: 9.8605e-07 - accuracy: 1.0000\n",
      "Epoch 29: val_accuracy did not improve from 0.63437\n",
      "320/320 [==============================] - 289s 902ms/step - loss: 9.8605e-07 - accuracy: 1.0000 - val_loss: 3.4988 - val_accuracy: 0.6297\n",
      "Epoch 30/100\n",
      "320/320 [==============================] - ETA: 0s - loss: 8.3777e-07 - accuracy: 1.0000\n",
      "Epoch 30: val_accuracy did not improve from 0.63437\n",
      "320/320 [==============================] - 300s 938ms/step - loss: 8.3777e-07 - accuracy: 1.0000 - val_loss: 3.5422 - val_accuracy: 0.6297\n",
      "Epoch 31/100\n",
      "320/320 [==============================] - ETA: 0s - loss: 7.0906e-07 - accuracy: 1.0000\n",
      "Epoch 31: val_accuracy did not improve from 0.63437\n",
      "320/320 [==============================] - 279s 873ms/step - loss: 7.0906e-07 - accuracy: 1.0000 - val_loss: 3.6008 - val_accuracy: 0.6281\n",
      "Epoch 32/100\n",
      "320/320 [==============================] - ETA: 0s - loss: 6.0445e-07 - accuracy: 1.0000\n",
      "Epoch 32: val_accuracy did not improve from 0.63437\n",
      "320/320 [==============================] - 269s 840ms/step - loss: 6.0445e-07 - accuracy: 1.0000 - val_loss: 3.6240 - val_accuracy: 0.6289\n",
      "Epoch 33/100\n",
      "320/320 [==============================] - ETA: 0s - loss: 5.1424e-07 - accuracy: 1.0000\n",
      "Epoch 33: val_accuracy did not improve from 0.63437\n",
      "320/320 [==============================] - 270s 843ms/step - loss: 5.1424e-07 - accuracy: 1.0000 - val_loss: 3.6424 - val_accuracy: 0.6313\n",
      "Epoch 34/100\n",
      "320/320 [==============================] - ETA: 0s - loss: 4.3767e-07 - accuracy: 1.0000\n",
      "Epoch 34: val_accuracy did not improve from 0.63437\n",
      "320/320 [==============================] - 270s 845ms/step - loss: 4.3767e-07 - accuracy: 1.0000 - val_loss: 3.7014 - val_accuracy: 0.6313\n",
      "Epoch 35/100\n",
      "320/320 [==============================] - ETA: 0s - loss: 3.7329e-07 - accuracy: 1.0000\n",
      "Epoch 35: val_accuracy did not improve from 0.63437\n",
      "320/320 [==============================] - 269s 841ms/step - loss: 3.7329e-07 - accuracy: 1.0000 - val_loss: 3.7229 - val_accuracy: 0.6320\n",
      "Epoch 36/100\n",
      "320/320 [==============================] - ETA: 0s - loss: 3.1683e-07 - accuracy: 1.0000\n",
      "Epoch 36: val_accuracy did not improve from 0.63437\n",
      "320/320 [==============================] - 270s 843ms/step - loss: 3.1683e-07 - accuracy: 1.0000 - val_loss: 3.7489 - val_accuracy: 0.6305\n",
      "Epoch 37/100\n",
      "320/320 [==============================] - ETA: 0s - loss: 2.6920e-07 - accuracy: 1.0000\n",
      "Epoch 37: val_accuracy did not improve from 0.63437\n",
      "320/320 [==============================] - 269s 842ms/step - loss: 2.6920e-07 - accuracy: 1.0000 - val_loss: 3.7996 - val_accuracy: 0.6320\n",
      "Epoch 38/100\n",
      "320/320 [==============================] - ETA: 0s - loss: 2.2812e-07 - accuracy: 1.0000\n",
      "Epoch 38: val_accuracy did not improve from 0.63437\n",
      "320/320 [==============================] - 272s 851ms/step - loss: 2.2812e-07 - accuracy: 1.0000 - val_loss: 3.8197 - val_accuracy: 0.6320\n",
      "Epoch 39/100\n",
      "320/320 [==============================] - ETA: 0s - loss: 1.9405e-07 - accuracy: 1.0000\n",
      "Epoch 39: val_accuracy did not improve from 0.63437\n",
      "320/320 [==============================] - 271s 847ms/step - loss: 1.9405e-07 - accuracy: 1.0000 - val_loss: 3.8601 - val_accuracy: 0.6328\n",
      "Epoch 40/100\n",
      "320/320 [==============================] - ETA: 0s - loss: 1.6566e-07 - accuracy: 1.0000\n",
      "Epoch 40: val_accuracy did not improve from 0.63437\n",
      "320/320 [==============================] - 268s 838ms/step - loss: 1.6566e-07 - accuracy: 1.0000 - val_loss: 3.9072 - val_accuracy: 0.6305\n",
      "Epoch 41/100\n",
      "320/320 [==============================] - ETA: 0s - loss: 1.4018e-07 - accuracy: 1.0000\n",
      "Epoch 41: val_accuracy did not improve from 0.63437\n",
      "320/320 [==============================] - 270s 844ms/step - loss: 1.4018e-07 - accuracy: 1.0000 - val_loss: 3.9063 - val_accuracy: 0.6336\n",
      "Epoch 42/100\n",
      "320/320 [==============================] - ETA: 0s - loss: 1.1776e-07 - accuracy: 1.0000\n",
      "Epoch 42: val_accuracy did not improve from 0.63437\n",
      "320/320 [==============================] - 271s 847ms/step - loss: 1.1776e-07 - accuracy: 1.0000 - val_loss: 3.9394 - val_accuracy: 0.6313\n",
      "Epoch 43/100\n",
      "320/320 [==============================] - ETA: 0s - loss: 1.0139e-07 - accuracy: 1.0000\n",
      "Epoch 43: val_accuracy did not improve from 0.63437\n",
      "320/320 [==============================] - 271s 847ms/step - loss: 1.0139e-07 - accuracy: 1.0000 - val_loss: 4.0057 - val_accuracy: 0.6344\n",
      "Epoch 44/100\n",
      "320/320 [==============================] - ETA: 0s - loss: 8.5443e-08 - accuracy: 1.0000\n",
      "Epoch 44: val_accuracy improved from 0.63437 to 0.63594, saving model to model_best_custom_cnn.h5\n",
      "320/320 [==============================] - 273s 854ms/step - loss: 8.5443e-08 - accuracy: 1.0000 - val_loss: 4.0372 - val_accuracy: 0.6359\n",
      "Epoch 45/100\n",
      "320/320 [==============================] - ETA: 0s - loss: 7.2763e-08 - accuracy: 1.0000\n",
      "Epoch 45: val_accuracy did not improve from 0.63594\n",
      "320/320 [==============================] - 273s 853ms/step - loss: 7.2763e-08 - accuracy: 1.0000 - val_loss: 4.0675 - val_accuracy: 0.6352\n",
      "Epoch 46/100\n",
      "320/320 [==============================] - ETA: 0s - loss: 6.1928e-08 - accuracy: 1.0000\n",
      "Epoch 46: val_accuracy did not improve from 0.63594\n",
      "320/320 [==============================] - 273s 853ms/step - loss: 6.1928e-08 - accuracy: 1.0000 - val_loss: 4.1038 - val_accuracy: 0.6344\n",
      "Epoch 47/100\n",
      "320/320 [==============================] - ETA: 0s - loss: 5.2844e-08 - accuracy: 1.0000\n",
      "Epoch 47: val_accuracy did not improve from 0.63594\n",
      "320/320 [==============================] - 273s 852ms/step - loss: 5.2844e-08 - accuracy: 1.0000 - val_loss: 4.1346 - val_accuracy: 0.6359\n",
      "Epoch 48/100\n",
      "320/320 [==============================] - ETA: 0s - loss: 4.4741e-08 - accuracy: 1.0000\n",
      "Epoch 48: val_accuracy did not improve from 0.63594\n",
      "320/320 [==============================] - 271s 848ms/step - loss: 4.4741e-08 - accuracy: 1.0000 - val_loss: 4.1702 - val_accuracy: 0.6359\n",
      "Epoch 49/100\n",
      "320/320 [==============================] - ETA: 0s - loss: 3.8016e-08 - accuracy: 1.0000\n",
      "Epoch 49: val_accuracy improved from 0.63594 to 0.63672, saving model to model_best_custom_cnn.h5\n",
      "320/320 [==============================] - 274s 855ms/step - loss: 3.8016e-08 - accuracy: 1.0000 - val_loss: 4.2011 - val_accuracy: 0.6367\n",
      "Epoch 50/100\n",
      "320/320 [==============================] - ETA: 0s - loss: 3.2552e-08 - accuracy: 1.0000\n",
      "Epoch 50: val_accuracy improved from 0.63672 to 0.63828, saving model to model_best_custom_cnn.h5\n",
      "320/320 [==============================] - 271s 848ms/step - loss: 3.2552e-08 - accuracy: 1.0000 - val_loss: 4.2292 - val_accuracy: 0.6383\n",
      "Epoch 51/100\n",
      "320/320 [==============================] - ETA: 0s - loss: 2.8045e-08 - accuracy: 1.0000\n",
      "Epoch 51: val_accuracy improved from 0.63828 to 0.63906, saving model to model_best_custom_cnn.h5\n",
      "320/320 [==============================] - 271s 848ms/step - loss: 2.8045e-08 - accuracy: 1.0000 - val_loss: 4.2701 - val_accuracy: 0.6391\n",
      "Epoch 52/100\n",
      "320/320 [==============================] - ETA: 0s - loss: 2.3445e-08 - accuracy: 1.0000\n",
      "Epoch 52: val_accuracy did not improve from 0.63906\n",
      "320/320 [==============================] - 270s 843ms/step - loss: 2.3445e-08 - accuracy: 1.0000 - val_loss: 4.2993 - val_accuracy: 0.6383\n",
      "Epoch 53/100\n",
      "320/320 [==============================] - ETA: 0s - loss: 1.9989e-08 - accuracy: 1.0000\n",
      "Epoch 53: val_accuracy improved from 0.63906 to 0.64141, saving model to model_best_custom_cnn.h5\n",
      "320/320 [==============================] - 268s 836ms/step - loss: 1.9989e-08 - accuracy: 1.0000 - val_loss: 4.3052 - val_accuracy: 0.6414\n",
      "Epoch 54/100\n",
      "320/320 [==============================] - ETA: 0s - loss: 1.6953e-08 - accuracy: 1.0000\n",
      "Epoch 54: val_accuracy did not improve from 0.64141\n",
      "320/320 [==============================] - 266s 831ms/step - loss: 1.6953e-08 - accuracy: 1.0000 - val_loss: 4.3465 - val_accuracy: 0.6406\n",
      "Epoch 55/100\n",
      "320/320 [==============================] - ETA: 0s - loss: 1.4641e-08 - accuracy: 1.0000\n",
      "Epoch 55: val_accuracy did not improve from 0.64141\n",
      "320/320 [==============================] - 266s 830ms/step - loss: 1.4641e-08 - accuracy: 1.0000 - val_loss: 4.3915 - val_accuracy: 0.6406\n",
      "Epoch 56/100\n",
      "320/320 [==============================] - ETA: 0s - loss: 1.2493e-08 - accuracy: 1.0000\n",
      "Epoch 56: val_accuracy did not improve from 0.64141\n",
      "320/320 [==============================] - 266s 832ms/step - loss: 1.2493e-08 - accuracy: 1.0000 - val_loss: 4.4317 - val_accuracy: 0.6414\n",
      "Epoch 57/100\n",
      "320/320 [==============================] - ETA: 0s - loss: 1.0532e-08 - accuracy: 1.0000\n",
      "Epoch 57: val_accuracy did not improve from 0.64141\n",
      "320/320 [==============================] - 267s 835ms/step - loss: 1.0532e-08 - accuracy: 1.0000 - val_loss: 4.4615 - val_accuracy: 0.6414\n",
      "Epoch 58/100\n",
      "320/320 [==============================] - ETA: 0s - loss: 9.2005e-09 - accuracy: 1.0000\n",
      "Epoch 58: val_accuracy improved from 0.64141 to 0.64453, saving model to model_best_custom_cnn.h5\n",
      "320/320 [==============================] - 270s 843ms/step - loss: 9.2005e-09 - accuracy: 1.0000 - val_loss: 4.4847 - val_accuracy: 0.6445\n",
      "Epoch 59/100\n",
      "320/320 [==============================] - ETA: 0s - loss: 7.8227e-09 - accuracy: 1.0000\n",
      "Epoch 59: val_accuracy did not improve from 0.64453\n",
      "320/320 [==============================] - 267s 835ms/step - loss: 7.8227e-09 - accuracy: 1.0000 - val_loss: 4.4940 - val_accuracy: 0.6438\n",
      "Epoch 60/100\n",
      "320/320 [==============================] - ETA: 0s - loss: 6.4450e-09 - accuracy: 1.0000\n",
      "Epoch 60: val_accuracy did not improve from 0.64453\n",
      "320/320 [==============================] - 267s 835ms/step - loss: 6.4450e-09 - accuracy: 1.0000 - val_loss: 4.5607 - val_accuracy: 0.6430\n",
      "Epoch 61/100\n",
      "320/320 [==============================] - ETA: 0s - loss: 5.5577e-09 - accuracy: 1.0000\n",
      "Epoch 61: val_accuracy did not improve from 0.64453\n",
      "320/320 [==============================] - 269s 841ms/step - loss: 5.5577e-09 - accuracy: 1.0000 - val_loss: 4.5824 - val_accuracy: 0.6422\n",
      "Epoch 62/100\n",
      "320/320 [==============================] - ETA: 0s - loss: 4.8104e-09 - accuracy: 1.0000\n",
      "Epoch 62: val_accuracy improved from 0.64453 to 0.64531, saving model to model_best_custom_cnn.h5\n",
      "320/320 [==============================] - 271s 847ms/step - loss: 4.8104e-09 - accuracy: 1.0000 - val_loss: 4.5918 - val_accuracy: 0.6453\n",
      "Epoch 63/100\n",
      "320/320 [==============================] - ETA: 0s - loss: 4.1332e-09 - accuracy: 1.0000\n",
      "Epoch 63: val_accuracy improved from 0.64531 to 0.64688, saving model to model_best_custom_cnn.h5\n",
      "320/320 [==============================] - 274s 855ms/step - loss: 4.1332e-09 - accuracy: 1.0000 - val_loss: 4.5990 - val_accuracy: 0.6469\n",
      "Epoch 64/100\n",
      "320/320 [==============================] - ETA: 0s - loss: 3.5961e-09 - accuracy: 1.0000\n",
      "Epoch 64: val_accuracy did not improve from 0.64688\n",
      "320/320 [==============================] - 272s 851ms/step - loss: 3.5961e-09 - accuracy: 1.0000 - val_loss: 4.6314 - val_accuracy: 0.6461\n",
      "Epoch 65/100\n",
      "320/320 [==============================] - ETA: 0s - loss: 3.0824e-09 - accuracy: 1.0000\n",
      "Epoch 65: val_accuracy did not improve from 0.64688\n",
      "320/320 [==============================] - 272s 849ms/step - loss: 3.0824e-09 - accuracy: 1.0000 - val_loss: 4.6841 - val_accuracy: 0.6445\n",
      "Epoch 66/100\n",
      "320/320 [==============================] - ETA: 0s - loss: 2.6776e-09 - accuracy: 1.0000\n",
      "Epoch 66: val_accuracy did not improve from 0.64688\n",
      "320/320 [==============================] - 271s 848ms/step - loss: 2.6776e-09 - accuracy: 1.0000 - val_loss: 4.7190 - val_accuracy: 0.6438\n",
      "Epoch 67/100\n",
      "320/320 [==============================] - ETA: 0s - loss: 2.1950e-09 - accuracy: 1.0000\n",
      "Epoch 67: val_accuracy improved from 0.64688 to 0.64766, saving model to model_best_custom_cnn.h5\n",
      "320/320 [==============================] - 270s 843ms/step - loss: 2.1950e-09 - accuracy: 1.0000 - val_loss: 4.7003 - val_accuracy: 0.6477\n",
      "Epoch 68/100\n",
      "320/320 [==============================] - ETA: 0s - loss: 1.9382e-09 - accuracy: 1.0000\n",
      "Epoch 68: val_accuracy did not improve from 0.64766\n",
      "320/320 [==============================] - 270s 843ms/step - loss: 1.9382e-09 - accuracy: 1.0000 - val_loss: 4.7427 - val_accuracy: 0.6453\n",
      "Epoch 69/100\n",
      "320/320 [==============================] - ETA: 0s - loss: 1.5178e-09 - accuracy: 1.0000\n",
      "Epoch 69: val_accuracy did not improve from 0.64766\n",
      "320/320 [==============================] - 272s 850ms/step - loss: 1.5178e-09 - accuracy: 1.0000 - val_loss: 4.7365 - val_accuracy: 0.6438\n",
      "Epoch 70/100\n",
      "320/320 [==============================] - ETA: 0s - loss: 1.4011e-09 - accuracy: 1.0000\n",
      "Epoch 70: val_accuracy did not improve from 0.64766\n",
      "320/320 [==============================] - 271s 848ms/step - loss: 1.4011e-09 - accuracy: 1.0000 - val_loss: 4.7380 - val_accuracy: 0.6430\n",
      "Epoch 71/100\n",
      "320/320 [==============================] - ETA: 0s - loss: 1.2143e-09 - accuracy: 1.0000\n",
      "Epoch 71: val_accuracy did not improve from 0.64766\n",
      "320/320 [==============================] - 270s 844ms/step - loss: 1.2143e-09 - accuracy: 1.0000 - val_loss: 4.7874 - val_accuracy: 0.6453\n",
      "Epoch 72/100\n",
      "320/320 [==============================] - ETA: 0s - loss: 9.8076e-10 - accuracy: 1.0000\n",
      "Epoch 72: val_accuracy did not improve from 0.64766\n",
      "320/320 [==============================] - 270s 843ms/step - loss: 9.8076e-10 - accuracy: 1.0000 - val_loss: 4.8250 - val_accuracy: 0.6430\n",
      "Epoch 73/100\n",
      "320/320 [==============================] - ETA: 0s - loss: 9.1071e-10 - accuracy: 1.0000\n",
      "Epoch 73: val_accuracy did not improve from 0.64766\n",
      "320/320 [==============================] - 272s 849ms/step - loss: 9.1071e-10 - accuracy: 1.0000 - val_loss: 4.7973 - val_accuracy: 0.6438\n",
      "Epoch 74/100\n",
      "320/320 [==============================] - ETA: 0s - loss: 7.4725e-10 - accuracy: 1.0000\n",
      "Epoch 74: val_accuracy did not improve from 0.64766\n",
      "320/320 [==============================] - 272s 849ms/step - loss: 7.4725e-10 - accuracy: 1.0000 - val_loss: 4.7998 - val_accuracy: 0.6438\n",
      "Epoch 75/100\n",
      "320/320 [==============================] - ETA: 0s - loss: 7.7060e-10 - accuracy: 1.0000\n",
      "Epoch 75: val_accuracy did not improve from 0.64766\n",
      "320/320 [==============================] - 270s 842ms/step - loss: 7.7060e-10 - accuracy: 1.0000 - val_loss: 4.8261 - val_accuracy: 0.6445\n",
      "Epoch 76/100\n",
      "320/320 [==============================] - ETA: 0s - loss: 6.3049e-10 - accuracy: 1.0000\n",
      "Epoch 76: val_accuracy did not improve from 0.64766\n",
      "320/320 [==============================] - 270s 844ms/step - loss: 6.3049e-10 - accuracy: 1.0000 - val_loss: 4.8511 - val_accuracy: 0.6430\n",
      "Epoch 77/100\n",
      "320/320 [==============================] - ETA: 0s - loss: 4.6703e-10 - accuracy: 1.0000\n",
      "Epoch 77: val_accuracy did not improve from 0.64766\n",
      "320/320 [==============================] - 270s 843ms/step - loss: 4.6703e-10 - accuracy: 1.0000 - val_loss: 4.8374 - val_accuracy: 0.6453\n",
      "Epoch 78/100\n",
      "320/320 [==============================] - ETA: 0s - loss: 4.2033e-10 - accuracy: 1.0000\n",
      "Epoch 78: val_accuracy did not improve from 0.64766\n",
      "320/320 [==============================] - 271s 848ms/step - loss: 4.2033e-10 - accuracy: 1.0000 - val_loss: 4.7922 - val_accuracy: 0.6453\n",
      "Epoch 79/100\n",
      "320/320 [==============================] - ETA: 0s - loss: 3.9698e-10 - accuracy: 1.0000\n",
      "Epoch 79: val_accuracy did not improve from 0.64766\n",
      "320/320 [==============================] - 270s 844ms/step - loss: 3.9698e-10 - accuracy: 1.0000 - val_loss: 4.8337 - val_accuracy: 0.6438\n",
      "Epoch 80/100\n",
      "320/320 [==============================] - ETA: 0s - loss: 3.0357e-10 - accuracy: 1.0000\n",
      "Epoch 80: val_accuracy did not improve from 0.64766\n",
      "320/320 [==============================] - 271s 847ms/step - loss: 3.0357e-10 - accuracy: 1.0000 - val_loss: 4.8435 - val_accuracy: 0.6414\n",
      "Epoch 81/100\n",
      "320/320 [==============================] - ETA: 0s - loss: 2.8022e-10 - accuracy: 1.0000\n",
      "Epoch 81: val_accuracy did not improve from 0.64766\n",
      "320/320 [==============================] - 271s 847ms/step - loss: 2.8022e-10 - accuracy: 1.0000 - val_loss: 4.8613 - val_accuracy: 0.6414\n",
      "Epoch 82/100\n",
      "320/320 [==============================] - ETA: 0s - loss: 2.3351e-10 - accuracy: 1.0000\n",
      "Epoch 82: val_accuracy did not improve from 0.64766\n",
      "320/320 [==============================] - 271s 846ms/step - loss: 2.3351e-10 - accuracy: 1.0000 - val_loss: 4.8496 - val_accuracy: 0.6453\n",
      "Epoch 83/100\n",
      "320/320 [==============================] - ETA: 0s - loss: 1.8681e-10 - accuracy: 1.0000\n",
      "Epoch 83: val_accuracy did not improve from 0.64766\n",
      "320/320 [==============================] - 269s 842ms/step - loss: 1.8681e-10 - accuracy: 1.0000 - val_loss: 4.8314 - val_accuracy: 0.6461\n",
      "Epoch 84/100\n",
      "320/320 [==============================] - ETA: 0s - loss: 1.6346e-10 - accuracy: 1.0000\n",
      "Epoch 84: val_accuracy did not improve from 0.64766\n",
      "320/320 [==============================] - 270s 845ms/step - loss: 1.6346e-10 - accuracy: 1.0000 - val_loss: 4.9054 - val_accuracy: 0.6445\n",
      "Epoch 85/100\n",
      "320/320 [==============================] - ETA: 0s - loss: 1.4011e-10 - accuracy: 1.0000\n",
      "Epoch 85: val_accuracy did not improve from 0.64766\n",
      "320/320 [==============================] - 271s 847ms/step - loss: 1.4011e-10 - accuracy: 1.0000 - val_loss: 4.9540 - val_accuracy: 0.6438\n",
      "Epoch 86/100\n",
      "320/320 [==============================] - ETA: 0s - loss: 9.3406e-11 - accuracy: 1.0000\n",
      "Epoch 86: val_accuracy did not improve from 0.64766\n",
      "320/320 [==============================] - 266s 830ms/step - loss: 9.3406e-11 - accuracy: 1.0000 - val_loss: 4.9854 - val_accuracy: 0.6430\n",
      "Epoch 87/100\n",
      "320/320 [==============================] - ETA: 0s - loss: 7.0054e-11 - accuracy: 1.0000\n",
      "Epoch 87: val_accuracy did not improve from 0.64766\n",
      "320/320 [==============================] - 265s 829ms/step - loss: 7.0054e-11 - accuracy: 1.0000 - val_loss: 5.0310 - val_accuracy: 0.6422\n",
      "Epoch 88/100\n",
      "320/320 [==============================] - ETA: 0s - loss: 4.6703e-11 - accuracy: 1.0000\n",
      "Epoch 88: val_accuracy did not improve from 0.64766\n",
      "320/320 [==============================] - 266s 832ms/step - loss: 4.6703e-11 - accuracy: 1.0000 - val_loss: 5.1057 - val_accuracy: 0.6453\n",
      "Epoch 89/100\n",
      "320/320 [==============================] - ETA: 0s - loss: 4.6703e-11 - accuracy: 1.0000\n",
      "Epoch 89: val_accuracy improved from 0.64766 to 0.64844, saving model to model_best_custom_cnn.h5\n",
      "320/320 [==============================] - 272s 850ms/step - loss: 4.6703e-11 - accuracy: 1.0000 - val_loss: 5.0639 - val_accuracy: 0.6484\n",
      "Epoch 90/100\n",
      "320/320 [==============================] - ETA: 0s - loss: 0.0000e+00 - accuracy: 1.0000\n",
      "Epoch 90: val_accuracy did not improve from 0.64844\n",
      "320/320 [==============================] - 270s 843ms/step - loss: 0.0000e+00 - accuracy: 1.0000 - val_loss: 5.1285 - val_accuracy: 0.6477\n",
      "Epoch 91/100\n",
      "320/320 [==============================] - ETA: 0s - loss: 0.0000e+00 - accuracy: 1.0000\n",
      "Epoch 91: val_accuracy did not improve from 0.64844\n",
      "320/320 [==============================] - 272s 849ms/step - loss: 0.0000e+00 - accuracy: 1.0000 - val_loss: 5.2095 - val_accuracy: 0.6477\n",
      "Epoch 92/100\n",
      "320/320 [==============================] - ETA: 0s - loss: 0.0000e+00 - accuracy: 1.0000\n",
      "Epoch 92: val_accuracy did not improve from 0.64844\n",
      "320/320 [==============================] - 272s 849ms/step - loss: 0.0000e+00 - accuracy: 1.0000 - val_loss: 5.2881 - val_accuracy: 0.6453\n",
      "Epoch 93/100\n",
      "320/320 [==============================] - ETA: 0s - loss: 0.0000e+00 - accuracy: 1.0000\n",
      "Epoch 93: val_accuracy did not improve from 0.64844\n",
      "320/320 [==============================] - 270s 843ms/step - loss: 0.0000e+00 - accuracy: 1.0000 - val_loss: 5.3679 - val_accuracy: 0.6445\n",
      "Epoch 94/100\n",
      "320/320 [==============================] - ETA: 0s - loss: 0.0000e+00 - accuracy: 1.0000\n",
      "Epoch 94: val_accuracy did not improve from 0.64844\n",
      "320/320 [==============================] - 269s 842ms/step - loss: 0.0000e+00 - accuracy: 1.0000 - val_loss: 5.4348 - val_accuracy: 0.6453\n",
      "Epoch 95/100\n",
      "320/320 [==============================] - ETA: 0s - loss: 0.0000e+00 - accuracy: 1.0000\n",
      "Epoch 95: val_accuracy did not improve from 0.64844\n",
      "320/320 [==============================] - 271s 848ms/step - loss: 0.0000e+00 - accuracy: 1.0000 - val_loss: 5.4809 - val_accuracy: 0.6445\n",
      "Epoch 96/100\n",
      "320/320 [==============================] - ETA: 0s - loss: 0.0000e+00 - accuracy: 1.0000\n",
      "Epoch 96: val_accuracy did not improve from 0.64844\n",
      "320/320 [==============================] - 268s 836ms/step - loss: 0.0000e+00 - accuracy: 1.0000 - val_loss: 5.5342 - val_accuracy: 0.6453\n",
      "Epoch 97/100\n",
      "320/320 [==============================] - ETA: 0s - loss: 0.0000e+00 - accuracy: 1.0000\n",
      "Epoch 97: val_accuracy did not improve from 0.64844\n",
      "320/320 [==============================] - 267s 834ms/step - loss: 0.0000e+00 - accuracy: 1.0000 - val_loss: 5.5801 - val_accuracy: 0.6445\n",
      "Epoch 98/100\n",
      "320/320 [==============================] - ETA: 0s - loss: 0.0000e+00 - accuracy: 1.0000\n",
      "Epoch 98: val_accuracy did not improve from 0.64844\n",
      "320/320 [==============================] - 264s 823ms/step - loss: 0.0000e+00 - accuracy: 1.0000 - val_loss: 5.6615 - val_accuracy: 0.6414\n",
      "Epoch 99/100\n",
      "320/320 [==============================] - ETA: 0s - loss: 0.0000e+00 - accuracy: 1.0000\n",
      "Epoch 99: val_accuracy did not improve from 0.64844\n",
      "320/320 [==============================] - 266s 830ms/step - loss: 0.0000e+00 - accuracy: 1.0000 - val_loss: 5.7008 - val_accuracy: 0.6414\n",
      "Epoch 100/100\n",
      "320/320 [==============================] - ETA: 0s - loss: 0.0000e+00 - accuracy: 1.0000\n",
      "Epoch 100: val_accuracy did not improve from 0.64844\n",
      "320/320 [==============================] - 266s 833ms/step - loss: 0.0000e+00 - accuracy: 1.0000 - val_loss: 5.8095 - val_accuracy: 0.6414\n",
      "81/81 [==============================] - 8s 101ms/step - loss: 5.7897 - accuracy: 0.6429\n"
     ]
    },
    {
     "data": {
      "image/png": "[encoded data removed]",
      "text/plain": [
       "<Figure size 1000x800 with 1 Axes>"
      ]
     },
     "metadata": {},
     "output_type": "display_data"
    },
    {
     "data": {
      "image/png": "[encoded data removed]",
      "text/plain": [
       "<Figure size 1000x800 with 1 Axes>"
      ]
     },
     "metadata": {},
     "output_type": "display_data"
    }
   ],
   "source": [
    "\n",
    "import os\n",
    "import tensorflow as tf\n",
    "from tensorflow.keras import layers, models\n",
    "from tensorflow.keras.preprocessing.image import ImageDataGenerator\n",
    "from tensorflow.keras.optimizers import Adam\n",
    "from tensorflow.keras.callbacks import ModelCheckpoint\n",
    "import matplotlib.pyplot as plt\n",
    "import numpy as np\n",
    "import wandb\n",
    "\n",
    "# Initialize wandb\n",
    "wandb.init(project=\"computer_vision\", config={\n",
    "    \"learning_rate\": 0.0005,\n",
    "    \"architecture\": \"CustomCNN\",\n",
    "    \"dataset\": \"alzheimer_gabor_8\",\n",
    "    \"epochs\": 100,\n",
    "    \"batch_size\": 16,\n",
    "    \"input_shape\": (299, 299, 3),\n",
    "    \"num_classes\": 4\n",
    "})\n",
    "\n",
    "config = wandb.config\n",
    "\n",
    "# Define data generators\n",
    "train_datagen = ImageDataGenerator(rescale=1./255)\n",
    "test_datagen = ImageDataGenerator(rescale=1./255)\n",
    "\n",
    "train_generator = train_datagen.flow_from_directory(\n",
    "    'train',\n",
    "    target_size=config.input_shape[:2],\n",
    "    batch_size=config.batch_size,\n",
    "    class_mode='categorical')\n",
    "\n",
    "test_generator = test_datagen.flow_from_directory(\n",
    "    'test',\n",
    "    target_size=config.input_shape[:2],\n",
    "    batch_size=config.batch_size,\n",
    "    class_mode='categorical')\n",
    "\n",
    "# Define the CNN architecture\n",
    "def create_custom_cnn(input_shape, num_classes):\n",
    "    model = models.Sequential()\n",
    "    model.add(layers.Conv2D(32, (3, 3), activation='relu', input_shape=input_shape))\n",
    "    model.add(layers.MaxPooling2D((2, 2)))\n",
    "    model.add(layers.Conv2D(64, (3, 3), activation='relu'))\n",
    "    model.add(layers.MaxPooling2D((2, 2)))\n",
    "    model.add(layers.Conv2D(128, (3, 3), activation='relu'))\n",
    "    model.add(layers.MaxPooling2D((2, 2)))\n",
    "    model.add(layers.Flatten())\n",
    "    model.add(layers.Dense(512, activation='relu'))\n",
    "    model.add(layers.Dense(num_classes, activation='softmax'))\n",
    "    return model\n",
    "\n",
    "model = create_custom_cnn(config.input_shape, config.num_classes)\n",
    "model.compile(optimizer=Adam(config.learning_rate), loss='categorical_crossentropy', metrics=['accuracy'])\n",
    "\n",
    "model.summary()  # Print model summary to understand its architecture\n",
    "\n",
    "# Setup ModelCheckpoint\n",
    "checkpoint_callback = ModelCheckpoint(\n",
    "    'model_best_custom_cnn.h5',  # Path where the model will be saved\n",
    "    monitor='val_accuracy',  # Metric to monitor\n",
    "    save_best_only=True,  # Save only the best model\n",
    "    mode='max',  # Maximize the monitored metric (val_accuracy)\n",
    "    verbose=1)  # Print out messages when saving models\n",
    "\n",
    "# Training with callbacks\n",
    "history = model.fit(\n",
    "    train_generator,\n",
    "    steps_per_epoch=train_generator.samples // train_generator.batch_size,\n",
    "    epochs=config.epochs,\n",
    "    validation_data=test_generator,\n",
    "    validation_steps=test_generator.samples // test_generator.batch_size,\n",
    "    callbacks=[wandb.keras.WandbCallback(), checkpoint_callback]  # Add checkpoint callback\n",
    ")\n",
    "\n",
    "# Evaluate the model\n",
    "test_loss, test_acc = model.evaluate(test_generator)\n",
    "wandb.log({'test_loss': test_loss, 'test_accuracy': test_acc})\n",
    "\n",
    "# Plot training and validation accuracy and loss\n",
    "plt.figure(figsize=(10, 8))\n",
    "plt.plot(history.history['accuracy'], label='Training Accuracy')\n",
    "plt.plot(history.history['val_accuracy'], label='Validation Accuracy')\n",
    "plt.title('Training and Validation Accuracy')\n",
    "plt.xlabel('Epoch')\n",
    "plt.ylabel('Accuracy')\n",
    "plt.legend()\n",
    "plt.show()\n",
    "\n",
    "plt.figure(figsize=(10, 8))\n",
    "plt.plot(history.history['loss'], label='Training Loss')\n",
    "plt.plot(history.history['val_loss'], label='Validation Loss')\n",
    "plt.title('Training and Validation Loss')\n",
    "plt.xlabel('Epoch')\n",
    "plt.ylabel('Loss')\n",
    "plt.legend()\n",
    "plt.show()\n"
   ]
  },
  {
   "cell_type": "code",
   "execution_count": 1,
   "id": "410f2026-836a-418f-914e-f8cd2f76fefa",
   "metadata": {},
   "outputs": [
    {
     "name": "stderr",
     "output_type": "stream",
     "text": [
      "2024-05-05 00:09:05.119571: E tensorflow/compiler/xla/stream_executor/cuda/cuda_dnn.cc:9360] Unable to register cuDNN factory: Attempting to register factory for plugin cuDNN when one has already been registered\n",
      "2024-05-05 00:09:05.119611: E tensorflow/compiler/xla/stream_executor/cuda/cuda_fft.cc:609] Unable to register cuFFT factory: Attempting to register factory for plugin cuFFT when one has already been registered\n",
      "2024-05-05 00:09:05.119644: E tensorflow/compiler/xla/stream_executor/cuda/cuda_blas.cc:1537] Unable to register cuBLAS factory: Attempting to register factory for plugin cuBLAS when one has already been registered\n",
      "2024-05-05 00:09:05.128990: I tensorflow/core/platform/cpu_feature_guard.cc:183] This TensorFlow binary is optimized to use available CPU instructions in performance-critical operations.\n",
      "To enable the following instructions: SSE3 SSE4.1 SSE4.2 AVX, in other operations, rebuild TensorFlow with the appropriate compiler flags.\n",
      "\u001b[34m\u001b[1mwandb\u001b[0m: Currently logged in as: \u001b[33moskar-amarkussen\u001b[0m (\u001b[33mossyandlars\u001b[0m). Use \u001b[1m`wandb login --relogin`\u001b[0m to force relogin\n"
     ]
    },
    {
     "data": {
      "text/html": [
       "wandb version 0.16.6 is available!  To upgrade, please run:\n",
       " $ pip install wandb --upgrade"
      ],
      "text/plain": [
       "<IPython.core.display.HTML object>"
      ]
     },
     "metadata": {},
     "output_type": "display_data"
    },
    {
     "data": {
      "text/html": [
       "Tracking run with wandb version 0.16.0"
      ],
      "text/plain": [
       "<IPython.core.display.HTML object>"
      ]
     },
     "metadata": {},
     "output_type": "display_data"
    },
    {
     "data": {
      "text/html": [
       "Run data is saved locally in <code>/home/oskarem/CompVision/Project/wandb/run-20240505_000909-jqtbfrus</code>"
      ],
      "text/plain": [
       "<IPython.core.display.HTML object>"
      ]
     },
     "metadata": {},
     "output_type": "display_data"
    },
    {
     "data": {
      "text/html": [
       "Syncing run <strong><a href='https://wandb.ai/ossyandlars/computer_vision/runs/jqtbfrus' target=\"_blank\">sith-ewok-138</a></strong> to <a href='https://wandb.ai/ossyandlars/computer_vision' target=\"_blank\">Weights & Biases</a> (<a href='https://wandb.me/run' target=\"_blank\">docs</a>)<br/>"
      ],
      "text/plain": [
       "<IPython.core.display.HTML object>"
      ]
     },
     "metadata": {},
     "output_type": "display_data"
    },
    {
     "data": {
      "text/html": [
       " View project at <a href='https://wandb.ai/ossyandlars/computer_vision' target=\"_blank\">https://wandb.ai/ossyandlars/computer_vision</a>"
      ],
      "text/plain": [
       "<IPython.core.display.HTML object>"
      ]
     },
     "metadata": {},
     "output_type": "display_data"
    },
    {
     "data": {
      "text/html": [
       " View run at <a href='https://wandb.ai/ossyandlars/computer_vision/runs/jqtbfrus' target=\"_blank\">https://wandb.ai/ossyandlars/computer_vision/runs/jqtbfrus</a>"
      ],
      "text/plain": [
       "<IPython.core.display.HTML object>"
      ]
     },
     "metadata": {},
     "output_type": "display_data"
    },
    {
     "name": "stdout",
     "output_type": "stream",
     "text": [
      "Found 5121 images belonging to 4 classes.\n",
      "Found 1291 images belonging to 4 classes.\n",
      "Model: \"model\"\n",
      "_________________________________________________________________\n",
      " Layer (type)                Output Shape              Param #   \n",
      "=================================================================\n",
      " input_1 (InputLayer)        [(None, 176, 208, 3)]     0         \n",
      "                                                                 \n",
      " conv2d (Conv2D)             (None, 176, 208, 32)      896       \n",
      "                                                                 \n",
      " max_pooling2d (MaxPooling2  (None, 88, 104, 32)       0         \n",
      " D)                                                              \n",
      "                                                                 \n",
      " conv2d_1 (Conv2D)           (None, 88, 104, 64)       18496     \n",
      "                                                                 \n",
      " max_pooling2d_1 (MaxPoolin  (None, 44, 52, 64)        0         \n",
      " g2D)                                                            \n",
      "                                                                 \n",
      " conv2d_2 (Conv2D)           (None, 44, 52, 128)       73856     \n",
      "                                                                 \n",
      " max_pooling2d_2 (MaxPoolin  (None, 22, 26, 128)       0         \n",
      " g2D)                                                            \n",
      "                                                                 \n",
      " global_average_pooling2d (  (None, 128)               0         \n",
      " GlobalAveragePooling2D)                                         \n",
      "                                                                 \n",
      " dense (Dense)               (None, 256)               33024     \n",
      "                                                                 \n",
      " dropout (Dropout)           (None, 256)               0         \n",
      "                                                                 \n",
      " dense_1 (Dense)             (None, 4)                 1028      \n",
      "                                                                 \n",
      "=================================================================\n",
      "Total params: 127300 (497.27 KB)\n",
      "Trainable params: 127300 (497.27 KB)\n",
      "Non-trainable params: 0 (0.00 Byte)\n",
      "_________________________________________________________________\n",
      "Model: \"model\"\n",
      "_________________________________________________________________\n",
      " Layer (type)                Output Shape              Param #   \n",
      "=================================================================\n",
      " input_1 (InputLayer)        [(None, 176, 208, 3)]     0         \n",
      "                                                                 \n",
      " conv2d (Conv2D)             (None, 176, 208, 32)      896       \n",
      "                                                                 \n",
      " max_pooling2d (MaxPooling2  (None, 88, 104, 32)       0         \n",
      " D)                                                              \n",
      "                                                                 \n",
      " conv2d_1 (Conv2D)           (None, 88, 104, 64)       18496     \n",
      "                                                                 \n",
      " max_pooling2d_1 (MaxPoolin  (None, 44, 52, 64)        0         \n",
      " g2D)                                                            \n",
      "                                                                 \n",
      " conv2d_2 (Conv2D)           (None, 44, 52, 128)       73856     \n",
      "                                                                 \n",
      " max_pooling2d_2 (MaxPoolin  (None, 22, 26, 128)       0         \n",
      " g2D)                                                            \n",
      "                                                                 \n",
      " global_average_pooling2d (  (None, 128)               0         \n",
      " GlobalAveragePooling2D)                                         \n",
      "                                                                 \n",
      " dense (Dense)               (None, 256)               33024     \n",
      "                                                                 \n",
      " dropout (Dropout)           (None, 256)               0         \n",
      "                                                                 \n",
      " dense_1 (Dense)             (None, 4)                 1028      \n",
      "                                                                 \n",
      "=================================================================\n",
      "Total params: 127300 (497.27 KB)\n",
      "Trainable params: 127300 (497.27 KB)\n",
      "Non-trainable params: 0 (0.00 Byte)\n",
      "_________________________________________________________________\n"
     ]
    },
    {
     "name": "stderr",
     "output_type": "stream",
     "text": [
      "2024-05-05 00:09:10.787339: E tensorflow/compiler/xla/stream_executor/cuda/cuda_driver.cc:268] failed call to cuInit: CUDA_ERROR_NO_DEVICE: no CUDA-capable device is detected\n",
      "\u001b[34m\u001b[1mwandb\u001b[0m: \u001b[33mWARNING\u001b[0m The save_model argument by default saves the model in the HDF5 format that cannot save custom objects like subclassed models and custom layers. This behavior will be deprecated in a future release in favor of the SavedModel format. Meanwhile, the HDF5 model is saved as W&B files and the SavedModel as W&B Artifacts.\n"
     ]
    },
    {
     "name": "stdout",
     "output_type": "stream",
     "text": [
      "Epoch 1/100\n",
      "161/161 [==============================] - ETA: 0s - loss: 1.0636 - accuracy: 0.4841"
     ]
    },
    {
     "name": "stderr",
     "output_type": "stream",
     "text": [
      "/home/oskarem/.local/lib/python3.10/site-packages/keras/src/engine/training.py:3000: UserWarning: You are saving your model as an HDF5 file via `model.save()`. This file format is considered legacy. We recommend using instead the native Keras format, e.g. `model.save('my_model.keras')`.\n",
      "  saving_api.save_model(\n"
     ]
    },
    {
     "name": "stdout",
     "output_type": "stream",
     "text": [
      "INFO:tensorflow:Assets written to: /home/oskarem/CompVision/Project/wandb/run-20240505_000909-jqtbfrus/files/model-best/assets\n"
     ]
    },
    {
     "name": "stderr",
     "output_type": "stream",
     "text": [
      "INFO:tensorflow:Assets written to: /home/oskarem/CompVision/Project/wandb/run-20240505_000909-jqtbfrus/files/model-best/assets\n",
      "\u001b[34m\u001b[1mwandb\u001b[0m: Adding directory to artifact (/home/oskarem/CompVision/Project/wandb/run-20240505_000909-jqtbfrus/files/model-best)... Done. 0.0s\n"
     ]
    },
    {
     "name": "stdout",
     "output_type": "stream",
     "text": [
      "\n",
      "Epoch 1: val_accuracy improved from -inf to 0.49574, saving model to ./model_checkpoints/checkpoint-01-0.50.h5\n",
      "161/161 [==============================] - 104s 639ms/step - loss: 1.0636 - accuracy: 0.4841 - val_loss: 1.0418 - val_accuracy: 0.4957\n",
      "Epoch 2/100\n"
     ]
    },
    {
     "name": "stderr",
     "output_type": "stream",
     "text": [
      "/home/oskarem/.local/lib/python3.10/site-packages/keras/src/engine/training.py:3000: UserWarning: You are saving your model as an HDF5 file via `model.save()`. This file format is considered legacy. We recommend using instead the native Keras format, e.g. `model.save('my_model.keras')`.\n",
      "  saving_api.save_model(\n"
     ]
    },
    {
     "name": "stdout",
     "output_type": "stream",
     "text": [
      "161/161 [==============================] - ETA: 0s - loss: 1.0437 - accuracy: 0.4843INFO:tensorflow:Assets written to: /home/oskarem/CompVision/Project/wandb/run-20240505_000909-jqtbfrus/files/model-best/assets\n"
     ]
    },
    {
     "name": "stderr",
     "output_type": "stream",
     "text": [
      "INFO:tensorflow:Assets written to: /home/oskarem/CompVision/Project/wandb/run-20240505_000909-jqtbfrus/files/model-best/assets\n",
      "\u001b[34m\u001b[1mwandb\u001b[0m: Adding directory to artifact (/home/oskarem/CompVision/Project/wandb/run-20240505_000909-jqtbfrus/files/model-best)... Done. 0.0s\n"
     ]
    },
    {
     "name": "stdout",
     "output_type": "stream",
     "text": [
      "\n",
      "Epoch 2: val_accuracy did not improve from 0.49574\n",
      "161/161 [==============================] - 101s 626ms/step - loss: 1.0437 - accuracy: 0.4843 - val_loss: 1.0402 - val_accuracy: 0.4957\n",
      "Epoch 3/100\n",
      "161/161 [==============================] - ETA: 0s - loss: 1.0373 - accuracy: 0.4989"
     ]
    },
    {
     "name": "stderr",
     "output_type": "stream",
     "text": [
      "/home/oskarem/.local/lib/python3.10/site-packages/keras/src/engine/training.py:3000: UserWarning: You are saving your model as an HDF5 file via `model.save()`. This file format is considered legacy. We recommend using instead the native Keras format, e.g. `model.save('my_model.keras')`.\n",
      "  saving_api.save_model(\n"
     ]
    },
    {
     "name": "stdout",
     "output_type": "stream",
     "text": [
      "INFO:tensorflow:Assets written to: /home/oskarem/CompVision/Project/wandb/run-20240505_000909-jqtbfrus/files/model-best/assets\n"
     ]
    },
    {
     "name": "stderr",
     "output_type": "stream",
     "text": [
      "INFO:tensorflow:Assets written to: /home/oskarem/CompVision/Project/wandb/run-20240505_000909-jqtbfrus/files/model-best/assets\n",
      "\u001b[34m\u001b[1mwandb\u001b[0m: Adding directory to artifact (/home/oskarem/CompVision/Project/wandb/run-20240505_000909-jqtbfrus/files/model-best)... Done. 0.0s\n"
     ]
    },
    {
     "name": "stdout",
     "output_type": "stream",
     "text": [
      "\n",
      "Epoch 3: val_accuracy did not improve from 0.49574\n",
      "161/161 [==============================] - 101s 627ms/step - loss: 1.0373 - accuracy: 0.4989 - val_loss: 1.0306 - val_accuracy: 0.4957\n",
      "Epoch 4/100\n",
      "161/161 [==============================] - ETA: 0s - loss: 1.0319 - accuracy: 0.5005"
     ]
    },
    {
     "name": "stderr",
     "output_type": "stream",
     "text": [
      "/home/oskarem/.local/lib/python3.10/site-packages/keras/src/engine/training.py:3000: UserWarning: You are saving your model as an HDF5 file via `model.save()`. This file format is considered legacy. We recommend using instead the native Keras format, e.g. `model.save('my_model.keras')`.\n",
      "  saving_api.save_model(\n"
     ]
    },
    {
     "name": "stdout",
     "output_type": "stream",
     "text": [
      "INFO:tensorflow:Assets written to: /home/oskarem/CompVision/Project/wandb/run-20240505_000909-jqtbfrus/files/model-best/assets\n"
     ]
    },
    {
     "name": "stderr",
     "output_type": "stream",
     "text": [
      "INFO:tensorflow:Assets written to: /home/oskarem/CompVision/Project/wandb/run-20240505_000909-jqtbfrus/files/model-best/assets\n",
      "\u001b[34m\u001b[1mwandb\u001b[0m: Adding directory to artifact (/home/oskarem/CompVision/Project/wandb/run-20240505_000909-jqtbfrus/files/model-best)... Done. 0.0s\n"
     ]
    },
    {
     "name": "stdout",
     "output_type": "stream",
     "text": [
      "\n",
      "Epoch 4: val_accuracy did not improve from 0.49574\n",
      "161/161 [==============================] - 100s 624ms/step - loss: 1.0319 - accuracy: 0.5005 - val_loss: 1.0278 - val_accuracy: 0.4957\n",
      "Epoch 5/100\n",
      "161/161 [==============================] - ETA: 0s - loss: 1.0217 - accuracy: 0.5007\n",
      "Epoch 5: val_accuracy did not improve from 0.49574\n",
      "161/161 [==============================] - 100s 620ms/step - loss: 1.0217 - accuracy: 0.5007 - val_loss: 1.1044 - val_accuracy: 0.3517\n",
      "Epoch 6/100\n",
      "161/161 [==============================] - ETA: 0s - loss: 1.0296 - accuracy: 0.4913\n",
      "Epoch 6: val_accuracy improved from 0.49574 to 0.51046, saving model to ./model_checkpoints/checkpoint-06-0.51.h5\n",
      "161/161 [==============================] - 99s 616ms/step - loss: 1.0296 - accuracy: 0.4913 - val_loss: 1.0418 - val_accuracy: 0.5105\n",
      "Epoch 7/100\n"
     ]
    },
    {
     "name": "stderr",
     "output_type": "stream",
     "text": [
      "/home/oskarem/.local/lib/python3.10/site-packages/keras/src/engine/training.py:3000: UserWarning: You are saving your model as an HDF5 file via `model.save()`. This file format is considered legacy. We recommend using instead the native Keras format, e.g. `model.save('my_model.keras')`.\n",
      "  saving_api.save_model(\n"
     ]
    },
    {
     "name": "stdout",
     "output_type": "stream",
     "text": [
      "161/161 [==============================] - ETA: 0s - loss: 0.9979 - accuracy: 0.5214INFO:tensorflow:Assets written to: /home/oskarem/CompVision/Project/wandb/run-20240505_000909-jqtbfrus/files/model-best/assets\n"
     ]
    },
    {
     "name": "stderr",
     "output_type": "stream",
     "text": [
      "INFO:tensorflow:Assets written to: /home/oskarem/CompVision/Project/wandb/run-20240505_000909-jqtbfrus/files/model-best/assets\n",
      "\u001b[34m\u001b[1mwandb\u001b[0m: Adding directory to artifact (/home/oskarem/CompVision/Project/wandb/run-20240505_000909-jqtbfrus/files/model-best)... Done. 0.0s\n"
     ]
    },
    {
     "name": "stdout",
     "output_type": "stream",
     "text": [
      "\n",
      "Epoch 7: val_accuracy improved from 0.51046 to 0.51588, saving model to ./model_checkpoints/checkpoint-07-0.52.h5\n",
      "161/161 [==============================] - 100s 622ms/step - loss: 0.9979 - accuracy: 0.5214 - val_loss: 1.0046 - val_accuracy: 0.5159\n",
      "Epoch 8/100\n"
     ]
    },
    {
     "name": "stderr",
     "output_type": "stream",
     "text": [
      "/home/oskarem/.local/lib/python3.10/site-packages/keras/src/engine/training.py:3000: UserWarning: You are saving your model as an HDF5 file via `model.save()`. This file format is considered legacy. We recommend using instead the native Keras format, e.g. `model.save('my_model.keras')`.\n",
      "  saving_api.save_model(\n"
     ]
    },
    {
     "name": "stdout",
     "output_type": "stream",
     "text": [
      "161/161 [==============================] - ETA: 0s - loss: 0.9603 - accuracy: 0.5366INFO:tensorflow:Assets written to: /home/oskarem/CompVision/Project/wandb/run-20240505_000909-jqtbfrus/files/model-best/assets\n"
     ]
    },
    {
     "name": "stderr",
     "output_type": "stream",
     "text": [
      "INFO:tensorflow:Assets written to: /home/oskarem/CompVision/Project/wandb/run-20240505_000909-jqtbfrus/files/model-best/assets\n",
      "\u001b[34m\u001b[1mwandb\u001b[0m: Adding directory to artifact (/home/oskarem/CompVision/Project/wandb/run-20240505_000909-jqtbfrus/files/model-best)... Done. 0.0s\n"
     ]
    },
    {
     "name": "stdout",
     "output_type": "stream",
     "text": [
      "\n",
      "Epoch 8: val_accuracy improved from 0.51588 to 0.55771, saving model to ./model_checkpoints/checkpoint-08-0.56.h5\n",
      "161/161 [==============================] - 100s 624ms/step - loss: 0.9603 - accuracy: 0.5366 - val_loss: 0.9466 - val_accuracy: 0.5577\n",
      "Epoch 9/100\n"
     ]
    },
    {
     "name": "stderr",
     "output_type": "stream",
     "text": [
      "/home/oskarem/.local/lib/python3.10/site-packages/keras/src/engine/training.py:3000: UserWarning: You are saving your model as an HDF5 file via `model.save()`. This file format is considered legacy. We recommend using instead the native Keras format, e.g. `model.save('my_model.keras')`.\n",
      "  saving_api.save_model(\n"
     ]
    },
    {
     "name": "stdout",
     "output_type": "stream",
     "text": [
      "161/161 [==============================] - ETA: 0s - loss: 0.9496 - accuracy: 0.5534INFO:tensorflow:Assets written to: /home/oskarem/CompVision/Project/wandb/run-20240505_000909-jqtbfrus/files/model-best/assets\n"
     ]
    },
    {
     "name": "stderr",
     "output_type": "stream",
     "text": [
      "INFO:tensorflow:Assets written to: /home/oskarem/CompVision/Project/wandb/run-20240505_000909-jqtbfrus/files/model-best/assets\n",
      "\u001b[34m\u001b[1mwandb\u001b[0m: Adding directory to artifact (/home/oskarem/CompVision/Project/wandb/run-20240505_000909-jqtbfrus/files/model-best)... Done. 0.0s\n"
     ]
    },
    {
     "name": "stdout",
     "output_type": "stream",
     "text": [
      "\n",
      "Epoch 9: val_accuracy did not improve from 0.55771\n",
      "161/161 [==============================] - 100s 623ms/step - loss: 0.9496 - accuracy: 0.5534 - val_loss: 0.9439 - val_accuracy: 0.5345\n",
      "Epoch 10/100\n",
      "161/161 [==============================] - ETA: 0s - loss: 0.9382 - accuracy: 0.5518\n",
      "Epoch 10: val_accuracy did not improve from 0.55771\n",
      "161/161 [==============================] - 100s 620ms/step - loss: 0.9382 - accuracy: 0.5518 - val_loss: 0.9559 - val_accuracy: 0.5352\n",
      "Epoch 11/100\n",
      "161/161 [==============================] - ETA: 0s - loss: 0.9189 - accuracy: 0.5628"
     ]
    },
    {
     "name": "stderr",
     "output_type": "stream",
     "text": [
      "/home/oskarem/.local/lib/python3.10/site-packages/keras/src/engine/training.py:3000: UserWarning: You are saving your model as an HDF5 file via `model.save()`. This file format is considered legacy. We recommend using instead the native Keras format, e.g. `model.save('my_model.keras')`.\n",
      "  saving_api.save_model(\n"
     ]
    },
    {
     "name": "stdout",
     "output_type": "stream",
     "text": [
      "INFO:tensorflow:Assets written to: /home/oskarem/CompVision/Project/wandb/run-20240505_000909-jqtbfrus/files/model-best/assets\n"
     ]
    },
    {
     "name": "stderr",
     "output_type": "stream",
     "text": [
      "INFO:tensorflow:Assets written to: /home/oskarem/CompVision/Project/wandb/run-20240505_000909-jqtbfrus/files/model-best/assets\n",
      "\u001b[34m\u001b[1mwandb\u001b[0m: Adding directory to artifact (/home/oskarem/CompVision/Project/wandb/run-20240505_000909-jqtbfrus/files/model-best)... Done. 0.0s\n"
     ]
    },
    {
     "name": "stdout",
     "output_type": "stream",
     "text": [
      "\n",
      "Epoch 11: val_accuracy improved from 0.55771 to 0.56623, saving model to ./model_checkpoints/checkpoint-11-0.57.h5\n",
      "161/161 [==============================] - 100s 622ms/step - loss: 0.9189 - accuracy: 0.5628 - val_loss: 0.9173 - val_accuracy: 0.5662\n",
      "Epoch 12/100\n"
     ]
    },
    {
     "name": "stderr",
     "output_type": "stream",
     "text": [
      "/home/oskarem/.local/lib/python3.10/site-packages/keras/src/engine/training.py:3000: UserWarning: You are saving your model as an HDF5 file via `model.save()`. This file format is considered legacy. We recommend using instead the native Keras format, e.g. `model.save('my_model.keras')`.\n",
      "  saving_api.save_model(\n"
     ]
    },
    {
     "name": "stdout",
     "output_type": "stream",
     "text": [
      "161/161 [==============================] - ETA: 0s - loss: 0.9165 - accuracy: 0.5659\n",
      "Epoch 12: val_accuracy improved from 0.56623 to 0.57242, saving model to ./model_checkpoints/checkpoint-12-0.57.h5\n",
      "161/161 [==============================] - 99s 618ms/step - loss: 0.9165 - accuracy: 0.5659 - val_loss: 0.9278 - val_accuracy: 0.5724\n",
      "Epoch 13/100\n",
      "161/161 [==============================] - ETA: 0s - loss: 0.9142 - accuracy: 0.5636INFO:tensorflow:Assets written to: /home/oskarem/CompVision/Project/wandb/run-20240505_000909-jqtbfrus/files/model-best/assets\n"
     ]
    },
    {
     "name": "stderr",
     "output_type": "stream",
     "text": [
      "INFO:tensorflow:Assets written to: /home/oskarem/CompVision/Project/wandb/run-20240505_000909-jqtbfrus/files/model-best/assets\n",
      "\u001b[34m\u001b[1mwandb\u001b[0m: Adding directory to artifact (/home/oskarem/CompVision/Project/wandb/run-20240505_000909-jqtbfrus/files/model-best)... Done. 0.0s\n"
     ]
    },
    {
     "name": "stdout",
     "output_type": "stream",
     "text": [
      "\n",
      "Epoch 13: val_accuracy did not improve from 0.57242\n",
      "161/161 [==============================] - 100s 622ms/step - loss: 0.9142 - accuracy: 0.5636 - val_loss: 0.9074 - val_accuracy: 0.5686\n",
      "Epoch 14/100\n",
      "161/161 [==============================] - ETA: 0s - loss: 0.8949 - accuracy: 0.5694\n",
      "Epoch 14: val_accuracy did not improve from 0.57242\n",
      "161/161 [==============================] - 100s 619ms/step - loss: 0.8949 - accuracy: 0.5694 - val_loss: 0.9453 - val_accuracy: 0.5531\n",
      "Epoch 15/100\n",
      "161/161 [==============================] - ETA: 0s - loss: 0.9031 - accuracy: 0.5641\n",
      "Epoch 15: val_accuracy improved from 0.57242 to 0.57552, saving model to ./model_checkpoints/checkpoint-15-0.58.h5\n",
      "161/161 [==============================] - 99s 616ms/step - loss: 0.9031 - accuracy: 0.5641 - val_loss: 0.9398 - val_accuracy: 0.5755\n",
      "Epoch 16/100\n"
     ]
    },
    {
     "name": "stderr",
     "output_type": "stream",
     "text": [
      "/home/oskarem/.local/lib/python3.10/site-packages/keras/src/engine/training.py:3000: UserWarning: You are saving your model as an HDF5 file via `model.save()`. This file format is considered legacy. We recommend using instead the native Keras format, e.g. `model.save('my_model.keras')`.\n",
      "  saving_api.save_model(\n"
     ]
    },
    {
     "name": "stdout",
     "output_type": "stream",
     "text": [
      "161/161 [==============================] - ETA: 0s - loss: 0.8681 - accuracy: 0.5903INFO:tensorflow:Assets written to: /home/oskarem/CompVision/Project/wandb/run-20240505_000909-jqtbfrus/files/model-best/assets\n"
     ]
    },
    {
     "name": "stderr",
     "output_type": "stream",
     "text": [
      "INFO:tensorflow:Assets written to: /home/oskarem/CompVision/Project/wandb/run-20240505_000909-jqtbfrus/files/model-best/assets\n",
      "\u001b[34m\u001b[1mwandb\u001b[0m: Adding directory to artifact (/home/oskarem/CompVision/Project/wandb/run-20240505_000909-jqtbfrus/files/model-best)... Done. 0.0s\n"
     ]
    },
    {
     "name": "stdout",
     "output_type": "stream",
     "text": [
      "\n",
      "Epoch 16: val_accuracy did not improve from 0.57552\n",
      "161/161 [==============================] - 99s 617ms/step - loss: 0.8681 - accuracy: 0.5903 - val_loss: 0.8908 - val_accuracy: 0.5740\n",
      "Epoch 17/100\n",
      "161/161 [==============================] - ETA: 0s - loss: 0.8475 - accuracy: 0.5991\n",
      "Epoch 17: val_accuracy did not improve from 0.57552\n",
      "161/161 [==============================] - 99s 615ms/step - loss: 0.8475 - accuracy: 0.5991 - val_loss: 0.9089 - val_accuracy: 0.5639\n",
      "Epoch 18/100\n",
      "161/161 [==============================] - ETA: 0s - loss: 0.8396 - accuracy: 0.6046\n",
      "Epoch 18: val_accuracy improved from 0.57552 to 0.57707, saving model to ./model_checkpoints/checkpoint-18-0.58.h5\n",
      "161/161 [==============================] - 99s 616ms/step - loss: 0.8396 - accuracy: 0.6046 - val_loss: 0.9441 - val_accuracy: 0.5771\n",
      "Epoch 19/100\n"
     ]
    },
    {
     "name": "stderr",
     "output_type": "stream",
     "text": [
      "/home/oskarem/.local/lib/python3.10/site-packages/keras/src/engine/training.py:3000: UserWarning: You are saving your model as an HDF5 file via `model.save()`. This file format is considered legacy. We recommend using instead the native Keras format, e.g. `model.save('my_model.keras')`.\n",
      "  saving_api.save_model(\n"
     ]
    },
    {
     "name": "stdout",
     "output_type": "stream",
     "text": [
      "161/161 [==============================] - ETA: 0s - loss: 0.8362 - accuracy: 0.6069INFO:tensorflow:Assets written to: /home/oskarem/CompVision/Project/wandb/run-20240505_000909-jqtbfrus/files/model-best/assets\n"
     ]
    },
    {
     "name": "stderr",
     "output_type": "stream",
     "text": [
      "INFO:tensorflow:Assets written to: /home/oskarem/CompVision/Project/wandb/run-20240505_000909-jqtbfrus/files/model-best/assets\n",
      "\u001b[34m\u001b[1mwandb\u001b[0m: Adding directory to artifact (/home/oskarem/CompVision/Project/wandb/run-20240505_000909-jqtbfrus/files/model-best)... Done. 0.0s\n"
     ]
    },
    {
     "name": "stdout",
     "output_type": "stream",
     "text": [
      "\n",
      "Epoch 19: val_accuracy improved from 0.57707 to 0.58947, saving model to ./model_checkpoints/checkpoint-19-0.59.h5\n",
      "161/161 [==============================] - 100s 623ms/step - loss: 0.8362 - accuracy: 0.6069 - val_loss: 0.8714 - val_accuracy: 0.5895\n",
      "Epoch 20/100\n"
     ]
    },
    {
     "name": "stderr",
     "output_type": "stream",
     "text": [
      "/home/oskarem/.local/lib/python3.10/site-packages/keras/src/engine/training.py:3000: UserWarning: You are saving your model as an HDF5 file via `model.save()`. This file format is considered legacy. We recommend using instead the native Keras format, e.g. `model.save('my_model.keras')`.\n",
      "  saving_api.save_model(\n"
     ]
    },
    {
     "name": "stdout",
     "output_type": "stream",
     "text": [
      "161/161 [==============================] - ETA: 0s - loss: 0.8354 - accuracy: 0.6106\n",
      "Epoch 20: val_accuracy improved from 0.58947 to 0.59799, saving model to ./model_checkpoints/checkpoint-20-0.60.h5\n",
      "161/161 [==============================] - 99s 617ms/step - loss: 0.8354 - accuracy: 0.6106 - val_loss: 0.8822 - val_accuracy: 0.5980\n",
      "Epoch 21/100\n",
      "161/161 [==============================] - ETA: 0s - loss: 0.8445 - accuracy: 0.6087\n",
      "Epoch 21: val_accuracy did not improve from 0.59799\n",
      "161/161 [==============================] - 99s 617ms/step - loss: 0.8445 - accuracy: 0.6087 - val_loss: 0.9010 - val_accuracy: 0.5763\n",
      "Epoch 22/100\n",
      "161/161 [==============================] - ETA: 0s - loss: 0.8175 - accuracy: 0.6243\n",
      "Epoch 22: val_accuracy did not improve from 0.59799\n",
      "161/161 [==============================] - 99s 613ms/step - loss: 0.8175 - accuracy: 0.6243 - val_loss: 0.8955 - val_accuracy: 0.5957\n",
      "Epoch 23/100\n",
      "161/161 [==============================] - ETA: 0s - loss: 0.8047 - accuracy: 0.6266INFO:tensorflow:Assets written to: /home/oskarem/CompVision/Project/wandb/run-20240505_000909-jqtbfrus/files/model-best/assets\n"
     ]
    },
    {
     "name": "stderr",
     "output_type": "stream",
     "text": [
      "INFO:tensorflow:Assets written to: /home/oskarem/CompVision/Project/wandb/run-20240505_000909-jqtbfrus/files/model-best/assets\n",
      "\u001b[34m\u001b[1mwandb\u001b[0m: Adding directory to artifact (/home/oskarem/CompVision/Project/wandb/run-20240505_000909-jqtbfrus/files/model-best)... Done. 0.0s\n"
     ]
    },
    {
     "name": "stdout",
     "output_type": "stream",
     "text": [
      "\n",
      "Epoch 23: val_accuracy did not improve from 0.59799\n",
      "161/161 [==============================] - 101s 628ms/step - loss: 0.8047 - accuracy: 0.6266 - val_loss: 0.8713 - val_accuracy: 0.5786\n",
      "Epoch 24/100\n",
      "161/161 [==============================] - ETA: 0s - loss: 0.7870 - accuracy: 0.6362"
     ]
    },
    {
     "name": "stderr",
     "output_type": "stream",
     "text": [
      "/home/oskarem/.local/lib/python3.10/site-packages/keras/src/engine/training.py:3000: UserWarning: You are saving your model as an HDF5 file via `model.save()`. This file format is considered legacy. We recommend using instead the native Keras format, e.g. `model.save('my_model.keras')`.\n",
      "  saving_api.save_model(\n"
     ]
    },
    {
     "name": "stdout",
     "output_type": "stream",
     "text": [
      "INFO:tensorflow:Assets written to: /home/oskarem/CompVision/Project/wandb/run-20240505_000909-jqtbfrus/files/model-best/assets\n"
     ]
    },
    {
     "name": "stderr",
     "output_type": "stream",
     "text": [
      "INFO:tensorflow:Assets written to: /home/oskarem/CompVision/Project/wandb/run-20240505_000909-jqtbfrus/files/model-best/assets\n",
      "\u001b[34m\u001b[1mwandb\u001b[0m: Adding directory to artifact (/home/oskarem/CompVision/Project/wandb/run-20240505_000909-jqtbfrus/files/model-best)... Done. 0.0s\n"
     ]
    },
    {
     "name": "stdout",
     "output_type": "stream",
     "text": [
      "\n",
      "Epoch 24: val_accuracy improved from 0.59799 to 0.62045, saving model to ./model_checkpoints/checkpoint-24-0.62.h5\n",
      "161/161 [==============================] - 101s 625ms/step - loss: 0.7870 - accuracy: 0.6362 - val_loss: 0.8623 - val_accuracy: 0.6204\n",
      "Epoch 25/100\n"
     ]
    },
    {
     "name": "stderr",
     "output_type": "stream",
     "text": [
      "/home/oskarem/.local/lib/python3.10/site-packages/keras/src/engine/training.py:3000: UserWarning: You are saving your model as an HDF5 file via `model.save()`. This file format is considered legacy. We recommend using instead the native Keras format, e.g. `model.save('my_model.keras')`.\n",
      "  saving_api.save_model(\n"
     ]
    },
    {
     "name": "stdout",
     "output_type": "stream",
     "text": [
      "161/161 [==============================] - ETA: 0s - loss: 0.7846 - accuracy: 0.6366\n",
      "Epoch 25: val_accuracy did not improve from 0.62045\n",
      "161/161 [==============================] - 99s 615ms/step - loss: 0.7846 - accuracy: 0.6366 - val_loss: 0.9310 - val_accuracy: 0.5941\n",
      "Epoch 26/100\n",
      "161/161 [==============================] - ETA: 0s - loss: 0.7790 - accuracy: 0.6503\n",
      "Epoch 26: val_accuracy did not improve from 0.62045\n",
      "161/161 [==============================] - 99s 617ms/step - loss: 0.7790 - accuracy: 0.6503 - val_loss: 1.0674 - val_accuracy: 0.5778\n",
      "Epoch 27/100\n",
      "161/161 [==============================] - ETA: 0s - loss: 0.7567 - accuracy: 0.6548\n",
      "Epoch 27: val_accuracy improved from 0.62045 to 0.62355, saving model to ./model_checkpoints/checkpoint-27-0.62.h5\n",
      "161/161 [==============================] - 99s 618ms/step - loss: 0.7567 - accuracy: 0.6548 - val_loss: 0.8798 - val_accuracy: 0.6235\n",
      "Epoch 28/100\n",
      "161/161 [==============================] - ETA: 0s - loss: 0.7520 - accuracy: 0.6563INFO:tensorflow:Assets written to: /home/oskarem/CompVision/Project/wandb/run-20240505_000909-jqtbfrus/files/model-best/assets\n"
     ]
    },
    {
     "name": "stderr",
     "output_type": "stream",
     "text": [
      "INFO:tensorflow:Assets written to: /home/oskarem/CompVision/Project/wandb/run-20240505_000909-jqtbfrus/files/model-best/assets\n",
      "\u001b[34m\u001b[1mwandb\u001b[0m: Adding directory to artifact (/home/oskarem/CompVision/Project/wandb/run-20240505_000909-jqtbfrus/files/model-best)... Done. 0.0s\n"
     ]
    },
    {
     "name": "stdout",
     "output_type": "stream",
     "text": [
      "\n",
      "Epoch 28: val_accuracy did not improve from 0.62355\n",
      "161/161 [==============================] - 100s 624ms/step - loss: 0.7520 - accuracy: 0.6563 - val_loss: 0.8561 - val_accuracy: 0.6135\n",
      "Epoch 29/100\n",
      "161/161 [==============================] - ETA: 0s - loss: 0.7459 - accuracy: 0.6544\n",
      "Epoch 29: val_accuracy did not improve from 0.62355\n",
      "161/161 [==============================] - 100s 620ms/step - loss: 0.7459 - accuracy: 0.6544 - val_loss: 0.8863 - val_accuracy: 0.6081\n",
      "Epoch 30/100\n",
      "161/161 [==============================] - ETA: 0s - loss: 0.7193 - accuracy: 0.6745\n",
      "Epoch 30: val_accuracy did not improve from 0.62355\n",
      "161/161 [==============================] - 99s 613ms/step - loss: 0.7193 - accuracy: 0.6745 - val_loss: 0.8625 - val_accuracy: 0.6166\n",
      "Epoch 31/100\n",
      "161/161 [==============================] - ETA: 0s - loss: 0.7166 - accuracy: 0.6700\n",
      "Epoch 31: val_accuracy did not improve from 0.62355\n",
      "161/161 [==============================] - 100s 619ms/step - loss: 0.7166 - accuracy: 0.6700 - val_loss: 0.8759 - val_accuracy: 0.6220\n",
      "Epoch 32/100\n",
      "161/161 [==============================] - ETA: 0s - loss: 0.7175 - accuracy: 0.6678\n",
      "Epoch 32: val_accuracy did not improve from 0.62355\n",
      "161/161 [==============================] - 99s 617ms/step - loss: 0.7175 - accuracy: 0.6678 - val_loss: 0.8625 - val_accuracy: 0.6174\n",
      "Epoch 33/100\n",
      "161/161 [==============================] - ETA: 0s - loss: 0.7025 - accuracy: 0.6798\n",
      "Epoch 33: val_accuracy improved from 0.62355 to 0.62665, saving model to ./model_checkpoints/checkpoint-33-0.63.h5\n",
      "161/161 [==============================] - 100s 619ms/step - loss: 0.7025 - accuracy: 0.6798 - val_loss: 0.9558 - val_accuracy: 0.6266\n",
      "Epoch 34/100\n"
     ]
    },
    {
     "name": "stderr",
     "output_type": "stream",
     "text": [
      "/home/oskarem/.local/lib/python3.10/site-packages/keras/src/engine/training.py:3000: UserWarning: You are saving your model as an HDF5 file via `model.save()`. This file format is considered legacy. We recommend using instead the native Keras format, e.g. `model.save('my_model.keras')`.\n",
      "  saving_api.save_model(\n"
     ]
    },
    {
     "name": "stdout",
     "output_type": "stream",
     "text": [
      "161/161 [==============================] - ETA: 0s - loss: 0.6856 - accuracy: 0.6889\n",
      "Epoch 34: val_accuracy did not improve from 0.62665\n",
      "161/161 [==============================] - 99s 617ms/step - loss: 0.6856 - accuracy: 0.6889 - val_loss: 0.8640 - val_accuracy: 0.6166\n",
      "Epoch 35/100\n",
      "161/161 [==============================] - ETA: 0s - loss: 0.6712 - accuracy: 0.6987\n",
      "Epoch 35: val_accuracy improved from 0.62665 to 0.62897, saving model to ./model_checkpoints/checkpoint-35-0.63.h5\n",
      "161/161 [==============================] - 100s 621ms/step - loss: 0.6712 - accuracy: 0.6987 - val_loss: 0.9699 - val_accuracy: 0.6290\n",
      "Epoch 36/100\n",
      "161/161 [==============================] - ETA: 0s - loss: 0.6580 - accuracy: 0.7049\n",
      "Epoch 36: val_accuracy did not improve from 0.62897\n",
      "161/161 [==============================] - 100s 622ms/step - loss: 0.6580 - accuracy: 0.7049 - val_loss: 0.8968 - val_accuracy: 0.5933\n",
      "Epoch 37/100\n",
      "161/161 [==============================] - ETA: 0s - loss: 0.6767 - accuracy: 0.6999\n",
      "Epoch 37: val_accuracy did not improve from 0.62897\n",
      "161/161 [==============================] - 101s 625ms/step - loss: 0.6767 - accuracy: 0.6999 - val_loss: 0.8622 - val_accuracy: 0.6096\n",
      "Epoch 38/100\n",
      "161/161 [==============================] - ETA: 0s - loss: 0.6469 - accuracy: 0.7059\n",
      "Epoch 38: val_accuracy improved from 0.62897 to 0.62974, saving model to ./model_checkpoints/checkpoint-38-0.63.h5\n",
      "161/161 [==============================] - 100s 619ms/step - loss: 0.6469 - accuracy: 0.7059 - val_loss: 0.8643 - val_accuracy: 0.6297\n",
      "Epoch 39/100\n",
      "161/161 [==============================] - ETA: 0s - loss: 0.6405 - accuracy: 0.7087\n",
      "Epoch 39: val_accuracy did not improve from 0.62974\n",
      "161/161 [==============================] - 100s 621ms/step - loss: 0.6405 - accuracy: 0.7087 - val_loss: 0.9828 - val_accuracy: 0.6189\n",
      "Epoch 40/100\n",
      "161/161 [==============================] - ETA: 0s - loss: 0.6151 - accuracy: 0.7221\n",
      "Epoch 40: val_accuracy improved from 0.62974 to 0.63362, saving model to ./model_checkpoints/checkpoint-40-0.63.h5\n",
      "161/161 [==============================] - 100s 621ms/step - loss: 0.6151 - accuracy: 0.7221 - val_loss: 0.9957 - val_accuracy: 0.6336\n",
      "Epoch 41/100\n",
      "161/161 [==============================] - ETA: 0s - loss: 0.6156 - accuracy: 0.7249\n",
      "Epoch 41: val_accuracy did not improve from 0.63362\n",
      "161/161 [==============================] - 100s 619ms/step - loss: 0.6156 - accuracy: 0.7249 - val_loss: 0.8828 - val_accuracy: 0.6204\n",
      "Epoch 42/100\n",
      "161/161 [==============================] - ETA: 0s - loss: 0.5992 - accuracy: 0.7358\n",
      "Epoch 42: val_accuracy improved from 0.63362 to 0.64446, saving model to ./model_checkpoints/checkpoint-42-0.64.h5\n",
      "161/161 [==============================] - 100s 624ms/step - loss: 0.5992 - accuracy: 0.7358 - val_loss: 0.8562 - val_accuracy: 0.6445\n",
      "Epoch 43/100\n",
      "161/161 [==============================] - ETA: 0s - loss: 0.5794 - accuracy: 0.7528\n",
      "Epoch 43: val_accuracy did not improve from 0.64446\n",
      "161/161 [==============================] - 100s 620ms/step - loss: 0.5794 - accuracy: 0.7528 - val_loss: 0.9522 - val_accuracy: 0.6305\n",
      "Epoch 44/100\n",
      "161/161 [==============================] - ETA: 0s - loss: 0.5821 - accuracy: 0.7502\n",
      "Epoch 44: val_accuracy did not improve from 0.64446\n",
      "161/161 [==============================] - 100s 620ms/step - loss: 0.5821 - accuracy: 0.7502 - val_loss: 0.8575 - val_accuracy: 0.6259\n",
      "Epoch 45/100\n",
      "161/161 [==============================] - ETA: 0s - loss: 0.5638 - accuracy: 0.7584\n",
      "Epoch 45: val_accuracy did not improve from 0.64446\n",
      "161/161 [==============================] - 99s 617ms/step - loss: 0.5638 - accuracy: 0.7584 - val_loss: 1.0262 - val_accuracy: 0.6445\n",
      "Epoch 46/100\n",
      "161/161 [==============================] - ETA: 0s - loss: 0.5343 - accuracy: 0.7680\n",
      "Epoch 46: val_accuracy improved from 0.64446 to 0.65453, saving model to ./model_checkpoints/checkpoint-46-0.65.h5\n",
      "161/161 [==============================] - 100s 619ms/step - loss: 0.5343 - accuracy: 0.7680 - val_loss: 0.8862 - val_accuracy: 0.6545\n",
      "Epoch 47/100\n",
      "161/161 [==============================] - ETA: 0s - loss: 0.5226 - accuracy: 0.7704\n",
      "Epoch 47: val_accuracy did not improve from 0.65453\n",
      "161/161 [==============================] - 100s 618ms/step - loss: 0.5226 - accuracy: 0.7704 - val_loss: 0.9766 - val_accuracy: 0.6352\n",
      "Epoch 48/100\n",
      "161/161 [==============================] - ETA: 0s - loss: 0.5161 - accuracy: 0.7782\n",
      "Epoch 48: val_accuracy did not improve from 0.65453\n",
      "161/161 [==============================] - 99s 618ms/step - loss: 0.5161 - accuracy: 0.7782 - val_loss: 1.3271 - val_accuracy: 0.5376\n",
      "Epoch 49/100\n",
      "161/161 [==============================] - ETA: 0s - loss: 0.5558 - accuracy: 0.7573\n",
      "Epoch 49: val_accuracy did not improve from 0.65453\n",
      "161/161 [==============================] - 99s 618ms/step - loss: 0.5558 - accuracy: 0.7573 - val_loss: 1.0272 - val_accuracy: 0.6452\n",
      "Epoch 50/100\n",
      "161/161 [==============================] - ETA: 0s - loss: 0.5022 - accuracy: 0.7885\n",
      "Epoch 50: val_accuracy did not improve from 0.65453\n",
      "161/161 [==============================] - 99s 617ms/step - loss: 0.5022 - accuracy: 0.7885 - val_loss: 0.8878 - val_accuracy: 0.6406\n",
      "Epoch 51/100\n",
      "161/161 [==============================] - ETA: 0s - loss: 0.4806 - accuracy: 0.7957\n",
      "Epoch 51: val_accuracy did not improve from 0.65453\n",
      "161/161 [==============================] - 99s 613ms/step - loss: 0.4806 - accuracy: 0.7957 - val_loss: 0.9831 - val_accuracy: 0.6445\n",
      "Epoch 52/100\n",
      "161/161 [==============================] - ETA: 0s - loss: 0.4457 - accuracy: 0.8157\n",
      "Epoch 52: val_accuracy did not improve from 0.65453\n",
      "161/161 [==============================] - 99s 615ms/step - loss: 0.4457 - accuracy: 0.8157 - val_loss: 0.9628 - val_accuracy: 0.6530\n",
      "Epoch 53/100\n",
      "161/161 [==============================] - ETA: 0s - loss: 0.4393 - accuracy: 0.8153\n",
      "Epoch 53: val_accuracy improved from 0.65453 to 0.65918, saving model to ./model_checkpoints/checkpoint-53-0.66.h5\n",
      "161/161 [==============================] - 100s 619ms/step - loss: 0.4393 - accuracy: 0.8153 - val_loss: 1.0290 - val_accuracy: 0.6592\n",
      "Epoch 54/100\n",
      "161/161 [==============================] - ETA: 0s - loss: 0.4173 - accuracy: 0.8278\n",
      "Epoch 54: val_accuracy did not improve from 0.65918\n",
      "161/161 [==============================] - 99s 618ms/step - loss: 0.4173 - accuracy: 0.8278 - val_loss: 0.9279 - val_accuracy: 0.6592\n",
      "Epoch 55/100\n",
      "161/161 [==============================] - ETA: 0s - loss: 0.5020 - accuracy: 0.8000\n",
      "Epoch 55: val_accuracy improved from 0.65918 to 0.66073, saving model to ./model_checkpoints/checkpoint-55-0.66.h5\n",
      "161/161 [==============================] - 99s 616ms/step - loss: 0.5020 - accuracy: 0.8000 - val_loss: 0.8922 - val_accuracy: 0.6607\n",
      "Epoch 56/100\n",
      "161/161 [==============================] - ETA: 0s - loss: 0.3994 - accuracy: 0.8409\n",
      "Epoch 56: val_accuracy did not improve from 0.66073\n",
      "161/161 [==============================] - 100s 621ms/step - loss: 0.3994 - accuracy: 0.8409 - val_loss: 1.0485 - val_accuracy: 0.6545\n",
      "Epoch 57/100\n",
      "161/161 [==============================] - ETA: 0s - loss: 0.5192 - accuracy: 0.7907\n",
      "Epoch 57: val_accuracy did not improve from 0.66073\n",
      "161/161 [==============================] - 99s 617ms/step - loss: 0.5192 - accuracy: 0.7907 - val_loss: 0.9746 - val_accuracy: 0.6313\n",
      "Epoch 58/100\n",
      "161/161 [==============================] - ETA: 0s - loss: 0.3959 - accuracy: 0.8393\n",
      "Epoch 58: val_accuracy improved from 0.66073 to 0.66460, saving model to ./model_checkpoints/checkpoint-58-0.66.h5\n",
      "161/161 [==============================] - 100s 620ms/step - loss: 0.3959 - accuracy: 0.8393 - val_loss: 0.9233 - val_accuracy: 0.6646\n",
      "Epoch 59/100\n",
      "161/161 [==============================] - ETA: 0s - loss: 0.6242 - accuracy: 0.7483\n",
      "Epoch 59: val_accuracy did not improve from 0.66460\n",
      "161/161 [==============================] - 100s 622ms/step - loss: 0.6242 - accuracy: 0.7483 - val_loss: 0.9352 - val_accuracy: 0.6538\n",
      "Epoch 60/100\n",
      "161/161 [==============================] - ETA: 0s - loss: 0.4077 - accuracy: 0.8358\n",
      "Epoch 60: val_accuracy improved from 0.66460 to 0.66538, saving model to ./model_checkpoints/checkpoint-60-0.67.h5\n",
      "161/161 [==============================] - 100s 619ms/step - loss: 0.4077 - accuracy: 0.8358 - val_loss: 0.9051 - val_accuracy: 0.6654\n",
      "Epoch 61/100\n",
      "161/161 [==============================] - ETA: 0s - loss: 0.3664 - accuracy: 0.8541\n",
      "Epoch 61: val_accuracy did not improve from 0.66538\n",
      "161/161 [==============================] - 100s 620ms/step - loss: 0.3664 - accuracy: 0.8541 - val_loss: 1.0272 - val_accuracy: 0.6584\n",
      "Epoch 62/100\n",
      "161/161 [==============================] - ETA: 0s - loss: 0.3504 - accuracy: 0.8606\n",
      "Epoch 62: val_accuracy did not improve from 0.66538\n",
      "161/161 [==============================] - 100s 619ms/step - loss: 0.3504 - accuracy: 0.8606 - val_loss: 1.2109 - val_accuracy: 0.6328\n",
      "Epoch 63/100\n",
      "161/161 [==============================] - ETA: 0s - loss: 0.3339 - accuracy: 0.8698\n",
      "Epoch 63: val_accuracy did not improve from 0.66538\n",
      "161/161 [==============================] - 99s 615ms/step - loss: 0.3339 - accuracy: 0.8698 - val_loss: 0.9959 - val_accuracy: 0.6615\n",
      "Epoch 64/100\n",
      "161/161 [==============================] - ETA: 0s - loss: 0.2966 - accuracy: 0.8826\n",
      "Epoch 64: val_accuracy did not improve from 0.66538\n",
      "161/161 [==============================] - 100s 622ms/step - loss: 0.2966 - accuracy: 0.8826 - val_loss: 1.1955 - val_accuracy: 0.6576\n",
      "Epoch 65/100\n",
      "161/161 [==============================] - ETA: 0s - loss: 0.3377 - accuracy: 0.8580\n",
      "Epoch 65: val_accuracy did not improve from 0.66538\n",
      "161/161 [==============================] - 100s 621ms/step - loss: 0.3377 - accuracy: 0.8580 - val_loss: 0.9778 - val_accuracy: 0.6305\n",
      "Epoch 66/100\n",
      "161/161 [==============================] - ETA: 0s - loss: 0.2979 - accuracy: 0.8856\n",
      "Epoch 66: val_accuracy did not improve from 0.66538\n",
      "161/161 [==============================] - 99s 617ms/step - loss: 0.2979 - accuracy: 0.8856 - val_loss: 1.2960 - val_accuracy: 0.6437\n",
      "Epoch 67/100\n",
      "161/161 [==============================] - ETA: 0s - loss: 0.2677 - accuracy: 0.8965\n",
      "Epoch 67: val_accuracy improved from 0.66538 to 0.66847, saving model to ./model_checkpoints/checkpoint-67-0.67.h5\n",
      "161/161 [==============================] - 100s 619ms/step - loss: 0.2677 - accuracy: 0.8965 - val_loss: 1.0372 - val_accuracy: 0.6685\n",
      "Epoch 68/100\n",
      "161/161 [==============================] - ETA: 0s - loss: 0.2556 - accuracy: 0.9037\n",
      "Epoch 68: val_accuracy improved from 0.66847 to 0.67545, saving model to ./model_checkpoints/checkpoint-68-0.68.h5\n",
      "161/161 [==============================] - 100s 620ms/step - loss: 0.2556 - accuracy: 0.9037 - val_loss: 1.0839 - val_accuracy: 0.6754\n",
      "Epoch 69/100\n",
      "161/161 [==============================] - ETA: 0s - loss: 0.2480 - accuracy: 0.9041\n",
      "Epoch 69: val_accuracy did not improve from 0.67545\n",
      "161/161 [==============================] - 100s 618ms/step - loss: 0.2480 - accuracy: 0.9041 - val_loss: 1.2197 - val_accuracy: 0.6700\n",
      "Epoch 70/100\n",
      "161/161 [==============================] - ETA: 0s - loss: 0.2299 - accuracy: 0.9156\n",
      "Epoch 70: val_accuracy did not improve from 0.67545\n",
      "161/161 [==============================] - 99s 617ms/step - loss: 0.2299 - accuracy: 0.9156 - val_loss: 1.2693 - val_accuracy: 0.6623\n",
      "Epoch 71/100\n",
      "161/161 [==============================] - ETA: 0s - loss: 0.2218 - accuracy: 0.9147\n",
      "Epoch 71: val_accuracy did not improve from 0.67545\n",
      "161/161 [==============================] - 99s 612ms/step - loss: 0.2218 - accuracy: 0.9147 - val_loss: 1.1699 - val_accuracy: 0.6708\n",
      "Epoch 72/100\n",
      "161/161 [==============================] - ETA: 0s - loss: 0.2112 - accuracy: 0.9217\n",
      "Epoch 72: val_accuracy improved from 0.67545 to 0.67854, saving model to ./model_checkpoints/checkpoint-72-0.68.h5\n",
      "161/161 [==============================] - 98s 612ms/step - loss: 0.2112 - accuracy: 0.9217 - val_loss: 1.0914 - val_accuracy: 0.6785\n",
      "Epoch 73/100\n",
      "161/161 [==============================] - ETA: 0s - loss: 0.1934 - accuracy: 0.9274\n",
      "Epoch 73: val_accuracy did not improve from 0.67854\n",
      "161/161 [==============================] - 99s 618ms/step - loss: 0.1934 - accuracy: 0.9274 - val_loss: 1.0906 - val_accuracy: 0.6677\n",
      "Epoch 74/100\n",
      "161/161 [==============================] - ETA: 0s - loss: 0.2021 - accuracy: 0.9219\n",
      "Epoch 74: val_accuracy did not improve from 0.67854\n",
      "161/161 [==============================] - 100s 620ms/step - loss: 0.2021 - accuracy: 0.9219 - val_loss: 1.1786 - val_accuracy: 0.6785\n",
      "Epoch 75/100\n",
      "161/161 [==============================] - ETA: 0s - loss: 0.2088 - accuracy: 0.9201\n",
      "Epoch 75: val_accuracy did not improve from 0.67854\n",
      "161/161 [==============================] - 99s 618ms/step - loss: 0.2088 - accuracy: 0.9201 - val_loss: 1.0872 - val_accuracy: 0.6778\n",
      "Epoch 76/100\n",
      "161/161 [==============================] - ETA: 0s - loss: 0.1750 - accuracy: 0.9369\n",
      "Epoch 76: val_accuracy did not improve from 0.67854\n",
      "161/161 [==============================] - 99s 614ms/step - loss: 0.1750 - accuracy: 0.9369 - val_loss: 1.5196 - val_accuracy: 0.6545\n",
      "Epoch 77/100\n",
      "161/161 [==============================] - ETA: 0s - loss: 0.1641 - accuracy: 0.9420\n",
      "Epoch 77: val_accuracy did not improve from 0.67854\n",
      "161/161 [==============================] - 99s 616ms/step - loss: 0.1641 - accuracy: 0.9420 - val_loss: 1.2002 - val_accuracy: 0.6700\n",
      "Epoch 78/100\n",
      "161/161 [==============================] - ETA: 0s - loss: 0.1671 - accuracy: 0.9365\n",
      "Epoch 78: val_accuracy improved from 0.67854 to 0.67932, saving model to ./model_checkpoints/checkpoint-78-0.68.h5\n",
      "161/161 [==============================] - 99s 616ms/step - loss: 0.1671 - accuracy: 0.9365 - val_loss: 1.2815 - val_accuracy: 0.6793\n",
      "Epoch 79/100\n",
      "161/161 [==============================] - ETA: 0s - loss: 0.1587 - accuracy: 0.9430\n",
      "Epoch 79: val_accuracy did not improve from 0.67932\n",
      "161/161 [==============================] - 99s 615ms/step - loss: 0.1587 - accuracy: 0.9430 - val_loss: 2.4608 - val_accuracy: 0.6127\n",
      "Epoch 80/100\n",
      "161/161 [==============================] - ETA: 0s - loss: 0.2178 - accuracy: 0.9156\n",
      "Epoch 80: val_accuracy did not improve from 0.67932\n",
      "161/161 [==============================] - 99s 616ms/step - loss: 0.2178 - accuracy: 0.9156 - val_loss: 1.2598 - val_accuracy: 0.6739\n",
      "Epoch 81/100\n",
      "161/161 [==============================] - ETA: 0s - loss: 0.1309 - accuracy: 0.9561\n",
      "Epoch 81: val_accuracy did not improve from 0.67932\n",
      "161/161 [==============================] - 99s 617ms/step - loss: 0.1309 - accuracy: 0.9561 - val_loss: 1.2250 - val_accuracy: 0.6793\n",
      "Epoch 82/100\n",
      "161/161 [==============================] - ETA: 0s - loss: 0.1239 - accuracy: 0.9576\n",
      "Epoch 82: val_accuracy did not improve from 0.67932\n",
      "161/161 [==============================] - 100s 621ms/step - loss: 0.1239 - accuracy: 0.9576 - val_loss: 1.3367 - val_accuracy: 0.6692\n",
      "Epoch 83/100\n",
      "161/161 [==============================] - ETA: 0s - loss: 0.1175 - accuracy: 0.9563\n",
      "Epoch 83: val_accuracy did not improve from 0.67932\n",
      "161/161 [==============================] - 99s 617ms/step - loss: 0.1175 - accuracy: 0.9563 - val_loss: 1.5069 - val_accuracy: 0.6762\n",
      "Epoch 84/100\n",
      "161/161 [==============================] - ETA: 0s - loss: 0.1362 - accuracy: 0.9496\n",
      "Epoch 84: val_accuracy improved from 0.67932 to 0.68242, saving model to ./model_checkpoints/checkpoint-84-0.68.h5\n",
      "161/161 [==============================] - 100s 618ms/step - loss: 0.1362 - accuracy: 0.9496 - val_loss: 1.3029 - val_accuracy: 0.6824\n",
      "Epoch 85/100\n",
      "161/161 [==============================] - ETA: 0s - loss: 0.1694 - accuracy: 0.9422\n",
      "Epoch 85: val_accuracy did not improve from 0.68242\n",
      "161/161 [==============================] - 100s 621ms/step - loss: 0.1694 - accuracy: 0.9422 - val_loss: 1.2201 - val_accuracy: 0.6731\n",
      "Epoch 86/100\n",
      "161/161 [==============================] - ETA: 0s - loss: 0.1038 - accuracy: 0.9672\n",
      "Epoch 86: val_accuracy improved from 0.68242 to 0.68861, saving model to ./model_checkpoints/checkpoint-86-0.69.h5\n",
      "161/161 [==============================] - 100s 621ms/step - loss: 0.1038 - accuracy: 0.9672 - val_loss: 1.3683 - val_accuracy: 0.6886\n",
      "Epoch 87/100\n",
      "161/161 [==============================] - ETA: 0s - loss: 0.0975 - accuracy: 0.9697\n",
      "Epoch 87: val_accuracy did not improve from 0.68861\n",
      "161/161 [==============================] - 99s 615ms/step - loss: 0.0975 - accuracy: 0.9697 - val_loss: 1.4435 - val_accuracy: 0.6801\n",
      "Epoch 88/100\n",
      "161/161 [==============================] - ETA: 0s - loss: 0.0886 - accuracy: 0.9732\n",
      "Epoch 88: val_accuracy did not improve from 0.68861\n",
      "161/161 [==============================] - 98s 612ms/step - loss: 0.0886 - accuracy: 0.9732 - val_loss: 1.5409 - val_accuracy: 0.6646\n",
      "Epoch 89/100\n",
      "161/161 [==============================] - ETA: 0s - loss: 0.1268 - accuracy: 0.9541\n",
      "Epoch 89: val_accuracy did not improve from 0.68861\n",
      "161/161 [==============================] - 98s 610ms/step - loss: 0.1268 - accuracy: 0.9541 - val_loss: 1.2978 - val_accuracy: 0.6793\n",
      "Epoch 90/100\n",
      "161/161 [==============================] - ETA: 0s - loss: 0.0821 - accuracy: 0.9756\n",
      "Epoch 90: val_accuracy improved from 0.68861 to 0.69713, saving model to ./model_checkpoints/checkpoint-90-0.70.h5\n",
      "161/161 [==============================] - 99s 614ms/step - loss: 0.0821 - accuracy: 0.9756 - val_loss: 1.3807 - val_accuracy: 0.6971\n",
      "Epoch 91/100\n",
      "161/161 [==============================] - ETA: 0s - loss: 0.1019 - accuracy: 0.9639\n",
      "Epoch 91: val_accuracy did not improve from 0.69713\n",
      "161/161 [==============================] - 98s 610ms/step - loss: 0.1019 - accuracy: 0.9639 - val_loss: 1.3391 - val_accuracy: 0.6971\n",
      "Epoch 92/100\n",
      "161/161 [==============================] - ETA: 0s - loss: 0.0803 - accuracy: 0.9719\n",
      "Epoch 92: val_accuracy did not improve from 0.69713\n",
      "161/161 [==============================] - 99s 615ms/step - loss: 0.0803 - accuracy: 0.9719 - val_loss: 1.5632 - val_accuracy: 0.6538\n",
      "Epoch 93/100\n",
      "161/161 [==============================] - ETA: 0s - loss: 0.0810 - accuracy: 0.9746\n",
      "Epoch 93: val_accuracy did not improve from 0.69713\n",
      "161/161 [==============================] - 98s 612ms/step - loss: 0.0810 - accuracy: 0.9746 - val_loss: 1.6285 - val_accuracy: 0.6785\n",
      "Epoch 94/100\n",
      "161/161 [==============================] - ETA: 0s - loss: 0.0614 - accuracy: 0.9791\n",
      "Epoch 94: val_accuracy did not improve from 0.69713\n",
      "161/161 [==============================] - 99s 614ms/step - loss: 0.0614 - accuracy: 0.9791 - val_loss: 1.5146 - val_accuracy: 0.6785\n",
      "Epoch 95/100\n",
      "161/161 [==============================] - ETA: 0s - loss: 0.0903 - accuracy: 0.9690\n",
      "Epoch 95: val_accuracy did not improve from 0.69713\n",
      "161/161 [==============================] - 99s 614ms/step - loss: 0.0903 - accuracy: 0.9690 - val_loss: 1.6249 - val_accuracy: 0.6840\n",
      "Epoch 96/100\n",
      "161/161 [==============================] - ETA: 0s - loss: 0.0595 - accuracy: 0.9813\n",
      "Epoch 96: val_accuracy did not improve from 0.69713\n",
      "161/161 [==============================] - 99s 615ms/step - loss: 0.0595 - accuracy: 0.9813 - val_loss: 1.7893 - val_accuracy: 0.6646\n",
      "Epoch 97/100\n",
      "161/161 [==============================] - ETA: 0s - loss: 0.0399 - accuracy: 0.9902\n",
      "Epoch 97: val_accuracy did not improve from 0.69713\n",
      "161/161 [==============================] - 100s 622ms/step - loss: 0.0399 - accuracy: 0.9902 - val_loss: 1.6035 - val_accuracy: 0.6762\n",
      "Epoch 98/100\n",
      "161/161 [==============================] - ETA: 0s - loss: 0.0606 - accuracy: 0.9820\n",
      "Epoch 98: val_accuracy did not improve from 0.69713\n",
      "161/161 [==============================] - 101s 627ms/step - loss: 0.0606 - accuracy: 0.9820 - val_loss: 1.9611 - val_accuracy: 0.6584\n",
      "Epoch 99/100\n",
      "161/161 [==============================] - ETA: 0s - loss: 0.0977 - accuracy: 0.9691\n",
      "Epoch 99: val_accuracy did not improve from 0.69713\n",
      "161/161 [==============================] - 100s 621ms/step - loss: 0.0977 - accuracy: 0.9691 - val_loss: 1.5927 - val_accuracy: 0.6801\n",
      "Epoch 100/100\n",
      "161/161 [==============================] - ETA: 0s - loss: 0.0714 - accuracy: 0.9764\n",
      "Epoch 100: val_accuracy did not improve from 0.69713\n",
      "161/161 [==============================] - 100s 621ms/step - loss: 0.0714 - accuracy: 0.9764 - val_loss: 1.8695 - val_accuracy: 0.6662\n",
      "41/41 [==============================] - 6s 158ms/step - loss: 1.8695 - accuracy: 0.6662\n",
      "Test accuracy: 0.6661502718925476\n",
      "Model saved successfully as 'alzheimer_model_customcnn_0.6662.h5'.\n"
     ]
    }
   ],
   "source": [
    "#New\n",
    "\n",
    "import os\n",
    "import tensorflow as tf\n",
    "from tensorflow.keras.preprocessing.image import ImageDataGenerator\n",
    "from tensorflow.keras.layers import Input, Conv2D, MaxPooling2D, Flatten, Dense, Dropout, GlobalAveragePooling2D\n",
    "from tensorflow.keras.models import Model\n",
    "from tensorflow.keras.optimizers import Adam\n",
    "from tensorflow.keras.callbacks import ModelCheckpoint  # Import ModelCheckpoint\n",
    "import matplotlib.pyplot as plt\n",
    "import wandb\n",
    "\n",
    "os.environ['CUDA_VISIBLE_DEVICES'] = '-1'  # Disabling GPU as specified\n",
    "\n",
    "# Initialize wandb and config\n",
    "wandb.init(\n",
    "    project=\"computer_vision\",\n",
    "    config={\n",
    "        \"learning_rate\": 0.001,\n",
    "        \"architecture\": \"CustomCNN\",\n",
    "        \"dataset\": \"alzheimer_gabor_8\",\n",
    "        \"epochs\": 100,\n",
    "        \"batch_size\": 32,\n",
    "        \"input_shape\": (176, 208, 3),\n",
    "        \"num_classes\": 4\n",
    "    }\n",
    ")\n",
    "\n",
    "config = wandb.config\n",
    "\n",
    "# Define data generators\n",
    "train_datagen = ImageDataGenerator(rescale=1./255)\n",
    "test_datagen = ImageDataGenerator(rescale=1./255)\n",
    "\n",
    "# Define data generators for training and testing\n",
    "train_generator = train_datagen.flow_from_directory(\n",
    "    'train',\n",
    "    target_size=config.input_shape[:2],\n",
    "    batch_size=config.batch_size,\n",
    "    class_mode='categorical')\n",
    "\n",
    "test_generator = test_datagen.flow_from_directory(\n",
    "    'test',\n",
    "    target_size=config.input_shape[:2],\n",
    "    batch_size=config.batch_size,\n",
    "    class_mode='categorical')\n",
    "\n",
    "# Create a custom CNN model\n",
    "def create_cnn_model(input_shape, num_classes):\n",
    "    inputs = Input(shape=input_shape)\n",
    "    x = Conv2D(32, (3, 3), activation='relu', padding='same')(inputs)\n",
    "    x = MaxPooling2D((2, 2))(x)\n",
    "    x = Conv2D(64, (3, 3), activation='relu', padding='same')(x)\n",
    "    x = MaxPooling2D((2, 2))(x)\n",
    "    x = Conv2D(128, (3, 3), activation='relu', padding='same')(x)\n",
    "    x = MaxPooling2D((2, 2))(x)\n",
    "    x = GlobalAveragePooling2D()(x)\n",
    "    x = Dense(256, activation='relu')(x)\n",
    "    x = Dropout(0.5)(x)\n",
    "    predictions = Dense(num_classes, activation='softmax')(x)\n",
    "\n",
    "    model = Model(inputs=inputs, outputs=predictions)\n",
    "    return model\n",
    "\n",
    "# Initialize CNN model\n",
    "model = create_cnn_model(config.input_shape, config.num_classes)\n",
    "\n",
    "# Compile the model\n",
    "model.compile(optimizer=Adam(config.learning_rate), loss='categorical_crossentropy', metrics=['accuracy'])\n",
    "\n",
    "# Print model summary\n",
    "model.summary()\n",
    "\n",
    "# Log model summary to Wandb\n",
    "wandb.log({'model_summary': model.summary()})\n",
    "\n",
    "# Setup checkpoint directory\n",
    "checkpoint_dir = './model_checkpoints'\n",
    "os.makedirs(checkpoint_dir, exist_ok=True)\n",
    "checkpoint_filepath = os.path.join(checkpoint_dir, 'checkpoint-{epoch:02d}-{val_accuracy:.2f}.h5')\n",
    "\n",
    "# Create a model checkpoint callback\n",
    "checkpoint_callback = ModelCheckpoint(\n",
    "    filepath=checkpoint_filepath,\n",
    "    save_weights_only=False,\n",
    "    monitor='val_accuracy',\n",
    "    mode='max',\n",
    "    save_best_only=True,\n",
    "    verbose=1)\n",
    "\n",
    "# Train the model\n",
    "history = model.fit(\n",
    "    train_generator,\n",
    "    epochs=config.epochs,\n",
    "    validation_data=test_generator,\n",
    "    callbacks=[wandb.keras.WandbCallback(), checkpoint_callback]  # Add checkpoint callback here\n",
    ")\n",
    "\n",
    "# Evaluate the model\n",
    "test_loss, test_acc = model.evaluate(test_generator)\n",
    "wandb.log({'test_loss': test_loss, 'test_accuracy': test_acc})\n",
    "print('Test accuracy:', test_acc)\n",
    "\n",
    "# Save the model\n",
    "model_filename = 'alzheimer_model_customcnn_{:.4f}.h5'.format(test_acc)\n",
    "model.save(os.path.join('model', model_filename))\n",
    "print(f\"Model saved successfully as '{model_filename}'.\")\n",
    "\n",
    "# The rest of your plotting and evaluation code remains the same...\n",
    "\n"
   ]
  },
  {
   "cell_type": "code",
   "execution_count": 2,
   "id": "7a02912d-388d-49f5-a75d-099d8dcf3deb",
   "metadata": {},
   "outputs": [
    {
     "data": {
      "text/html": [
       "Finishing last run (ID:uwh022ir) before initializing another..."
      ],
      "text/plain": [
       "<IPython.core.display.HTML object>"
      ]
     },
     "metadata": {},
     "output_type": "display_data"
    },
    {
     "data": {
      "application/vnd.jupyter.widget-view+json": {
       "model_id": "",
       "version_major": 2,
       "version_minor": 0
      },
      "text/plain": [
       "VBox(children=(Label(value='0.011 MB of 0.011 MB uploaded\\r'), FloatProgress(value=1.0, max=1.0)))"
      ]
     },
     "metadata": {},
     "output_type": "display_data"
    },
    {
     "data": {
      "text/html": [
       "W&B sync reduced upload amount by 6.2%             "
      ],
      "text/plain": [
       "<IPython.core.display.HTML object>"
      ]
     },
     "metadata": {},
     "output_type": "display_data"
    },
    {
     "data": {
      "text/html": [
       " View run <strong style=\"color:#cdcd00\">glorious-donkey-189</strong> at: <a href='https://wandb.ai/ossyandlars/computer_vision/runs/uwh022ir' target=\"_blank\">https://wandb.ai/ossyandlars/computer_vision/runs/uwh022ir</a><br/> View job at <a href='https://wandb.ai/ossyandlars/computer_vision/jobs/QXJ0aWZhY3RDb2xsZWN0aW9uOjE2ODg2NTkwOQ==/version_details/v6' target=\"_blank\">https://wandb.ai/ossyandlars/computer_vision/jobs/QXJ0aWZhY3RDb2xsZWN0aW9uOjE2ODg2NTkwOQ==/version_details/v6</a><br/>Synced 5 W&B file(s), 0 media file(s), 2 artifact file(s) and 0 other file(s)"
      ],
      "text/plain": [
       "<IPython.core.display.HTML object>"
      ]
     },
     "metadata": {},
     "output_type": "display_data"
    },
    {
     "data": {
      "text/html": [
       "Find logs at: <code>./wandb/run-20240506_212607-uwh022ir/logs</code>"
      ],
      "text/plain": [
       "<IPython.core.display.HTML object>"
      ]
     },
     "metadata": {},
     "output_type": "display_data"
    },
    {
     "data": {
      "text/html": [
       "Successfully finished last run (ID:uwh022ir). Initializing new run:<br/>"
      ],
      "text/plain": [
       "<IPython.core.display.HTML object>"
      ]
     },
     "metadata": {},
     "output_type": "display_data"
    },
    {
     "data": {
      "application/vnd.jupyter.widget-view+json": {
       "model_id": "9336dd35c2894a9d93e36315236da811",
       "version_major": 2,
       "version_minor": 0
      },
      "text/plain": [
       "VBox(children=(Label(value='Waiting for wandb.init()...\\r'), FloatProgress(value=0.011112166723857323, max=1.0…"
      ]
     },
     "metadata": {},
     "output_type": "display_data"
    },
    {
     "data": {
      "text/html": [
       "wandb version 0.16.6 is available!  To upgrade, please run:\n",
       " $ pip install wandb --upgrade"
      ],
      "text/plain": [
       "<IPython.core.display.HTML object>"
      ]
     },
     "metadata": {},
     "output_type": "display_data"
    },
    {
     "data": {
      "text/html": [
       "Tracking run with wandb version 0.16.0"
      ],
      "text/plain": [
       "<IPython.core.display.HTML object>"
      ]
     },
     "metadata": {},
     "output_type": "display_data"
    },
    {
     "data": {
      "text/html": [
       "Run data is saved locally in <code>/home/oskarem/CompVision/Project/wandb/run-20240506_212928-1orrhfqu</code>"
      ],
      "text/plain": [
       "<IPython.core.display.HTML object>"
      ]
     },
     "metadata": {},
     "output_type": "display_data"
    },
    {
     "data": {
      "text/html": [
       "Syncing run <strong><a href='https://wandb.ai/ossyandlars/computer_vision/runs/1orrhfqu' target=\"_blank\">fine-shadow-190</a></strong> to <a href='https://wandb.ai/ossyandlars/computer_vision' target=\"_blank\">Weights & Biases</a> (<a href='https://wandb.me/run' target=\"_blank\">docs</a>)<br/>"
      ],
      "text/plain": [
       "<IPython.core.display.HTML object>"
      ]
     },
     "metadata": {},
     "output_type": "display_data"
    },
    {
     "data": {
      "text/html": [
       " View project at <a href='https://wandb.ai/ossyandlars/computer_vision' target=\"_blank\">https://wandb.ai/ossyandlars/computer_vision</a>"
      ],
      "text/plain": [
       "<IPython.core.display.HTML object>"
      ]
     },
     "metadata": {},
     "output_type": "display_data"
    },
    {
     "data": {
      "text/html": [
       " View run at <a href='https://wandb.ai/ossyandlars/computer_vision/runs/1orrhfqu' target=\"_blank\">https://wandb.ai/ossyandlars/computer_vision/runs/1orrhfqu</a>"
      ],
      "text/plain": [
       "<IPython.core.display.HTML object>"
      ]
     },
     "metadata": {},
     "output_type": "display_data"
    },
    {
     "name": "stdout",
     "output_type": "stream",
     "text": [
      "Found 5121 images belonging to 4 classes.\n",
      "Found 1291 images belonging to 4 classes.\n"
     ]
    },
    {
     "data": {
      "text/html": [
       "<pre style=\"white-space:pre;overflow-x:auto;line-height:normal;font-family:Menlo,'DejaVu Sans Mono',consolas,'Courier New',monospace\"><span style=\"font-weight: bold\">Model: \"functional_3\"</span>\n",
       "</pre>\n"
      ],
      "text/plain": [
       "\u001b[1mModel: \"functional_3\"\u001b[0m\n"
      ]
     },
     "metadata": {},
     "output_type": "display_data"
    },
    {
     "data": {
      "text/html": [
       "<pre style=\"white-space:pre;overflow-x:auto;line-height:normal;font-family:Menlo,'DejaVu Sans Mono',consolas,'Courier New',monospace\">┏━━━━━━━━━━━━━━━━━━━━━━━━━━━━━━━━━┳━━━━━━━━━━━━━━━━━━━━━━━━┳━━━━━━━━━━━━━━━┓\n",
       "┃<span style=\"font-weight: bold\"> Layer (type)                    </span>┃<span style=\"font-weight: bold\"> Output Shape           </span>┃<span style=\"font-weight: bold\">       Param # </span>┃\n",
       "┡━━━━━━━━━━━━━━━━━━━━━━━━━━━━━━━━━╇━━━━━━━━━━━━━━━━━━━━━━━━╇━━━━━━━━━━━━━━━┩\n",
       "│ input_layer_1 (<span style=\"color: #0087ff; text-decoration-color: #0087ff\">InputLayer</span>)      │ (<span style=\"color: #00d7ff; text-decoration-color: #00d7ff\">None</span>, <span style=\"color: #00af00; text-decoration-color: #00af00\">176</span>, <span style=\"color: #00af00; text-decoration-color: #00af00\">208</span>, <span style=\"color: #00af00; text-decoration-color: #00af00\">3</span>)    │             <span style=\"color: #00af00; text-decoration-color: #00af00\">0</span> │\n",
       "├─────────────────────────────────┼────────────────────────┼───────────────┤\n",
       "│ conv2d_3 (<span style=\"color: #0087ff; text-decoration-color: #0087ff\">Conv2D</span>)               │ (<span style=\"color: #00d7ff; text-decoration-color: #00d7ff\">None</span>, <span style=\"color: #00af00; text-decoration-color: #00af00\">176</span>, <span style=\"color: #00af00; text-decoration-color: #00af00\">208</span>, <span style=\"color: #00af00; text-decoration-color: #00af00\">32</span>)   │           <span style=\"color: #00af00; text-decoration-color: #00af00\">896</span> │\n",
       "├─────────────────────────────────┼────────────────────────┼───────────────┤\n",
       "│ max_pooling2d_3 (<span style=\"color: #0087ff; text-decoration-color: #0087ff\">MaxPooling2D</span>)  │ (<span style=\"color: #00d7ff; text-decoration-color: #00d7ff\">None</span>, <span style=\"color: #00af00; text-decoration-color: #00af00\">88</span>, <span style=\"color: #00af00; text-decoration-color: #00af00\">104</span>, <span style=\"color: #00af00; text-decoration-color: #00af00\">32</span>)    │             <span style=\"color: #00af00; text-decoration-color: #00af00\">0</span> │\n",
       "├─────────────────────────────────┼────────────────────────┼───────────────┤\n",
       "│ conv2d_4 (<span style=\"color: #0087ff; text-decoration-color: #0087ff\">Conv2D</span>)               │ (<span style=\"color: #00d7ff; text-decoration-color: #00d7ff\">None</span>, <span style=\"color: #00af00; text-decoration-color: #00af00\">88</span>, <span style=\"color: #00af00; text-decoration-color: #00af00\">104</span>, <span style=\"color: #00af00; text-decoration-color: #00af00\">64</span>)    │        <span style=\"color: #00af00; text-decoration-color: #00af00\">18,496</span> │\n",
       "├─────────────────────────────────┼────────────────────────┼───────────────┤\n",
       "│ max_pooling2d_4 (<span style=\"color: #0087ff; text-decoration-color: #0087ff\">MaxPooling2D</span>)  │ (<span style=\"color: #00d7ff; text-decoration-color: #00d7ff\">None</span>, <span style=\"color: #00af00; text-decoration-color: #00af00\">44</span>, <span style=\"color: #00af00; text-decoration-color: #00af00\">52</span>, <span style=\"color: #00af00; text-decoration-color: #00af00\">64</span>)     │             <span style=\"color: #00af00; text-decoration-color: #00af00\">0</span> │\n",
       "├─────────────────────────────────┼────────────────────────┼───────────────┤\n",
       "│ conv2d_5 (<span style=\"color: #0087ff; text-decoration-color: #0087ff\">Conv2D</span>)               │ (<span style=\"color: #00d7ff; text-decoration-color: #00d7ff\">None</span>, <span style=\"color: #00af00; text-decoration-color: #00af00\">44</span>, <span style=\"color: #00af00; text-decoration-color: #00af00\">52</span>, <span style=\"color: #00af00; text-decoration-color: #00af00\">128</span>)    │        <span style=\"color: #00af00; text-decoration-color: #00af00\">73,856</span> │\n",
       "├─────────────────────────────────┼────────────────────────┼───────────────┤\n",
       "│ max_pooling2d_5 (<span style=\"color: #0087ff; text-decoration-color: #0087ff\">MaxPooling2D</span>)  │ (<span style=\"color: #00d7ff; text-decoration-color: #00d7ff\">None</span>, <span style=\"color: #00af00; text-decoration-color: #00af00\">22</span>, <span style=\"color: #00af00; text-decoration-color: #00af00\">26</span>, <span style=\"color: #00af00; text-decoration-color: #00af00\">128</span>)    │             <span style=\"color: #00af00; text-decoration-color: #00af00\">0</span> │\n",
       "├─────────────────────────────────┼────────────────────────┼───────────────┤\n",
       "│ global_average_pooling2d_1      │ (<span style=\"color: #00d7ff; text-decoration-color: #00d7ff\">None</span>, <span style=\"color: #00af00; text-decoration-color: #00af00\">128</span>)            │             <span style=\"color: #00af00; text-decoration-color: #00af00\">0</span> │\n",
       "│ (<span style=\"color: #0087ff; text-decoration-color: #0087ff\">GlobalAveragePooling2D</span>)        │                        │               │\n",
       "├─────────────────────────────────┼────────────────────────┼───────────────┤\n",
       "│ dense_2 (<span style=\"color: #0087ff; text-decoration-color: #0087ff\">Dense</span>)                 │ (<span style=\"color: #00d7ff; text-decoration-color: #00d7ff\">None</span>, <span style=\"color: #00af00; text-decoration-color: #00af00\">256</span>)            │        <span style=\"color: #00af00; text-decoration-color: #00af00\">33,024</span> │\n",
       "├─────────────────────────────────┼────────────────────────┼───────────────┤\n",
       "│ dropout_1 (<span style=\"color: #0087ff; text-decoration-color: #0087ff\">Dropout</span>)             │ (<span style=\"color: #00d7ff; text-decoration-color: #00d7ff\">None</span>, <span style=\"color: #00af00; text-decoration-color: #00af00\">256</span>)            │             <span style=\"color: #00af00; text-decoration-color: #00af00\">0</span> │\n",
       "├─────────────────────────────────┼────────────────────────┼───────────────┤\n",
       "│ dense_3 (<span style=\"color: #0087ff; text-decoration-color: #0087ff\">Dense</span>)                 │ (<span style=\"color: #00d7ff; text-decoration-color: #00d7ff\">None</span>, <span style=\"color: #00af00; text-decoration-color: #00af00\">4</span>)              │         <span style=\"color: #00af00; text-decoration-color: #00af00\">1,028</span> │\n",
       "└─────────────────────────────────┴────────────────────────┴───────────────┘\n",
       "</pre>\n"
      ],
      "text/plain": [
       "┏━━━━━━━━━━━━━━━━━━━━━━━━━━━━━━━━━┳━━━━━━━━━━━━━━━━━━━━━━━━┳━━━━━━━━━━━━━━━┓\n",
       "┃\u001b[1m \u001b[0m\u001b[1mLayer (type)                   \u001b[0m\u001b[1m \u001b[0m┃\u001b[1m \u001b[0m\u001b[1mOutput Shape          \u001b[0m\u001b[1m \u001b[0m┃\u001b[1m \u001b[0m\u001b[1m      Param #\u001b[0m\u001b[1m \u001b[0m┃\n",
       "┡━━━━━━━━━━━━━━━━━━━━━━━━━━━━━━━━━╇━━━━━━━━━━━━━━━━━━━━━━━━╇━━━━━━━━━━━━━━━┩\n",
       "│ input_layer_1 (\u001b[38;5;33mInputLayer\u001b[0m)      │ (\u001b[38;5;45mNone\u001b[0m, \u001b[38;5;34m176\u001b[0m, \u001b[38;5;34m208\u001b[0m, \u001b[38;5;34m3\u001b[0m)    │             \u001b[38;5;34m0\u001b[0m │\n",
       "├─────────────────────────────────┼────────────────────────┼───────────────┤\n",
       "│ conv2d_3 (\u001b[38;5;33mConv2D\u001b[0m)               │ (\u001b[38;5;45mNone\u001b[0m, \u001b[38;5;34m176\u001b[0m, \u001b[38;5;34m208\u001b[0m, \u001b[38;5;34m32\u001b[0m)   │           \u001b[38;5;34m896\u001b[0m │\n",
       "├─────────────────────────────────┼────────────────────────┼───────────────┤\n",
       "│ max_pooling2d_3 (\u001b[38;5;33mMaxPooling2D\u001b[0m)  │ (\u001b[38;5;45mNone\u001b[0m, \u001b[38;5;34m88\u001b[0m, \u001b[38;5;34m104\u001b[0m, \u001b[38;5;34m32\u001b[0m)    │             \u001b[38;5;34m0\u001b[0m │\n",
       "├─────────────────────────────────┼────────────────────────┼───────────────┤\n",
       "│ conv2d_4 (\u001b[38;5;33mConv2D\u001b[0m)               │ (\u001b[38;5;45mNone\u001b[0m, \u001b[38;5;34m88\u001b[0m, \u001b[38;5;34m104\u001b[0m, \u001b[38;5;34m64\u001b[0m)    │        \u001b[38;5;34m18,496\u001b[0m │\n",
       "├─────────────────────────────────┼────────────────────────┼───────────────┤\n",
       "│ max_pooling2d_4 (\u001b[38;5;33mMaxPooling2D\u001b[0m)  │ (\u001b[38;5;45mNone\u001b[0m, \u001b[38;5;34m44\u001b[0m, \u001b[38;5;34m52\u001b[0m, \u001b[38;5;34m64\u001b[0m)     │             \u001b[38;5;34m0\u001b[0m │\n",
       "├─────────────────────────────────┼────────────────────────┼───────────────┤\n",
       "│ conv2d_5 (\u001b[38;5;33mConv2D\u001b[0m)               │ (\u001b[38;5;45mNone\u001b[0m, \u001b[38;5;34m44\u001b[0m, \u001b[38;5;34m52\u001b[0m, \u001b[38;5;34m128\u001b[0m)    │        \u001b[38;5;34m73,856\u001b[0m │\n",
       "├─────────────────────────────────┼────────────────────────┼───────────────┤\n",
       "│ max_pooling2d_5 (\u001b[38;5;33mMaxPooling2D\u001b[0m)  │ (\u001b[38;5;45mNone\u001b[0m, \u001b[38;5;34m22\u001b[0m, \u001b[38;5;34m26\u001b[0m, \u001b[38;5;34m128\u001b[0m)    │             \u001b[38;5;34m0\u001b[0m │\n",
       "├─────────────────────────────────┼────────────────────────┼───────────────┤\n",
       "│ global_average_pooling2d_1      │ (\u001b[38;5;45mNone\u001b[0m, \u001b[38;5;34m128\u001b[0m)            │             \u001b[38;5;34m0\u001b[0m │\n",
       "│ (\u001b[38;5;33mGlobalAveragePooling2D\u001b[0m)        │                        │               │\n",
       "├─────────────────────────────────┼────────────────────────┼───────────────┤\n",
       "│ dense_2 (\u001b[38;5;33mDense\u001b[0m)                 │ (\u001b[38;5;45mNone\u001b[0m, \u001b[38;5;34m256\u001b[0m)            │        \u001b[38;5;34m33,024\u001b[0m │\n",
       "├─────────────────────────────────┼────────────────────────┼───────────────┤\n",
       "│ dropout_1 (\u001b[38;5;33mDropout\u001b[0m)             │ (\u001b[38;5;45mNone\u001b[0m, \u001b[38;5;34m256\u001b[0m)            │             \u001b[38;5;34m0\u001b[0m │\n",
       "├─────────────────────────────────┼────────────────────────┼───────────────┤\n",
       "│ dense_3 (\u001b[38;5;33mDense\u001b[0m)                 │ (\u001b[38;5;45mNone\u001b[0m, \u001b[38;5;34m4\u001b[0m)              │         \u001b[38;5;34m1,028\u001b[0m │\n",
       "└─────────────────────────────────┴────────────────────────┴───────────────┘\n"
      ]
     },
     "metadata": {},
     "output_type": "display_data"
    },
    {
     "data": {
      "text/html": [
       "<pre style=\"white-space:pre;overflow-x:auto;line-height:normal;font-family:Menlo,'DejaVu Sans Mono',consolas,'Courier New',monospace\"><span style=\"font-weight: bold\"> Total params: </span><span style=\"color: #00af00; text-decoration-color: #00af00\">127,300</span> (497.27 KB)\n",
       "</pre>\n"
      ],
      "text/plain": [
       "\u001b[1m Total params: \u001b[0m\u001b[38;5;34m127,300\u001b[0m (497.27 KB)\n"
      ]
     },
     "metadata": {},
     "output_type": "display_data"
    },
    {
     "data": {
      "text/html": [
       "<pre style=\"white-space:pre;overflow-x:auto;line-height:normal;font-family:Menlo,'DejaVu Sans Mono',consolas,'Courier New',monospace\"><span style=\"font-weight: bold\"> Trainable params: </span><span style=\"color: #00af00; text-decoration-color: #00af00\">127,300</span> (497.27 KB)\n",
       "</pre>\n"
      ],
      "text/plain": [
       "\u001b[1m Trainable params: \u001b[0m\u001b[38;5;34m127,300\u001b[0m (497.27 KB)\n"
      ]
     },
     "metadata": {},
     "output_type": "display_data"
    },
    {
     "data": {
      "text/html": [
       "<pre style=\"white-space:pre;overflow-x:auto;line-height:normal;font-family:Menlo,'DejaVu Sans Mono',consolas,'Courier New',monospace\"><span style=\"font-weight: bold\"> Non-trainable params: </span><span style=\"color: #00af00; text-decoration-color: #00af00\">0</span> (0.00 B)\n",
       "</pre>\n"
      ],
      "text/plain": [
       "\u001b[1m Non-trainable params: \u001b[0m\u001b[38;5;34m0\u001b[0m (0.00 B)\n"
      ]
     },
     "metadata": {},
     "output_type": "display_data"
    },
    {
     "data": {
      "text/html": [
       "<pre style=\"white-space:pre;overflow-x:auto;line-height:normal;font-family:Menlo,'DejaVu Sans Mono',consolas,'Courier New',monospace\"><span style=\"font-weight: bold\">Model: \"functional_3\"</span>\n",
       "</pre>\n"
      ],
      "text/plain": [
       "\u001b[1mModel: \"functional_3\"\u001b[0m\n"
      ]
     },
     "metadata": {},
     "output_type": "display_data"
    },
    {
     "data": {
      "text/html": [
       "<pre style=\"white-space:pre;overflow-x:auto;line-height:normal;font-family:Menlo,'DejaVu Sans Mono',consolas,'Courier New',monospace\">┏━━━━━━━━━━━━━━━━━━━━━━━━━━━━━━━━━┳━━━━━━━━━━━━━━━━━━━━━━━━┳━━━━━━━━━━━━━━━┓\n",
       "┃<span style=\"font-weight: bold\"> Layer (type)                    </span>┃<span style=\"font-weight: bold\"> Output Shape           </span>┃<span style=\"font-weight: bold\">       Param # </span>┃\n",
       "┡━━━━━━━━━━━━━━━━━━━━━━━━━━━━━━━━━╇━━━━━━━━━━━━━━━━━━━━━━━━╇━━━━━━━━━━━━━━━┩\n",
       "│ input_layer_1 (<span style=\"color: #0087ff; text-decoration-color: #0087ff\">InputLayer</span>)      │ (<span style=\"color: #00d7ff; text-decoration-color: #00d7ff\">None</span>, <span style=\"color: #00af00; text-decoration-color: #00af00\">176</span>, <span style=\"color: #00af00; text-decoration-color: #00af00\">208</span>, <span style=\"color: #00af00; text-decoration-color: #00af00\">3</span>)    │             <span style=\"color: #00af00; text-decoration-color: #00af00\">0</span> │\n",
       "├─────────────────────────────────┼────────────────────────┼───────────────┤\n",
       "│ conv2d_3 (<span style=\"color: #0087ff; text-decoration-color: #0087ff\">Conv2D</span>)               │ (<span style=\"color: #00d7ff; text-decoration-color: #00d7ff\">None</span>, <span style=\"color: #00af00; text-decoration-color: #00af00\">176</span>, <span style=\"color: #00af00; text-decoration-color: #00af00\">208</span>, <span style=\"color: #00af00; text-decoration-color: #00af00\">32</span>)   │           <span style=\"color: #00af00; text-decoration-color: #00af00\">896</span> │\n",
       "├─────────────────────────────────┼────────────────────────┼───────────────┤\n",
       "│ max_pooling2d_3 (<span style=\"color: #0087ff; text-decoration-color: #0087ff\">MaxPooling2D</span>)  │ (<span style=\"color: #00d7ff; text-decoration-color: #00d7ff\">None</span>, <span style=\"color: #00af00; text-decoration-color: #00af00\">88</span>, <span style=\"color: #00af00; text-decoration-color: #00af00\">104</span>, <span style=\"color: #00af00; text-decoration-color: #00af00\">32</span>)    │             <span style=\"color: #00af00; text-decoration-color: #00af00\">0</span> │\n",
       "├─────────────────────────────────┼────────────────────────┼───────────────┤\n",
       "│ conv2d_4 (<span style=\"color: #0087ff; text-decoration-color: #0087ff\">Conv2D</span>)               │ (<span style=\"color: #00d7ff; text-decoration-color: #00d7ff\">None</span>, <span style=\"color: #00af00; text-decoration-color: #00af00\">88</span>, <span style=\"color: #00af00; text-decoration-color: #00af00\">104</span>, <span style=\"color: #00af00; text-decoration-color: #00af00\">64</span>)    │        <span style=\"color: #00af00; text-decoration-color: #00af00\">18,496</span> │\n",
       "├─────────────────────────────────┼────────────────────────┼───────────────┤\n",
       "│ max_pooling2d_4 (<span style=\"color: #0087ff; text-decoration-color: #0087ff\">MaxPooling2D</span>)  │ (<span style=\"color: #00d7ff; text-decoration-color: #00d7ff\">None</span>, <span style=\"color: #00af00; text-decoration-color: #00af00\">44</span>, <span style=\"color: #00af00; text-decoration-color: #00af00\">52</span>, <span style=\"color: #00af00; text-decoration-color: #00af00\">64</span>)     │             <span style=\"color: #00af00; text-decoration-color: #00af00\">0</span> │\n",
       "├─────────────────────────────────┼────────────────────────┼───────────────┤\n",
       "│ conv2d_5 (<span style=\"color: #0087ff; text-decoration-color: #0087ff\">Conv2D</span>)               │ (<span style=\"color: #00d7ff; text-decoration-color: #00d7ff\">None</span>, <span style=\"color: #00af00; text-decoration-color: #00af00\">44</span>, <span style=\"color: #00af00; text-decoration-color: #00af00\">52</span>, <span style=\"color: #00af00; text-decoration-color: #00af00\">128</span>)    │        <span style=\"color: #00af00; text-decoration-color: #00af00\">73,856</span> │\n",
       "├─────────────────────────────────┼────────────────────────┼───────────────┤\n",
       "│ max_pooling2d_5 (<span style=\"color: #0087ff; text-decoration-color: #0087ff\">MaxPooling2D</span>)  │ (<span style=\"color: #00d7ff; text-decoration-color: #00d7ff\">None</span>, <span style=\"color: #00af00; text-decoration-color: #00af00\">22</span>, <span style=\"color: #00af00; text-decoration-color: #00af00\">26</span>, <span style=\"color: #00af00; text-decoration-color: #00af00\">128</span>)    │             <span style=\"color: #00af00; text-decoration-color: #00af00\">0</span> │\n",
       "├─────────────────────────────────┼────────────────────────┼───────────────┤\n",
       "│ global_average_pooling2d_1      │ (<span style=\"color: #00d7ff; text-decoration-color: #00d7ff\">None</span>, <span style=\"color: #00af00; text-decoration-color: #00af00\">128</span>)            │             <span style=\"color: #00af00; text-decoration-color: #00af00\">0</span> │\n",
       "│ (<span style=\"color: #0087ff; text-decoration-color: #0087ff\">GlobalAveragePooling2D</span>)        │                        │               │\n",
       "├─────────────────────────────────┼────────────────────────┼───────────────┤\n",
       "│ dense_2 (<span style=\"color: #0087ff; text-decoration-color: #0087ff\">Dense</span>)                 │ (<span style=\"color: #00d7ff; text-decoration-color: #00d7ff\">None</span>, <span style=\"color: #00af00; text-decoration-color: #00af00\">256</span>)            │        <span style=\"color: #00af00; text-decoration-color: #00af00\">33,024</span> │\n",
       "├─────────────────────────────────┼────────────────────────┼───────────────┤\n",
       "│ dropout_1 (<span style=\"color: #0087ff; text-decoration-color: #0087ff\">Dropout</span>)             │ (<span style=\"color: #00d7ff; text-decoration-color: #00d7ff\">None</span>, <span style=\"color: #00af00; text-decoration-color: #00af00\">256</span>)            │             <span style=\"color: #00af00; text-decoration-color: #00af00\">0</span> │\n",
       "├─────────────────────────────────┼────────────────────────┼───────────────┤\n",
       "│ dense_3 (<span style=\"color: #0087ff; text-decoration-color: #0087ff\">Dense</span>)                 │ (<span style=\"color: #00d7ff; text-decoration-color: #00d7ff\">None</span>, <span style=\"color: #00af00; text-decoration-color: #00af00\">4</span>)              │         <span style=\"color: #00af00; text-decoration-color: #00af00\">1,028</span> │\n",
       "└─────────────────────────────────┴────────────────────────┴───────────────┘\n",
       "</pre>\n"
      ],
      "text/plain": [
       "┏━━━━━━━━━━━━━━━━━━━━━━━━━━━━━━━━━┳━━━━━━━━━━━━━━━━━━━━━━━━┳━━━━━━━━━━━━━━━┓\n",
       "┃\u001b[1m \u001b[0m\u001b[1mLayer (type)                   \u001b[0m\u001b[1m \u001b[0m┃\u001b[1m \u001b[0m\u001b[1mOutput Shape          \u001b[0m\u001b[1m \u001b[0m┃\u001b[1m \u001b[0m\u001b[1m      Param #\u001b[0m\u001b[1m \u001b[0m┃\n",
       "┡━━━━━━━━━━━━━━━━━━━━━━━━━━━━━━━━━╇━━━━━━━━━━━━━━━━━━━━━━━━╇━━━━━━━━━━━━━━━┩\n",
       "│ input_layer_1 (\u001b[38;5;33mInputLayer\u001b[0m)      │ (\u001b[38;5;45mNone\u001b[0m, \u001b[38;5;34m176\u001b[0m, \u001b[38;5;34m208\u001b[0m, \u001b[38;5;34m3\u001b[0m)    │             \u001b[38;5;34m0\u001b[0m │\n",
       "├─────────────────────────────────┼────────────────────────┼───────────────┤\n",
       "│ conv2d_3 (\u001b[38;5;33mConv2D\u001b[0m)               │ (\u001b[38;5;45mNone\u001b[0m, \u001b[38;5;34m176\u001b[0m, \u001b[38;5;34m208\u001b[0m, \u001b[38;5;34m32\u001b[0m)   │           \u001b[38;5;34m896\u001b[0m │\n",
       "├─────────────────────────────────┼────────────────────────┼───────────────┤\n",
       "│ max_pooling2d_3 (\u001b[38;5;33mMaxPooling2D\u001b[0m)  │ (\u001b[38;5;45mNone\u001b[0m, \u001b[38;5;34m88\u001b[0m, \u001b[38;5;34m104\u001b[0m, \u001b[38;5;34m32\u001b[0m)    │             \u001b[38;5;34m0\u001b[0m │\n",
       "├─────────────────────────────────┼────────────────────────┼───────────────┤\n",
       "│ conv2d_4 (\u001b[38;5;33mConv2D\u001b[0m)               │ (\u001b[38;5;45mNone\u001b[0m, \u001b[38;5;34m88\u001b[0m, \u001b[38;5;34m104\u001b[0m, \u001b[38;5;34m64\u001b[0m)    │        \u001b[38;5;34m18,496\u001b[0m │\n",
       "├─────────────────────────────────┼────────────────────────┼───────────────┤\n",
       "│ max_pooling2d_4 (\u001b[38;5;33mMaxPooling2D\u001b[0m)  │ (\u001b[38;5;45mNone\u001b[0m, \u001b[38;5;34m44\u001b[0m, \u001b[38;5;34m52\u001b[0m, \u001b[38;5;34m64\u001b[0m)     │             \u001b[38;5;34m0\u001b[0m │\n",
       "├─────────────────────────────────┼────────────────────────┼───────────────┤\n",
       "│ conv2d_5 (\u001b[38;5;33mConv2D\u001b[0m)               │ (\u001b[38;5;45mNone\u001b[0m, \u001b[38;5;34m44\u001b[0m, \u001b[38;5;34m52\u001b[0m, \u001b[38;5;34m128\u001b[0m)    │        \u001b[38;5;34m73,856\u001b[0m │\n",
       "├─────────────────────────────────┼────────────────────────┼───────────────┤\n",
       "│ max_pooling2d_5 (\u001b[38;5;33mMaxPooling2D\u001b[0m)  │ (\u001b[38;5;45mNone\u001b[0m, \u001b[38;5;34m22\u001b[0m, \u001b[38;5;34m26\u001b[0m, \u001b[38;5;34m128\u001b[0m)    │             \u001b[38;5;34m0\u001b[0m │\n",
       "├─────────────────────────────────┼────────────────────────┼───────────────┤\n",
       "│ global_average_pooling2d_1      │ (\u001b[38;5;45mNone\u001b[0m, \u001b[38;5;34m128\u001b[0m)            │             \u001b[38;5;34m0\u001b[0m │\n",
       "│ (\u001b[38;5;33mGlobalAveragePooling2D\u001b[0m)        │                        │               │\n",
       "├─────────────────────────────────┼────────────────────────┼───────────────┤\n",
       "│ dense_2 (\u001b[38;5;33mDense\u001b[0m)                 │ (\u001b[38;5;45mNone\u001b[0m, \u001b[38;5;34m256\u001b[0m)            │        \u001b[38;5;34m33,024\u001b[0m │\n",
       "├─────────────────────────────────┼────────────────────────┼───────────────┤\n",
       "│ dropout_1 (\u001b[38;5;33mDropout\u001b[0m)             │ (\u001b[38;5;45mNone\u001b[0m, \u001b[38;5;34m256\u001b[0m)            │             \u001b[38;5;34m0\u001b[0m │\n",
       "├─────────────────────────────────┼────────────────────────┼───────────────┤\n",
       "│ dense_3 (\u001b[38;5;33mDense\u001b[0m)                 │ (\u001b[38;5;45mNone\u001b[0m, \u001b[38;5;34m4\u001b[0m)              │         \u001b[38;5;34m1,028\u001b[0m │\n",
       "└─────────────────────────────────┴────────────────────────┴───────────────┘\n"
      ]
     },
     "metadata": {},
     "output_type": "display_data"
    },
    {
     "data": {
      "text/html": [
       "<pre style=\"white-space:pre;overflow-x:auto;line-height:normal;font-family:Menlo,'DejaVu Sans Mono',consolas,'Courier New',monospace\"><span style=\"font-weight: bold\"> Total params: </span><span style=\"color: #00af00; text-decoration-color: #00af00\">127,300</span> (497.27 KB)\n",
       "</pre>\n"
      ],
      "text/plain": [
       "\u001b[1m Total params: \u001b[0m\u001b[38;5;34m127,300\u001b[0m (497.27 KB)\n"
      ]
     },
     "metadata": {},
     "output_type": "display_data"
    },
    {
     "data": {
      "text/html": [
       "<pre style=\"white-space:pre;overflow-x:auto;line-height:normal;font-family:Menlo,'DejaVu Sans Mono',consolas,'Courier New',monospace\"><span style=\"font-weight: bold\"> Trainable params: </span><span style=\"color: #00af00; text-decoration-color: #00af00\">127,300</span> (497.27 KB)\n",
       "</pre>\n"
      ],
      "text/plain": [
       "\u001b[1m Trainable params: \u001b[0m\u001b[38;5;34m127,300\u001b[0m (497.27 KB)\n"
      ]
     },
     "metadata": {},
     "output_type": "display_data"
    },
    {
     "data": {
      "text/html": [
       "<pre style=\"white-space:pre;overflow-x:auto;line-height:normal;font-family:Menlo,'DejaVu Sans Mono',consolas,'Courier New',monospace\"><span style=\"font-weight: bold\"> Non-trainable params: </span><span style=\"color: #00af00; text-decoration-color: #00af00\">0</span> (0.00 B)\n",
       "</pre>\n"
      ],
      "text/plain": [
       "\u001b[1m Non-trainable params: \u001b[0m\u001b[38;5;34m0\u001b[0m (0.00 B)\n"
      ]
     },
     "metadata": {},
     "output_type": "display_data"
    },
    {
     "name": "stdout",
     "output_type": "stream",
     "text": [
      "Epoch 1/100\n"
     ]
    },
    {
     "name": "stderr",
     "output_type": "stream",
     "text": [
      "/home/oskarem/.local/lib/python3.10/site-packages/keras/src/trainers/data_adapters/py_dataset_adapter.py:121: UserWarning: Your `PyDataset` class should call `super().__init__(**kwargs)` in its constructor. `**kwargs` can include `workers`, `use_multiprocessing`, `max_queue_size`. Do not pass these arguments to `fit()`, as they will be ignored.\n",
      "  self._warn_if_super_not_called()\n"
     ]
    },
    {
     "name": "stdout",
     "output_type": "stream",
     "text": [
      "\u001b[1m161/161\u001b[0m \u001b[32m━━━━━━━━━━━━━━━━━━━━\u001b[0m\u001b[37m\u001b[0m \u001b[1m0s\u001b[0m 563ms/step - accuracy: 0.4975 - loss: 1.0999\n",
      "Epoch 1: val_accuracy improved from -inf to 0.49574, saving model to ./model_checkpoints/checkpoint-01-0.50.keras\n",
      "\u001b[1m161/161\u001b[0m \u001b[32m━━━━━━━━━━━━━━━━━━━━\u001b[0m\u001b[37m\u001b[0m \u001b[1m100s\u001b[0m 612ms/step - accuracy: 0.4975 - loss: 1.0996 - val_accuracy: 0.4957 - val_loss: 1.0434\n",
      "Epoch 2/100\n",
      "\u001b[1m161/161\u001b[0m \u001b[32m━━━━━━━━━━━━━━━━━━━━\u001b[0m\u001b[37m\u001b[0m \u001b[1m0s\u001b[0m 556ms/step - accuracy: 0.4801 - loss: 1.0406\n",
      "Epoch 2: val_accuracy did not improve from 0.49574\n",
      "\u001b[1m161/161\u001b[0m \u001b[32m━━━━━━━━━━━━━━━━━━━━\u001b[0m\u001b[37m\u001b[0m \u001b[1m97s\u001b[0m 604ms/step - accuracy: 0.4802 - loss: 1.0406 - val_accuracy: 0.4957 - val_loss: 1.0471\n",
      "Epoch 3/100\n",
      "\u001b[1m161/161\u001b[0m \u001b[32m━━━━━━━━━━━━━━━━━━━━\u001b[0m\u001b[37m\u001b[0m \u001b[1m0s\u001b[0m 553ms/step - accuracy: 0.4997 - loss: 1.0289\n",
      "Epoch 3: val_accuracy did not improve from 0.49574\n",
      "\u001b[1m161/161\u001b[0m \u001b[32m━━━━━━━━━━━━━━━━━━━━\u001b[0m\u001b[37m\u001b[0m \u001b[1m97s\u001b[0m 599ms/step - accuracy: 0.4997 - loss: 1.0290 - val_accuracy: 0.4957 - val_loss: 1.0357\n",
      "Epoch 4/100\n",
      "\u001b[1m161/161\u001b[0m \u001b[32m━━━━━━━━━━━━━━━━━━━━\u001b[0m\u001b[37m\u001b[0m \u001b[1m0s\u001b[0m 552ms/step - accuracy: 0.4949 - loss: 1.0420\n",
      "Epoch 4: val_accuracy did not improve from 0.49574\n",
      "\u001b[1m161/161\u001b[0m \u001b[32m━━━━━━━━━━━━━━━━━━━━\u001b[0m\u001b[37m\u001b[0m \u001b[1m97s\u001b[0m 599ms/step - accuracy: 0.4950 - loss: 1.0419 - val_accuracy: 0.4957 - val_loss: 1.0270\n",
      "Epoch 5/100\n",
      "\u001b[1m161/161\u001b[0m \u001b[32m━━━━━━━━━━━━━━━━━━━━\u001b[0m\u001b[37m\u001b[0m \u001b[1m0s\u001b[0m 553ms/step - accuracy: 0.5126 - loss: 1.0093\n",
      "Epoch 5: val_accuracy improved from 0.49574 to 0.49961, saving model to ./model_checkpoints/checkpoint-05-0.50.keras\n",
      "\u001b[1m161/161\u001b[0m \u001b[32m━━━━━━━━━━━━━━━━━━━━\u001b[0m\u001b[37m\u001b[0m \u001b[1m97s\u001b[0m 601ms/step - accuracy: 0.5126 - loss: 1.0094 - val_accuracy: 0.4996 - val_loss: 1.0414\n",
      "Epoch 6/100\n",
      "\u001b[1m161/161\u001b[0m \u001b[32m━━━━━━━━━━━━━━━━━━━━\u001b[0m\u001b[37m\u001b[0m \u001b[1m0s\u001b[0m 549ms/step - accuracy: 0.5210 - loss: 1.0034\n",
      "Epoch 6: val_accuracy improved from 0.49961 to 0.55383, saving model to ./model_checkpoints/checkpoint-06-0.55.keras\n",
      "\u001b[1m161/161\u001b[0m \u001b[32m━━━━━━━━━━━━━━━━━━━━\u001b[0m\u001b[37m\u001b[0m \u001b[1m96s\u001b[0m 598ms/step - accuracy: 0.5209 - loss: 1.0034 - val_accuracy: 0.5538 - val_loss: 0.9819\n",
      "Epoch 7/100\n",
      "\u001b[1m161/161\u001b[0m \u001b[32m━━━━━━━━━━━━━━━━━━━━\u001b[0m\u001b[37m\u001b[0m \u001b[1m0s\u001b[0m 557ms/step - accuracy: 0.5385 - loss: 0.9608\n",
      "Epoch 7: val_accuracy did not improve from 0.55383\n",
      "\u001b[1m161/161\u001b[0m \u001b[32m━━━━━━━━━━━━━━━━━━━━\u001b[0m\u001b[37m\u001b[0m \u001b[1m98s\u001b[0m 605ms/step - accuracy: 0.5385 - loss: 0.9608 - val_accuracy: 0.5507 - val_loss: 0.9498\n",
      "Epoch 8/100\n",
      "\u001b[1m161/161\u001b[0m \u001b[32m━━━━━━━━━━━━━━━━━━━━\u001b[0m\u001b[37m\u001b[0m \u001b[1m0s\u001b[0m 555ms/step - accuracy: 0.5331 - loss: 0.9685\n",
      "Epoch 8: val_accuracy did not improve from 0.55383\n",
      "\u001b[1m161/161\u001b[0m \u001b[32m━━━━━━━━━━━━━━━━━━━━\u001b[0m\u001b[37m\u001b[0m \u001b[1m97s\u001b[0m 603ms/step - accuracy: 0.5331 - loss: 0.9685 - val_accuracy: 0.5492 - val_loss: 0.9563\n",
      "Epoch 9/100\n",
      "\u001b[1m161/161\u001b[0m \u001b[32m━━━━━━━━━━━━━━━━━━━━\u001b[0m\u001b[37m\u001b[0m \u001b[1m0s\u001b[0m 554ms/step - accuracy: 0.5540 - loss: 0.9492\n",
      "Epoch 9: val_accuracy did not improve from 0.55383\n",
      "\u001b[1m161/161\u001b[0m \u001b[32m━━━━━━━━━━━━━━━━━━━━\u001b[0m\u001b[37m\u001b[0m \u001b[1m97s\u001b[0m 601ms/step - accuracy: 0.5539 - loss: 0.9494 - val_accuracy: 0.5430 - val_loss: 0.9690\n",
      "Epoch 10/100\n",
      "\u001b[1m161/161\u001b[0m \u001b[32m━━━━━━━━━━━━━━━━━━━━\u001b[0m\u001b[37m\u001b[0m \u001b[1m0s\u001b[0m 549ms/step - accuracy: 0.5516 - loss: 0.9348\n",
      "Epoch 10: val_accuracy improved from 0.55383 to 0.55848, saving model to ./model_checkpoints/checkpoint-10-0.56.keras\n",
      "\u001b[1m161/161\u001b[0m \u001b[32m━━━━━━━━━━━━━━━━━━━━\u001b[0m\u001b[37m\u001b[0m \u001b[1m96s\u001b[0m 596ms/step - accuracy: 0.5516 - loss: 0.9347 - val_accuracy: 0.5585 - val_loss: 0.9491\n",
      "Epoch 11/100\n",
      "\u001b[1m161/161\u001b[0m \u001b[32m━━━━━━━━━━━━━━━━━━━━\u001b[0m\u001b[37m\u001b[0m \u001b[1m0s\u001b[0m 549ms/step - accuracy: 0.5702 - loss: 0.9208\n",
      "Epoch 11: val_accuracy did not improve from 0.55848\n",
      "\u001b[1m161/161\u001b[0m \u001b[32m━━━━━━━━━━━━━━━━━━━━\u001b[0m\u001b[37m\u001b[0m \u001b[1m96s\u001b[0m 596ms/step - accuracy: 0.5702 - loss: 0.9208 - val_accuracy: 0.5407 - val_loss: 0.9840\n",
      "Epoch 12/100\n",
      "\u001b[1m161/161\u001b[0m \u001b[32m━━━━━━━━━━━━━━━━━━━━\u001b[0m\u001b[37m\u001b[0m \u001b[1m0s\u001b[0m 554ms/step - accuracy: 0.5638 - loss: 0.9143\n",
      "Epoch 12: val_accuracy improved from 0.55848 to 0.56158, saving model to ./model_checkpoints/checkpoint-12-0.56.keras\n",
      "\u001b[1m161/161\u001b[0m \u001b[32m━━━━━━━━━━━━━━━━━━━━\u001b[0m\u001b[37m\u001b[0m \u001b[1m97s\u001b[0m 601ms/step - accuracy: 0.5639 - loss: 0.9143 - val_accuracy: 0.5616 - val_loss: 0.9162\n",
      "Epoch 13/100\n",
      "\u001b[1m161/161\u001b[0m \u001b[32m━━━━━━━━━━━━━━━━━━━━\u001b[0m\u001b[37m\u001b[0m \u001b[1m0s\u001b[0m 548ms/step - accuracy: 0.5664 - loss: 0.9131\n",
      "Epoch 13: val_accuracy did not improve from 0.56158\n",
      "\u001b[1m161/161\u001b[0m \u001b[32m━━━━━━━━━━━━━━━━━━━━\u001b[0m\u001b[37m\u001b[0m \u001b[1m96s\u001b[0m 593ms/step - accuracy: 0.5664 - loss: 0.9130 - val_accuracy: 0.5445 - val_loss: 0.9373\n",
      "Epoch 14/100\n",
      "\u001b[1m161/161\u001b[0m \u001b[32m━━━━━━━━━━━━━━━━━━━━\u001b[0m\u001b[37m\u001b[0m \u001b[1m0s\u001b[0m 548ms/step - accuracy: 0.5800 - loss: 0.8975\n",
      "Epoch 14: val_accuracy did not improve from 0.56158\n",
      "\u001b[1m161/161\u001b[0m \u001b[32m━━━━━━━━━━━━━━━━━━━━\u001b[0m\u001b[37m\u001b[0m \u001b[1m96s\u001b[0m 594ms/step - accuracy: 0.5799 - loss: 0.8976 - val_accuracy: 0.5476 - val_loss: 0.9376\n",
      "Epoch 15/100\n",
      "\u001b[1m161/161\u001b[0m \u001b[32m━━━━━━━━━━━━━━━━━━━━\u001b[0m\u001b[37m\u001b[0m \u001b[1m0s\u001b[0m 546ms/step - accuracy: 0.5680 - loss: 0.9134\n",
      "Epoch 15: val_accuracy did not improve from 0.56158\n",
      "\u001b[1m161/161\u001b[0m \u001b[32m━━━━━━━━━━━━━━━━━━━━\u001b[0m\u001b[37m\u001b[0m \u001b[1m96s\u001b[0m 592ms/step - accuracy: 0.5680 - loss: 0.9133 - val_accuracy: 0.5515 - val_loss: 0.9653\n",
      "Epoch 16/100\n",
      "\u001b[1m161/161\u001b[0m \u001b[32m━━━━━━━━━━━━━━━━━━━━\u001b[0m\u001b[37m\u001b[0m \u001b[1m0s\u001b[0m 547ms/step - accuracy: 0.5686 - loss: 0.8987\n",
      "Epoch 16: val_accuracy improved from 0.56158 to 0.56235, saving model to ./model_checkpoints/checkpoint-16-0.56.keras\n",
      "\u001b[1m161/161\u001b[0m \u001b[32m━━━━━━━━━━━━━━━━━━━━\u001b[0m\u001b[37m\u001b[0m \u001b[1m96s\u001b[0m 596ms/step - accuracy: 0.5686 - loss: 0.8987 - val_accuracy: 0.5624 - val_loss: 0.9190\n",
      "Epoch 17/100\n",
      "\u001b[1m161/161\u001b[0m \u001b[32m━━━━━━━━━━━━━━━━━━━━\u001b[0m\u001b[37m\u001b[0m \u001b[1m0s\u001b[0m 546ms/step - accuracy: 0.5812 - loss: 0.9129\n",
      "Epoch 17: val_accuracy improved from 0.56235 to 0.58637, saving model to ./model_checkpoints/checkpoint-17-0.59.keras\n",
      "\u001b[1m161/161\u001b[0m \u001b[32m━━━━━━━━━━━━━━━━━━━━\u001b[0m\u001b[37m\u001b[0m \u001b[1m95s\u001b[0m 591ms/step - accuracy: 0.5813 - loss: 0.9128 - val_accuracy: 0.5864 - val_loss: 0.9257\n",
      "Epoch 18/100\n",
      "\u001b[1m161/161\u001b[0m \u001b[32m━━━━━━━━━━━━━━━━━━━━\u001b[0m\u001b[37m\u001b[0m \u001b[1m0s\u001b[0m 544ms/step - accuracy: 0.5559 - loss: 0.9260\n",
      "Epoch 18: val_accuracy did not improve from 0.58637\n",
      "\u001b[1m161/161\u001b[0m \u001b[32m━━━━━━━━━━━━━━━━━━━━\u001b[0m\u001b[37m\u001b[0m \u001b[1m95s\u001b[0m 590ms/step - accuracy: 0.5560 - loss: 0.9258 - val_accuracy: 0.5585 - val_loss: 0.9174\n",
      "Epoch 19/100\n",
      "\u001b[1m161/161\u001b[0m \u001b[32m━━━━━━━━━━━━━━━━━━━━\u001b[0m\u001b[37m\u001b[0m \u001b[1m0s\u001b[0m 549ms/step - accuracy: 0.5899 - loss: 0.8846\n",
      "Epoch 19: val_accuracy did not improve from 0.58637\n",
      "\u001b[1m161/161\u001b[0m \u001b[32m━━━━━━━━━━━━━━━━━━━━\u001b[0m\u001b[37m\u001b[0m \u001b[1m96s\u001b[0m 594ms/step - accuracy: 0.5898 - loss: 0.8846 - val_accuracy: 0.5538 - val_loss: 0.9167\n",
      "Epoch 20/100\n",
      "\u001b[1m161/161\u001b[0m \u001b[32m━━━━━━━━━━━━━━━━━━━━\u001b[0m\u001b[37m\u001b[0m \u001b[1m0s\u001b[0m 552ms/step - accuracy: 0.5900 - loss: 0.8812\n",
      "Epoch 20: val_accuracy improved from 0.58637 to 0.60108, saving model to ./model_checkpoints/checkpoint-20-0.60.keras\n",
      "\u001b[1m161/161\u001b[0m \u001b[32m━━━━━━━━━━━━━━━━━━━━\u001b[0m\u001b[37m\u001b[0m \u001b[1m97s\u001b[0m 599ms/step - accuracy: 0.5901 - loss: 0.8811 - val_accuracy: 0.6011 - val_loss: 0.8990\n",
      "Epoch 21/100\n",
      "\u001b[1m161/161\u001b[0m \u001b[32m━━━━━━━━━━━━━━━━━━━━\u001b[0m\u001b[37m\u001b[0m \u001b[1m0s\u001b[0m 550ms/step - accuracy: 0.6092 - loss: 0.8762\n",
      "Epoch 21: val_accuracy did not improve from 0.60108\n",
      "\u001b[1m161/161\u001b[0m \u001b[32m━━━━━━━━━━━━━━━━━━━━\u001b[0m\u001b[37m\u001b[0m \u001b[1m96s\u001b[0m 597ms/step - accuracy: 0.6092 - loss: 0.8762 - val_accuracy: 0.5988 - val_loss: 0.9065\n",
      "Epoch 22/100\n",
      "\u001b[1m161/161\u001b[0m \u001b[32m━━━━━━━━━━━━━━━━━━━━\u001b[0m\u001b[37m\u001b[0m \u001b[1m0s\u001b[0m 551ms/step - accuracy: 0.6107 - loss: 0.8498\n",
      "Epoch 22: val_accuracy improved from 0.60108 to 0.60496, saving model to ./model_checkpoints/checkpoint-22-0.60.keras\n",
      "\u001b[1m161/161\u001b[0m \u001b[32m━━━━━━━━━━━━━━━━━━━━\u001b[0m\u001b[37m\u001b[0m \u001b[1m96s\u001b[0m 596ms/step - accuracy: 0.6107 - loss: 0.8499 - val_accuracy: 0.6050 - val_loss: 0.9093\n",
      "Epoch 23/100\n",
      "\u001b[1m161/161\u001b[0m \u001b[32m━━━━━━━━━━━━━━━━━━━━\u001b[0m\u001b[37m\u001b[0m \u001b[1m0s\u001b[0m 552ms/step - accuracy: 0.6036 - loss: 0.8633\n",
      "Epoch 23: val_accuracy did not improve from 0.60496\n",
      "\u001b[1m161/161\u001b[0m \u001b[32m━━━━━━━━━━━━━━━━━━━━\u001b[0m\u001b[37m\u001b[0m \u001b[1m96s\u001b[0m 597ms/step - accuracy: 0.6037 - loss: 0.8633 - val_accuracy: 0.5747 - val_loss: 0.9070\n",
      "Epoch 24/100\n",
      "\u001b[1m161/161\u001b[0m \u001b[32m━━━━━━━━━━━━━━━━━━━━\u001b[0m\u001b[37m\u001b[0m \u001b[1m0s\u001b[0m 551ms/step - accuracy: 0.5941 - loss: 0.8593\n",
      "Epoch 24: val_accuracy did not improve from 0.60496\n",
      "\u001b[1m161/161\u001b[0m \u001b[32m━━━━━━━━━━━━━━━━━━━━\u001b[0m\u001b[37m\u001b[0m \u001b[1m96s\u001b[0m 596ms/step - accuracy: 0.5941 - loss: 0.8592 - val_accuracy: 0.5964 - val_loss: 0.8894\n",
      "Epoch 25/100\n",
      "\u001b[1m161/161\u001b[0m \u001b[32m━━━━━━━━━━━━━━━━━━━━\u001b[0m\u001b[37m\u001b[0m \u001b[1m0s\u001b[0m 551ms/step - accuracy: 0.5989 - loss: 0.8609\n",
      "Epoch 25: val_accuracy improved from 0.60496 to 0.61193, saving model to ./model_checkpoints/checkpoint-25-0.61.keras\n",
      "\u001b[1m161/161\u001b[0m \u001b[32m━━━━━━━━━━━━━━━━━━━━\u001b[0m\u001b[37m\u001b[0m \u001b[1m96s\u001b[0m 597ms/step - accuracy: 0.5989 - loss: 0.8609 - val_accuracy: 0.6119 - val_loss: 0.8939\n",
      "Epoch 26/100\n",
      "\u001b[1m161/161\u001b[0m \u001b[32m━━━━━━━━━━━━━━━━━━━━\u001b[0m\u001b[37m\u001b[0m \u001b[1m0s\u001b[0m 553ms/step - accuracy: 0.6198 - loss: 0.8462\n",
      "Epoch 26: val_accuracy did not improve from 0.61193\n",
      "\u001b[1m161/161\u001b[0m \u001b[32m━━━━━━━━━━━━━━━━━━━━\u001b[0m\u001b[37m\u001b[0m \u001b[1m96s\u001b[0m 597ms/step - accuracy: 0.6198 - loss: 0.8462 - val_accuracy: 0.5964 - val_loss: 0.9127\n",
      "Epoch 27/100\n",
      "\u001b[1m161/161\u001b[0m \u001b[32m━━━━━━━━━━━━━━━━━━━━\u001b[0m\u001b[37m\u001b[0m \u001b[1m0s\u001b[0m 548ms/step - accuracy: 0.5861 - loss: 0.8763\n",
      "Epoch 27: val_accuracy did not improve from 0.61193\n",
      "\u001b[1m161/161\u001b[0m \u001b[32m━━━━━━━━━━━━━━━━━━━━\u001b[0m\u001b[37m\u001b[0m \u001b[1m96s\u001b[0m 594ms/step - accuracy: 0.5862 - loss: 0.8763 - val_accuracy: 0.5306 - val_loss: 0.9369\n",
      "Epoch 28/100\n",
      "\u001b[1m161/161\u001b[0m \u001b[32m━━━━━━━━━━━━━━━━━━━━\u001b[0m\u001b[37m\u001b[0m \u001b[1m0s\u001b[0m 551ms/step - accuracy: 0.6236 - loss: 0.8289\n",
      "Epoch 28: val_accuracy did not improve from 0.61193\n",
      "\u001b[1m161/161\u001b[0m \u001b[32m━━━━━━━━━━━━━━━━━━━━\u001b[0m\u001b[37m\u001b[0m \u001b[1m97s\u001b[0m 598ms/step - accuracy: 0.6237 - loss: 0.8289 - val_accuracy: 0.5809 - val_loss: 0.8893\n",
      "Epoch 29/100\n",
      "\u001b[1m161/161\u001b[0m \u001b[32m━━━━━━━━━━━━━━━━━━━━\u001b[0m\u001b[37m\u001b[0m \u001b[1m0s\u001b[0m 550ms/step - accuracy: 0.6305 - loss: 0.8337\n",
      "Epoch 29: val_accuracy improved from 0.61193 to 0.61890, saving model to ./model_checkpoints/checkpoint-29-0.62.keras\n",
      "\u001b[1m161/161\u001b[0m \u001b[32m━━━━━━━━━━━━━━━━━━━━\u001b[0m\u001b[37m\u001b[0m \u001b[1m96s\u001b[0m 596ms/step - accuracy: 0.6305 - loss: 0.8337 - val_accuracy: 0.6189 - val_loss: 0.8766\n",
      "Epoch 30/100\n",
      "\u001b[1m161/161\u001b[0m \u001b[32m━━━━━━━━━━━━━━━━━━━━\u001b[0m\u001b[37m\u001b[0m \u001b[1m0s\u001b[0m 552ms/step - accuracy: 0.6357 - loss: 0.8251\n",
      "Epoch 30: val_accuracy did not improve from 0.61890\n",
      "\u001b[1m161/161\u001b[0m \u001b[32m━━━━━━━━━━━━━━━━━━━━\u001b[0m\u001b[37m\u001b[0m \u001b[1m97s\u001b[0m 599ms/step - accuracy: 0.6357 - loss: 0.8250 - val_accuracy: 0.5980 - val_loss: 0.8850\n",
      "Epoch 31/100\n",
      "\u001b[1m161/161\u001b[0m \u001b[32m━━━━━━━━━━━━━━━━━━━━\u001b[0m\u001b[37m\u001b[0m \u001b[1m0s\u001b[0m 550ms/step - accuracy: 0.6327 - loss: 0.8193\n",
      "Epoch 31: val_accuracy did not improve from 0.61890\n",
      "\u001b[1m161/161\u001b[0m \u001b[32m━━━━━━━━━━━━━━━━━━━━\u001b[0m\u001b[37m\u001b[0m \u001b[1m96s\u001b[0m 598ms/step - accuracy: 0.6327 - loss: 0.8193 - val_accuracy: 0.5871 - val_loss: 0.9582\n",
      "Epoch 32/100\n",
      "\u001b[1m161/161\u001b[0m \u001b[32m━━━━━━━━━━━━━━━━━━━━\u001b[0m\u001b[37m\u001b[0m \u001b[1m0s\u001b[0m 552ms/step - accuracy: 0.6561 - loss: 0.7990\n",
      "Epoch 32: val_accuracy did not improve from 0.61890\n",
      "\u001b[1m161/161\u001b[0m \u001b[32m━━━━━━━━━━━━━━━━━━━━\u001b[0m\u001b[37m\u001b[0m \u001b[1m97s\u001b[0m 598ms/step - accuracy: 0.6560 - loss: 0.7991 - val_accuracy: 0.6135 - val_loss: 0.8797\n",
      "Epoch 33/100\n",
      "\u001b[1m161/161\u001b[0m \u001b[32m━━━━━━━━━━━━━━━━━━━━\u001b[0m\u001b[37m\u001b[0m \u001b[1m0s\u001b[0m 551ms/step - accuracy: 0.6342 - loss: 0.8021\n",
      "Epoch 33: val_accuracy did not improve from 0.61890\n",
      "\u001b[1m161/161\u001b[0m \u001b[32m━━━━━━━━━━━━━━━━━━━━\u001b[0m\u001b[37m\u001b[0m \u001b[1m96s\u001b[0m 597ms/step - accuracy: 0.6342 - loss: 0.8021 - val_accuracy: 0.6189 - val_loss: 0.8810\n",
      "Epoch 34/100\n",
      "\u001b[1m161/161\u001b[0m \u001b[32m━━━━━━━━━━━━━━━━━━━━\u001b[0m\u001b[37m\u001b[0m \u001b[1m0s\u001b[0m 549ms/step - accuracy: 0.6512 - loss: 0.7970\n",
      "Epoch 34: val_accuracy improved from 0.61890 to 0.63052, saving model to ./model_checkpoints/checkpoint-34-0.63.keras\n",
      "\u001b[1m161/161\u001b[0m \u001b[32m━━━━━━━━━━━━━━━━━━━━\u001b[0m\u001b[37m\u001b[0m \u001b[1m96s\u001b[0m 595ms/step - accuracy: 0.6511 - loss: 0.7971 - val_accuracy: 0.6305 - val_loss: 0.8615\n",
      "Epoch 35/100\n",
      "\u001b[1m161/161\u001b[0m \u001b[32m━━━━━━━━━━━━━━━━━━━━\u001b[0m\u001b[37m\u001b[0m \u001b[1m0s\u001b[0m 550ms/step - accuracy: 0.6441 - loss: 0.8084\n",
      "Epoch 35: val_accuracy did not improve from 0.63052\n",
      "\u001b[1m161/161\u001b[0m \u001b[32m━━━━━━━━━━━━━━━━━━━━\u001b[0m\u001b[37m\u001b[0m \u001b[1m96s\u001b[0m 596ms/step - accuracy: 0.6441 - loss: 0.8084 - val_accuracy: 0.6135 - val_loss: 0.8970\n",
      "Epoch 36/100\n",
      "\u001b[1m161/161\u001b[0m \u001b[32m━━━━━━━━━━━━━━━━━━━━\u001b[0m\u001b[37m\u001b[0m \u001b[1m0s\u001b[0m 548ms/step - accuracy: 0.6232 - loss: 0.8362\n",
      "Epoch 36: val_accuracy did not improve from 0.63052\n",
      "\u001b[1m161/161\u001b[0m \u001b[32m━━━━━━━━━━━━━━━━━━━━\u001b[0m\u001b[37m\u001b[0m \u001b[1m96s\u001b[0m 593ms/step - accuracy: 0.6231 - loss: 0.8363 - val_accuracy: 0.6212 - val_loss: 0.8724\n",
      "Epoch 37/100\n",
      "\u001b[1m161/161\u001b[0m \u001b[32m━━━━━━━━━━━━━━━━━━━━\u001b[0m\u001b[37m\u001b[0m \u001b[1m0s\u001b[0m 548ms/step - accuracy: 0.6525 - loss: 0.7884\n",
      "Epoch 37: val_accuracy did not improve from 0.63052\n",
      "\u001b[1m161/161\u001b[0m \u001b[32m━━━━━━━━━━━━━━━━━━━━\u001b[0m\u001b[37m\u001b[0m \u001b[1m96s\u001b[0m 594ms/step - accuracy: 0.6525 - loss: 0.7884 - val_accuracy: 0.5809 - val_loss: 0.8948\n",
      "Epoch 38/100\n",
      "\u001b[1m161/161\u001b[0m \u001b[32m━━━━━━━━━━━━━━━━━━━━\u001b[0m\u001b[37m\u001b[0m \u001b[1m0s\u001b[0m 547ms/step - accuracy: 0.6362 - loss: 0.7991\n",
      "Epoch 38: val_accuracy did not improve from 0.63052\n",
      "\u001b[1m161/161\u001b[0m \u001b[32m━━━━━━━━━━━━━━━━━━━━\u001b[0m\u001b[37m\u001b[0m \u001b[1m96s\u001b[0m 593ms/step - accuracy: 0.6362 - loss: 0.7989 - val_accuracy: 0.6274 - val_loss: 0.9029\n",
      "Epoch 39/100\n",
      "\u001b[1m161/161\u001b[0m \u001b[32m━━━━━━━━━━━━━━━━━━━━\u001b[0m\u001b[37m\u001b[0m \u001b[1m0s\u001b[0m 554ms/step - accuracy: 0.6582 - loss: 0.7674\n",
      "Epoch 39: val_accuracy did not improve from 0.63052\n",
      "\u001b[1m161/161\u001b[0m \u001b[32m━━━━━━━━━━━━━━━━━━━━\u001b[0m\u001b[37m\u001b[0m \u001b[1m97s\u001b[0m 601ms/step - accuracy: 0.6582 - loss: 0.7674 - val_accuracy: 0.6104 - val_loss: 0.8764\n",
      "Epoch 40/100\n",
      "\u001b[1m161/161\u001b[0m \u001b[32m━━━━━━━━━━━━━━━━━━━━\u001b[0m\u001b[37m\u001b[0m \u001b[1m0s\u001b[0m 550ms/step - accuracy: 0.6703 - loss: 0.7645\n",
      "Epoch 40: val_accuracy did not improve from 0.63052\n",
      "\u001b[1m161/161\u001b[0m \u001b[32m━━━━━━━━━━━━━━━━━━━━\u001b[0m\u001b[37m\u001b[0m \u001b[1m96s\u001b[0m 597ms/step - accuracy: 0.6702 - loss: 0.7646 - val_accuracy: 0.6290 - val_loss: 0.8437\n",
      "Epoch 41/100\n",
      "\u001b[1m161/161\u001b[0m \u001b[32m━━━━━━━━━━━━━━━━━━━━\u001b[0m\u001b[37m\u001b[0m \u001b[1m0s\u001b[0m 544ms/step - accuracy: 0.6667 - loss: 0.7681\n",
      "Epoch 41: val_accuracy did not improve from 0.63052\n",
      "\u001b[1m161/161\u001b[0m \u001b[32m━━━━━━━━━━━━━━━━━━━━\u001b[0m\u001b[37m\u001b[0m \u001b[1m95s\u001b[0m 589ms/step - accuracy: 0.6667 - loss: 0.7680 - val_accuracy: 0.6050 - val_loss: 0.8731\n",
      "Epoch 42/100\n",
      "\u001b[1m161/161\u001b[0m \u001b[32m━━━━━━━━━━━━━━━━━━━━\u001b[0m\u001b[37m\u001b[0m \u001b[1m0s\u001b[0m 550ms/step - accuracy: 0.6694 - loss: 0.7623\n",
      "Epoch 42: val_accuracy did not improve from 0.63052\n",
      "\u001b[1m161/161\u001b[0m \u001b[32m━━━━━━━━━━━━━━━━━━━━\u001b[0m\u001b[37m\u001b[0m \u001b[1m96s\u001b[0m 598ms/step - accuracy: 0.6694 - loss: 0.7623 - val_accuracy: 0.6274 - val_loss: 0.8564\n",
      "Epoch 43/100\n",
      "\u001b[1m161/161\u001b[0m \u001b[32m━━━━━━━━━━━━━━━━━━━━\u001b[0m\u001b[37m\u001b[0m \u001b[1m0s\u001b[0m 549ms/step - accuracy: 0.6811 - loss: 0.7329\n",
      "Epoch 43: val_accuracy did not improve from 0.63052\n",
      "\u001b[1m161/161\u001b[0m \u001b[32m━━━━━━━━━━━━━━━━━━━━\u001b[0m\u001b[37m\u001b[0m \u001b[1m96s\u001b[0m 596ms/step - accuracy: 0.6810 - loss: 0.7329 - val_accuracy: 0.6127 - val_loss: 0.8507\n",
      "Epoch 44/100\n",
      "\u001b[1m161/161\u001b[0m \u001b[32m━━━━━━━━━━━━━━━━━━━━\u001b[0m\u001b[37m\u001b[0m \u001b[1m0s\u001b[0m 551ms/step - accuracy: 0.6792 - loss: 0.7475\n",
      "Epoch 44: val_accuracy improved from 0.63052 to 0.64679, saving model to ./model_checkpoints/checkpoint-44-0.65.keras\n",
      "\u001b[1m161/161\u001b[0m \u001b[32m━━━━━━━━━━━━━━━━━━━━\u001b[0m\u001b[37m\u001b[0m \u001b[1m96s\u001b[0m 597ms/step - accuracy: 0.6792 - loss: 0.7474 - val_accuracy: 0.6468 - val_loss: 0.8662\n",
      "Epoch 45/100\n",
      "\u001b[1m161/161\u001b[0m \u001b[32m━━━━━━━━━━━━━━━━━━━━\u001b[0m\u001b[37m\u001b[0m \u001b[1m0s\u001b[0m 550ms/step - accuracy: 0.6896 - loss: 0.7310\n",
      "Epoch 45: val_accuracy did not improve from 0.64679\n",
      "\u001b[1m161/161\u001b[0m \u001b[32m━━━━━━━━━━━━━━━━━━━━\u001b[0m\u001b[37m\u001b[0m \u001b[1m96s\u001b[0m 597ms/step - accuracy: 0.6896 - loss: 0.7310 - val_accuracy: 0.6158 - val_loss: 0.9212\n",
      "Epoch 46/100\n",
      "\u001b[1m161/161\u001b[0m \u001b[32m━━━━━━━━━━━━━━━━━━━━\u001b[0m\u001b[37m\u001b[0m \u001b[1m0s\u001b[0m 550ms/step - accuracy: 0.6310 - loss: 0.8283\n",
      "Epoch 46: val_accuracy did not improve from 0.64679\n",
      "\u001b[1m161/161\u001b[0m \u001b[32m━━━━━━━━━━━━━━━━━━━━\u001b[0m\u001b[37m\u001b[0m \u001b[1m96s\u001b[0m 596ms/step - accuracy: 0.6310 - loss: 0.8283 - val_accuracy: 0.6235 - val_loss: 0.8961\n",
      "Epoch 47/100\n",
      "\u001b[1m161/161\u001b[0m \u001b[32m━━━━━━━━━━━━━━━━━━━━\u001b[0m\u001b[37m\u001b[0m \u001b[1m0s\u001b[0m 547ms/step - accuracy: 0.6783 - loss: 0.7351\n",
      "Epoch 47: val_accuracy did not improve from 0.64679\n",
      "\u001b[1m161/161\u001b[0m \u001b[32m━━━━━━━━━━━━━━━━━━━━\u001b[0m\u001b[37m\u001b[0m \u001b[1m96s\u001b[0m 594ms/step - accuracy: 0.6783 - loss: 0.7351 - val_accuracy: 0.6452 - val_loss: 0.8406\n",
      "Epoch 48/100\n",
      "\u001b[1m161/161\u001b[0m \u001b[32m━━━━━━━━━━━━━━━━━━━━\u001b[0m\u001b[37m\u001b[0m \u001b[1m0s\u001b[0m 550ms/step - accuracy: 0.6800 - loss: 0.7253\n",
      "Epoch 48: val_accuracy improved from 0.64679 to 0.64988, saving model to ./model_checkpoints/checkpoint-48-0.65.keras\n",
      "\u001b[1m161/161\u001b[0m \u001b[32m━━━━━━━━━━━━━━━━━━━━\u001b[0m\u001b[37m\u001b[0m \u001b[1m96s\u001b[0m 597ms/step - accuracy: 0.6800 - loss: 0.7253 - val_accuracy: 0.6499 - val_loss: 0.8459\n",
      "Epoch 49/100\n",
      "\u001b[1m161/161\u001b[0m \u001b[32m━━━━━━━━━━━━━━━━━━━━\u001b[0m\u001b[37m\u001b[0m \u001b[1m0s\u001b[0m 539ms/step - accuracy: 0.6868 - loss: 0.7178\n",
      "Epoch 49: val_accuracy did not improve from 0.64988\n",
      "\u001b[1m161/161\u001b[0m \u001b[32m━━━━━━━━━━━━━━━━━━━━\u001b[0m\u001b[37m\u001b[0m \u001b[1m94s\u001b[0m 584ms/step - accuracy: 0.6869 - loss: 0.7177 - val_accuracy: 0.6336 - val_loss: 0.8893\n",
      "Epoch 50/100\n",
      "\u001b[1m161/161\u001b[0m \u001b[32m━━━━━━━━━━━━━━━━━━━━\u001b[0m\u001b[37m\u001b[0m \u001b[1m0s\u001b[0m 552ms/step - accuracy: 0.6688 - loss: 0.7474\n",
      "Epoch 50: val_accuracy did not improve from 0.64988\n",
      "\u001b[1m161/161\u001b[0m \u001b[32m━━━━━━━━━━━━━━━━━━━━\u001b[0m\u001b[37m\u001b[0m \u001b[1m96s\u001b[0m 598ms/step - accuracy: 0.6689 - loss: 0.7472 - val_accuracy: 0.6189 - val_loss: 0.8884\n",
      "Epoch 51/100\n",
      "\u001b[1m161/161\u001b[0m \u001b[32m━━━━━━━━━━━━━━━━━━━━\u001b[0m\u001b[37m\u001b[0m \u001b[1m0s\u001b[0m 549ms/step - accuracy: 0.6839 - loss: 0.7094\n",
      "Epoch 51: val_accuracy improved from 0.64988 to 0.66692, saving model to ./model_checkpoints/checkpoint-51-0.67.keras\n",
      "\u001b[1m161/161\u001b[0m \u001b[32m━━━━━━━━━━━━━━━━━━━━\u001b[0m\u001b[37m\u001b[0m \u001b[1m96s\u001b[0m 596ms/step - accuracy: 0.6840 - loss: 0.7093 - val_accuracy: 0.6669 - val_loss: 0.8756\n",
      "Epoch 52/100\n",
      "\u001b[1m161/161\u001b[0m \u001b[32m━━━━━━━━━━━━━━━━━━━━\u001b[0m\u001b[37m\u001b[0m \u001b[1m0s\u001b[0m 548ms/step - accuracy: 0.7230 - loss: 0.6772\n",
      "Epoch 52: val_accuracy did not improve from 0.66692\n",
      "\u001b[1m161/161\u001b[0m \u001b[32m━━━━━━━━━━━━━━━━━━━━\u001b[0m\u001b[37m\u001b[0m \u001b[1m96s\u001b[0m 594ms/step - accuracy: 0.7230 - loss: 0.6772 - val_accuracy: 0.6638 - val_loss: 0.8703\n",
      "Epoch 53/100\n",
      "\u001b[1m161/161\u001b[0m \u001b[32m━━━━━━━━━━━━━━━━━━━━\u001b[0m\u001b[37m\u001b[0m \u001b[1m0s\u001b[0m 548ms/step - accuracy: 0.7002 - loss: 0.6935\n",
      "Epoch 53: val_accuracy did not improve from 0.66692\n",
      "\u001b[1m161/161\u001b[0m \u001b[32m━━━━━━━━━━━━━━━━━━━━\u001b[0m\u001b[37m\u001b[0m \u001b[1m96s\u001b[0m 593ms/step - accuracy: 0.7002 - loss: 0.6934 - val_accuracy: 0.6383 - val_loss: 0.8367\n",
      "Epoch 54/100\n",
      "\u001b[1m161/161\u001b[0m \u001b[32m━━━━━━━━━━━━━━━━━━━━\u001b[0m\u001b[37m\u001b[0m \u001b[1m0s\u001b[0m 544ms/step - accuracy: 0.7179 - loss: 0.6709\n",
      "Epoch 54: val_accuracy did not improve from 0.66692\n",
      "\u001b[1m161/161\u001b[0m \u001b[32m━━━━━━━━━━━━━━━━━━━━\u001b[0m\u001b[37m\u001b[0m \u001b[1m95s\u001b[0m 590ms/step - accuracy: 0.7178 - loss: 0.6710 - val_accuracy: 0.6235 - val_loss: 0.8779\n",
      "Epoch 55/100\n",
      "\u001b[1m161/161\u001b[0m \u001b[32m━━━━━━━━━━━━━━━━━━━━\u001b[0m\u001b[37m\u001b[0m \u001b[1m0s\u001b[0m 548ms/step - accuracy: 0.7086 - loss: 0.6950\n",
      "Epoch 55: val_accuracy did not improve from 0.66692\n",
      "\u001b[1m161/161\u001b[0m \u001b[32m━━━━━━━━━━━━━━━━━━━━\u001b[0m\u001b[37m\u001b[0m \u001b[1m96s\u001b[0m 593ms/step - accuracy: 0.7086 - loss: 0.6950 - val_accuracy: 0.6336 - val_loss: 0.8479\n",
      "Epoch 56/100\n",
      "\u001b[1m161/161\u001b[0m \u001b[32m━━━━━━━━━━━━━━━━━━━━\u001b[0m\u001b[37m\u001b[0m \u001b[1m0s\u001b[0m 546ms/step - accuracy: 0.7089 - loss: 0.6804\n",
      "Epoch 56: val_accuracy did not improve from 0.66692\n",
      "\u001b[1m161/161\u001b[0m \u001b[32m━━━━━━━━━━━━━━━━━━━━\u001b[0m\u001b[37m\u001b[0m \u001b[1m95s\u001b[0m 591ms/step - accuracy: 0.7089 - loss: 0.6803 - val_accuracy: 0.6352 - val_loss: 0.8582\n",
      "Epoch 57/100\n",
      "\u001b[1m161/161\u001b[0m \u001b[32m━━━━━━━━━━━━━━━━━━━━\u001b[0m\u001b[37m\u001b[0m \u001b[1m0s\u001b[0m 546ms/step - accuracy: 0.7198 - loss: 0.6644\n",
      "Epoch 57: val_accuracy did not improve from 0.66692\n",
      "\u001b[1m161/161\u001b[0m \u001b[32m━━━━━━━━━━━━━━━━━━━━\u001b[0m\u001b[37m\u001b[0m \u001b[1m95s\u001b[0m 590ms/step - accuracy: 0.7198 - loss: 0.6644 - val_accuracy: 0.5871 - val_loss: 0.9396\n",
      "Epoch 58/100\n",
      "\u001b[1m161/161\u001b[0m \u001b[32m━━━━━━━━━━━━━━━━━━━━\u001b[0m\u001b[37m\u001b[0m \u001b[1m0s\u001b[0m 547ms/step - accuracy: 0.7266 - loss: 0.6522\n",
      "Epoch 58: val_accuracy did not improve from 0.66692\n",
      "\u001b[1m161/161\u001b[0m \u001b[32m━━━━━━━━━━━━━━━━━━━━\u001b[0m\u001b[37m\u001b[0m \u001b[1m96s\u001b[0m 593ms/step - accuracy: 0.7266 - loss: 0.6522 - val_accuracy: 0.6499 - val_loss: 0.8449\n",
      "Epoch 59/100\n",
      "\u001b[1m161/161\u001b[0m \u001b[32m━━━━━━━━━━━━━━━━━━━━\u001b[0m\u001b[37m\u001b[0m \u001b[1m0s\u001b[0m 547ms/step - accuracy: 0.7262 - loss: 0.6345\n",
      "Epoch 59: val_accuracy did not improve from 0.66692\n",
      "\u001b[1m161/161\u001b[0m \u001b[32m━━━━━━━━━━━━━━━━━━━━\u001b[0m\u001b[37m\u001b[0m \u001b[1m95s\u001b[0m 592ms/step - accuracy: 0.7261 - loss: 0.6346 - val_accuracy: 0.6065 - val_loss: 0.8608\n",
      "Epoch 60/100\n",
      "\u001b[1m161/161\u001b[0m \u001b[32m━━━━━━━━━━━━━━━━━━━━\u001b[0m\u001b[37m\u001b[0m \u001b[1m0s\u001b[0m 548ms/step - accuracy: 0.7224 - loss: 0.6556\n",
      "Epoch 60: val_accuracy did not improve from 0.66692\n",
      "\u001b[1m161/161\u001b[0m \u001b[32m━━━━━━━━━━━━━━━━━━━━\u001b[0m\u001b[37m\u001b[0m \u001b[1m96s\u001b[0m 594ms/step - accuracy: 0.7225 - loss: 0.6554 - val_accuracy: 0.6460 - val_loss: 0.8646\n",
      "Epoch 61/100\n",
      "\u001b[1m160/161\u001b[0m \u001b[32m━━━━━━━━━━━━━━━━━━━\u001b[0m\u001b[37m━\u001b[0m \u001b[1m0s\u001b[0m 551ms/step - accuracy: 0.7316 - loss: 0.6286\n",
      "Epoch 61: val_accuracy did not improve from 0.66692\n",
      "\u001b[1m161/161\u001b[0m \u001b[32m━━━━━━━━━━━━━━━━━━━━\u001b[0m\u001b[37m\u001b[0m \u001b[1m96s\u001b[0m 594ms/step - accuracy: 0.7317 - loss: 0.6286 - val_accuracy: 0.6522 - val_loss: 0.8547\n",
      "Epoch 62/100\n",
      "\u001b[1m161/161\u001b[0m \u001b[32m━━━━━━━━━━━━━━━━━━━━\u001b[0m\u001b[37m\u001b[0m \u001b[1m0s\u001b[0m 548ms/step - accuracy: 0.7381 - loss: 0.6284\n",
      "Epoch 62: val_accuracy did not improve from 0.66692\n",
      "\u001b[1m161/161\u001b[0m \u001b[32m━━━━━━━━━━━━━━━━━━━━\u001b[0m\u001b[37m\u001b[0m \u001b[1m96s\u001b[0m 593ms/step - accuracy: 0.7381 - loss: 0.6284 - val_accuracy: 0.5608 - val_loss: 0.9917\n",
      "Epoch 63/100\n",
      "\u001b[1m161/161\u001b[0m \u001b[32m━━━━━━━━━━━━━━━━━━━━\u001b[0m\u001b[37m\u001b[0m \u001b[1m0s\u001b[0m 536ms/step - accuracy: 0.7418 - loss: 0.6263\n",
      "Epoch 63: val_accuracy did not improve from 0.66692\n",
      "\u001b[1m161/161\u001b[0m \u001b[32m━━━━━━━━━━━━━━━━━━━━\u001b[0m\u001b[37m\u001b[0m \u001b[1m94s\u001b[0m 582ms/step - accuracy: 0.7418 - loss: 0.6263 - val_accuracy: 0.6150 - val_loss: 0.8693\n",
      "Epoch 64/100\n",
      "\u001b[1m161/161\u001b[0m \u001b[32m━━━━━━━━━━━━━━━━━━━━\u001b[0m\u001b[37m\u001b[0m \u001b[1m0s\u001b[0m 551ms/step - accuracy: 0.7492 - loss: 0.6055\n",
      "Epoch 64: val_accuracy did not improve from 0.66692\n",
      "\u001b[1m161/161\u001b[0m \u001b[32m━━━━━━━━━━━━━━━━━━━━\u001b[0m\u001b[37m\u001b[0m \u001b[1m96s\u001b[0m 598ms/step - accuracy: 0.7491 - loss: 0.6055 - val_accuracy: 0.6538 - val_loss: 0.8836\n",
      "Epoch 65/100\n",
      "\u001b[1m161/161\u001b[0m \u001b[32m━━━━━━━━━━━━━━━━━━━━\u001b[0m\u001b[37m\u001b[0m \u001b[1m0s\u001b[0m 551ms/step - accuracy: 0.7478 - loss: 0.6008\n",
      "Epoch 65: val_accuracy did not improve from 0.66692\n",
      "\u001b[1m161/161\u001b[0m \u001b[32m━━━━━━━━━━━━━━━━━━━━\u001b[0m\u001b[37m\u001b[0m \u001b[1m96s\u001b[0m 597ms/step - accuracy: 0.7478 - loss: 0.6011 - val_accuracy: 0.6150 - val_loss: 0.8722\n",
      "Epoch 66/100\n",
      "\u001b[1m161/161\u001b[0m \u001b[32m━━━━━━━━━━━━━━━━━━━━\u001b[0m\u001b[37m\u001b[0m \u001b[1m0s\u001b[0m 550ms/step - accuracy: 0.7510 - loss: 0.6066\n",
      "Epoch 66: val_accuracy did not improve from 0.66692\n",
      "\u001b[1m161/161\u001b[0m \u001b[32m━━━━━━━━━━━━━━━━━━━━\u001b[0m\u001b[37m\u001b[0m \u001b[1m96s\u001b[0m 595ms/step - accuracy: 0.7511 - loss: 0.6065 - val_accuracy: 0.6584 - val_loss: 0.8484\n",
      "Epoch 67/100\n",
      "\u001b[1m161/161\u001b[0m \u001b[32m━━━━━━━━━━━━━━━━━━━━\u001b[0m\u001b[37m\u001b[0m \u001b[1m0s\u001b[0m 554ms/step - accuracy: 0.7585 - loss: 0.5875\n",
      "Epoch 67: val_accuracy did not improve from 0.66692\n",
      "\u001b[1m161/161\u001b[0m \u001b[32m━━━━━━━━━━━━━━━━━━━━\u001b[0m\u001b[37m\u001b[0m \u001b[1m97s\u001b[0m 599ms/step - accuracy: 0.7585 - loss: 0.5875 - val_accuracy: 0.6181 - val_loss: 0.8743\n",
      "Epoch 68/100\n",
      "\u001b[1m161/161\u001b[0m \u001b[32m━━━━━━━━━━━━━━━━━━━━\u001b[0m\u001b[37m\u001b[0m \u001b[1m0s\u001b[0m 551ms/step - accuracy: 0.7594 - loss: 0.5724\n",
      "Epoch 68: val_accuracy did not improve from 0.66692\n",
      "\u001b[1m161/161\u001b[0m \u001b[32m━━━━━━━━━━━━━━━━━━━━\u001b[0m\u001b[37m\u001b[0m \u001b[1m96s\u001b[0m 596ms/step - accuracy: 0.7594 - loss: 0.5725 - val_accuracy: 0.6297 - val_loss: 0.8517\n",
      "Epoch 69/100\n",
      "\u001b[1m161/161\u001b[0m \u001b[32m━━━━━━━━━━━━━━━━━━━━\u001b[0m\u001b[37m\u001b[0m \u001b[1m0s\u001b[0m 550ms/step - accuracy: 0.7668 - loss: 0.5642\n",
      "Epoch 69: val_accuracy did not improve from 0.66692\n",
      "\u001b[1m161/161\u001b[0m \u001b[32m━━━━━━━━━━━━━━━━━━━━\u001b[0m\u001b[37m\u001b[0m \u001b[1m96s\u001b[0m 595ms/step - accuracy: 0.7668 - loss: 0.5642 - val_accuracy: 0.6460 - val_loss: 0.8808\n",
      "Epoch 70/100\n",
      "\u001b[1m161/161\u001b[0m \u001b[32m━━━━━━━━━━━━━━━━━━━━\u001b[0m\u001b[37m\u001b[0m \u001b[1m0s\u001b[0m 547ms/step - accuracy: 0.7774 - loss: 0.5457\n",
      "Epoch 70: val_accuracy did not improve from 0.66692\n",
      "\u001b[1m161/161\u001b[0m \u001b[32m━━━━━━━━━━━━━━━━━━━━\u001b[0m\u001b[37m\u001b[0m \u001b[1m96s\u001b[0m 592ms/step - accuracy: 0.7773 - loss: 0.5458 - val_accuracy: 0.6305 - val_loss: 0.8366\n",
      "Epoch 71/100\n",
      "\u001b[1m161/161\u001b[0m \u001b[32m━━━━━━━━━━━━━━━━━━━━\u001b[0m\u001b[37m\u001b[0m \u001b[1m0s\u001b[0m 566ms/step - accuracy: 0.7866 - loss: 0.5421\n",
      "Epoch 71: val_accuracy did not improve from 0.66692\n",
      "\u001b[1m161/161\u001b[0m \u001b[32m━━━━━━━━━━━━━━━━━━━━\u001b[0m\u001b[37m\u001b[0m \u001b[1m99s\u001b[0m 612ms/step - accuracy: 0.7865 - loss: 0.5422 - val_accuracy: 0.6235 - val_loss: 0.8952\n",
      "Epoch 72/100\n",
      "\u001b[1m161/161\u001b[0m \u001b[32m━━━━━━━━━━━━━━━━━━━━\u001b[0m\u001b[37m\u001b[0m \u001b[1m0s\u001b[0m 568ms/step - accuracy: 0.7749 - loss: 0.5544\n",
      "Epoch 72: val_accuracy did not improve from 0.66692\n",
      "\u001b[1m161/161\u001b[0m \u001b[32m━━━━━━━━━━━━━━━━━━━━\u001b[0m\u001b[37m\u001b[0m \u001b[1m99s\u001b[0m 613ms/step - accuracy: 0.7749 - loss: 0.5544 - val_accuracy: 0.6491 - val_loss: 0.9320\n",
      "Epoch 73/100\n",
      "\u001b[1m161/161\u001b[0m \u001b[32m━━━━━━━━━━━━━━━━━━━━\u001b[0m\u001b[37m\u001b[0m \u001b[1m0s\u001b[0m 567ms/step - accuracy: 0.7727 - loss: 0.5569\n",
      "Epoch 73: val_accuracy did not improve from 0.66692\n",
      "\u001b[1m161/161\u001b[0m \u001b[32m━━━━━━━━━━━━━━━━━━━━\u001b[0m\u001b[37m\u001b[0m \u001b[1m99s\u001b[0m 612ms/step - accuracy: 0.7727 - loss: 0.5568 - val_accuracy: 0.6189 - val_loss: 0.8520\n",
      "Epoch 74/100\n",
      "\u001b[1m161/161\u001b[0m \u001b[32m━━━━━━━━━━━━━━━━━━━━\u001b[0m\u001b[37m\u001b[0m \u001b[1m0s\u001b[0m 567ms/step - accuracy: 0.7835 - loss: 0.5405\n",
      "Epoch 74: val_accuracy did not improve from 0.66692\n",
      "\u001b[1m161/161\u001b[0m \u001b[32m━━━━━━━━━━━━━━━━━━━━\u001b[0m\u001b[37m\u001b[0m \u001b[1m99s\u001b[0m 613ms/step - accuracy: 0.7835 - loss: 0.5404 - val_accuracy: 0.6414 - val_loss: 0.9093\n",
      "Epoch 75/100\n",
      "\u001b[1m161/161\u001b[0m \u001b[32m━━━━━━━━━━━━━━━━━━━━\u001b[0m\u001b[37m\u001b[0m \u001b[1m0s\u001b[0m 563ms/step - accuracy: 0.7331 - loss: 0.6173\n",
      "Epoch 75: val_accuracy did not improve from 0.66692\n",
      "\u001b[1m161/161\u001b[0m \u001b[32m━━━━━━━━━━━━━━━━━━━━\u001b[0m\u001b[37m\u001b[0m \u001b[1m98s\u001b[0m 608ms/step - accuracy: 0.7334 - loss: 0.6169 - val_accuracy: 0.6414 - val_loss: 1.0499\n",
      "Epoch 76/100\n",
      "\u001b[1m161/161\u001b[0m \u001b[32m━━━━━━━━━━━━━━━━━━━━\u001b[0m\u001b[37m\u001b[0m \u001b[1m0s\u001b[0m 565ms/step - accuracy: 0.7818 - loss: 0.5389\n",
      "Epoch 76: val_accuracy did not improve from 0.66692\n",
      "\u001b[1m161/161\u001b[0m \u001b[32m━━━━━━━━━━━━━━━━━━━━\u001b[0m\u001b[37m\u001b[0m \u001b[1m98s\u001b[0m 610ms/step - accuracy: 0.7818 - loss: 0.5389 - val_accuracy: 0.6468 - val_loss: 0.8704\n",
      "Epoch 77/100\n",
      "\u001b[1m161/161\u001b[0m \u001b[32m━━━━━━━━━━━━━━━━━━━━\u001b[0m\u001b[37m\u001b[0m \u001b[1m0s\u001b[0m 565ms/step - accuracy: 0.7849 - loss: 0.5046\n",
      "Epoch 77: val_accuracy did not improve from 0.66692\n",
      "\u001b[1m161/161\u001b[0m \u001b[32m━━━━━━━━━━━━━━━━━━━━\u001b[0m\u001b[37m\u001b[0m \u001b[1m98s\u001b[0m 610ms/step - accuracy: 0.7849 - loss: 0.5047 - val_accuracy: 0.6545 - val_loss: 0.9297\n",
      "Epoch 78/100\n",
      "\u001b[1m161/161\u001b[0m \u001b[32m━━━━━━━━━━━━━━━━━━━━\u001b[0m\u001b[37m\u001b[0m \u001b[1m0s\u001b[0m 570ms/step - accuracy: 0.8064 - loss: 0.4923\n",
      "Epoch 78: val_accuracy did not improve from 0.66692\n",
      "\u001b[1m161/161\u001b[0m \u001b[32m━━━━━━━━━━━━━━━━━━━━\u001b[0m\u001b[37m\u001b[0m \u001b[1m99s\u001b[0m 614ms/step - accuracy: 0.8063 - loss: 0.4923 - val_accuracy: 0.6352 - val_loss: 0.8575\n",
      "Epoch 79/100\n",
      "\u001b[1m161/161\u001b[0m \u001b[32m━━━━━━━━━━━━━━━━━━━━\u001b[0m\u001b[37m\u001b[0m \u001b[1m0s\u001b[0m 567ms/step - accuracy: 0.7540 - loss: 0.5730\n",
      "Epoch 79: val_accuracy did not improve from 0.66692\n",
      "\u001b[1m161/161\u001b[0m \u001b[32m━━━━━━━━━━━━━━━━━━━━\u001b[0m\u001b[37m\u001b[0m \u001b[1m99s\u001b[0m 612ms/step - accuracy: 0.7542 - loss: 0.5727 - val_accuracy: 0.6615 - val_loss: 0.8733\n",
      "Epoch 80/100\n",
      "\u001b[1m161/161\u001b[0m \u001b[32m━━━━━━━━━━━━━━━━━━━━\u001b[0m\u001b[37m\u001b[0m \u001b[1m0s\u001b[0m 568ms/step - accuracy: 0.7976 - loss: 0.4970\n",
      "Epoch 80: val_accuracy did not improve from 0.66692\n",
      "\u001b[1m161/161\u001b[0m \u001b[32m━━━━━━━━━━━━━━━━━━━━\u001b[0m\u001b[37m\u001b[0m \u001b[1m99s\u001b[0m 612ms/step - accuracy: 0.7976 - loss: 0.4970 - val_accuracy: 0.6576 - val_loss: 0.8782\n",
      "Epoch 81/100\n",
      "\u001b[1m161/161\u001b[0m \u001b[32m━━━━━━━━━━━━━━━━━━━━\u001b[0m\u001b[37m\u001b[0m \u001b[1m0s\u001b[0m 569ms/step - accuracy: 0.8004 - loss: 0.4830\n",
      "Epoch 81: val_accuracy did not improve from 0.66692\n",
      "\u001b[1m161/161\u001b[0m \u001b[32m━━━━━━━━━━━━━━━━━━━━\u001b[0m\u001b[37m\u001b[0m \u001b[1m99s\u001b[0m 615ms/step - accuracy: 0.8005 - loss: 0.4829 - val_accuracy: 0.6553 - val_loss: 0.8823\n",
      "Epoch 82/100\n",
      "\u001b[1m161/161\u001b[0m \u001b[32m━━━━━━━━━━━━━━━━━━━━\u001b[0m\u001b[37m\u001b[0m \u001b[1m0s\u001b[0m 569ms/step - accuracy: 0.8009 - loss: 0.4830\n",
      "Epoch 82: val_accuracy did not improve from 0.66692\n",
      "\u001b[1m161/161\u001b[0m \u001b[32m━━━━━━━━━━━━━━━━━━━━\u001b[0m\u001b[37m\u001b[0m \u001b[1m99s\u001b[0m 616ms/step - accuracy: 0.8010 - loss: 0.4829 - val_accuracy: 0.6297 - val_loss: 0.8878\n",
      "Epoch 83/100\n",
      "\u001b[1m161/161\u001b[0m \u001b[32m━━━━━━━━━━━━━━━━━━━━\u001b[0m\u001b[37m\u001b[0m \u001b[1m0s\u001b[0m 567ms/step - accuracy: 0.8105 - loss: 0.4708\n",
      "Epoch 83: val_accuracy improved from 0.66692 to 0.67622, saving model to ./model_checkpoints/checkpoint-83-0.68.keras\n",
      "\u001b[1m161/161\u001b[0m \u001b[32m━━━━━━━━━━━━━━━━━━━━\u001b[0m\u001b[37m\u001b[0m \u001b[1m99s\u001b[0m 614ms/step - accuracy: 0.8105 - loss: 0.4708 - val_accuracy: 0.6762 - val_loss: 0.9280\n",
      "Epoch 84/100\n",
      "\u001b[1m161/161\u001b[0m \u001b[32m━━━━━━━━━━━━━━━━━━━━\u001b[0m\u001b[37m\u001b[0m \u001b[1m0s\u001b[0m 561ms/step - accuracy: 0.8184 - loss: 0.4577\n",
      "Epoch 84: val_accuracy did not improve from 0.67622\n",
      "\u001b[1m161/161\u001b[0m \u001b[32m━━━━━━━━━━━━━━━━━━━━\u001b[0m\u001b[37m\u001b[0m \u001b[1m98s\u001b[0m 606ms/step - accuracy: 0.8183 - loss: 0.4577 - val_accuracy: 0.6367 - val_loss: 0.8814\n",
      "Epoch 85/100\n",
      "\u001b[1m161/161\u001b[0m \u001b[32m━━━━━━━━━━━━━━━━━━━━\u001b[0m\u001b[37m\u001b[0m \u001b[1m0s\u001b[0m 555ms/step - accuracy: 0.8133 - loss: 0.4548\n",
      "Epoch 85: val_accuracy did not improve from 0.67622\n",
      "\u001b[1m161/161\u001b[0m \u001b[32m━━━━━━━━━━━━━━━━━━━━\u001b[0m\u001b[37m\u001b[0m \u001b[1m97s\u001b[0m 601ms/step - accuracy: 0.8133 - loss: 0.4549 - val_accuracy: 0.6569 - val_loss: 0.8817\n",
      "Epoch 86/100\n",
      "\u001b[1m161/161\u001b[0m \u001b[32m━━━━━━━━━━━━━━━━━━━━\u001b[0m\u001b[37m\u001b[0m \u001b[1m0s\u001b[0m 556ms/step - accuracy: 0.8307 - loss: 0.4251\n",
      "Epoch 86: val_accuracy did not improve from 0.67622\n",
      "\u001b[1m161/161\u001b[0m \u001b[32m━━━━━━━━━━━━━━━━━━━━\u001b[0m\u001b[37m\u001b[0m \u001b[1m97s\u001b[0m 603ms/step - accuracy: 0.8307 - loss: 0.4252 - val_accuracy: 0.6708 - val_loss: 0.9177\n",
      "Epoch 87/100\n",
      "\u001b[1m161/161\u001b[0m \u001b[32m━━━━━━━━━━━━━━━━━━━━\u001b[0m\u001b[37m\u001b[0m \u001b[1m0s\u001b[0m 555ms/step - accuracy: 0.8271 - loss: 0.4291\n",
      "Epoch 87: val_accuracy did not improve from 0.67622\n",
      "\u001b[1m161/161\u001b[0m \u001b[32m━━━━━━━━━━━━━━━━━━━━\u001b[0m\u001b[37m\u001b[0m \u001b[1m97s\u001b[0m 601ms/step - accuracy: 0.8271 - loss: 0.4291 - val_accuracy: 0.6530 - val_loss: 0.8995\n",
      "Epoch 88/100\n",
      "\u001b[1m161/161\u001b[0m \u001b[32m━━━━━━━━━━━━━━━━━━━━\u001b[0m\u001b[37m\u001b[0m \u001b[1m0s\u001b[0m 552ms/step - accuracy: 0.8260 - loss: 0.4376\n",
      "Epoch 88: val_accuracy did not improve from 0.67622\n",
      "\u001b[1m161/161\u001b[0m \u001b[32m━━━━━━━━━━━━━━━━━━━━\u001b[0m\u001b[37m\u001b[0m \u001b[1m96s\u001b[0m 597ms/step - accuracy: 0.8260 - loss: 0.4376 - val_accuracy: 0.6514 - val_loss: 1.0251\n",
      "Epoch 89/100\n",
      "\u001b[1m161/161\u001b[0m \u001b[32m━━━━━━━━━━━━━━━━━━━━\u001b[0m\u001b[37m\u001b[0m \u001b[1m0s\u001b[0m 550ms/step - accuracy: 0.8349 - loss: 0.4147\n",
      "Epoch 89: val_accuracy did not improve from 0.67622\n",
      "\u001b[1m161/161\u001b[0m \u001b[32m━━━━━━━━━━━━━━━━━━━━\u001b[0m\u001b[37m\u001b[0m \u001b[1m96s\u001b[0m 594ms/step - accuracy: 0.8349 - loss: 0.4148 - val_accuracy: 0.6514 - val_loss: 0.8664\n",
      "Epoch 90/100\n",
      "\u001b[1m161/161\u001b[0m \u001b[32m━━━━━━━━━━━━━━━━━━━━\u001b[0m\u001b[37m\u001b[0m \u001b[1m0s\u001b[0m 552ms/step - accuracy: 0.8273 - loss: 0.4314\n",
      "Epoch 90: val_accuracy did not improve from 0.67622\n",
      "\u001b[1m161/161\u001b[0m \u001b[32m━━━━━━━━━━━━━━━━━━━━\u001b[0m\u001b[37m\u001b[0m \u001b[1m97s\u001b[0m 600ms/step - accuracy: 0.8273 - loss: 0.4313 - val_accuracy: 0.6708 - val_loss: 0.8893\n",
      "Epoch 91/100\n",
      "\u001b[1m161/161\u001b[0m \u001b[32m━━━━━━━━━━━━━━━━━━━━\u001b[0m\u001b[37m\u001b[0m \u001b[1m0s\u001b[0m 547ms/step - accuracy: 0.8315 - loss: 0.4385\n",
      "Epoch 91: val_accuracy did not improve from 0.67622\n",
      "\u001b[1m161/161\u001b[0m \u001b[32m━━━━━━━━━━━━━━━━━━━━\u001b[0m\u001b[37m\u001b[0m \u001b[1m96s\u001b[0m 593ms/step - accuracy: 0.8316 - loss: 0.4384 - val_accuracy: 0.6561 - val_loss: 0.9199\n",
      "Epoch 92/100\n",
      "\u001b[1m161/161\u001b[0m \u001b[32m━━━━━━━━━━━━━━━━━━━━\u001b[0m\u001b[37m\u001b[0m \u001b[1m0s\u001b[0m 548ms/step - accuracy: 0.8403 - loss: 0.4060\n",
      "Epoch 92: val_accuracy did not improve from 0.67622\n",
      "\u001b[1m161/161\u001b[0m \u001b[32m━━━━━━━━━━━━━━━━━━━━\u001b[0m\u001b[37m\u001b[0m \u001b[1m96s\u001b[0m 594ms/step - accuracy: 0.8404 - loss: 0.4059 - val_accuracy: 0.6685 - val_loss: 0.9333\n",
      "Epoch 93/100\n",
      "\u001b[1m161/161\u001b[0m \u001b[32m━━━━━━━━━━━━━━━━━━━━\u001b[0m\u001b[37m\u001b[0m \u001b[1m0s\u001b[0m 553ms/step - accuracy: 0.8378 - loss: 0.4144\n",
      "Epoch 93: val_accuracy did not improve from 0.67622\n",
      "\u001b[1m161/161\u001b[0m \u001b[32m━━━━━━━━━━━━━━━━━━━━\u001b[0m\u001b[37m\u001b[0m \u001b[1m97s\u001b[0m 599ms/step - accuracy: 0.8379 - loss: 0.4143 - val_accuracy: 0.6692 - val_loss: 0.9657\n",
      "Epoch 94/100\n",
      "\u001b[1m161/161\u001b[0m \u001b[32m━━━━━━━━━━━━━━━━━━━━\u001b[0m\u001b[37m\u001b[0m \u001b[1m0s\u001b[0m 549ms/step - accuracy: 0.8604 - loss: 0.3700\n",
      "Epoch 94: val_accuracy did not improve from 0.67622\n",
      "\u001b[1m161/161\u001b[0m \u001b[32m━━━━━━━━━━━━━━━━━━━━\u001b[0m\u001b[37m\u001b[0m \u001b[1m96s\u001b[0m 594ms/step - accuracy: 0.8604 - loss: 0.3700 - val_accuracy: 0.6739 - val_loss: 0.9880\n",
      "Epoch 95/100\n",
      "\u001b[1m161/161\u001b[0m \u001b[32m━━━━━━━━━━━━━━━━━━━━\u001b[0m\u001b[37m\u001b[0m \u001b[1m0s\u001b[0m 548ms/step - accuracy: 0.8487 - loss: 0.3812\n",
      "Epoch 95: val_accuracy did not improve from 0.67622\n",
      "\u001b[1m161/161\u001b[0m \u001b[32m━━━━━━━━━━━━━━━━━━━━\u001b[0m\u001b[37m\u001b[0m \u001b[1m96s\u001b[0m 593ms/step - accuracy: 0.8487 - loss: 0.3813 - val_accuracy: 0.6414 - val_loss: 1.0614\n",
      "Epoch 96/100\n",
      "\u001b[1m161/161\u001b[0m \u001b[32m━━━━━━━━━━━━━━━━━━━━\u001b[0m\u001b[37m\u001b[0m \u001b[1m0s\u001b[0m 549ms/step - accuracy: 0.8565 - loss: 0.3809\n",
      "Epoch 96: val_accuracy did not improve from 0.67622\n",
      "\u001b[1m161/161\u001b[0m \u001b[32m━━━━━━━━━━━━━━━━━━━━\u001b[0m\u001b[37m\u001b[0m \u001b[1m96s\u001b[0m 594ms/step - accuracy: 0.8565 - loss: 0.3808 - val_accuracy: 0.6739 - val_loss: 0.9921\n",
      "Epoch 97/100\n",
      "\u001b[1m161/161\u001b[0m \u001b[32m━━━━━━━━━━━━━━━━━━━━\u001b[0m\u001b[37m\u001b[0m \u001b[1m0s\u001b[0m 546ms/step - accuracy: 0.8559 - loss: 0.3753\n",
      "Epoch 97: val_accuracy did not improve from 0.67622\n",
      "\u001b[1m161/161\u001b[0m \u001b[32m━━━━━━━━━━━━━━━━━━━━\u001b[0m\u001b[37m\u001b[0m \u001b[1m95s\u001b[0m 590ms/step - accuracy: 0.8559 - loss: 0.3753 - val_accuracy: 0.6723 - val_loss: 1.0838\n",
      "Epoch 98/100\n",
      "\u001b[1m161/161\u001b[0m \u001b[32m━━━━━━━━━━━━━━━━━━━━\u001b[0m\u001b[37m\u001b[0m \u001b[1m0s\u001b[0m 541ms/step - accuracy: 0.8681 - loss: 0.3385\n",
      "Epoch 98: val_accuracy did not improve from 0.67622\n",
      "\u001b[1m161/161\u001b[0m \u001b[32m━━━━━━━━━━━━━━━━━━━━\u001b[0m\u001b[37m\u001b[0m \u001b[1m95s\u001b[0m 586ms/step - accuracy: 0.8681 - loss: 0.3385 - val_accuracy: 0.6297 - val_loss: 0.9098\n",
      "Epoch 99/100\n",
      "\u001b[1m161/161\u001b[0m \u001b[32m━━━━━━━━━━━━━━━━━━━━\u001b[0m\u001b[37m\u001b[0m \u001b[1m0s\u001b[0m 547ms/step - accuracy: 0.8663 - loss: 0.3518\n",
      "Epoch 99: val_accuracy did not improve from 0.67622\n",
      "\u001b[1m161/161\u001b[0m \u001b[32m━━━━━━━━━━━━━━━━━━━━\u001b[0m\u001b[37m\u001b[0m \u001b[1m96s\u001b[0m 593ms/step - accuracy: 0.8663 - loss: 0.3519 - val_accuracy: 0.6584 - val_loss: 0.9838\n",
      "Epoch 100/100\n",
      "\u001b[1m161/161\u001b[0m \u001b[32m━━━━━━━━━━━━━━━━━━━━\u001b[0m\u001b[37m\u001b[0m \u001b[1m0s\u001b[0m 545ms/step - accuracy: 0.8698 - loss: 0.3404\n",
      "Epoch 100: val_accuracy did not improve from 0.67622\n",
      "\u001b[1m161/161\u001b[0m \u001b[32m━━━━━━━━━━━━━━━━━━━━\u001b[0m\u001b[37m\u001b[0m \u001b[1m95s\u001b[0m 591ms/step - accuracy: 0.8698 - loss: 0.3404 - val_accuracy: 0.6700 - val_loss: 1.0075\n",
      "\u001b[1m41/41\u001b[0m \u001b[32m━━━━━━━━━━━━━━━━━━━━\u001b[0m\u001b[37m\u001b[0m \u001b[1m7s\u001b[0m 179ms/step - accuracy: 0.6800 - loss: 0.9785\n"
     ]
    },
    {
     "name": "stderr",
     "output_type": "stream",
     "text": [
      "WARNING:absl:You are saving your model as an HDF5 file via `model.save()` or `keras.saving.save_model(model)`. This file format is considered legacy. We recommend using instead the native Keras format, e.g. `model.save('my_model.keras')` or `keras.saving.save_model(model, 'my_model.keras')`. \n"
     ]
    },
    {
     "name": "stdout",
     "output_type": "stream",
     "text": [
      "Test accuracy: 0.6700232625007629\n",
      "Model saved successfully as 'alzheimer_model_customcnn_0.6700.h5'.\n"
     ]
    }
   ],
   "source": [
    "#New\n",
    "\n",
    "import os\n",
    "import tensorflow as tf\n",
    "from tensorflow.keras.preprocessing.image import ImageDataGenerator\n",
    "from tensorflow.keras.layers import Input, Conv2D, MaxPooling2D, Flatten, Dense, Dropout, GlobalAveragePooling2D\n",
    "from tensorflow.keras.models import Model\n",
    "from tensorflow.keras.optimizers import Adam\n",
    "from tensorflow.keras.callbacks import ModelCheckpoint  # Import ModelCheckpoint\n",
    "import matplotlib.pyplot as plt\n",
    "import wandb\n",
    "\n",
    "#os.environ['CUDA_VISIBLE_DEVICES'] = '-1'  # Disabling GPU as specified\n",
    "\n",
    "# Initialize wandb and config\n",
    "wandb.init(\n",
    "    project=\"computer_vision\",\n",
    "    config={\n",
    "        \"learning_rate\": 0.0005,\n",
    "        \"architecture\": \"CustomCNN\",\n",
    "        \"dataset\": \"alzheimer\",\n",
    "        \"epochs\": 100,\n",
    "        \"batch_size\": 32,\n",
    "        \"input_shape\": (176, 208, 3),\n",
    "        \"num_classes\": 4\n",
    "    }\n",
    ")\n",
    "\n",
    "config = wandb.config\n",
    "\n",
    "# Define data generators\n",
    "train_datagen = ImageDataGenerator(rescale=1./255)\n",
    "test_datagen = ImageDataGenerator(rescale=1./255)\n",
    "\n",
    "# Define data generators for training and testing\n",
    "train_generator = train_datagen.flow_from_directory(\n",
    "    'train',\n",
    "    target_size=config.input_shape[:2],\n",
    "    batch_size=config.batch_size,\n",
    "    class_mode='categorical')\n",
    "\n",
    "test_generator = test_datagen.flow_from_directory(\n",
    "    'test',\n",
    "    target_size=config.input_shape[:2],\n",
    "    batch_size=config.batch_size,\n",
    "    class_mode='categorical')\n",
    "\n",
    "# Create a custom CNN model\n",
    "def create_cnn_model(input_shape, num_classes):\n",
    "    inputs = Input(shape=input_shape)\n",
    "    x = Conv2D(32, (3, 3), activation='relu', padding='same')(inputs)\n",
    "    x = MaxPooling2D((2, 2))(x)\n",
    "    x = Conv2D(64, (3, 3), activation='relu', padding='same')(x)\n",
    "    x = MaxPooling2D((2, 2))(x)\n",
    "    x = Conv2D(128, (3, 3), activation='relu', padding='same')(x)\n",
    "    x = MaxPooling2D((2, 2))(x)\n",
    "    x = GlobalAveragePooling2D()(x)\n",
    "    x = Dense(256, activation='relu')(x)\n",
    "    x = Dropout(0.2)(x)\n",
    "    predictions = Dense(num_classes, activation='softmax')(x)\n",
    "\n",
    "    model = Model(inputs=inputs, outputs=predictions)\n",
    "    return model\n",
    "\n",
    "# Initialize CNN model\n",
    "model = create_cnn_model(config.input_shape, config.num_classes)\n",
    "\n",
    "# Compile the model\n",
    "model.compile(optimizer=Adam(config.learning_rate), loss='categorical_crossentropy', metrics=['accuracy'])\n",
    "\n",
    "# Print model summary\n",
    "model.summary()\n",
    "\n",
    "# Log model summary to Wandb\n",
    "wandb.log({'model_summary': model.summary()})\n",
    "\n",
    "# Setup checkpoint directory\n",
    "checkpoint_dir = './model_checkpoints'\n",
    "os.makedirs(checkpoint_dir, exist_ok=True)\n",
    "checkpoint_filepath = os.path.join(checkpoint_dir, 'checkpoint-{epoch:02d}-{val_accuracy:.2f}.keras')\n",
    "\n",
    "# Create a model checkpoint callback\n",
    "checkpoint_callback = ModelCheckpoint(\n",
    "    filepath=checkpoint_filepath,\n",
    "    save_weights_only=False,\n",
    "    monitor='val_accuracy',\n",
    "    mode='max',\n",
    "    save_best_only=True,\n",
    "    verbose=1)\n",
    "\n",
    "# Train the model\n",
    "history = model.fit(\n",
    "    train_generator,\n",
    "    epochs=config.epochs,\n",
    "    validation_data=test_generator,\n",
    "    callbacks=[ checkpoint_callback]  # Add checkpoint callback here\n",
    ")\n",
    "\n",
    "# Evaluate the model\n",
    "test_loss, test_acc = model.evaluate(test_generator)\n",
    "wandb.log({'test_loss': test_loss, 'test_accuracy': test_acc})\n",
    "print('Test accuracy:', test_acc)\n",
    "\n",
    "# Save the model\n",
    "model_filename = 'alzheimer_model_customcnn_{:.4f}.h5'.format(test_acc)\n",
    "model.save(os.path.join('model', model_filename))\n",
    "print(f\"Model saved successfully as '{model_filename}'.\")\n",
    "\n",
    "\n",
    "\n"
   ]
  },
  {
   "cell_type": "code",
   "execution_count": 1,
   "id": "a624f29d-59f4-4a26-a0b0-eb995a2006f0",
   "metadata": {},
   "outputs": [
    {
     "name": "stderr",
     "output_type": "stream",
     "text": [
      "2024-05-07 11:29:03.294126: I tensorflow/core/platform/cpu_feature_guard.cc:210] This TensorFlow binary is optimized to use available CPU instructions in performance-critical operations.\n",
      "To enable the following instructions: AVX2 AVX512F FMA, in other operations, rebuild TensorFlow with the appropriate compiler flags.\n",
      "\u001b[34m\u001b[1mwandb\u001b[0m: Currently logged in as: \u001b[33moskar-amarkussen\u001b[0m (\u001b[33mossyandlars\u001b[0m). Use \u001b[1m`wandb login --relogin`\u001b[0m to force relogin\n"
     ]
    },
    {
     "data": {
      "text/html": [
       "wandb version 0.16.6 is available!  To upgrade, please run:\n",
       " $ pip install wandb --upgrade"
      ],
      "text/plain": [
       "<IPython.core.display.HTML object>"
      ]
     },
     "metadata": {},
     "output_type": "display_data"
    },
    {
     "data": {
      "text/html": [
       "Tracking run with wandb version 0.16.0"
      ],
      "text/plain": [
       "<IPython.core.display.HTML object>"
      ]
     },
     "metadata": {},
     "output_type": "display_data"
    },
    {
     "data": {
      "text/html": [
       "Run data is saved locally in <code>/home/oskarem/CompVision/Project/wandb/run-20240507_112909-q89d3s9q</code>"
      ],
      "text/plain": [
       "<IPython.core.display.HTML object>"
      ]
     },
     "metadata": {},
     "output_type": "display_data"
    },
    {
     "data": {
      "text/html": [
       "Syncing run <strong><a href='https://wandb.ai/ossyandlars/computer_vision/runs/q89d3s9q' target=\"_blank\">resilient-puddle-224</a></strong> to <a href='https://wandb.ai/ossyandlars/computer_vision' target=\"_blank\">Weights & Biases</a> (<a href='https://wandb.me/run' target=\"_blank\">docs</a>)<br/>"
      ],
      "text/plain": [
       "<IPython.core.display.HTML object>"
      ]
     },
     "metadata": {},
     "output_type": "display_data"
    },
    {
     "data": {
      "text/html": [
       " View project at <a href='https://wandb.ai/ossyandlars/computer_vision' target=\"_blank\">https://wandb.ai/ossyandlars/computer_vision</a>"
      ],
      "text/plain": [
       "<IPython.core.display.HTML object>"
      ]
     },
     "metadata": {},
     "output_type": "display_data"
    },
    {
     "data": {
      "text/html": [
       " View run at <a href='https://wandb.ai/ossyandlars/computer_vision/runs/q89d3s9q' target=\"_blank\">https://wandb.ai/ossyandlars/computer_vision/runs/q89d3s9q</a>"
      ],
      "text/plain": [
       "<IPython.core.display.HTML object>"
      ]
     },
     "metadata": {},
     "output_type": "display_data"
    },
    {
     "name": "stdout",
     "output_type": "stream",
     "text": [
      "Found 5121 images belonging to 4 classes.\n",
      "Found 1291 images belonging to 4 classes.\n"
     ]
    },
    {
     "name": "stderr",
     "output_type": "stream",
     "text": [
      "2024-05-07 11:29:10.574008: I tensorflow/core/common_runtime/gpu/gpu_device.cc:1928] Created device /job:localhost/replica:0/task:0/device:GPU:0 with 31139 MB memory:  -> device: 0, name: Tesla V100-SXM3-32GB, pci bus id: 0000:59:00.0, compute capability: 7.0\n"
     ]
    },
    {
     "data": {
      "text/html": [
       "<pre style=\"white-space:pre;overflow-x:auto;line-height:normal;font-family:Menlo,'DejaVu Sans Mono',consolas,'Courier New',monospace\"><span style=\"font-weight: bold\">Model: \"functional_1\"</span>\n",
       "</pre>\n"
      ],
      "text/plain": [
       "\u001b[1mModel: \"functional_1\"\u001b[0m\n"
      ]
     },
     "metadata": {},
     "output_type": "display_data"
    },
    {
     "data": {
      "text/html": [
       "<pre style=\"white-space:pre;overflow-x:auto;line-height:normal;font-family:Menlo,'DejaVu Sans Mono',consolas,'Courier New',monospace\">┏━━━━━━━━━━━━━━━━━━━━━━━━━━━━━━━━━┳━━━━━━━━━━━━━━━━━━━━━━━━┳━━━━━━━━━━━━━━━┓\n",
       "┃<span style=\"font-weight: bold\"> Layer (type)                    </span>┃<span style=\"font-weight: bold\"> Output Shape           </span>┃<span style=\"font-weight: bold\">       Param # </span>┃\n",
       "┡━━━━━━━━━━━━━━━━━━━━━━━━━━━━━━━━━╇━━━━━━━━━━━━━━━━━━━━━━━━╇━━━━━━━━━━━━━━━┩\n",
       "│ input_layer (<span style=\"color: #0087ff; text-decoration-color: #0087ff\">InputLayer</span>)        │ (<span style=\"color: #00d7ff; text-decoration-color: #00d7ff\">None</span>, <span style=\"color: #00af00; text-decoration-color: #00af00\">176</span>, <span style=\"color: #00af00; text-decoration-color: #00af00\">208</span>, <span style=\"color: #00af00; text-decoration-color: #00af00\">3</span>)    │             <span style=\"color: #00af00; text-decoration-color: #00af00\">0</span> │\n",
       "├─────────────────────────────────┼────────────────────────┼───────────────┤\n",
       "│ conv2d (<span style=\"color: #0087ff; text-decoration-color: #0087ff\">Conv2D</span>)                 │ (<span style=\"color: #00d7ff; text-decoration-color: #00d7ff\">None</span>, <span style=\"color: #00af00; text-decoration-color: #00af00\">176</span>, <span style=\"color: #00af00; text-decoration-color: #00af00\">208</span>, <span style=\"color: #00af00; text-decoration-color: #00af00\">32</span>)   │           <span style=\"color: #00af00; text-decoration-color: #00af00\">896</span> │\n",
       "├─────────────────────────────────┼────────────────────────┼───────────────┤\n",
       "│ max_pooling2d (<span style=\"color: #0087ff; text-decoration-color: #0087ff\">MaxPooling2D</span>)    │ (<span style=\"color: #00d7ff; text-decoration-color: #00d7ff\">None</span>, <span style=\"color: #00af00; text-decoration-color: #00af00\">88</span>, <span style=\"color: #00af00; text-decoration-color: #00af00\">104</span>, <span style=\"color: #00af00; text-decoration-color: #00af00\">32</span>)    │             <span style=\"color: #00af00; text-decoration-color: #00af00\">0</span> │\n",
       "├─────────────────────────────────┼────────────────────────┼───────────────┤\n",
       "│ conv2d_1 (<span style=\"color: #0087ff; text-decoration-color: #0087ff\">Conv2D</span>)               │ (<span style=\"color: #00d7ff; text-decoration-color: #00d7ff\">None</span>, <span style=\"color: #00af00; text-decoration-color: #00af00\">88</span>, <span style=\"color: #00af00; text-decoration-color: #00af00\">104</span>, <span style=\"color: #00af00; text-decoration-color: #00af00\">64</span>)    │        <span style=\"color: #00af00; text-decoration-color: #00af00\">18,496</span> │\n",
       "├─────────────────────────────────┼────────────────────────┼───────────────┤\n",
       "│ max_pooling2d_1 (<span style=\"color: #0087ff; text-decoration-color: #0087ff\">MaxPooling2D</span>)  │ (<span style=\"color: #00d7ff; text-decoration-color: #00d7ff\">None</span>, <span style=\"color: #00af00; text-decoration-color: #00af00\">44</span>, <span style=\"color: #00af00; text-decoration-color: #00af00\">52</span>, <span style=\"color: #00af00; text-decoration-color: #00af00\">64</span>)     │             <span style=\"color: #00af00; text-decoration-color: #00af00\">0</span> │\n",
       "├─────────────────────────────────┼────────────────────────┼───────────────┤\n",
       "│ conv2d_2 (<span style=\"color: #0087ff; text-decoration-color: #0087ff\">Conv2D</span>)               │ (<span style=\"color: #00d7ff; text-decoration-color: #00d7ff\">None</span>, <span style=\"color: #00af00; text-decoration-color: #00af00\">44</span>, <span style=\"color: #00af00; text-decoration-color: #00af00\">52</span>, <span style=\"color: #00af00; text-decoration-color: #00af00\">128</span>)    │        <span style=\"color: #00af00; text-decoration-color: #00af00\">73,856</span> │\n",
       "├─────────────────────────────────┼────────────────────────┼───────────────┤\n",
       "│ max_pooling2d_2 (<span style=\"color: #0087ff; text-decoration-color: #0087ff\">MaxPooling2D</span>)  │ (<span style=\"color: #00d7ff; text-decoration-color: #00d7ff\">None</span>, <span style=\"color: #00af00; text-decoration-color: #00af00\">22</span>, <span style=\"color: #00af00; text-decoration-color: #00af00\">26</span>, <span style=\"color: #00af00; text-decoration-color: #00af00\">128</span>)    │             <span style=\"color: #00af00; text-decoration-color: #00af00\">0</span> │\n",
       "├─────────────────────────────────┼────────────────────────┼───────────────┤\n",
       "│ global_average_pooling2d        │ (<span style=\"color: #00d7ff; text-decoration-color: #00d7ff\">None</span>, <span style=\"color: #00af00; text-decoration-color: #00af00\">128</span>)            │             <span style=\"color: #00af00; text-decoration-color: #00af00\">0</span> │\n",
       "│ (<span style=\"color: #0087ff; text-decoration-color: #0087ff\">GlobalAveragePooling2D</span>)        │                        │               │\n",
       "├─────────────────────────────────┼────────────────────────┼───────────────┤\n",
       "│ dense (<span style=\"color: #0087ff; text-decoration-color: #0087ff\">Dense</span>)                   │ (<span style=\"color: #00d7ff; text-decoration-color: #00d7ff\">None</span>, <span style=\"color: #00af00; text-decoration-color: #00af00\">256</span>)            │        <span style=\"color: #00af00; text-decoration-color: #00af00\">33,024</span> │\n",
       "├─────────────────────────────────┼────────────────────────┼───────────────┤\n",
       "│ dropout (<span style=\"color: #0087ff; text-decoration-color: #0087ff\">Dropout</span>)               │ (<span style=\"color: #00d7ff; text-decoration-color: #00d7ff\">None</span>, <span style=\"color: #00af00; text-decoration-color: #00af00\">256</span>)            │             <span style=\"color: #00af00; text-decoration-color: #00af00\">0</span> │\n",
       "├─────────────────────────────────┼────────────────────────┼───────────────┤\n",
       "│ dense_1 (<span style=\"color: #0087ff; text-decoration-color: #0087ff\">Dense</span>)                 │ (<span style=\"color: #00d7ff; text-decoration-color: #00d7ff\">None</span>, <span style=\"color: #00af00; text-decoration-color: #00af00\">4</span>)              │         <span style=\"color: #00af00; text-decoration-color: #00af00\">1,028</span> │\n",
       "└─────────────────────────────────┴────────────────────────┴───────────────┘\n",
       "</pre>\n"
      ],
      "text/plain": [
       "┏━━━━━━━━━━━━━━━━━━━━━━━━━━━━━━━━━┳━━━━━━━━━━━━━━━━━━━━━━━━┳━━━━━━━━━━━━━━━┓\n",
       "┃\u001b[1m \u001b[0m\u001b[1mLayer (type)                   \u001b[0m\u001b[1m \u001b[0m┃\u001b[1m \u001b[0m\u001b[1mOutput Shape          \u001b[0m\u001b[1m \u001b[0m┃\u001b[1m \u001b[0m\u001b[1m      Param #\u001b[0m\u001b[1m \u001b[0m┃\n",
       "┡━━━━━━━━━━━━━━━━━━━━━━━━━━━━━━━━━╇━━━━━━━━━━━━━━━━━━━━━━━━╇━━━━━━━━━━━━━━━┩\n",
       "│ input_layer (\u001b[38;5;33mInputLayer\u001b[0m)        │ (\u001b[38;5;45mNone\u001b[0m, \u001b[38;5;34m176\u001b[0m, \u001b[38;5;34m208\u001b[0m, \u001b[38;5;34m3\u001b[0m)    │             \u001b[38;5;34m0\u001b[0m │\n",
       "├─────────────────────────────────┼────────────────────────┼───────────────┤\n",
       "│ conv2d (\u001b[38;5;33mConv2D\u001b[0m)                 │ (\u001b[38;5;45mNone\u001b[0m, \u001b[38;5;34m176\u001b[0m, \u001b[38;5;34m208\u001b[0m, \u001b[38;5;34m32\u001b[0m)   │           \u001b[38;5;34m896\u001b[0m │\n",
       "├─────────────────────────────────┼────────────────────────┼───────────────┤\n",
       "│ max_pooling2d (\u001b[38;5;33mMaxPooling2D\u001b[0m)    │ (\u001b[38;5;45mNone\u001b[0m, \u001b[38;5;34m88\u001b[0m, \u001b[38;5;34m104\u001b[0m, \u001b[38;5;34m32\u001b[0m)    │             \u001b[38;5;34m0\u001b[0m │\n",
       "├─────────────────────────────────┼────────────────────────┼───────────────┤\n",
       "│ conv2d_1 (\u001b[38;5;33mConv2D\u001b[0m)               │ (\u001b[38;5;45mNone\u001b[0m, \u001b[38;5;34m88\u001b[0m, \u001b[38;5;34m104\u001b[0m, \u001b[38;5;34m64\u001b[0m)    │        \u001b[38;5;34m18,496\u001b[0m │\n",
       "├─────────────────────────────────┼────────────────────────┼───────────────┤\n",
       "│ max_pooling2d_1 (\u001b[38;5;33mMaxPooling2D\u001b[0m)  │ (\u001b[38;5;45mNone\u001b[0m, \u001b[38;5;34m44\u001b[0m, \u001b[38;5;34m52\u001b[0m, \u001b[38;5;34m64\u001b[0m)     │             \u001b[38;5;34m0\u001b[0m │\n",
       "├─────────────────────────────────┼────────────────────────┼───────────────┤\n",
       "│ conv2d_2 (\u001b[38;5;33mConv2D\u001b[0m)               │ (\u001b[38;5;45mNone\u001b[0m, \u001b[38;5;34m44\u001b[0m, \u001b[38;5;34m52\u001b[0m, \u001b[38;5;34m128\u001b[0m)    │        \u001b[38;5;34m73,856\u001b[0m │\n",
       "├─────────────────────────────────┼────────────────────────┼───────────────┤\n",
       "│ max_pooling2d_2 (\u001b[38;5;33mMaxPooling2D\u001b[0m)  │ (\u001b[38;5;45mNone\u001b[0m, \u001b[38;5;34m22\u001b[0m, \u001b[38;5;34m26\u001b[0m, \u001b[38;5;34m128\u001b[0m)    │             \u001b[38;5;34m0\u001b[0m │\n",
       "├─────────────────────────────────┼────────────────────────┼───────────────┤\n",
       "│ global_average_pooling2d        │ (\u001b[38;5;45mNone\u001b[0m, \u001b[38;5;34m128\u001b[0m)            │             \u001b[38;5;34m0\u001b[0m │\n",
       "│ (\u001b[38;5;33mGlobalAveragePooling2D\u001b[0m)        │                        │               │\n",
       "├─────────────────────────────────┼────────────────────────┼───────────────┤\n",
       "│ dense (\u001b[38;5;33mDense\u001b[0m)                   │ (\u001b[38;5;45mNone\u001b[0m, \u001b[38;5;34m256\u001b[0m)            │        \u001b[38;5;34m33,024\u001b[0m │\n",
       "├─────────────────────────────────┼────────────────────────┼───────────────┤\n",
       "│ dropout (\u001b[38;5;33mDropout\u001b[0m)               │ (\u001b[38;5;45mNone\u001b[0m, \u001b[38;5;34m256\u001b[0m)            │             \u001b[38;5;34m0\u001b[0m │\n",
       "├─────────────────────────────────┼────────────────────────┼───────────────┤\n",
       "│ dense_1 (\u001b[38;5;33mDense\u001b[0m)                 │ (\u001b[38;5;45mNone\u001b[0m, \u001b[38;5;34m4\u001b[0m)              │         \u001b[38;5;34m1,028\u001b[0m │\n",
       "└─────────────────────────────────┴────────────────────────┴───────────────┘\n"
      ]
     },
     "metadata": {},
     "output_type": "display_data"
    },
    {
     "data": {
      "text/html": [
       "<pre style=\"white-space:pre;overflow-x:auto;line-height:normal;font-family:Menlo,'DejaVu Sans Mono',consolas,'Courier New',monospace\"><span style=\"font-weight: bold\"> Total params: </span><span style=\"color: #00af00; text-decoration-color: #00af00\">127,300</span> (497.27 KB)\n",
       "</pre>\n"
      ],
      "text/plain": [
       "\u001b[1m Total params: \u001b[0m\u001b[38;5;34m127,300\u001b[0m (497.27 KB)\n"
      ]
     },
     "metadata": {},
     "output_type": "display_data"
    },
    {
     "data": {
      "text/html": [
       "<pre style=\"white-space:pre;overflow-x:auto;line-height:normal;font-family:Menlo,'DejaVu Sans Mono',consolas,'Courier New',monospace\"><span style=\"font-weight: bold\"> Trainable params: </span><span style=\"color: #00af00; text-decoration-color: #00af00\">127,300</span> (497.27 KB)\n",
       "</pre>\n"
      ],
      "text/plain": [
       "\u001b[1m Trainable params: \u001b[0m\u001b[38;5;34m127,300\u001b[0m (497.27 KB)\n"
      ]
     },
     "metadata": {},
     "output_type": "display_data"
    },
    {
     "data": {
      "text/html": [
       "<pre style=\"white-space:pre;overflow-x:auto;line-height:normal;font-family:Menlo,'DejaVu Sans Mono',consolas,'Courier New',monospace\"><span style=\"font-weight: bold\"> Non-trainable params: </span><span style=\"color: #00af00; text-decoration-color: #00af00\">0</span> (0.00 B)\n",
       "</pre>\n"
      ],
      "text/plain": [
       "\u001b[1m Non-trainable params: \u001b[0m\u001b[38;5;34m0\u001b[0m (0.00 B)\n"
      ]
     },
     "metadata": {},
     "output_type": "display_data"
    },
    {
     "data": {
      "text/html": [
       "<pre style=\"white-space:pre;overflow-x:auto;line-height:normal;font-family:Menlo,'DejaVu Sans Mono',consolas,'Courier New',monospace\"><span style=\"font-weight: bold\">Model: \"functional_1\"</span>\n",
       "</pre>\n"
      ],
      "text/plain": [
       "\u001b[1mModel: \"functional_1\"\u001b[0m\n"
      ]
     },
     "metadata": {},
     "output_type": "display_data"
    },
    {
     "data": {
      "text/html": [
       "<pre style=\"white-space:pre;overflow-x:auto;line-height:normal;font-family:Menlo,'DejaVu Sans Mono',consolas,'Courier New',monospace\">┏━━━━━━━━━━━━━━━━━━━━━━━━━━━━━━━━━┳━━━━━━━━━━━━━━━━━━━━━━━━┳━━━━━━━━━━━━━━━┓\n",
       "┃<span style=\"font-weight: bold\"> Layer (type)                    </span>┃<span style=\"font-weight: bold\"> Output Shape           </span>┃<span style=\"font-weight: bold\">       Param # </span>┃\n",
       "┡━━━━━━━━━━━━━━━━━━━━━━━━━━━━━━━━━╇━━━━━━━━━━━━━━━━━━━━━━━━╇━━━━━━━━━━━━━━━┩\n",
       "│ input_layer (<span style=\"color: #0087ff; text-decoration-color: #0087ff\">InputLayer</span>)        │ (<span style=\"color: #00d7ff; text-decoration-color: #00d7ff\">None</span>, <span style=\"color: #00af00; text-decoration-color: #00af00\">176</span>, <span style=\"color: #00af00; text-decoration-color: #00af00\">208</span>, <span style=\"color: #00af00; text-decoration-color: #00af00\">3</span>)    │             <span style=\"color: #00af00; text-decoration-color: #00af00\">0</span> │\n",
       "├─────────────────────────────────┼────────────────────────┼───────────────┤\n",
       "│ conv2d (<span style=\"color: #0087ff; text-decoration-color: #0087ff\">Conv2D</span>)                 │ (<span style=\"color: #00d7ff; text-decoration-color: #00d7ff\">None</span>, <span style=\"color: #00af00; text-decoration-color: #00af00\">176</span>, <span style=\"color: #00af00; text-decoration-color: #00af00\">208</span>, <span style=\"color: #00af00; text-decoration-color: #00af00\">32</span>)   │           <span style=\"color: #00af00; text-decoration-color: #00af00\">896</span> │\n",
       "├─────────────────────────────────┼────────────────────────┼───────────────┤\n",
       "│ max_pooling2d (<span style=\"color: #0087ff; text-decoration-color: #0087ff\">MaxPooling2D</span>)    │ (<span style=\"color: #00d7ff; text-decoration-color: #00d7ff\">None</span>, <span style=\"color: #00af00; text-decoration-color: #00af00\">88</span>, <span style=\"color: #00af00; text-decoration-color: #00af00\">104</span>, <span style=\"color: #00af00; text-decoration-color: #00af00\">32</span>)    │             <span style=\"color: #00af00; text-decoration-color: #00af00\">0</span> │\n",
       "├─────────────────────────────────┼────────────────────────┼───────────────┤\n",
       "│ conv2d_1 (<span style=\"color: #0087ff; text-decoration-color: #0087ff\">Conv2D</span>)               │ (<span style=\"color: #00d7ff; text-decoration-color: #00d7ff\">None</span>, <span style=\"color: #00af00; text-decoration-color: #00af00\">88</span>, <span style=\"color: #00af00; text-decoration-color: #00af00\">104</span>, <span style=\"color: #00af00; text-decoration-color: #00af00\">64</span>)    │        <span style=\"color: #00af00; text-decoration-color: #00af00\">18,496</span> │\n",
       "├─────────────────────────────────┼────────────────────────┼───────────────┤\n",
       "│ max_pooling2d_1 (<span style=\"color: #0087ff; text-decoration-color: #0087ff\">MaxPooling2D</span>)  │ (<span style=\"color: #00d7ff; text-decoration-color: #00d7ff\">None</span>, <span style=\"color: #00af00; text-decoration-color: #00af00\">44</span>, <span style=\"color: #00af00; text-decoration-color: #00af00\">52</span>, <span style=\"color: #00af00; text-decoration-color: #00af00\">64</span>)     │             <span style=\"color: #00af00; text-decoration-color: #00af00\">0</span> │\n",
       "├─────────────────────────────────┼────────────────────────┼───────────────┤\n",
       "│ conv2d_2 (<span style=\"color: #0087ff; text-decoration-color: #0087ff\">Conv2D</span>)               │ (<span style=\"color: #00d7ff; text-decoration-color: #00d7ff\">None</span>, <span style=\"color: #00af00; text-decoration-color: #00af00\">44</span>, <span style=\"color: #00af00; text-decoration-color: #00af00\">52</span>, <span style=\"color: #00af00; text-decoration-color: #00af00\">128</span>)    │        <span style=\"color: #00af00; text-decoration-color: #00af00\">73,856</span> │\n",
       "├─────────────────────────────────┼────────────────────────┼───────────────┤\n",
       "│ max_pooling2d_2 (<span style=\"color: #0087ff; text-decoration-color: #0087ff\">MaxPooling2D</span>)  │ (<span style=\"color: #00d7ff; text-decoration-color: #00d7ff\">None</span>, <span style=\"color: #00af00; text-decoration-color: #00af00\">22</span>, <span style=\"color: #00af00; text-decoration-color: #00af00\">26</span>, <span style=\"color: #00af00; text-decoration-color: #00af00\">128</span>)    │             <span style=\"color: #00af00; text-decoration-color: #00af00\">0</span> │\n",
       "├─────────────────────────────────┼────────────────────────┼───────────────┤\n",
       "│ global_average_pooling2d        │ (<span style=\"color: #00d7ff; text-decoration-color: #00d7ff\">None</span>, <span style=\"color: #00af00; text-decoration-color: #00af00\">128</span>)            │             <span style=\"color: #00af00; text-decoration-color: #00af00\">0</span> │\n",
       "│ (<span style=\"color: #0087ff; text-decoration-color: #0087ff\">GlobalAveragePooling2D</span>)        │                        │               │\n",
       "├─────────────────────────────────┼────────────────────────┼───────────────┤\n",
       "│ dense (<span style=\"color: #0087ff; text-decoration-color: #0087ff\">Dense</span>)                   │ (<span style=\"color: #00d7ff; text-decoration-color: #00d7ff\">None</span>, <span style=\"color: #00af00; text-decoration-color: #00af00\">256</span>)            │        <span style=\"color: #00af00; text-decoration-color: #00af00\">33,024</span> │\n",
       "├─────────────────────────────────┼────────────────────────┼───────────────┤\n",
       "│ dropout (<span style=\"color: #0087ff; text-decoration-color: #0087ff\">Dropout</span>)               │ (<span style=\"color: #00d7ff; text-decoration-color: #00d7ff\">None</span>, <span style=\"color: #00af00; text-decoration-color: #00af00\">256</span>)            │             <span style=\"color: #00af00; text-decoration-color: #00af00\">0</span> │\n",
       "├─────────────────────────────────┼────────────────────────┼───────────────┤\n",
       "│ dense_1 (<span style=\"color: #0087ff; text-decoration-color: #0087ff\">Dense</span>)                 │ (<span style=\"color: #00d7ff; text-decoration-color: #00d7ff\">None</span>, <span style=\"color: #00af00; text-decoration-color: #00af00\">4</span>)              │         <span style=\"color: #00af00; text-decoration-color: #00af00\">1,028</span> │\n",
       "└─────────────────────────────────┴────────────────────────┴───────────────┘\n",
       "</pre>\n"
      ],
      "text/plain": [
       "┏━━━━━━━━━━━━━━━━━━━━━━━━━━━━━━━━━┳━━━━━━━━━━━━━━━━━━━━━━━━┳━━━━━━━━━━━━━━━┓\n",
       "┃\u001b[1m \u001b[0m\u001b[1mLayer (type)                   \u001b[0m\u001b[1m \u001b[0m┃\u001b[1m \u001b[0m\u001b[1mOutput Shape          \u001b[0m\u001b[1m \u001b[0m┃\u001b[1m \u001b[0m\u001b[1m      Param #\u001b[0m\u001b[1m \u001b[0m┃\n",
       "┡━━━━━━━━━━━━━━━━━━━━━━━━━━━━━━━━━╇━━━━━━━━━━━━━━━━━━━━━━━━╇━━━━━━━━━━━━━━━┩\n",
       "│ input_layer (\u001b[38;5;33mInputLayer\u001b[0m)        │ (\u001b[38;5;45mNone\u001b[0m, \u001b[38;5;34m176\u001b[0m, \u001b[38;5;34m208\u001b[0m, \u001b[38;5;34m3\u001b[0m)    │             \u001b[38;5;34m0\u001b[0m │\n",
       "├─────────────────────────────────┼────────────────────────┼───────────────┤\n",
       "│ conv2d (\u001b[38;5;33mConv2D\u001b[0m)                 │ (\u001b[38;5;45mNone\u001b[0m, \u001b[38;5;34m176\u001b[0m, \u001b[38;5;34m208\u001b[0m, \u001b[38;5;34m32\u001b[0m)   │           \u001b[38;5;34m896\u001b[0m │\n",
       "├─────────────────────────────────┼────────────────────────┼───────────────┤\n",
       "│ max_pooling2d (\u001b[38;5;33mMaxPooling2D\u001b[0m)    │ (\u001b[38;5;45mNone\u001b[0m, \u001b[38;5;34m88\u001b[0m, \u001b[38;5;34m104\u001b[0m, \u001b[38;5;34m32\u001b[0m)    │             \u001b[38;5;34m0\u001b[0m │\n",
       "├─────────────────────────────────┼────────────────────────┼───────────────┤\n",
       "│ conv2d_1 (\u001b[38;5;33mConv2D\u001b[0m)               │ (\u001b[38;5;45mNone\u001b[0m, \u001b[38;5;34m88\u001b[0m, \u001b[38;5;34m104\u001b[0m, \u001b[38;5;34m64\u001b[0m)    │        \u001b[38;5;34m18,496\u001b[0m │\n",
       "├─────────────────────────────────┼────────────────────────┼───────────────┤\n",
       "│ max_pooling2d_1 (\u001b[38;5;33mMaxPooling2D\u001b[0m)  │ (\u001b[38;5;45mNone\u001b[0m, \u001b[38;5;34m44\u001b[0m, \u001b[38;5;34m52\u001b[0m, \u001b[38;5;34m64\u001b[0m)     │             \u001b[38;5;34m0\u001b[0m │\n",
       "├─────────────────────────────────┼────────────────────────┼───────────────┤\n",
       "│ conv2d_2 (\u001b[38;5;33mConv2D\u001b[0m)               │ (\u001b[38;5;45mNone\u001b[0m, \u001b[38;5;34m44\u001b[0m, \u001b[38;5;34m52\u001b[0m, \u001b[38;5;34m128\u001b[0m)    │        \u001b[38;5;34m73,856\u001b[0m │\n",
       "├─────────────────────────────────┼────────────────────────┼───────────────┤\n",
       "│ max_pooling2d_2 (\u001b[38;5;33mMaxPooling2D\u001b[0m)  │ (\u001b[38;5;45mNone\u001b[0m, \u001b[38;5;34m22\u001b[0m, \u001b[38;5;34m26\u001b[0m, \u001b[38;5;34m128\u001b[0m)    │             \u001b[38;5;34m0\u001b[0m │\n",
       "├─────────────────────────────────┼────────────────────────┼───────────────┤\n",
       "│ global_average_pooling2d        │ (\u001b[38;5;45mNone\u001b[0m, \u001b[38;5;34m128\u001b[0m)            │             \u001b[38;5;34m0\u001b[0m │\n",
       "│ (\u001b[38;5;33mGlobalAveragePooling2D\u001b[0m)        │                        │               │\n",
       "├─────────────────────────────────┼────────────────────────┼───────────────┤\n",
       "│ dense (\u001b[38;5;33mDense\u001b[0m)                   │ (\u001b[38;5;45mNone\u001b[0m, \u001b[38;5;34m256\u001b[0m)            │        \u001b[38;5;34m33,024\u001b[0m │\n",
       "├─────────────────────────────────┼────────────────────────┼───────────────┤\n",
       "│ dropout (\u001b[38;5;33mDropout\u001b[0m)               │ (\u001b[38;5;45mNone\u001b[0m, \u001b[38;5;34m256\u001b[0m)            │             \u001b[38;5;34m0\u001b[0m │\n",
       "├─────────────────────────────────┼────────────────────────┼───────────────┤\n",
       "│ dense_1 (\u001b[38;5;33mDense\u001b[0m)                 │ (\u001b[38;5;45mNone\u001b[0m, \u001b[38;5;34m4\u001b[0m)              │         \u001b[38;5;34m1,028\u001b[0m │\n",
       "└─────────────────────────────────┴────────────────────────┴───────────────┘\n"
      ]
     },
     "metadata": {},
     "output_type": "display_data"
    },
    {
     "data": {
      "text/html": [
       "<pre style=\"white-space:pre;overflow-x:auto;line-height:normal;font-family:Menlo,'DejaVu Sans Mono',consolas,'Courier New',monospace\"><span style=\"font-weight: bold\"> Total params: </span><span style=\"color: #00af00; text-decoration-color: #00af00\">127,300</span> (497.27 KB)\n",
       "</pre>\n"
      ],
      "text/plain": [
       "\u001b[1m Total params: \u001b[0m\u001b[38;5;34m127,300\u001b[0m (497.27 KB)\n"
      ]
     },
     "metadata": {},
     "output_type": "display_data"
    },
    {
     "data": {
      "text/html": [
       "<pre style=\"white-space:pre;overflow-x:auto;line-height:normal;font-family:Menlo,'DejaVu Sans Mono',consolas,'Courier New',monospace\"><span style=\"font-weight: bold\"> Trainable params: </span><span style=\"color: #00af00; text-decoration-color: #00af00\">127,300</span> (497.27 KB)\n",
       "</pre>\n"
      ],
      "text/plain": [
       "\u001b[1m Trainable params: \u001b[0m\u001b[38;5;34m127,300\u001b[0m (497.27 KB)\n"
      ]
     },
     "metadata": {},
     "output_type": "display_data"
    },
    {
     "data": {
      "text/html": [
       "<pre style=\"white-space:pre;overflow-x:auto;line-height:normal;font-family:Menlo,'DejaVu Sans Mono',consolas,'Courier New',monospace\"><span style=\"font-weight: bold\"> Non-trainable params: </span><span style=\"color: #00af00; text-decoration-color: #00af00\">0</span> (0.00 B)\n",
       "</pre>\n"
      ],
      "text/plain": [
       "\u001b[1m Non-trainable params: \u001b[0m\u001b[38;5;34m0\u001b[0m (0.00 B)\n"
      ]
     },
     "metadata": {},
     "output_type": "display_data"
    },
    {
     "name": "stdout",
     "output_type": "stream",
     "text": [
      "Epoch 1/100\n"
     ]
    },
    {
     "name": "stderr",
     "output_type": "stream",
     "text": [
      "/home/oskarem/.local/lib/python3.10/site-packages/keras/src/trainers/data_adapters/py_dataset_adapter.py:121: UserWarning: Your `PyDataset` class should call `super().__init__(**kwargs)` in its constructor. `**kwargs` can include `workers`, `use_multiprocessing`, `max_queue_size`. Do not pass these arguments to `fit()`, as they will be ignored.\n",
      "  self._warn_if_super_not_called()\n",
      "WARNING: All log messages before absl::InitializeLog() is called are written to STDERR\n",
      "I0000 00:00:1715081353.399731     788 service.cc:145] XLA service 0x7f9a84005350 initialized for platform CUDA (this does not guarantee that XLA will be used). Devices:\n",
      "I0000 00:00:1715081353.399780     788 service.cc:153]   StreamExecutor device (0): Tesla V100-SXM3-32GB, Compute Capability 7.0\n",
      "2024-05-07 11:29:13.493335: I tensorflow/compiler/mlir/tensorflow/utils/dump_mlir_util.cc:268] disabling MLIR crash reproducer, set env var `MLIR_CRASH_REPRODUCER_DIRECTORY` to enable.\n",
      "2024-05-07 11:29:13.763776: I external/local_xla/xla/stream_executor/cuda/cuda_dnn.cc:465] Loaded cuDNN version 8907\n"
     ]
    },
    {
     "name": "stdout",
     "output_type": "stream",
     "text": [
      "\u001b[1m  3/161\u001b[0m \u001b[37m━━━━━━━━━━━━━━━━━━━━\u001b[0m \u001b[1m5s\u001b[0m 33ms/step - accuracy: 0.3524 - loss: 1.1027 "
     ]
    },
    {
     "name": "stderr",
     "output_type": "stream",
     "text": [
      "I0000 00:00:1715081356.561441     788 device_compiler.h:188] Compiled cluster using XLA!  This line is logged at most once for the lifetime of the process.\n"
     ]
    },
    {
     "name": "stdout",
     "output_type": "stream",
     "text": [
      "\u001b[1m161/161\u001b[0m \u001b[32m━━━━━━━━━━━━━━━━━━━━\u001b[0m\u001b[37m\u001b[0m \u001b[1m0s\u001b[0m 51ms/step - accuracy: 0.3643 - loss: 1.3587\n",
      "Epoch 1: val_accuracy improved from -inf to 0.15957, saving model to ./model_checkpoints/checkpoint-01-0.16.keras\n",
      "\u001b[1m161/161\u001b[0m \u001b[32m━━━━━━━━━━━━━━━━━━━━\u001b[0m\u001b[37m\u001b[0m \u001b[1m16s\u001b[0m 67ms/step - accuracy: 0.3642 - loss: 1.3589 - val_accuracy: 0.1596 - val_loss: 1.3872\n",
      "Epoch 2/100\n",
      "\u001b[1m161/161\u001b[0m \u001b[32m━━━━━━━━━━━━━━━━━━━━\u001b[0m\u001b[37m\u001b[0m \u001b[1m0s\u001b[0m 25ms/step - accuracy: 0.1460 - loss: 1.3861\n",
      "Epoch 2: val_accuracy did not improve from 0.15957\n",
      "\u001b[1m161/161\u001b[0m \u001b[32m━━━━━━━━━━━━━━━━━━━━\u001b[0m\u001b[37m\u001b[0m \u001b[1m5s\u001b[0m 31ms/step - accuracy: 0.1460 - loss: 1.3861 - val_accuracy: 0.1433 - val_loss: 1.3872\n",
      "Epoch 3/100\n",
      "\u001b[1m157/161\u001b[0m \u001b[32m━━━━━━━━━━━━━━━━━━━\u001b[0m\u001b[37m━\u001b[0m \u001b[1m0s\u001b[0m 23ms/step - accuracy: 0.1386 - loss: 1.4177\n",
      "Epoch 3: val_accuracy did not improve from 0.15957\n",
      "\u001b[1m161/161\u001b[0m \u001b[32m━━━━━━━━━━━━━━━━━━━━\u001b[0m\u001b[37m\u001b[0m \u001b[1m5s\u001b[0m 29ms/step - accuracy: 0.1388 - loss: 1.4167 - val_accuracy: 0.1433 - val_loss: 1.3874\n",
      "Epoch 4/100\n",
      "\u001b[1m158/161\u001b[0m \u001b[32m━━━━━━━━━━━━━━━━━━━\u001b[0m\u001b[37m━\u001b[0m \u001b[1m0s\u001b[0m 24ms/step - accuracy: 0.2248 - loss: 1.3495\n",
      "Epoch 4: val_accuracy improved from 0.15957 to 0.49574, saving model to ./model_checkpoints/checkpoint-04-0.50.keras\n",
      "\u001b[1m161/161\u001b[0m \u001b[32m━━━━━━━━━━━━━━━━━━━━\u001b[0m\u001b[37m\u001b[0m \u001b[1m5s\u001b[0m 31ms/step - accuracy: 0.2264 - loss: 1.3504 - val_accuracy: 0.4957 - val_loss: 1.3815\n",
      "Epoch 5/100\n",
      "\u001b[1m161/161\u001b[0m \u001b[32m━━━━━━━━━━━━━━━━━━━━\u001b[0m\u001b[37m\u001b[0m \u001b[1m0s\u001b[0m 24ms/step - accuracy: 0.4582 - loss: 1.2966\n",
      "Epoch 5: val_accuracy did not improve from 0.49574\n",
      "\u001b[1m161/161\u001b[0m \u001b[32m━━━━━━━━━━━━━━━━━━━━\u001b[0m\u001b[37m\u001b[0m \u001b[1m5s\u001b[0m 30ms/step - accuracy: 0.4578 - loss: 1.2971 - val_accuracy: 0.0132 - val_loss: 1.3906\n",
      "Epoch 6/100\n",
      "\u001b[1m157/161\u001b[0m \u001b[32m━━━━━━━━━━━━━━━━━━━\u001b[0m\u001b[37m━\u001b[0m \u001b[1m0s\u001b[0m 25ms/step - accuracy: 0.1749 - loss: 1.3860\n",
      "Epoch 6: val_accuracy did not improve from 0.49574\n",
      "\u001b[1m161/161\u001b[0m \u001b[32m━━━━━━━━━━━━━━━━━━━━\u001b[0m\u001b[37m\u001b[0m \u001b[1m5s\u001b[0m 31ms/step - accuracy: 0.1764 - loss: 1.3859 - val_accuracy: 0.4741 - val_loss: 1.3654\n",
      "Epoch 7/100\n",
      "\u001b[1m159/161\u001b[0m \u001b[32m━━━━━━━━━━━━━━━━━━━\u001b[0m\u001b[37m━\u001b[0m \u001b[1m0s\u001b[0m 24ms/step - accuracy: 0.3339 - loss: 1.3202\n",
      "Epoch 7: val_accuracy did not improve from 0.49574\n",
      "\u001b[1m161/161\u001b[0m \u001b[32m━━━━━━━━━━━━━━━━━━━━\u001b[0m\u001b[37m\u001b[0m \u001b[1m5s\u001b[0m 29ms/step - accuracy: 0.3339 - loss: 1.3213 - val_accuracy: 0.3462 - val_loss: 1.3910\n",
      "Epoch 8/100\n",
      "\u001b[1m157/161\u001b[0m \u001b[32m━━━━━━━━━━━━━━━━━━━\u001b[0m\u001b[37m━\u001b[0m \u001b[1m0s\u001b[0m 25ms/step - accuracy: 0.3898 - loss: 1.3212\n",
      "Epoch 8: val_accuracy did not improve from 0.49574\n",
      "\u001b[1m161/161\u001b[0m \u001b[32m━━━━━━━━━━━━━━━━━━━━\u001b[0m\u001b[37m\u001b[0m \u001b[1m5s\u001b[0m 30ms/step - accuracy: 0.3891 - loss: 1.3229 - val_accuracy: 0.3881 - val_loss: 1.3876\n",
      "Epoch 9/100\n",
      "\u001b[1m159/161\u001b[0m \u001b[32m━━━━━━━━━━━━━━━━━━━\u001b[0m\u001b[37m━\u001b[0m \u001b[1m0s\u001b[0m 25ms/step - accuracy: 0.4348 - loss: 1.3692\n",
      "Epoch 9: val_accuracy improved from 0.49574 to 0.50271, saving model to ./model_checkpoints/checkpoint-09-0.50.keras\n",
      "\u001b[1m161/161\u001b[0m \u001b[32m━━━━━━━━━━━━━━━━━━━━\u001b[0m\u001b[37m\u001b[0m \u001b[1m5s\u001b[0m 32ms/step - accuracy: 0.4347 - loss: 1.3689 - val_accuracy: 0.5027 - val_loss: 1.2538\n",
      "Epoch 10/100\n",
      "\u001b[1m159/161\u001b[0m \u001b[32m━━━━━━━━━━━━━━━━━━━\u001b[0m\u001b[37m━\u001b[0m \u001b[1m0s\u001b[0m 23ms/step - accuracy: 0.3824 - loss: 1.4199\n",
      "Epoch 10: val_accuracy did not improve from 0.50271\n",
      "\u001b[1m161/161\u001b[0m \u001b[32m━━━━━━━━━━━━━━━━━━━━\u001b[0m\u001b[37m\u001b[0m \u001b[1m5s\u001b[0m 29ms/step - accuracy: 0.3826 - loss: 1.4184 - val_accuracy: 0.4771 - val_loss: 1.2783\n",
      "Epoch 11/100\n",
      "\u001b[1m159/161\u001b[0m \u001b[32m━━━━━━━━━━━━━━━━━━━\u001b[0m\u001b[37m━\u001b[0m \u001b[1m0s\u001b[0m 24ms/step - accuracy: 0.4624 - loss: 1.2428\n",
      "Epoch 11: val_accuracy did not improve from 0.50271\n",
      "\u001b[1m161/161\u001b[0m \u001b[32m━━━━━━━━━━━━━━━━━━━━\u001b[0m\u001b[37m\u001b[0m \u001b[1m5s\u001b[0m 31ms/step - accuracy: 0.4616 - loss: 1.2441 - val_accuracy: 0.1410 - val_loss: 1.4693\n",
      "Epoch 12/100\n",
      "\u001b[1m158/161\u001b[0m \u001b[32m━━━━━━━━━━━━━━━━━━━\u001b[0m\u001b[37m━\u001b[0m \u001b[1m0s\u001b[0m 26ms/step - accuracy: 0.3547 - loss: 1.2964\n",
      "Epoch 12: val_accuracy did not improve from 0.50271\n",
      "\u001b[1m161/161\u001b[0m \u001b[32m━━━━━━━━━━━━━━━━━━━━\u001b[0m\u001b[37m\u001b[0m \u001b[1m5s\u001b[0m 31ms/step - accuracy: 0.3557 - loss: 1.2965 - val_accuracy: 0.3672 - val_loss: 1.3253\n",
      "Epoch 13/100\n",
      "\u001b[1m157/161\u001b[0m \u001b[32m━━━━━━━━━━━━━━━━━━━\u001b[0m\u001b[37m━\u001b[0m \u001b[1m0s\u001b[0m 24ms/step - accuracy: 0.4274 - loss: 1.2238\n",
      "Epoch 13: val_accuracy did not improve from 0.50271\n",
      "\u001b[1m161/161\u001b[0m \u001b[32m━━━━━━━━━━━━━━━━━━━━\u001b[0m\u001b[37m\u001b[0m \u001b[1m5s\u001b[0m 29ms/step - accuracy: 0.4281 - loss: 1.2235 - val_accuracy: 0.4655 - val_loss: 1.1788\n",
      "Epoch 14/100\n",
      "\u001b[1m160/161\u001b[0m \u001b[32m━━━━━━━━━━━━━━━━━━━\u001b[0m\u001b[37m━\u001b[0m \u001b[1m0s\u001b[0m 24ms/step - accuracy: 0.4292 - loss: 1.1864\n",
      "Epoch 14: val_accuracy did not improve from 0.50271\n",
      "\u001b[1m161/161\u001b[0m \u001b[32m━━━━━━━━━━━━━━━━━━━━\u001b[0m\u001b[37m\u001b[0m \u001b[1m5s\u001b[0m 29ms/step - accuracy: 0.4294 - loss: 1.1864 - val_accuracy: 0.3966 - val_loss: 1.3038\n",
      "Epoch 15/100\n",
      "\u001b[1m161/161\u001b[0m \u001b[32m━━━━━━━━━━━━━━━━━━━━\u001b[0m\u001b[37m\u001b[0m \u001b[1m0s\u001b[0m 23ms/step - accuracy: 0.4393 - loss: 1.1571\n",
      "Epoch 15: val_accuracy improved from 0.50271 to 0.52672, saving model to ./model_checkpoints/checkpoint-15-0.53.keras\n",
      "\u001b[1m161/161\u001b[0m \u001b[32m━━━━━━━━━━━━━━━━━━━━\u001b[0m\u001b[37m\u001b[0m \u001b[1m5s\u001b[0m 30ms/step - accuracy: 0.4394 - loss: 1.1570 - val_accuracy: 0.5267 - val_loss: 1.0327\n",
      "Epoch 16/100\n",
      "\u001b[1m159/161\u001b[0m \u001b[32m━━━━━━━━━━━━━━━━━━━\u001b[0m\u001b[37m━\u001b[0m \u001b[1m0s\u001b[0m 24ms/step - accuracy: 0.4730 - loss: 1.1189\n",
      "Epoch 16: val_accuracy did not improve from 0.52672\n",
      "\u001b[1m161/161\u001b[0m \u001b[32m━━━━━━━━━━━━━━━━━━━━\u001b[0m\u001b[37m\u001b[0m \u001b[1m5s\u001b[0m 30ms/step - accuracy: 0.4729 - loss: 1.1189 - val_accuracy: 0.2262 - val_loss: 1.8374\n",
      "Epoch 17/100\n",
      "\u001b[1m159/161\u001b[0m \u001b[32m━━━━━━━━━━━━━━━━━━━\u001b[0m\u001b[37m━\u001b[0m \u001b[1m0s\u001b[0m 24ms/step - accuracy: 0.4301 - loss: 1.1799\n",
      "Epoch 17: val_accuracy did not improve from 0.52672\n",
      "\u001b[1m161/161\u001b[0m \u001b[32m━━━━━━━━━━━━━━━━━━━━\u001b[0m\u001b[37m\u001b[0m \u001b[1m5s\u001b[0m 31ms/step - accuracy: 0.4305 - loss: 1.1791 - val_accuracy: 0.5244 - val_loss: 1.0524\n",
      "Epoch 18/100\n",
      "\u001b[1m157/161\u001b[0m \u001b[32m━━━━━━━━━━━━━━━━━━━\u001b[0m\u001b[37m━\u001b[0m \u001b[1m0s\u001b[0m 24ms/step - accuracy: 0.5115 - loss: 1.0763\n",
      "Epoch 18: val_accuracy did not improve from 0.52672\n",
      "\u001b[1m161/161\u001b[0m \u001b[32m━━━━━━━━━━━━━━━━━━━━\u001b[0m\u001b[37m\u001b[0m \u001b[1m5s\u001b[0m 30ms/step - accuracy: 0.5109 - loss: 1.0758 - val_accuracy: 0.5143 - val_loss: 1.0493\n",
      "Epoch 19/100\n",
      "\u001b[1m159/161\u001b[0m \u001b[32m━━━━━━━━━━━━━━━━━━━\u001b[0m\u001b[37m━\u001b[0m \u001b[1m0s\u001b[0m 22ms/step - accuracy: 0.5014 - loss: 1.0109\n",
      "Epoch 19: val_accuracy did not improve from 0.52672\n",
      "\u001b[1m161/161\u001b[0m \u001b[32m━━━━━━━━━━━━━━━━━━━━\u001b[0m\u001b[37m\u001b[0m \u001b[1m5s\u001b[0m 28ms/step - accuracy: 0.5015 - loss: 1.0108 - val_accuracy: 0.4934 - val_loss: 1.1088\n",
      "Epoch 20/100\n",
      "\u001b[1m161/161\u001b[0m \u001b[32m━━━━━━━━━━━━━━━━━━━━\u001b[0m\u001b[37m\u001b[0m \u001b[1m0s\u001b[0m 25ms/step - accuracy: 0.5135 - loss: 0.9606\n",
      "Epoch 20: val_accuracy did not improve from 0.52672\n",
      "\u001b[1m161/161\u001b[0m \u001b[32m━━━━━━━━━━━━━━━━━━━━\u001b[0m\u001b[37m\u001b[0m \u001b[1m5s\u001b[0m 32ms/step - accuracy: 0.5135 - loss: 0.9606 - val_accuracy: 0.2169 - val_loss: 1.9313\n",
      "Epoch 21/100\n",
      "\u001b[1m157/161\u001b[0m \u001b[32m━━━━━━━━━━━━━━━━━━━\u001b[0m\u001b[37m━\u001b[0m \u001b[1m0s\u001b[0m 23ms/step - accuracy: 0.4569 - loss: 1.1182\n",
      "Epoch 21: val_accuracy improved from 0.52672 to 0.55074, saving model to ./model_checkpoints/checkpoint-21-0.55.keras\n",
      "\u001b[1m161/161\u001b[0m \u001b[32m━━━━━━━━━━━━━━━━━━━━\u001b[0m\u001b[37m\u001b[0m \u001b[1m5s\u001b[0m 29ms/step - accuracy: 0.4581 - loss: 1.1155 - val_accuracy: 0.5507 - val_loss: 0.9718\n",
      "Epoch 22/100\n",
      "\u001b[1m161/161\u001b[0m \u001b[32m━━━━━━━━━━━━━━━━━━━━\u001b[0m\u001b[37m\u001b[0m \u001b[1m0s\u001b[0m 24ms/step - accuracy: 0.5220 - loss: 0.9935\n",
      "Epoch 22: val_accuracy did not improve from 0.55074\n",
      "\u001b[1m161/161\u001b[0m \u001b[32m━━━━━━━━━━━━━━━━━━━━\u001b[0m\u001b[37m\u001b[0m \u001b[1m5s\u001b[0m 32ms/step - accuracy: 0.5220 - loss: 0.9931 - val_accuracy: 0.3943 - val_loss: 1.3129\n",
      "Epoch 23/100\n",
      "\u001b[1m161/161\u001b[0m \u001b[32m━━━━━━━━━━━━━━━━━━━━\u001b[0m\u001b[37m\u001b[0m \u001b[1m0s\u001b[0m 23ms/step - accuracy: 0.4797 - loss: 0.9862\n",
      "Epoch 23: val_accuracy did not improve from 0.55074\n",
      "\u001b[1m161/161\u001b[0m \u001b[32m━━━━━━━━━━━━━━━━━━━━\u001b[0m\u001b[37m\u001b[0m \u001b[1m5s\u001b[0m 30ms/step - accuracy: 0.4799 - loss: 0.9857 - val_accuracy: 0.5074 - val_loss: 1.0388\n",
      "Epoch 24/100\n",
      "\u001b[1m158/161\u001b[0m \u001b[32m━━━━━━━━━━━━━━━━━━━\u001b[0m\u001b[37m━\u001b[0m \u001b[1m0s\u001b[0m 25ms/step - accuracy: 0.5427 - loss: 0.8463\n",
      "Epoch 24: val_accuracy did not improve from 0.55074\n",
      "\u001b[1m161/161\u001b[0m \u001b[32m━━━━━━━━━━━━━━━━━━━━\u001b[0m\u001b[37m\u001b[0m \u001b[1m5s\u001b[0m 31ms/step - accuracy: 0.5427 - loss: 0.8467 - val_accuracy: 0.4849 - val_loss: 1.1075\n",
      "Epoch 25/100\n",
      "\u001b[1m159/161\u001b[0m \u001b[32m━━━━━━━━━━━━━━━━━━━\u001b[0m\u001b[37m━\u001b[0m \u001b[1m0s\u001b[0m 24ms/step - accuracy: 0.5410 - loss: 0.8935\n",
      "Epoch 25: val_accuracy did not improve from 0.55074\n",
      "\u001b[1m161/161\u001b[0m \u001b[32m━━━━━━━━━━━━━━━━━━━━\u001b[0m\u001b[37m\u001b[0m \u001b[1m5s\u001b[0m 30ms/step - accuracy: 0.5408 - loss: 0.8937 - val_accuracy: 0.5236 - val_loss: 0.9738\n",
      "Epoch 26/100\n",
      "\u001b[1m158/161\u001b[0m \u001b[32m━━━━━━━━━━━━━━━━━━━\u001b[0m\u001b[37m━\u001b[0m \u001b[1m0s\u001b[0m 24ms/step - accuracy: 0.5300 - loss: 0.8841\n",
      "Epoch 26: val_accuracy did not improve from 0.55074\n",
      "\u001b[1m161/161\u001b[0m \u001b[32m━━━━━━━━━━━━━━━━━━━━\u001b[0m\u001b[37m\u001b[0m \u001b[1m5s\u001b[0m 31ms/step - accuracy: 0.5303 - loss: 0.8839 - val_accuracy: 0.5074 - val_loss: 1.0276\n",
      "Epoch 27/100\n",
      "\u001b[1m159/161\u001b[0m \u001b[32m━━━━━━━━━━━━━━━━━━━\u001b[0m\u001b[37m━\u001b[0m \u001b[1m0s\u001b[0m 22ms/step - accuracy: 0.5607 - loss: 0.7732\n",
      "Epoch 27: val_accuracy did not improve from 0.55074\n",
      "\u001b[1m161/161\u001b[0m \u001b[32m━━━━━━━━━━━━━━━━━━━━\u001b[0m\u001b[37m\u001b[0m \u001b[1m5s\u001b[0m 29ms/step - accuracy: 0.5607 - loss: 0.7737 - val_accuracy: 0.4981 - val_loss: 1.0987\n",
      "Epoch 28/100\n",
      "\u001b[1m157/161\u001b[0m \u001b[32m━━━━━━━━━━━━━━━━━━━\u001b[0m\u001b[37m━\u001b[0m \u001b[1m0s\u001b[0m 24ms/step - accuracy: 0.5515 - loss: 0.7929\n",
      "Epoch 28: val_accuracy did not improve from 0.55074\n",
      "\u001b[1m161/161\u001b[0m \u001b[32m━━━━━━━━━━━━━━━━━━━━\u001b[0m\u001b[37m\u001b[0m \u001b[1m5s\u001b[0m 30ms/step - accuracy: 0.5516 - loss: 0.7932 - val_accuracy: 0.5352 - val_loss: 0.9566\n",
      "Epoch 29/100\n",
      "\u001b[1m158/161\u001b[0m \u001b[32m━━━━━━━━━━━━━━━━━━━\u001b[0m\u001b[37m━\u001b[0m \u001b[1m0s\u001b[0m 23ms/step - accuracy: 0.5615 - loss: 0.7387\n",
      "Epoch 29: val_accuracy did not improve from 0.55074\n",
      "\u001b[1m161/161\u001b[0m \u001b[32m━━━━━━━━━━━━━━━━━━━━\u001b[0m\u001b[37m\u001b[0m \u001b[1m5s\u001b[0m 30ms/step - accuracy: 0.5614 - loss: 0.7393 - val_accuracy: 0.4198 - val_loss: 1.2674\n",
      "Epoch 30/100\n",
      "\u001b[1m160/161\u001b[0m \u001b[32m━━━━━━━━━━━━━━━━━━━\u001b[0m\u001b[37m━\u001b[0m \u001b[1m0s\u001b[0m 24ms/step - accuracy: 0.5657 - loss: 0.7511\n",
      "Epoch 30: val_accuracy did not improve from 0.55074\n",
      "\u001b[1m161/161\u001b[0m \u001b[32m━━━━━━━━━━━━━━━━━━━━\u001b[0m\u001b[37m\u001b[0m \u001b[1m5s\u001b[0m 29ms/step - accuracy: 0.5657 - loss: 0.7514 - val_accuracy: 0.4632 - val_loss: 1.1290\n",
      "Epoch 31/100\n",
      "\u001b[1m160/161\u001b[0m \u001b[32m━━━━━━━━━━━━━━━━━━━\u001b[0m\u001b[37m━\u001b[0m \u001b[1m0s\u001b[0m 23ms/step - accuracy: 0.5683 - loss: 0.7725\n",
      "Epoch 31: val_accuracy did not improve from 0.55074\n",
      "\u001b[1m161/161\u001b[0m \u001b[32m━━━━━━━━━━━━━━━━━━━━\u001b[0m\u001b[37m\u001b[0m \u001b[1m5s\u001b[0m 29ms/step - accuracy: 0.5683 - loss: 0.7724 - val_accuracy: 0.4864 - val_loss: 1.1732\n",
      "Epoch 32/100\n",
      "\u001b[1m159/161\u001b[0m \u001b[32m━━━━━━━━━━━━━━━━━━━\u001b[0m\u001b[37m━\u001b[0m \u001b[1m0s\u001b[0m 22ms/step - accuracy: 0.5614 - loss: 0.7551\n",
      "Epoch 32: val_accuracy did not improve from 0.55074\n",
      "\u001b[1m161/161\u001b[0m \u001b[32m━━━━━━━━━━━━━━━━━━━━\u001b[0m\u001b[37m\u001b[0m \u001b[1m5s\u001b[0m 28ms/step - accuracy: 0.5615 - loss: 0.7544 - val_accuracy: 0.5345 - val_loss: 0.9658\n",
      "Epoch 33/100\n",
      "\u001b[1m159/161\u001b[0m \u001b[32m━━━━━━━━━━━━━━━━━━━\u001b[0m\u001b[37m━\u001b[0m \u001b[1m0s\u001b[0m 22ms/step - accuracy: 0.5916 - loss: 0.6916\n",
      "Epoch 33: val_accuracy improved from 0.55074 to 0.55151, saving model to ./model_checkpoints/checkpoint-33-0.55.keras\n",
      "\u001b[1m161/161\u001b[0m \u001b[32m━━━━━━━━━━━━━━━━━━━━\u001b[0m\u001b[37m\u001b[0m \u001b[1m5s\u001b[0m 29ms/step - accuracy: 0.5914 - loss: 0.6922 - val_accuracy: 0.5515 - val_loss: 0.9409\n",
      "Epoch 34/100\n",
      "\u001b[1m157/161\u001b[0m \u001b[32m━━━━━━━━━━━━━━━━━━━\u001b[0m\u001b[37m━\u001b[0m \u001b[1m0s\u001b[0m 23ms/step - accuracy: 0.5855 - loss: 0.6931\n",
      "Epoch 34: val_accuracy improved from 0.55151 to 0.55848, saving model to ./model_checkpoints/checkpoint-34-0.56.keras\n",
      "\u001b[1m161/161\u001b[0m \u001b[32m━━━━━━━━━━━━━━━━━━━━\u001b[0m\u001b[37m\u001b[0m \u001b[1m5s\u001b[0m 29ms/step - accuracy: 0.5853 - loss: 0.6934 - val_accuracy: 0.5585 - val_loss: 0.9303\n",
      "Epoch 35/100\n",
      "\u001b[1m159/161\u001b[0m \u001b[32m━━━━━━━━━━━━━━━━━━━\u001b[0m\u001b[37m━\u001b[0m \u001b[1m0s\u001b[0m 22ms/step - accuracy: 0.5949 - loss: 0.6576\n",
      "Epoch 35: val_accuracy improved from 0.55848 to 0.56003, saving model to ./model_checkpoints/checkpoint-35-0.56.keras\n",
      "\u001b[1m161/161\u001b[0m \u001b[32m━━━━━━━━━━━━━━━━━━━━\u001b[0m\u001b[37m\u001b[0m \u001b[1m5s\u001b[0m 28ms/step - accuracy: 0.5948 - loss: 0.6580 - val_accuracy: 0.5600 - val_loss: 0.9393\n",
      "Epoch 36/100\n",
      "\u001b[1m159/161\u001b[0m \u001b[32m━━━━━━━━━━━━━━━━━━━\u001b[0m\u001b[37m━\u001b[0m \u001b[1m0s\u001b[0m 23ms/step - accuracy: 0.5881 - loss: 0.7021\n",
      "Epoch 36: val_accuracy did not improve from 0.56003\n",
      "\u001b[1m161/161\u001b[0m \u001b[32m━━━━━━━━━━━━━━━━━━━━\u001b[0m\u001b[37m\u001b[0m \u001b[1m5s\u001b[0m 29ms/step - accuracy: 0.5881 - loss: 0.7018 - val_accuracy: 0.5461 - val_loss: 0.9611\n",
      "Epoch 37/100\n",
      "\u001b[1m159/161\u001b[0m \u001b[32m━━━━━━━━━━━━━━━━━━━\u001b[0m\u001b[37m━\u001b[0m \u001b[1m0s\u001b[0m 24ms/step - accuracy: 0.5953 - loss: 0.6560\n",
      "Epoch 37: val_accuracy did not improve from 0.56003\n",
      "\u001b[1m161/161\u001b[0m \u001b[32m━━━━━━━━━━━━━━━━━━━━\u001b[0m\u001b[37m\u001b[0m \u001b[1m5s\u001b[0m 30ms/step - accuracy: 0.5952 - loss: 0.6560 - val_accuracy: 0.5112 - val_loss: 1.0161\n",
      "Epoch 38/100\n",
      "\u001b[1m161/161\u001b[0m \u001b[32m━━━━━━━━━━━━━━━━━━━━\u001b[0m\u001b[37m\u001b[0m \u001b[1m0s\u001b[0m 23ms/step - accuracy: 0.6068 - loss: 0.6472\n",
      "Epoch 38: val_accuracy improved from 0.56003 to 0.57862, saving model to ./model_checkpoints/checkpoint-38-0.58.keras\n",
      "\u001b[1m161/161\u001b[0m \u001b[32m━━━━━━━━━━━━━━━━━━━━\u001b[0m\u001b[37m\u001b[0m \u001b[1m5s\u001b[0m 29ms/step - accuracy: 0.6067 - loss: 0.6472 - val_accuracy: 0.5786 - val_loss: 0.9223\n",
      "Epoch 39/100\n",
      "\u001b[1m157/161\u001b[0m \u001b[32m━━━━━━━━━━━━━━━━━━━\u001b[0m\u001b[37m━\u001b[0m \u001b[1m0s\u001b[0m 24ms/step - accuracy: 0.6010 - loss: 0.6548\n",
      "Epoch 39: val_accuracy did not improve from 0.57862\n",
      "\u001b[1m161/161\u001b[0m \u001b[32m━━━━━━━━━━━━━━━━━━━━\u001b[0m\u001b[37m\u001b[0m \u001b[1m5s\u001b[0m 30ms/step - accuracy: 0.6009 - loss: 0.6546 - val_accuracy: 0.5259 - val_loss: 1.0129\n",
      "Epoch 40/100\n",
      "\u001b[1m161/161\u001b[0m \u001b[32m━━━━━━━━━━━━━━━━━━━━\u001b[0m\u001b[37m\u001b[0m \u001b[1m0s\u001b[0m 23ms/step - accuracy: 0.5847 - loss: 0.6502\n",
      "Epoch 40: val_accuracy improved from 0.57862 to 0.59489, saving model to ./model_checkpoints/checkpoint-40-0.59.keras\n",
      "\u001b[1m161/161\u001b[0m \u001b[32m━━━━━━━━━━━━━━━━━━━━\u001b[0m\u001b[37m\u001b[0m \u001b[1m5s\u001b[0m 30ms/step - accuracy: 0.5847 - loss: 0.6504 - val_accuracy: 0.5949 - val_loss: 0.8883\n",
      "Epoch 41/100\n",
      "\u001b[1m157/161\u001b[0m \u001b[32m━━━━━━━━━━━━━━━━━━━\u001b[0m\u001b[37m━\u001b[0m \u001b[1m0s\u001b[0m 23ms/step - accuracy: 0.5961 - loss: 0.6789\n",
      "Epoch 41: val_accuracy did not improve from 0.59489\n",
      "\u001b[1m161/161\u001b[0m \u001b[32m━━━━━━━━━━━━━━━━━━━━\u001b[0m\u001b[37m\u001b[0m \u001b[1m5s\u001b[0m 29ms/step - accuracy: 0.5961 - loss: 0.6783 - val_accuracy: 0.5662 - val_loss: 0.9308\n",
      "Epoch 42/100\n",
      "\u001b[1m159/161\u001b[0m \u001b[32m━━━━━━━━━━━━━━━━━━━\u001b[0m\u001b[37m━\u001b[0m \u001b[1m0s\u001b[0m 24ms/step - accuracy: 0.5983 - loss: 0.6349\n",
      "Epoch 42: val_accuracy did not improve from 0.59489\n",
      "\u001b[1m161/161\u001b[0m \u001b[32m━━━━━━━━━━━━━━━━━━━━\u001b[0m\u001b[37m\u001b[0m \u001b[1m5s\u001b[0m 29ms/step - accuracy: 0.5986 - loss: 0.6348 - val_accuracy: 0.5538 - val_loss: 0.9504\n",
      "Epoch 43/100\n",
      "\u001b[1m157/161\u001b[0m \u001b[32m━━━━━━━━━━━━━━━━━━━\u001b[0m\u001b[37m━\u001b[0m \u001b[1m0s\u001b[0m 24ms/step - accuracy: 0.6083 - loss: 0.6482\n",
      "Epoch 43: val_accuracy did not improve from 0.59489\n",
      "\u001b[1m161/161\u001b[0m \u001b[32m━━━━━━━━━━━━━━━━━━━━\u001b[0m\u001b[37m\u001b[0m \u001b[1m5s\u001b[0m 31ms/step - accuracy: 0.6081 - loss: 0.6478 - val_accuracy: 0.5352 - val_loss: 0.9662\n",
      "Epoch 44/100\n",
      "\u001b[1m158/161\u001b[0m \u001b[32m━━━━━━━━━━━━━━━━━━━\u001b[0m\u001b[37m━\u001b[0m \u001b[1m0s\u001b[0m 24ms/step - accuracy: 0.5881 - loss: 0.6863\n",
      "Epoch 44: val_accuracy did not improve from 0.59489\n",
      "\u001b[1m161/161\u001b[0m \u001b[32m━━━━━━━━━━━━━━━━━━━━\u001b[0m\u001b[37m\u001b[0m \u001b[1m5s\u001b[0m 30ms/step - accuracy: 0.5879 - loss: 0.6874 - val_accuracy: 0.5019 - val_loss: 1.0136\n",
      "Epoch 45/100\n",
      "\u001b[1m160/161\u001b[0m \u001b[32m━━━━━━━━━━━━━━━━━━━\u001b[0m\u001b[37m━\u001b[0m \u001b[1m0s\u001b[0m 23ms/step - accuracy: 0.6076 - loss: 0.6329\n",
      "Epoch 45: val_accuracy did not improve from 0.59489\n",
      "\u001b[1m161/161\u001b[0m \u001b[32m━━━━━━━━━━━━━━━━━━━━\u001b[0m\u001b[37m\u001b[0m \u001b[1m5s\u001b[0m 29ms/step - accuracy: 0.6076 - loss: 0.6329 - val_accuracy: 0.5716 - val_loss: 0.9330\n",
      "Epoch 46/100\n",
      "\u001b[1m161/161\u001b[0m \u001b[32m━━━━━━━━━━━━━━━━━━━━\u001b[0m\u001b[37m\u001b[0m \u001b[1m0s\u001b[0m 23ms/step - accuracy: 0.5975 - loss: 0.6459\n",
      "Epoch 46: val_accuracy did not improve from 0.59489\n",
      "\u001b[1m161/161\u001b[0m \u001b[32m━━━━━━━━━━━━━━━━━━━━\u001b[0m\u001b[37m\u001b[0m \u001b[1m5s\u001b[0m 30ms/step - accuracy: 0.5976 - loss: 0.6458 - val_accuracy: 0.5593 - val_loss: 0.9739\n",
      "Epoch 47/100\n",
      "\u001b[1m159/161\u001b[0m \u001b[32m━━━━━━━━━━━━━━━━━━━\u001b[0m\u001b[37m━\u001b[0m \u001b[1m0s\u001b[0m 21ms/step - accuracy: 0.6175 - loss: 0.6203\n",
      "Epoch 47: val_accuracy did not improve from 0.59489\n",
      "\u001b[1m161/161\u001b[0m \u001b[32m━━━━━━━━━━━━━━━━━━━━\u001b[0m\u001b[37m\u001b[0m \u001b[1m5s\u001b[0m 28ms/step - accuracy: 0.6175 - loss: 0.6201 - val_accuracy: 0.5407 - val_loss: 0.9880\n",
      "Epoch 48/100\n",
      "\u001b[1m157/161\u001b[0m \u001b[32m━━━━━━━━━━━━━━━━━━━\u001b[0m\u001b[37m━\u001b[0m \u001b[1m0s\u001b[0m 22ms/step - accuracy: 0.5988 - loss: 0.6083\n",
      "Epoch 48: val_accuracy did not improve from 0.59489\n",
      "\u001b[1m161/161\u001b[0m \u001b[32m━━━━━━━━━━━━━━━━━━━━\u001b[0m\u001b[37m\u001b[0m \u001b[1m5s\u001b[0m 28ms/step - accuracy: 0.5993 - loss: 0.6081 - val_accuracy: 0.5848 - val_loss: 0.9018\n",
      "Epoch 49/100\n",
      "\u001b[1m161/161\u001b[0m \u001b[32m━━━━━━━━━━━━━━━━━━━━\u001b[0m\u001b[37m\u001b[0m \u001b[1m0s\u001b[0m 22ms/step - accuracy: 0.6239 - loss: 0.5974\n",
      "Epoch 49: val_accuracy did not improve from 0.59489\n",
      "\u001b[1m161/161\u001b[0m \u001b[32m━━━━━━━━━━━━━━━━━━━━\u001b[0m\u001b[37m\u001b[0m \u001b[1m5s\u001b[0m 28ms/step - accuracy: 0.6239 - loss: 0.5974 - val_accuracy: 0.5414 - val_loss: 0.9910\n",
      "Epoch 50/100\n",
      "\u001b[1m160/161\u001b[0m \u001b[32m━━━━━━━━━━━━━━━━━━━\u001b[0m\u001b[37m━\u001b[0m \u001b[1m0s\u001b[0m 24ms/step - accuracy: 0.6075 - loss: 0.6027\n",
      "Epoch 50: val_accuracy did not improve from 0.59489\n",
      "\u001b[1m161/161\u001b[0m \u001b[32m━━━━━━━━━━━━━━━━━━━━\u001b[0m\u001b[37m\u001b[0m \u001b[1m5s\u001b[0m 30ms/step - accuracy: 0.6077 - loss: 0.6026 - val_accuracy: 0.5864 - val_loss: 0.8956\n",
      "Epoch 51/100\n",
      "\u001b[1m157/161\u001b[0m \u001b[32m━━━━━━━━━━━━━━━━━━━\u001b[0m\u001b[37m━\u001b[0m \u001b[1m0s\u001b[0m 24ms/step - accuracy: 0.6414 - loss: 0.5597\n",
      "Epoch 51: val_accuracy did not improve from 0.59489\n",
      "\u001b[1m161/161\u001b[0m \u001b[32m━━━━━━━━━━━━━━━━━━━━\u001b[0m\u001b[37m\u001b[0m \u001b[1m5s\u001b[0m 30ms/step - accuracy: 0.6411 - loss: 0.5603 - val_accuracy: 0.5771 - val_loss: 0.9146\n",
      "Epoch 52/100\n",
      "\u001b[1m161/161\u001b[0m \u001b[32m━━━━━━━━━━━━━━━━━━━━\u001b[0m\u001b[37m\u001b[0m \u001b[1m0s\u001b[0m 25ms/step - accuracy: 0.6322 - loss: 0.5885\n",
      "Epoch 52: val_accuracy did not improve from 0.59489\n",
      "\u001b[1m161/161\u001b[0m \u001b[32m━━━━━━━━━━━━━━━━━━━━\u001b[0m\u001b[37m\u001b[0m \u001b[1m5s\u001b[0m 31ms/step - accuracy: 0.6322 - loss: 0.5884 - val_accuracy: 0.5538 - val_loss: 0.9563\n",
      "Epoch 53/100\n",
      "\u001b[1m159/161\u001b[0m \u001b[32m━━━━━━━━━━━━━━━━━━━\u001b[0m\u001b[37m━\u001b[0m \u001b[1m0s\u001b[0m 22ms/step - accuracy: 0.6242 - loss: 0.5871\n",
      "Epoch 53: val_accuracy did not improve from 0.59489\n",
      "\u001b[1m161/161\u001b[0m \u001b[32m━━━━━━━━━━━━━━━━━━━━\u001b[0m\u001b[37m\u001b[0m \u001b[1m5s\u001b[0m 29ms/step - accuracy: 0.6243 - loss: 0.5871 - val_accuracy: 0.5546 - val_loss: 0.9604\n",
      "Epoch 54/100\n",
      "\u001b[1m158/161\u001b[0m \u001b[32m━━━━━━━━━━━━━━━━━━━\u001b[0m\u001b[37m━\u001b[0m \u001b[1m0s\u001b[0m 24ms/step - accuracy: 0.6202 - loss: 0.5985\n",
      "Epoch 54: val_accuracy did not improve from 0.59489\n",
      "\u001b[1m161/161\u001b[0m \u001b[32m━━━━━━━━━━━━━━━━━━━━\u001b[0m\u001b[37m\u001b[0m \u001b[1m5s\u001b[0m 29ms/step - accuracy: 0.6205 - loss: 0.5981 - val_accuracy: 0.5771 - val_loss: 0.9121\n",
      "Epoch 55/100\n",
      "\u001b[1m161/161\u001b[0m \u001b[32m━━━━━━━━━━━━━━━━━━━━\u001b[0m\u001b[37m\u001b[0m \u001b[1m0s\u001b[0m 22ms/step - accuracy: 0.6377 - loss: 0.5754\n",
      "Epoch 55: val_accuracy improved from 0.59489 to 0.59644, saving model to ./model_checkpoints/checkpoint-55-0.60.keras\n",
      "\u001b[1m161/161\u001b[0m \u001b[32m━━━━━━━━━━━━━━━━━━━━\u001b[0m\u001b[37m\u001b[0m \u001b[1m5s\u001b[0m 29ms/step - accuracy: 0.6377 - loss: 0.5754 - val_accuracy: 0.5964 - val_loss: 0.9008\n",
      "Epoch 56/100\n",
      "\u001b[1m159/161\u001b[0m \u001b[32m━━━━━━━━━━━━━━━━━━━\u001b[0m\u001b[37m━\u001b[0m \u001b[1m0s\u001b[0m 24ms/step - accuracy: 0.6477 - loss: 0.5687\n",
      "Epoch 56: val_accuracy did not improve from 0.59644\n",
      "\u001b[1m161/161\u001b[0m \u001b[32m━━━━━━━━━━━━━━━━━━━━\u001b[0m\u001b[37m\u001b[0m \u001b[1m5s\u001b[0m 30ms/step - accuracy: 0.6476 - loss: 0.5687 - val_accuracy: 0.5817 - val_loss: 0.9385\n",
      "Epoch 57/100\n",
      "\u001b[1m160/161\u001b[0m \u001b[32m━━━━━━━━━━━━━━━━━━━\u001b[0m\u001b[37m━\u001b[0m \u001b[1m0s\u001b[0m 22ms/step - accuracy: 0.6434 - loss: 0.5752\n",
      "Epoch 57: val_accuracy did not improve from 0.59644\n",
      "\u001b[1m161/161\u001b[0m \u001b[32m━━━━━━━━━━━━━━━━━━━━\u001b[0m\u001b[37m\u001b[0m \u001b[1m5s\u001b[0m 28ms/step - accuracy: 0.6435 - loss: 0.5750 - val_accuracy: 0.5895 - val_loss: 0.9149\n",
      "Epoch 58/100\n",
      "\u001b[1m157/161\u001b[0m \u001b[32m━━━━━━━━━━━━━━━━━━━\u001b[0m\u001b[37m━\u001b[0m \u001b[1m0s\u001b[0m 23ms/step - accuracy: 0.6508 - loss: 0.5576\n",
      "Epoch 58: val_accuracy improved from 0.59644 to 0.59954, saving model to ./model_checkpoints/checkpoint-58-0.60.keras\n",
      "\u001b[1m161/161\u001b[0m \u001b[32m━━━━━━━━━━━━━━━━━━━━\u001b[0m\u001b[37m\u001b[0m \u001b[1m5s\u001b[0m 29ms/step - accuracy: 0.6506 - loss: 0.5581 - val_accuracy: 0.5995 - val_loss: 0.8767\n",
      "Epoch 59/100\n",
      "\u001b[1m157/161\u001b[0m \u001b[32m━━━━━━━━━━━━━━━━━━━\u001b[0m\u001b[37m━\u001b[0m \u001b[1m0s\u001b[0m 23ms/step - accuracy: 0.6536 - loss: 0.5468\n",
      "Epoch 59: val_accuracy did not improve from 0.59954\n",
      "\u001b[1m161/161\u001b[0m \u001b[32m━━━━━━━━━━━━━━━━━━━━\u001b[0m\u001b[37m\u001b[0m \u001b[1m5s\u001b[0m 29ms/step - accuracy: 0.6535 - loss: 0.5470 - val_accuracy: 0.5887 - val_loss: 0.9253\n",
      "Epoch 60/100\n",
      "\u001b[1m160/161\u001b[0m \u001b[32m━━━━━━━━━━━━━━━━━━━\u001b[0m\u001b[37m━\u001b[0m \u001b[1m0s\u001b[0m 22ms/step - accuracy: 0.6497 - loss: 0.5574\n",
      "Epoch 60: val_accuracy did not improve from 0.59954\n",
      "\u001b[1m161/161\u001b[0m \u001b[32m━━━━━━━━━━━━━━━━━━━━\u001b[0m\u001b[37m\u001b[0m \u001b[1m5s\u001b[0m 29ms/step - accuracy: 0.6497 - loss: 0.5574 - val_accuracy: 0.5585 - val_loss: 0.9837\n",
      "Epoch 61/100\n",
      "\u001b[1m157/161\u001b[0m \u001b[32m━━━━━━━━━━━━━━━━━━━\u001b[0m\u001b[37m━\u001b[0m \u001b[1m0s\u001b[0m 23ms/step - accuracy: 0.6422 - loss: 0.5577\n",
      "Epoch 61: val_accuracy did not improve from 0.59954\n",
      "\u001b[1m161/161\u001b[0m \u001b[32m━━━━━━━━━━━━━━━━━━━━\u001b[0m\u001b[37m\u001b[0m \u001b[1m5s\u001b[0m 29ms/step - accuracy: 0.6424 - loss: 0.5577 - val_accuracy: 0.5879 - val_loss: 0.9073\n",
      "Epoch 62/100\n",
      "\u001b[1m160/161\u001b[0m \u001b[32m━━━━━━━━━━━━━━━━━━━\u001b[0m\u001b[37m━\u001b[0m \u001b[1m0s\u001b[0m 24ms/step - accuracy: 0.6476 - loss: 0.5607\n",
      "Epoch 62: val_accuracy did not improve from 0.59954\n",
      "\u001b[1m161/161\u001b[0m \u001b[32m━━━━━━━━━━━━━━━━━━━━\u001b[0m\u001b[37m\u001b[0m \u001b[1m5s\u001b[0m 31ms/step - accuracy: 0.6477 - loss: 0.5606 - val_accuracy: 0.5678 - val_loss: 0.9861\n",
      "Epoch 63/100\n",
      "\u001b[1m160/161\u001b[0m \u001b[32m━━━━━━━━━━━━━━━━━━━\u001b[0m\u001b[37m━\u001b[0m \u001b[1m0s\u001b[0m 24ms/step - accuracy: 0.6398 - loss: 0.5554\n",
      "Epoch 63: val_accuracy improved from 0.59954 to 0.60651, saving model to ./model_checkpoints/checkpoint-63-0.61.keras\n",
      "\u001b[1m161/161\u001b[0m \u001b[32m━━━━━━━━━━━━━━━━━━━━\u001b[0m\u001b[37m\u001b[0m \u001b[1m5s\u001b[0m 31ms/step - accuracy: 0.6400 - loss: 0.5553 - val_accuracy: 0.6065 - val_loss: 0.9173\n",
      "Epoch 64/100\n",
      "\u001b[1m157/161\u001b[0m \u001b[32m━━━━━━━━━━━━━━━━━━━\u001b[0m\u001b[37m━\u001b[0m \u001b[1m0s\u001b[0m 25ms/step - accuracy: 0.6385 - loss: 0.5573\n",
      "Epoch 64: val_accuracy did not improve from 0.60651\n",
      "\u001b[1m161/161\u001b[0m \u001b[32m━━━━━━━━━━━━━━━━━━━━\u001b[0m\u001b[37m\u001b[0m \u001b[1m5s\u001b[0m 31ms/step - accuracy: 0.6381 - loss: 0.5586 - val_accuracy: 0.5949 - val_loss: 0.8854\n",
      "Epoch 65/100\n",
      "\u001b[1m161/161\u001b[0m \u001b[32m━━━━━━━━━━━━━━━━━━━━\u001b[0m\u001b[37m\u001b[0m \u001b[1m0s\u001b[0m 24ms/step - accuracy: 0.6653 - loss: 0.5356\n",
      "Epoch 65: val_accuracy did not improve from 0.60651\n",
      "\u001b[1m161/161\u001b[0m \u001b[32m━━━━━━━━━━━━━━━━━━━━\u001b[0m\u001b[37m\u001b[0m \u001b[1m5s\u001b[0m 30ms/step - accuracy: 0.6653 - loss: 0.5356 - val_accuracy: 0.5794 - val_loss: 0.9458\n",
      "Epoch 66/100\n",
      "\u001b[1m157/161\u001b[0m \u001b[32m━━━━━━━━━━━━━━━━━━━\u001b[0m\u001b[37m━\u001b[0m \u001b[1m0s\u001b[0m 24ms/step - accuracy: 0.6692 - loss: 0.5258\n",
      "Epoch 66: val_accuracy did not improve from 0.60651\n",
      "\u001b[1m161/161\u001b[0m \u001b[32m━━━━━━━━━━━━━━━━━━━━\u001b[0m\u001b[37m\u001b[0m \u001b[1m5s\u001b[0m 29ms/step - accuracy: 0.6689 - loss: 0.5261 - val_accuracy: 0.5259 - val_loss: 0.9912\n",
      "Epoch 67/100\n",
      "\u001b[1m159/161\u001b[0m \u001b[32m━━━━━━━━━━━━━━━━━━━\u001b[0m\u001b[37m━\u001b[0m \u001b[1m0s\u001b[0m 24ms/step - accuracy: 0.6334 - loss: 0.5545\n",
      "Epoch 67: val_accuracy improved from 0.60651 to 0.61038, saving model to ./model_checkpoints/checkpoint-67-0.61.keras\n",
      "\u001b[1m161/161\u001b[0m \u001b[32m━━━━━━━━━━━━━━━━━━━━\u001b[0m\u001b[37m\u001b[0m \u001b[1m5s\u001b[0m 30ms/step - accuracy: 0.6340 - loss: 0.5540 - val_accuracy: 0.6104 - val_loss: 0.8842\n",
      "Epoch 68/100\n",
      "\u001b[1m160/161\u001b[0m \u001b[32m━━━━━━━━━━━━━━━━━━━\u001b[0m\u001b[37m━\u001b[0m \u001b[1m0s\u001b[0m 25ms/step - accuracy: 0.6534 - loss: 0.5219\n",
      "Epoch 68: val_accuracy did not improve from 0.61038\n",
      "\u001b[1m161/161\u001b[0m \u001b[32m━━━━━━━━━━━━━━━━━━━━\u001b[0m\u001b[37m\u001b[0m \u001b[1m5s\u001b[0m 30ms/step - accuracy: 0.6535 - loss: 0.5219 - val_accuracy: 0.6073 - val_loss: 0.8796\n",
      "Epoch 69/100\n",
      "\u001b[1m157/161\u001b[0m \u001b[32m━━━━━━━━━━━━━━━━━━━\u001b[0m\u001b[37m━\u001b[0m \u001b[1m0s\u001b[0m 23ms/step - accuracy: 0.6802 - loss: 0.5044\n",
      "Epoch 69: val_accuracy did not improve from 0.61038\n",
      "\u001b[1m161/161\u001b[0m \u001b[32m━━━━━━━━━━━━━━━━━━━━\u001b[0m\u001b[37m\u001b[0m \u001b[1m5s\u001b[0m 29ms/step - accuracy: 0.6802 - loss: 0.5043 - val_accuracy: 0.5655 - val_loss: 1.0362\n",
      "Epoch 70/100\n",
      "\u001b[1m159/161\u001b[0m \u001b[32m━━━━━━━━━━━━━━━━━━━\u001b[0m\u001b[37m━\u001b[0m \u001b[1m0s\u001b[0m 25ms/step - accuracy: 0.6710 - loss: 0.5212\n",
      "Epoch 70: val_accuracy did not improve from 0.61038\n",
      "\u001b[1m161/161\u001b[0m \u001b[32m━━━━━━━━━━━━━━━━━━━━\u001b[0m\u001b[37m\u001b[0m \u001b[1m6s\u001b[0m 32ms/step - accuracy: 0.6711 - loss: 0.5210 - val_accuracy: 0.4771 - val_loss: 1.5003\n",
      "Epoch 71/100\n",
      "\u001b[1m160/161\u001b[0m \u001b[32m━━━━━━━━━━━━━━━━━━━\u001b[0m\u001b[37m━\u001b[0m \u001b[1m0s\u001b[0m 24ms/step - accuracy: 0.6019 - loss: 0.7237\n",
      "Epoch 71: val_accuracy did not improve from 0.61038\n",
      "\u001b[1m161/161\u001b[0m \u001b[32m━━━━━━━━━━━━━━━━━━━━\u001b[0m\u001b[37m\u001b[0m \u001b[1m5s\u001b[0m 30ms/step - accuracy: 0.6024 - loss: 0.7223 - val_accuracy: 0.5902 - val_loss: 0.9007\n",
      "Epoch 72/100\n",
      "\u001b[1m157/161\u001b[0m \u001b[32m━━━━━━━━━━━━━━━━━━━\u001b[0m\u001b[37m━\u001b[0m \u001b[1m0s\u001b[0m 23ms/step - accuracy: 0.6838 - loss: 0.4931\n",
      "Epoch 72: val_accuracy did not improve from 0.61038\n",
      "\u001b[1m161/161\u001b[0m \u001b[32m━━━━━━━━━━━━━━━━━━━━\u001b[0m\u001b[37m\u001b[0m \u001b[1m5s\u001b[0m 29ms/step - accuracy: 0.6836 - loss: 0.4935 - val_accuracy: 0.6042 - val_loss: 0.8832\n",
      "Epoch 73/100\n",
      "\u001b[1m160/161\u001b[0m \u001b[32m━━━━━━━━━━━━━━━━━━━\u001b[0m\u001b[37m━\u001b[0m \u001b[1m0s\u001b[0m 23ms/step - accuracy: 0.6884 - loss: 0.4953\n",
      "Epoch 73: val_accuracy did not improve from 0.61038\n",
      "\u001b[1m161/161\u001b[0m \u001b[32m━━━━━━━━━━━━━━━━━━━━\u001b[0m\u001b[37m\u001b[0m \u001b[1m5s\u001b[0m 29ms/step - accuracy: 0.6884 - loss: 0.4953 - val_accuracy: 0.5949 - val_loss: 0.9112\n",
      "Epoch 74/100\n",
      "\u001b[1m159/161\u001b[0m \u001b[32m━━━━━━━━━━━━━━━━━━━\u001b[0m\u001b[37m━\u001b[0m \u001b[1m0s\u001b[0m 23ms/step - accuracy: 0.6298 - loss: 0.6811\n",
      "Epoch 74: val_accuracy did not improve from 0.61038\n",
      "\u001b[1m161/161\u001b[0m \u001b[32m━━━━━━━━━━━━━━━━━━━━\u001b[0m\u001b[37m\u001b[0m \u001b[1m5s\u001b[0m 30ms/step - accuracy: 0.6297 - loss: 0.6811 - val_accuracy: 0.5995 - val_loss: 0.8827\n",
      "Epoch 75/100\n",
      "\u001b[1m160/161\u001b[0m \u001b[32m━━━━━━━━━━━━━━━━━━━\u001b[0m\u001b[37m━\u001b[0m \u001b[1m0s\u001b[0m 23ms/step - accuracy: 0.6741 - loss: 0.5178\n",
      "Epoch 75: val_accuracy did not improve from 0.61038\n",
      "\u001b[1m161/161\u001b[0m \u001b[32m━━━━━━━━━━━━━━━━━━━━\u001b[0m\u001b[37m\u001b[0m \u001b[1m5s\u001b[0m 29ms/step - accuracy: 0.6742 - loss: 0.5176 - val_accuracy: 0.5840 - val_loss: 0.9111\n",
      "Epoch 76/100\n",
      "\u001b[1m160/161\u001b[0m \u001b[32m━━━━━━━━━━━━━━━━━━━\u001b[0m\u001b[37m━\u001b[0m \u001b[1m0s\u001b[0m 23ms/step - accuracy: 0.7055 - loss: 0.4805\n",
      "Epoch 76: val_accuracy did not improve from 0.61038\n",
      "\u001b[1m161/161\u001b[0m \u001b[32m━━━━━━━━━━━━━━━━━━━━\u001b[0m\u001b[37m\u001b[0m \u001b[1m5s\u001b[0m 30ms/step - accuracy: 0.7053 - loss: 0.4807 - val_accuracy: 0.6088 - val_loss: 0.8824\n",
      "Epoch 77/100\n",
      "\u001b[1m161/161\u001b[0m \u001b[32m━━━━━━━━━━━━━━━━━━━━\u001b[0m\u001b[37m\u001b[0m \u001b[1m0s\u001b[0m 25ms/step - accuracy: 0.6975 - loss: 0.4674\n",
      "Epoch 77: val_accuracy did not improve from 0.61038\n",
      "\u001b[1m161/161\u001b[0m \u001b[32m━━━━━━━━━━━━━━━━━━━━\u001b[0m\u001b[37m\u001b[0m \u001b[1m5s\u001b[0m 32ms/step - accuracy: 0.6975 - loss: 0.4674 - val_accuracy: 0.6034 - val_loss: 0.8877\n",
      "Epoch 78/100\n",
      "\u001b[1m157/161\u001b[0m \u001b[32m━━━━━━━━━━━━━━━━━━━\u001b[0m\u001b[37m━\u001b[0m \u001b[1m0s\u001b[0m 23ms/step - accuracy: 0.7042 - loss: 0.4704\n",
      "Epoch 78: val_accuracy did not improve from 0.61038\n",
      "\u001b[1m161/161\u001b[0m \u001b[32m━━━━━━━━━━━━━━━━━━━━\u001b[0m\u001b[37m\u001b[0m \u001b[1m5s\u001b[0m 29ms/step - accuracy: 0.7044 - loss: 0.4704 - val_accuracy: 0.5980 - val_loss: 0.9302\n",
      "Epoch 79/100\n",
      "\u001b[1m158/161\u001b[0m \u001b[32m━━━━━━━━━━━━━━━━━━━\u001b[0m\u001b[37m━\u001b[0m \u001b[1m0s\u001b[0m 24ms/step - accuracy: 0.6872 - loss: 0.4908\n",
      "Epoch 79: val_accuracy did not improve from 0.61038\n",
      "\u001b[1m161/161\u001b[0m \u001b[32m━━━━━━━━━━━━━━━━━━━━\u001b[0m\u001b[37m\u001b[0m \u001b[1m5s\u001b[0m 30ms/step - accuracy: 0.6869 - loss: 0.4911 - val_accuracy: 0.5972 - val_loss: 0.9159\n",
      "Epoch 80/100\n",
      "\u001b[1m159/161\u001b[0m \u001b[32m━━━━━━━━━━━━━━━━━━━\u001b[0m\u001b[37m━\u001b[0m \u001b[1m0s\u001b[0m 25ms/step - accuracy: 0.7012 - loss: 0.4704\n",
      "Epoch 80: val_accuracy did not improve from 0.61038\n",
      "\u001b[1m161/161\u001b[0m \u001b[32m━━━━━━━━━━━━━━━━━━━━\u001b[0m\u001b[37m\u001b[0m \u001b[1m5s\u001b[0m 31ms/step - accuracy: 0.7011 - loss: 0.4704 - val_accuracy: 0.6073 - val_loss: 0.8807\n",
      "Epoch 81/100\n",
      "\u001b[1m159/161\u001b[0m \u001b[32m━━━━━━━━━━━━━━━━━━━\u001b[0m\u001b[37m━\u001b[0m \u001b[1m0s\u001b[0m 23ms/step - accuracy: 0.7205 - loss: 0.4431\n",
      "Epoch 81: val_accuracy improved from 0.61038 to 0.62355, saving model to ./model_checkpoints/checkpoint-81-0.62.keras\n",
      "\u001b[1m161/161\u001b[0m \u001b[32m━━━━━━━━━━━━━━━━━━━━\u001b[0m\u001b[37m\u001b[0m \u001b[1m5s\u001b[0m 29ms/step - accuracy: 0.7203 - loss: 0.4433 - val_accuracy: 0.6235 - val_loss: 0.8813\n",
      "Epoch 82/100\n",
      "\u001b[1m160/161\u001b[0m \u001b[32m━━━━━━━━━━━━━━━━━━━\u001b[0m\u001b[37m━\u001b[0m \u001b[1m0s\u001b[0m 24ms/step - accuracy: 0.6605 - loss: 0.5343\n",
      "Epoch 82: val_accuracy did not improve from 0.62355\n",
      "\u001b[1m161/161\u001b[0m \u001b[32m━━━━━━━━━━━━━━━━━━━━\u001b[0m\u001b[37m\u001b[0m \u001b[1m5s\u001b[0m 29ms/step - accuracy: 0.6607 - loss: 0.5341 - val_accuracy: 0.6104 - val_loss: 0.8834\n",
      "Epoch 83/100\n",
      "\u001b[1m159/161\u001b[0m \u001b[32m━━━━━━━━━━━━━━━━━━━\u001b[0m\u001b[37m━\u001b[0m \u001b[1m0s\u001b[0m 23ms/step - accuracy: 0.6969 - loss: 0.4652\n",
      "Epoch 83: val_accuracy did not improve from 0.62355\n",
      "\u001b[1m161/161\u001b[0m \u001b[32m━━━━━━━━━━━━━━━━━━━━\u001b[0m\u001b[37m\u001b[0m \u001b[1m5s\u001b[0m 29ms/step - accuracy: 0.6970 - loss: 0.4652 - val_accuracy: 0.6050 - val_loss: 0.9064\n",
      "Epoch 84/100\n",
      "\u001b[1m161/161\u001b[0m \u001b[32m━━━━━━━━━━━━━━━━━━━━\u001b[0m\u001b[37m\u001b[0m \u001b[1m0s\u001b[0m 25ms/step - accuracy: 0.7212 - loss: 0.4483\n",
      "Epoch 84: val_accuracy did not improve from 0.62355\n",
      "\u001b[1m161/161\u001b[0m \u001b[32m━━━━━━━━━━━━━━━━━━━━\u001b[0m\u001b[37m\u001b[0m \u001b[1m5s\u001b[0m 32ms/step - accuracy: 0.7212 - loss: 0.4483 - val_accuracy: 0.6119 - val_loss: 0.9182\n",
      "Epoch 85/100\n",
      "\u001b[1m159/161\u001b[0m \u001b[32m━━━━━━━━━━━━━━━━━━━\u001b[0m\u001b[37m━\u001b[0m \u001b[1m0s\u001b[0m 22ms/step - accuracy: 0.7184 - loss: 0.4389\n",
      "Epoch 85: val_accuracy did not improve from 0.62355\n",
      "\u001b[1m161/161\u001b[0m \u001b[32m━━━━━━━━━━━━━━━━━━━━\u001b[0m\u001b[37m\u001b[0m \u001b[1m5s\u001b[0m 28ms/step - accuracy: 0.7183 - loss: 0.4391 - val_accuracy: 0.5957 - val_loss: 0.9201\n",
      "Epoch 86/100\n",
      "\u001b[1m159/161\u001b[0m \u001b[32m━━━━━━━━━━━━━━━━━━━\u001b[0m\u001b[37m━\u001b[0m \u001b[1m0s\u001b[0m 25ms/step - accuracy: 0.7099 - loss: 0.4508\n",
      "Epoch 86: val_accuracy did not improve from 0.62355\n",
      "\u001b[1m161/161\u001b[0m \u001b[32m━━━━━━━━━━━━━━━━━━━━\u001b[0m\u001b[37m\u001b[0m \u001b[1m5s\u001b[0m 31ms/step - accuracy: 0.7099 - loss: 0.4508 - val_accuracy: 0.6026 - val_loss: 0.9027\n",
      "Epoch 87/100\n",
      "\u001b[1m157/161\u001b[0m \u001b[32m━━━━━━━━━━━━━━━━━━━\u001b[0m\u001b[37m━\u001b[0m \u001b[1m0s\u001b[0m 24ms/step - accuracy: 0.7172 - loss: 0.4386\n",
      "Epoch 87: val_accuracy did not improve from 0.62355\n",
      "\u001b[1m161/161\u001b[0m \u001b[32m━━━━━━━━━━━━━━━━━━━━\u001b[0m\u001b[37m\u001b[0m \u001b[1m5s\u001b[0m 31ms/step - accuracy: 0.7171 - loss: 0.4388 - val_accuracy: 0.5438 - val_loss: 1.0617\n",
      "Epoch 88/100\n",
      "\u001b[1m157/161\u001b[0m \u001b[32m━━━━━━━━━━━━━━━━━━━\u001b[0m\u001b[37m━\u001b[0m \u001b[1m0s\u001b[0m 23ms/step - accuracy: 0.6966 - loss: 0.4652\n",
      "Epoch 88: val_accuracy did not improve from 0.62355\n",
      "\u001b[1m161/161\u001b[0m \u001b[32m━━━━━━━━━━━━━━━━━━━━\u001b[0m\u001b[37m\u001b[0m \u001b[1m5s\u001b[0m 29ms/step - accuracy: 0.6971 - loss: 0.4646 - val_accuracy: 0.5840 - val_loss: 0.9764\n",
      "Epoch 89/100\n",
      "\u001b[1m158/161\u001b[0m \u001b[32m━━━━━━━━━━━━━━━━━━━\u001b[0m\u001b[37m━\u001b[0m \u001b[1m0s\u001b[0m 24ms/step - accuracy: 0.6953 - loss: 0.4549\n",
      "Epoch 89: val_accuracy did not improve from 0.62355\n",
      "\u001b[1m161/161\u001b[0m \u001b[32m━━━━━━━━━━━━━━━━━━━━\u001b[0m\u001b[37m\u001b[0m \u001b[1m5s\u001b[0m 30ms/step - accuracy: 0.6954 - loss: 0.4550 - val_accuracy: 0.6135 - val_loss: 0.9530\n",
      "Epoch 90/100\n",
      "\u001b[1m159/161\u001b[0m \u001b[32m━━━━━━━━━━━━━━━━━━━\u001b[0m\u001b[37m━\u001b[0m \u001b[1m0s\u001b[0m 24ms/step - accuracy: 0.6727 - loss: 0.5850\n",
      "Epoch 90: val_accuracy did not improve from 0.62355\n",
      "\u001b[1m161/161\u001b[0m \u001b[32m━━━━━━━━━━━━━━━━━━━━\u001b[0m\u001b[37m\u001b[0m \u001b[1m5s\u001b[0m 31ms/step - accuracy: 0.6730 - loss: 0.5843 - val_accuracy: 0.6065 - val_loss: 0.8913\n",
      "Epoch 91/100\n",
      "\u001b[1m159/161\u001b[0m \u001b[32m━━━━━━━━━━━━━━━━━━━\u001b[0m\u001b[37m━\u001b[0m \u001b[1m0s\u001b[0m 24ms/step - accuracy: 0.7319 - loss: 0.4217\n",
      "Epoch 91: val_accuracy did not improve from 0.62355\n",
      "\u001b[1m161/161\u001b[0m \u001b[32m━━━━━━━━━━━━━━━━━━━━\u001b[0m\u001b[37m\u001b[0m \u001b[1m5s\u001b[0m 31ms/step - accuracy: 0.7316 - loss: 0.4220 - val_accuracy: 0.6104 - val_loss: 0.8903\n",
      "Epoch 92/100\n",
      "\u001b[1m160/161\u001b[0m \u001b[32m━━━━━━━━━━━━━━━━━━━\u001b[0m\u001b[37m━\u001b[0m \u001b[1m0s\u001b[0m 24ms/step - accuracy: 0.7255 - loss: 0.4287\n",
      "Epoch 92: val_accuracy did not improve from 0.62355\n",
      "\u001b[1m161/161\u001b[0m \u001b[32m━━━━━━━━━━━━━━━━━━━━\u001b[0m\u001b[37m\u001b[0m \u001b[1m5s\u001b[0m 30ms/step - accuracy: 0.7255 - loss: 0.4287 - val_accuracy: 0.6119 - val_loss: 0.9157\n",
      "Epoch 93/100\n",
      "\u001b[1m159/161\u001b[0m \u001b[32m━━━━━━━━━━━━━━━━━━━\u001b[0m\u001b[37m━\u001b[0m \u001b[1m0s\u001b[0m 24ms/step - accuracy: 0.7363 - loss: 0.4115\n",
      "Epoch 93: val_accuracy did not improve from 0.62355\n",
      "\u001b[1m161/161\u001b[0m \u001b[32m━━━━━━━━━━━━━━━━━━━━\u001b[0m\u001b[37m\u001b[0m \u001b[1m5s\u001b[0m 31ms/step - accuracy: 0.7363 - loss: 0.4116 - val_accuracy: 0.6057 - val_loss: 0.9250\n",
      "Epoch 94/100\n",
      "\u001b[1m160/161\u001b[0m \u001b[32m━━━━━━━━━━━━━━━━━━━\u001b[0m\u001b[37m━\u001b[0m \u001b[1m0s\u001b[0m 23ms/step - accuracy: 0.7126 - loss: 0.4399\n",
      "Epoch 94: val_accuracy did not improve from 0.62355\n",
      "\u001b[1m161/161\u001b[0m \u001b[32m━━━━━━━━━━━━━━━━━━━━\u001b[0m\u001b[37m\u001b[0m \u001b[1m5s\u001b[0m 29ms/step - accuracy: 0.7123 - loss: 0.4405 - val_accuracy: 0.6181 - val_loss: 0.8667\n",
      "Epoch 95/100\n",
      "\u001b[1m158/161\u001b[0m \u001b[32m━━━━━━━━━━━━━━━━━━━\u001b[0m\u001b[37m━\u001b[0m \u001b[1m0s\u001b[0m 25ms/step - accuracy: 0.7254 - loss: 0.4361\n",
      "Epoch 95: val_accuracy did not improve from 0.62355\n",
      "\u001b[1m161/161\u001b[0m \u001b[32m━━━━━━━━━━━━━━━━━━━━\u001b[0m\u001b[37m\u001b[0m \u001b[1m5s\u001b[0m 30ms/step - accuracy: 0.7255 - loss: 0.4357 - val_accuracy: 0.5995 - val_loss: 0.9474\n",
      "Epoch 96/100\n",
      "\u001b[1m158/161\u001b[0m \u001b[32m━━━━━━━━━━━━━━━━━━━\u001b[0m\u001b[37m━\u001b[0m \u001b[1m0s\u001b[0m 24ms/step - accuracy: 0.7467 - loss: 0.3927\n",
      "Epoch 96: val_accuracy did not improve from 0.62355\n",
      "\u001b[1m161/161\u001b[0m \u001b[32m━━━━━━━━━━━━━━━━━━━━\u001b[0m\u001b[37m\u001b[0m \u001b[1m5s\u001b[0m 31ms/step - accuracy: 0.7463 - loss: 0.3929 - val_accuracy: 0.6158 - val_loss: 0.9189\n",
      "Epoch 97/100\n",
      "\u001b[1m160/161\u001b[0m \u001b[32m━━━━━━━━━━━━━━━━━━━\u001b[0m\u001b[37m━\u001b[0m \u001b[1m0s\u001b[0m 23ms/step - accuracy: 0.7444 - loss: 0.3982\n",
      "Epoch 97: val_accuracy did not improve from 0.62355\n",
      "\u001b[1m161/161\u001b[0m \u001b[32m━━━━━━━━━━━━━━━━━━━━\u001b[0m\u001b[37m\u001b[0m \u001b[1m5s\u001b[0m 29ms/step - accuracy: 0.7443 - loss: 0.3983 - val_accuracy: 0.6119 - val_loss: 0.9362\n",
      "Epoch 98/100\n",
      "\u001b[1m159/161\u001b[0m \u001b[32m━━━━━━━━━━━━━━━━━━━\u001b[0m\u001b[37m━\u001b[0m \u001b[1m0s\u001b[0m 25ms/step - accuracy: 0.7388 - loss: 0.3974\n",
      "Epoch 98: val_accuracy did not improve from 0.62355\n",
      "\u001b[1m161/161\u001b[0m \u001b[32m━━━━━━━━━━━━━━━━━━━━\u001b[0m\u001b[37m\u001b[0m \u001b[1m5s\u001b[0m 32ms/step - accuracy: 0.7389 - loss: 0.3973 - val_accuracy: 0.6135 - val_loss: 0.9025\n",
      "Epoch 99/100\n",
      "\u001b[1m157/161\u001b[0m \u001b[32m━━━━━━━━━━━━━━━━━━━\u001b[0m\u001b[37m━\u001b[0m \u001b[1m0s\u001b[0m 23ms/step - accuracy: 0.7255 - loss: 0.4115\n",
      "Epoch 99: val_accuracy did not improve from 0.62355\n",
      "\u001b[1m161/161\u001b[0m \u001b[32m━━━━━━━━━━━━━━━━━━━━\u001b[0m\u001b[37m\u001b[0m \u001b[1m5s\u001b[0m 29ms/step - accuracy: 0.7259 - loss: 0.4110 - val_accuracy: 0.6081 - val_loss: 0.9354\n",
      "Epoch 100/100\n",
      "\u001b[1m160/161\u001b[0m \u001b[32m━━━━━━━━━━━━━━━━━━━\u001b[0m\u001b[37m━\u001b[0m \u001b[1m0s\u001b[0m 23ms/step - accuracy: 0.7202 - loss: 0.4916\n",
      "Epoch 100: val_accuracy did not improve from 0.62355\n",
      "\u001b[1m161/161\u001b[0m \u001b[32m━━━━━━━━━━━━━━━━━━━━\u001b[0m\u001b[37m\u001b[0m \u001b[1m5s\u001b[0m 30ms/step - accuracy: 0.7199 - loss: 0.4920 - val_accuracy: 0.6181 - val_loss: 0.8948\n",
      "\u001b[1m41/41\u001b[0m \u001b[32m━━━━━━━━━━━━━━━━━━━━\u001b[0m\u001b[37m\u001b[0m \u001b[1m1s\u001b[0m 24ms/step - accuracy: 0.6093 - loss: 0.9153\n"
     ]
    },
    {
     "name": "stderr",
     "output_type": "stream",
     "text": [
      "WARNING:absl:You are saving your model as an HDF5 file via `model.save()` or `keras.saving.save_model(model)`. This file format is considered legacy. We recommend using instead the native Keras format, e.g. `model.save('my_model.keras')` or `keras.saving.save_model(model, 'my_model.keras')`. \n"
     ]
    },
    {
     "name": "stdout",
     "output_type": "stream",
     "text": [
      "Test accuracy: 0.6181254982948303\n",
      "Model saved successfully as 'alzheimer_model_customcnn_0.6181.h5'.\n"
     ]
    },
    {
     "data": {
      "image/png": "[encoded data removed]",
      "text/plain": [
       "<Figure size 1400x600 with 2 Axes>"
      ]
     },
     "metadata": {},
     "output_type": "display_data"
    },
    {
     "name": "stdout",
     "output_type": "stream",
     "text": [
      "\u001b[1m41/41\u001b[0m \u001b[32m━━━━━━━━━━━━━━━━━━━━\u001b[0m\u001b[37m\u001b[0m \u001b[1m1s\u001b[0m 30ms/step\n"
     ]
    },
    {
     "data": {
      "text/plain": [
       "<Figure size 800x800 with 0 Axes>"
      ]
     },
     "metadata": {},
     "output_type": "display_data"
    },
    {
     "data": {
      "image/png": "[encoded data removed]",
      "text/plain": [
       "<Figure size 640x480 with 2 Axes>"
      ]
     },
     "metadata": {},
     "output_type": "display_data"
    }
   ],
   "source": [
    "import os\n",
    "import tensorflow as tf\n",
    "from tensorflow.keras.preprocessing.image import ImageDataGenerator\n",
    "from tensorflow.keras.layers import Input, Conv2D, MaxPooling2D, Flatten, Dense, Dropout, GlobalAveragePooling2D\n",
    "from tensorflow.keras.models import Model\n",
    "from tensorflow.keras.optimizers import Adam\n",
    "from tensorflow.keras.callbacks import ModelCheckpoint\n",
    "import matplotlib.pyplot as plt\n",
    "import seaborn as sns\n",
    "import wandb\n",
    "from sklearn.utils.class_weight import compute_class_weight\n",
    "from sklearn.metrics import confusion_matrix, ConfusionMatrixDisplay\n",
    "import numpy as np\n",
    "\n",
    "# Initialize wandb and config\n",
    "wandb.init(\n",
    "    project=\"computer_vision\",\n",
    "    config={\n",
    "        \"learning_rate\": 0.0005,\n",
    "        \"architecture\": \"CustomCNN\",\n",
    "        \"dataset\": \"alzheimer\",\n",
    "        \"epochs\": 100,\n",
    "        \"batch_size\": 32,\n",
    "        \"input_shape\": (176, 208, 3),\n",
    "        \"num_classes\": 4\n",
    "    }\n",
    ")\n",
    "\n",
    "config = wandb.config\n",
    "\n",
    "# Define data generators\n",
    "train_datagen = ImageDataGenerator(rescale=1./255)\n",
    "test_datagen = ImageDataGenerator(rescale=1./255)\n",
    "\n",
    "# Define data generators for training and testing\n",
    "train_generator = train_datagen.flow_from_directory(\n",
    "    'train',\n",
    "    target_size=config.input_shape[:2],\n",
    "    batch_size=config.batch_size,\n",
    "    class_mode='categorical')\n",
    "\n",
    "test_generator = test_datagen.flow_from_directory(\n",
    "    'test',\n",
    "    target_size=config.input_shape[:2],\n",
    "    batch_size=config.batch_size,\n",
    "    class_mode='categorical')\n",
    "\n",
    "# Calculate class weights\n",
    "class_weights = compute_class_weight(\n",
    "    class_weight='balanced',\n",
    "    classes=np.unique(train_generator.classes),\n",
    "    y=train_generator.classes\n",
    ")\n",
    "class_weight_dict = dict(enumerate(class_weights))\n",
    "\n",
    "# Create a custom CNN model\n",
    "def create_cnn_model(input_shape, num_classes):\n",
    "    inputs = Input(shape=input_shape)\n",
    "    x = Conv2D(32, (3, 3), activation='relu', padding='same')(inputs)\n",
    "    x = MaxPooling2D((2, 2))(x)\n",
    "    x = Conv2D(64, (3, 3), activation='relu', padding='same')(x)\n",
    "    x = MaxPooling2D((2, 2))(x)\n",
    "    x = Conv2D(128, (3, 3), activation='relu', padding='same')(x)\n",
    "    x = MaxPooling2D((2, 2))(x)\n",
    "    x = GlobalAveragePooling2D()(x)\n",
    "    x = Dense(256, activation='relu')(x)\n",
    "    x = Dropout(0.2)(x)\n",
    "    predictions = Dense(num_classes, activation='softmax')(x)\n",
    "\n",
    "    model = Model(inputs=inputs, outputs=predictions)\n",
    "    return model\n",
    "\n",
    "# Initialize CNN model\n",
    "model = create_cnn_model(config.input_shape, config.num_classes)\n",
    "\n",
    "# Compile the model\n",
    "model.compile(optimizer=Adam(config.learning_rate), loss='categorical_crossentropy', metrics=['accuracy'])\n",
    "\n",
    "# Print model summary\n",
    "model.summary()\n",
    "\n",
    "# Log model summary to Wandb\n",
    "wandb.log({'model_summary': model.summary()})\n",
    "\n",
    "# Setup checkpoint directory\n",
    "checkpoint_dir = './model_checkpoints'\n",
    "os.makedirs(checkpoint_dir, exist_ok=True)\n",
    "checkpoint_filepath = os.path.join(checkpoint_dir, 'checkpoint-{epoch:02d}-{val_accuracy:.2f}.keras')\n",
    "\n",
    "# Create a model checkpoint callback\n",
    "checkpoint_callback = ModelCheckpoint(\n",
    "    filepath=checkpoint_filepath,\n",
    "    save_weights_only=False,\n",
    "    monitor='val_accuracy',\n",
    "    mode='max',\n",
    "    save_best_only=True,\n",
    "    verbose=1)\n",
    "\n",
    "# Train the model\n",
    "history = model.fit(\n",
    "    train_generator,\n",
    "    epochs=config.epochs,\n",
    "    validation_data=test_generator,\n",
    "    class_weight=class_weight_dict,\n",
    "    callbacks=[checkpoint_callback]\n",
    ")\n",
    "\n",
    "# Evaluate the model\n",
    "test_loss, test_acc = model.evaluate(test_generator)\n",
    "wandb.log({'test_loss': test_loss, 'test_accuracy': test_acc})\n",
    "print('Test accuracy:', test_acc)\n",
    "\n",
    "# Save the model\n",
    "model_filename = 'alzheimer_model_customcnn_{:.4f}.h5'.format(test_acc)\n",
    "model.save(os.path.join('model', model_filename))\n",
    "print(f\"Model saved successfully as '{model_filename}'.\")\n",
    "\n",
    "# Plot training & validation accuracy and loss graphs\n",
    "plt.figure(figsize=(14, 6))\n",
    "\n",
    "# Accuracy plot\n",
    "plt.subplot(1, 2, 1)\n",
    "plt.plot(history.history['accuracy'], label='Training Accuracy')\n",
    "plt.plot(history.history['val_accuracy'], label='Validation Accuracy')\n",
    "plt.xlabel('Epochs')\n",
    "plt.ylabel('Accuracy')\n",
    "plt.title('Training and Validation Accuracy')\n",
    "plt.legend()\n",
    "\n",
    "# Loss plot\n",
    "plt.subplot(1, 2, 2)\n",
    "plt.plot(history.history['loss'], label='Training Loss')\n",
    "plt.plot(history.history['val_loss'], label='Validation Loss')\n",
    "plt.xlabel('Epochs')\n",
    "plt.ylabel('Loss')\n",
    "plt.title('Training and Validation Loss')\n",
    "plt.legend()\n",
    "\n",
    "plt.show()\n",
    "\n",
    "# Predict the labels on the test set\n",
    "test_labels = test_generator.classes\n",
    "test_preds = model.predict(test_generator)\n",
    "test_preds_classes = np.argmax(test_preds, axis=1)\n",
    "\n",
    "# Create confusion matrix\n",
    "conf_matrix = confusion_matrix(test_labels, test_preds_classes)\n",
    "disp = ConfusionMatrixDisplay(confusion_matrix=conf_matrix, display_labels=test_generator.class_indices.keys())\n",
    "\n",
    "# Plot confusion matrix\n",
    "plt.figure(figsize=(8, 8))\n",
    "disp.plot(cmap=plt.cm.Blues)\n",
    "plt.title(\"Confusion Matrix\")\n",
    "plt.show()\n"
   ]
  },
  {
   "cell_type": "code",
   "execution_count": 2,
   "id": "0cddae5d-cee6-482b-b4d5-2d3d4c6373f3",
   "metadata": {},
   "outputs": [
    {
     "data": {
      "text/html": [
       "Finishing last run (ID:q89d3s9q) before initializing another..."
      ],
      "text/plain": [
       "<IPython.core.display.HTML object>"
      ]
     },
     "metadata": {},
     "output_type": "display_data"
    },
    {
     "data": {
      "application/vnd.jupyter.widget-view+json": {
       "model_id": "",
       "version_major": 2,
       "version_minor": 0
      },
      "text/plain": [
       "VBox(children=(Label(value='0.011 MB of 0.011 MB uploaded\\r'), FloatProgress(value=1.0, max=1.0)))"
      ]
     },
     "metadata": {},
     "output_type": "display_data"
    },
    {
     "data": {
      "text/html": [
       "W&B sync reduced upload amount by 11.0%             "
      ],
      "text/plain": [
       "<IPython.core.display.HTML object>"
      ]
     },
     "metadata": {},
     "output_type": "display_data"
    },
    {
     "data": {
      "text/html": [
       "<style>\n",
       "    table.wandb td:nth-child(1) { padding: 0 10px; text-align: left ; width: auto;} td:nth-child(2) {text-align: left ; width: 100%}\n",
       "    .wandb-row { display: flex; flex-direction: row; flex-wrap: wrap; justify-content: flex-start; width: 100% }\n",
       "    .wandb-col { display: flex; flex-direction: column; flex-basis: 100%; flex: 1; padding: 10px; }\n",
       "    </style>\n",
       "<div class=\"wandb-row\"><div class=\"wandb-col\"><h3>Run history:</h3><br/><table class=\"wandb\"><tr><td>test_accuracy</td><td>▁</td></tr><tr><td>test_loss</td><td>▁</td></tr></table><br/></div><div class=\"wandb-col\"><h3>Run summary:</h3><br/><table class=\"wandb\"><tr><td>test_accuracy</td><td>0.61813</td></tr><tr><td>test_loss</td><td>0.89485</td></tr></table><br/></div></div>"
      ],
      "text/plain": [
       "<IPython.core.display.HTML object>"
      ]
     },
     "metadata": {},
     "output_type": "display_data"
    },
    {
     "data": {
      "text/html": [
       " View run <strong style=\"color:#cdcd00\">resilient-puddle-224</strong> at: <a href='https://wandb.ai/ossyandlars/computer_vision/runs/q89d3s9q' target=\"_blank\">https://wandb.ai/ossyandlars/computer_vision/runs/q89d3s9q</a><br/> View job at <a href='https://wandb.ai/ossyandlars/computer_vision/jobs/QXJ0aWZhY3RDb2xsZWN0aW9uOjE2ODg2NTkwOQ==/version_details/v7' target=\"_blank\">https://wandb.ai/ossyandlars/computer_vision/jobs/QXJ0aWZhY3RDb2xsZWN0aW9uOjE2ODg2NTkwOQ==/version_details/v7</a><br/>Synced 5 W&B file(s), 0 media file(s), 2 artifact file(s) and 0 other file(s)"
      ],
      "text/plain": [
       "<IPython.core.display.HTML object>"
      ]
     },
     "metadata": {},
     "output_type": "display_data"
    },
    {
     "data": {
      "text/html": [
       "Find logs at: <code>./wandb/run-20240507_112909-q89d3s9q/logs</code>"
      ],
      "text/plain": [
       "<IPython.core.display.HTML object>"
      ]
     },
     "metadata": {},
     "output_type": "display_data"
    },
    {
     "data": {
      "text/html": [
       "Successfully finished last run (ID:q89d3s9q). Initializing new run:<br/>"
      ],
      "text/plain": [
       "<IPython.core.display.HTML object>"
      ]
     },
     "metadata": {},
     "output_type": "display_data"
    },
    {
     "data": {
      "application/vnd.jupyter.widget-view+json": {
       "model_id": "4f4c73bed7974601b41aeb7c415d4e34",
       "version_major": 2,
       "version_minor": 0
      },
      "text/plain": [
       "VBox(children=(Label(value='Waiting for wandb.init()...\\r'), FloatProgress(value=0.011112884980522923, max=1.0…"
      ]
     },
     "metadata": {},
     "output_type": "display_data"
    },
    {
     "data": {
      "text/html": [
       "wandb version 0.16.6 is available!  To upgrade, please run:\n",
       " $ pip install wandb --upgrade"
      ],
      "text/plain": [
       "<IPython.core.display.HTML object>"
      ]
     },
     "metadata": {},
     "output_type": "display_data"
    },
    {
     "data": {
      "text/html": [
       "Tracking run with wandb version 0.16.0"
      ],
      "text/plain": [
       "<IPython.core.display.HTML object>"
      ]
     },
     "metadata": {},
     "output_type": "display_data"
    },
    {
     "data": {
      "text/html": [
       "Run data is saved locally in <code>/home/oskarem/CompVision/Project/wandb/run-20240507_113929-f26pzve7</code>"
      ],
      "text/plain": [
       "<IPython.core.display.HTML object>"
      ]
     },
     "metadata": {},
     "output_type": "display_data"
    },
    {
     "data": {
      "text/html": [
       "Syncing run <strong><a href='https://wandb.ai/ossyandlars/computer_vision/runs/f26pzve7' target=\"_blank\">lemon-shape-225</a></strong> to <a href='https://wandb.ai/ossyandlars/computer_vision' target=\"_blank\">Weights & Biases</a> (<a href='https://wandb.me/run' target=\"_blank\">docs</a>)<br/>"
      ],
      "text/plain": [
       "<IPython.core.display.HTML object>"
      ]
     },
     "metadata": {},
     "output_type": "display_data"
    },
    {
     "data": {
      "text/html": [
       " View project at <a href='https://wandb.ai/ossyandlars/computer_vision' target=\"_blank\">https://wandb.ai/ossyandlars/computer_vision</a>"
      ],
      "text/plain": [
       "<IPython.core.display.HTML object>"
      ]
     },
     "metadata": {},
     "output_type": "display_data"
    },
    {
     "data": {
      "text/html": [
       " View run at <a href='https://wandb.ai/ossyandlars/computer_vision/runs/f26pzve7' target=\"_blank\">https://wandb.ai/ossyandlars/computer_vision/runs/f26pzve7</a>"
      ],
      "text/plain": [
       "<IPython.core.display.HTML object>"
      ]
     },
     "metadata": {},
     "output_type": "display_data"
    },
    {
     "name": "stdout",
     "output_type": "stream",
     "text": [
      "Found 5121 images belonging to 4 classes.\n",
      "Found 1291 images belonging to 4 classes.\n"
     ]
    },
    {
     "data": {
      "text/html": [
       "<pre style=\"white-space:pre;overflow-x:auto;line-height:normal;font-family:Menlo,'DejaVu Sans Mono',consolas,'Courier New',monospace\"><span style=\"font-weight: bold\">Model: \"functional_3\"</span>\n",
       "</pre>\n"
      ],
      "text/plain": [
       "\u001b[1mModel: \"functional_3\"\u001b[0m\n"
      ]
     },
     "metadata": {},
     "output_type": "display_data"
    },
    {
     "data": {
      "text/html": [
       "<pre style=\"white-space:pre;overflow-x:auto;line-height:normal;font-family:Menlo,'DejaVu Sans Mono',consolas,'Courier New',monospace\">┏━━━━━━━━━━━━━━━━━━━━━━━━━━━━━━━━━┳━━━━━━━━━━━━━━━━━━━━━━━━┳━━━━━━━━━━━━━━━┓\n",
       "┃<span style=\"font-weight: bold\"> Layer (type)                    </span>┃<span style=\"font-weight: bold\"> Output Shape           </span>┃<span style=\"font-weight: bold\">       Param # </span>┃\n",
       "┡━━━━━━━━━━━━━━━━━━━━━━━━━━━━━━━━━╇━━━━━━━━━━━━━━━━━━━━━━━━╇━━━━━━━━━━━━━━━┩\n",
       "│ input_layer_1 (<span style=\"color: #0087ff; text-decoration-color: #0087ff\">InputLayer</span>)      │ (<span style=\"color: #00d7ff; text-decoration-color: #00d7ff\">None</span>, <span style=\"color: #00af00; text-decoration-color: #00af00\">176</span>, <span style=\"color: #00af00; text-decoration-color: #00af00\">208</span>, <span style=\"color: #00af00; text-decoration-color: #00af00\">3</span>)    │             <span style=\"color: #00af00; text-decoration-color: #00af00\">0</span> │\n",
       "├─────────────────────────────────┼────────────────────────┼───────────────┤\n",
       "│ conv2d_3 (<span style=\"color: #0087ff; text-decoration-color: #0087ff\">Conv2D</span>)               │ (<span style=\"color: #00d7ff; text-decoration-color: #00d7ff\">None</span>, <span style=\"color: #00af00; text-decoration-color: #00af00\">176</span>, <span style=\"color: #00af00; text-decoration-color: #00af00\">208</span>, <span style=\"color: #00af00; text-decoration-color: #00af00\">32</span>)   │           <span style=\"color: #00af00; text-decoration-color: #00af00\">896</span> │\n",
       "├─────────────────────────────────┼────────────────────────┼───────────────┤\n",
       "│ max_pooling2d_3 (<span style=\"color: #0087ff; text-decoration-color: #0087ff\">MaxPooling2D</span>)  │ (<span style=\"color: #00d7ff; text-decoration-color: #00d7ff\">None</span>, <span style=\"color: #00af00; text-decoration-color: #00af00\">88</span>, <span style=\"color: #00af00; text-decoration-color: #00af00\">104</span>, <span style=\"color: #00af00; text-decoration-color: #00af00\">32</span>)    │             <span style=\"color: #00af00; text-decoration-color: #00af00\">0</span> │\n",
       "├─────────────────────────────────┼────────────────────────┼───────────────┤\n",
       "│ conv2d_4 (<span style=\"color: #0087ff; text-decoration-color: #0087ff\">Conv2D</span>)               │ (<span style=\"color: #00d7ff; text-decoration-color: #00d7ff\">None</span>, <span style=\"color: #00af00; text-decoration-color: #00af00\">88</span>, <span style=\"color: #00af00; text-decoration-color: #00af00\">104</span>, <span style=\"color: #00af00; text-decoration-color: #00af00\">64</span>)    │        <span style=\"color: #00af00; text-decoration-color: #00af00\">18,496</span> │\n",
       "├─────────────────────────────────┼────────────────────────┼───────────────┤\n",
       "│ max_pooling2d_4 (<span style=\"color: #0087ff; text-decoration-color: #0087ff\">MaxPooling2D</span>)  │ (<span style=\"color: #00d7ff; text-decoration-color: #00d7ff\">None</span>, <span style=\"color: #00af00; text-decoration-color: #00af00\">44</span>, <span style=\"color: #00af00; text-decoration-color: #00af00\">52</span>, <span style=\"color: #00af00; text-decoration-color: #00af00\">64</span>)     │             <span style=\"color: #00af00; text-decoration-color: #00af00\">0</span> │\n",
       "├─────────────────────────────────┼────────────────────────┼───────────────┤\n",
       "│ conv2d_5 (<span style=\"color: #0087ff; text-decoration-color: #0087ff\">Conv2D</span>)               │ (<span style=\"color: #00d7ff; text-decoration-color: #00d7ff\">None</span>, <span style=\"color: #00af00; text-decoration-color: #00af00\">44</span>, <span style=\"color: #00af00; text-decoration-color: #00af00\">52</span>, <span style=\"color: #00af00; text-decoration-color: #00af00\">128</span>)    │        <span style=\"color: #00af00; text-decoration-color: #00af00\">73,856</span> │\n",
       "├─────────────────────────────────┼────────────────────────┼───────────────┤\n",
       "│ max_pooling2d_5 (<span style=\"color: #0087ff; text-decoration-color: #0087ff\">MaxPooling2D</span>)  │ (<span style=\"color: #00d7ff; text-decoration-color: #00d7ff\">None</span>, <span style=\"color: #00af00; text-decoration-color: #00af00\">22</span>, <span style=\"color: #00af00; text-decoration-color: #00af00\">26</span>, <span style=\"color: #00af00; text-decoration-color: #00af00\">128</span>)    │             <span style=\"color: #00af00; text-decoration-color: #00af00\">0</span> │\n",
       "├─────────────────────────────────┼────────────────────────┼───────────────┤\n",
       "│ global_average_pooling2d_1      │ (<span style=\"color: #00d7ff; text-decoration-color: #00d7ff\">None</span>, <span style=\"color: #00af00; text-decoration-color: #00af00\">128</span>)            │             <span style=\"color: #00af00; text-decoration-color: #00af00\">0</span> │\n",
       "│ (<span style=\"color: #0087ff; text-decoration-color: #0087ff\">GlobalAveragePooling2D</span>)        │                        │               │\n",
       "├─────────────────────────────────┼────────────────────────┼───────────────┤\n",
       "│ dense_2 (<span style=\"color: #0087ff; text-decoration-color: #0087ff\">Dense</span>)                 │ (<span style=\"color: #00d7ff; text-decoration-color: #00d7ff\">None</span>, <span style=\"color: #00af00; text-decoration-color: #00af00\">256</span>)            │        <span style=\"color: #00af00; text-decoration-color: #00af00\">33,024</span> │\n",
       "├─────────────────────────────────┼────────────────────────┼───────────────┤\n",
       "│ dropout_1 (<span style=\"color: #0087ff; text-decoration-color: #0087ff\">Dropout</span>)             │ (<span style=\"color: #00d7ff; text-decoration-color: #00d7ff\">None</span>, <span style=\"color: #00af00; text-decoration-color: #00af00\">256</span>)            │             <span style=\"color: #00af00; text-decoration-color: #00af00\">0</span> │\n",
       "├─────────────────────────────────┼────────────────────────┼───────────────┤\n",
       "│ dense_3 (<span style=\"color: #0087ff; text-decoration-color: #0087ff\">Dense</span>)                 │ (<span style=\"color: #00d7ff; text-decoration-color: #00d7ff\">None</span>, <span style=\"color: #00af00; text-decoration-color: #00af00\">4</span>)              │         <span style=\"color: #00af00; text-decoration-color: #00af00\">1,028</span> │\n",
       "└─────────────────────────────────┴────────────────────────┴───────────────┘\n",
       "</pre>\n"
      ],
      "text/plain": [
       "┏━━━━━━━━━━━━━━━━━━━━━━━━━━━━━━━━━┳━━━━━━━━━━━━━━━━━━━━━━━━┳━━━━━━━━━━━━━━━┓\n",
       "┃\u001b[1m \u001b[0m\u001b[1mLayer (type)                   \u001b[0m\u001b[1m \u001b[0m┃\u001b[1m \u001b[0m\u001b[1mOutput Shape          \u001b[0m\u001b[1m \u001b[0m┃\u001b[1m \u001b[0m\u001b[1m      Param #\u001b[0m\u001b[1m \u001b[0m┃\n",
       "┡━━━━━━━━━━━━━━━━━━━━━━━━━━━━━━━━━╇━━━━━━━━━━━━━━━━━━━━━━━━╇━━━━━━━━━━━━━━━┩\n",
       "│ input_layer_1 (\u001b[38;5;33mInputLayer\u001b[0m)      │ (\u001b[38;5;45mNone\u001b[0m, \u001b[38;5;34m176\u001b[0m, \u001b[38;5;34m208\u001b[0m, \u001b[38;5;34m3\u001b[0m)    │             \u001b[38;5;34m0\u001b[0m │\n",
       "├─────────────────────────────────┼────────────────────────┼───────────────┤\n",
       "│ conv2d_3 (\u001b[38;5;33mConv2D\u001b[0m)               │ (\u001b[38;5;45mNone\u001b[0m, \u001b[38;5;34m176\u001b[0m, \u001b[38;5;34m208\u001b[0m, \u001b[38;5;34m32\u001b[0m)   │           \u001b[38;5;34m896\u001b[0m │\n",
       "├─────────────────────────────────┼────────────────────────┼───────────────┤\n",
       "│ max_pooling2d_3 (\u001b[38;5;33mMaxPooling2D\u001b[0m)  │ (\u001b[38;5;45mNone\u001b[0m, \u001b[38;5;34m88\u001b[0m, \u001b[38;5;34m104\u001b[0m, \u001b[38;5;34m32\u001b[0m)    │             \u001b[38;5;34m0\u001b[0m │\n",
       "├─────────────────────────────────┼────────────────────────┼───────────────┤\n",
       "│ conv2d_4 (\u001b[38;5;33mConv2D\u001b[0m)               │ (\u001b[38;5;45mNone\u001b[0m, \u001b[38;5;34m88\u001b[0m, \u001b[38;5;34m104\u001b[0m, \u001b[38;5;34m64\u001b[0m)    │        \u001b[38;5;34m18,496\u001b[0m │\n",
       "├─────────────────────────────────┼────────────────────────┼───────────────┤\n",
       "│ max_pooling2d_4 (\u001b[38;5;33mMaxPooling2D\u001b[0m)  │ (\u001b[38;5;45mNone\u001b[0m, \u001b[38;5;34m44\u001b[0m, \u001b[38;5;34m52\u001b[0m, \u001b[38;5;34m64\u001b[0m)     │             \u001b[38;5;34m0\u001b[0m │\n",
       "├─────────────────────────────────┼────────────────────────┼───────────────┤\n",
       "│ conv2d_5 (\u001b[38;5;33mConv2D\u001b[0m)               │ (\u001b[38;5;45mNone\u001b[0m, \u001b[38;5;34m44\u001b[0m, \u001b[38;5;34m52\u001b[0m, \u001b[38;5;34m128\u001b[0m)    │        \u001b[38;5;34m73,856\u001b[0m │\n",
       "├─────────────────────────────────┼────────────────────────┼───────────────┤\n",
       "│ max_pooling2d_5 (\u001b[38;5;33mMaxPooling2D\u001b[0m)  │ (\u001b[38;5;45mNone\u001b[0m, \u001b[38;5;34m22\u001b[0m, \u001b[38;5;34m26\u001b[0m, \u001b[38;5;34m128\u001b[0m)    │             \u001b[38;5;34m0\u001b[0m │\n",
       "├─────────────────────────────────┼────────────────────────┼───────────────┤\n",
       "│ global_average_pooling2d_1      │ (\u001b[38;5;45mNone\u001b[0m, \u001b[38;5;34m128\u001b[0m)            │             \u001b[38;5;34m0\u001b[0m │\n",
       "│ (\u001b[38;5;33mGlobalAveragePooling2D\u001b[0m)        │                        │               │\n",
       "├─────────────────────────────────┼────────────────────────┼───────────────┤\n",
       "│ dense_2 (\u001b[38;5;33mDense\u001b[0m)                 │ (\u001b[38;5;45mNone\u001b[0m, \u001b[38;5;34m256\u001b[0m)            │        \u001b[38;5;34m33,024\u001b[0m │\n",
       "├─────────────────────────────────┼────────────────────────┼───────────────┤\n",
       "│ dropout_1 (\u001b[38;5;33mDropout\u001b[0m)             │ (\u001b[38;5;45mNone\u001b[0m, \u001b[38;5;34m256\u001b[0m)            │             \u001b[38;5;34m0\u001b[0m │\n",
       "├─────────────────────────────────┼────────────────────────┼───────────────┤\n",
       "│ dense_3 (\u001b[38;5;33mDense\u001b[0m)                 │ (\u001b[38;5;45mNone\u001b[0m, \u001b[38;5;34m4\u001b[0m)              │         \u001b[38;5;34m1,028\u001b[0m │\n",
       "└─────────────────────────────────┴────────────────────────┴───────────────┘\n"
      ]
     },
     "metadata": {},
     "output_type": "display_data"
    },
    {
     "data": {
      "text/html": [
       "<pre style=\"white-space:pre;overflow-x:auto;line-height:normal;font-family:Menlo,'DejaVu Sans Mono',consolas,'Courier New',monospace\"><span style=\"font-weight: bold\"> Total params: </span><span style=\"color: #00af00; text-decoration-color: #00af00\">127,300</span> (497.27 KB)\n",
       "</pre>\n"
      ],
      "text/plain": [
       "\u001b[1m Total params: \u001b[0m\u001b[38;5;34m127,300\u001b[0m (497.27 KB)\n"
      ]
     },
     "metadata": {},
     "output_type": "display_data"
    },
    {
     "data": {
      "text/html": [
       "<pre style=\"white-space:pre;overflow-x:auto;line-height:normal;font-family:Menlo,'DejaVu Sans Mono',consolas,'Courier New',monospace\"><span style=\"font-weight: bold\"> Trainable params: </span><span style=\"color: #00af00; text-decoration-color: #00af00\">127,300</span> (497.27 KB)\n",
       "</pre>\n"
      ],
      "text/plain": [
       "\u001b[1m Trainable params: \u001b[0m\u001b[38;5;34m127,300\u001b[0m (497.27 KB)\n"
      ]
     },
     "metadata": {},
     "output_type": "display_data"
    },
    {
     "data": {
      "text/html": [
       "<pre style=\"white-space:pre;overflow-x:auto;line-height:normal;font-family:Menlo,'DejaVu Sans Mono',consolas,'Courier New',monospace\"><span style=\"font-weight: bold\"> Non-trainable params: </span><span style=\"color: #00af00; text-decoration-color: #00af00\">0</span> (0.00 B)\n",
       "</pre>\n"
      ],
      "text/plain": [
       "\u001b[1m Non-trainable params: \u001b[0m\u001b[38;5;34m0\u001b[0m (0.00 B)\n"
      ]
     },
     "metadata": {},
     "output_type": "display_data"
    },
    {
     "data": {
      "text/html": [
       "<pre style=\"white-space:pre;overflow-x:auto;line-height:normal;font-family:Menlo,'DejaVu Sans Mono',consolas,'Courier New',monospace\"><span style=\"font-weight: bold\">Model: \"functional_3\"</span>\n",
       "</pre>\n"
      ],
      "text/plain": [
       "\u001b[1mModel: \"functional_3\"\u001b[0m\n"
      ]
     },
     "metadata": {},
     "output_type": "display_data"
    },
    {
     "data": {
      "text/html": [
       "<pre style=\"white-space:pre;overflow-x:auto;line-height:normal;font-family:Menlo,'DejaVu Sans Mono',consolas,'Courier New',monospace\">┏━━━━━━━━━━━━━━━━━━━━━━━━━━━━━━━━━┳━━━━━━━━━━━━━━━━━━━━━━━━┳━━━━━━━━━━━━━━━┓\n",
       "┃<span style=\"font-weight: bold\"> Layer (type)                    </span>┃<span style=\"font-weight: bold\"> Output Shape           </span>┃<span style=\"font-weight: bold\">       Param # </span>┃\n",
       "┡━━━━━━━━━━━━━━━━━━━━━━━━━━━━━━━━━╇━━━━━━━━━━━━━━━━━━━━━━━━╇━━━━━━━━━━━━━━━┩\n",
       "│ input_layer_1 (<span style=\"color: #0087ff; text-decoration-color: #0087ff\">InputLayer</span>)      │ (<span style=\"color: #00d7ff; text-decoration-color: #00d7ff\">None</span>, <span style=\"color: #00af00; text-decoration-color: #00af00\">176</span>, <span style=\"color: #00af00; text-decoration-color: #00af00\">208</span>, <span style=\"color: #00af00; text-decoration-color: #00af00\">3</span>)    │             <span style=\"color: #00af00; text-decoration-color: #00af00\">0</span> │\n",
       "├─────────────────────────────────┼────────────────────────┼───────────────┤\n",
       "│ conv2d_3 (<span style=\"color: #0087ff; text-decoration-color: #0087ff\">Conv2D</span>)               │ (<span style=\"color: #00d7ff; text-decoration-color: #00d7ff\">None</span>, <span style=\"color: #00af00; text-decoration-color: #00af00\">176</span>, <span style=\"color: #00af00; text-decoration-color: #00af00\">208</span>, <span style=\"color: #00af00; text-decoration-color: #00af00\">32</span>)   │           <span style=\"color: #00af00; text-decoration-color: #00af00\">896</span> │\n",
       "├─────────────────────────────────┼────────────────────────┼───────────────┤\n",
       "│ max_pooling2d_3 (<span style=\"color: #0087ff; text-decoration-color: #0087ff\">MaxPooling2D</span>)  │ (<span style=\"color: #00d7ff; text-decoration-color: #00d7ff\">None</span>, <span style=\"color: #00af00; text-decoration-color: #00af00\">88</span>, <span style=\"color: #00af00; text-decoration-color: #00af00\">104</span>, <span style=\"color: #00af00; text-decoration-color: #00af00\">32</span>)    │             <span style=\"color: #00af00; text-decoration-color: #00af00\">0</span> │\n",
       "├─────────────────────────────────┼────────────────────────┼───────────────┤\n",
       "│ conv2d_4 (<span style=\"color: #0087ff; text-decoration-color: #0087ff\">Conv2D</span>)               │ (<span style=\"color: #00d7ff; text-decoration-color: #00d7ff\">None</span>, <span style=\"color: #00af00; text-decoration-color: #00af00\">88</span>, <span style=\"color: #00af00; text-decoration-color: #00af00\">104</span>, <span style=\"color: #00af00; text-decoration-color: #00af00\">64</span>)    │        <span style=\"color: #00af00; text-decoration-color: #00af00\">18,496</span> │\n",
       "├─────────────────────────────────┼────────────────────────┼───────────────┤\n",
       "│ max_pooling2d_4 (<span style=\"color: #0087ff; text-decoration-color: #0087ff\">MaxPooling2D</span>)  │ (<span style=\"color: #00d7ff; text-decoration-color: #00d7ff\">None</span>, <span style=\"color: #00af00; text-decoration-color: #00af00\">44</span>, <span style=\"color: #00af00; text-decoration-color: #00af00\">52</span>, <span style=\"color: #00af00; text-decoration-color: #00af00\">64</span>)     │             <span style=\"color: #00af00; text-decoration-color: #00af00\">0</span> │\n",
       "├─────────────────────────────────┼────────────────────────┼───────────────┤\n",
       "│ conv2d_5 (<span style=\"color: #0087ff; text-decoration-color: #0087ff\">Conv2D</span>)               │ (<span style=\"color: #00d7ff; text-decoration-color: #00d7ff\">None</span>, <span style=\"color: #00af00; text-decoration-color: #00af00\">44</span>, <span style=\"color: #00af00; text-decoration-color: #00af00\">52</span>, <span style=\"color: #00af00; text-decoration-color: #00af00\">128</span>)    │        <span style=\"color: #00af00; text-decoration-color: #00af00\">73,856</span> │\n",
       "├─────────────────────────────────┼────────────────────────┼───────────────┤\n",
       "│ max_pooling2d_5 (<span style=\"color: #0087ff; text-decoration-color: #0087ff\">MaxPooling2D</span>)  │ (<span style=\"color: #00d7ff; text-decoration-color: #00d7ff\">None</span>, <span style=\"color: #00af00; text-decoration-color: #00af00\">22</span>, <span style=\"color: #00af00; text-decoration-color: #00af00\">26</span>, <span style=\"color: #00af00; text-decoration-color: #00af00\">128</span>)    │             <span style=\"color: #00af00; text-decoration-color: #00af00\">0</span> │\n",
       "├─────────────────────────────────┼────────────────────────┼───────────────┤\n",
       "│ global_average_pooling2d_1      │ (<span style=\"color: #00d7ff; text-decoration-color: #00d7ff\">None</span>, <span style=\"color: #00af00; text-decoration-color: #00af00\">128</span>)            │             <span style=\"color: #00af00; text-decoration-color: #00af00\">0</span> │\n",
       "│ (<span style=\"color: #0087ff; text-decoration-color: #0087ff\">GlobalAveragePooling2D</span>)        │                        │               │\n",
       "├─────────────────────────────────┼────────────────────────┼───────────────┤\n",
       "│ dense_2 (<span style=\"color: #0087ff; text-decoration-color: #0087ff\">Dense</span>)                 │ (<span style=\"color: #00d7ff; text-decoration-color: #00d7ff\">None</span>, <span style=\"color: #00af00; text-decoration-color: #00af00\">256</span>)            │        <span style=\"color: #00af00; text-decoration-color: #00af00\">33,024</span> │\n",
       "├─────────────────────────────────┼────────────────────────┼───────────────┤\n",
       "│ dropout_1 (<span style=\"color: #0087ff; text-decoration-color: #0087ff\">Dropout</span>)             │ (<span style=\"color: #00d7ff; text-decoration-color: #00d7ff\">None</span>, <span style=\"color: #00af00; text-decoration-color: #00af00\">256</span>)            │             <span style=\"color: #00af00; text-decoration-color: #00af00\">0</span> │\n",
       "├─────────────────────────────────┼────────────────────────┼───────────────┤\n",
       "│ dense_3 (<span style=\"color: #0087ff; text-decoration-color: #0087ff\">Dense</span>)                 │ (<span style=\"color: #00d7ff; text-decoration-color: #00d7ff\">None</span>, <span style=\"color: #00af00; text-decoration-color: #00af00\">4</span>)              │         <span style=\"color: #00af00; text-decoration-color: #00af00\">1,028</span> │\n",
       "└─────────────────────────────────┴────────────────────────┴───────────────┘\n",
       "</pre>\n"
      ],
      "text/plain": [
       "┏━━━━━━━━━━━━━━━━━━━━━━━━━━━━━━━━━┳━━━━━━━━━━━━━━━━━━━━━━━━┳━━━━━━━━━━━━━━━┓\n",
       "┃\u001b[1m \u001b[0m\u001b[1mLayer (type)                   \u001b[0m\u001b[1m \u001b[0m┃\u001b[1m \u001b[0m\u001b[1mOutput Shape          \u001b[0m\u001b[1m \u001b[0m┃\u001b[1m \u001b[0m\u001b[1m      Param #\u001b[0m\u001b[1m \u001b[0m┃\n",
       "┡━━━━━━━━━━━━━━━━━━━━━━━━━━━━━━━━━╇━━━━━━━━━━━━━━━━━━━━━━━━╇━━━━━━━━━━━━━━━┩\n",
       "│ input_layer_1 (\u001b[38;5;33mInputLayer\u001b[0m)      │ (\u001b[38;5;45mNone\u001b[0m, \u001b[38;5;34m176\u001b[0m, \u001b[38;5;34m208\u001b[0m, \u001b[38;5;34m3\u001b[0m)    │             \u001b[38;5;34m0\u001b[0m │\n",
       "├─────────────────────────────────┼────────────────────────┼───────────────┤\n",
       "│ conv2d_3 (\u001b[38;5;33mConv2D\u001b[0m)               │ (\u001b[38;5;45mNone\u001b[0m, \u001b[38;5;34m176\u001b[0m, \u001b[38;5;34m208\u001b[0m, \u001b[38;5;34m32\u001b[0m)   │           \u001b[38;5;34m896\u001b[0m │\n",
       "├─────────────────────────────────┼────────────────────────┼───────────────┤\n",
       "│ max_pooling2d_3 (\u001b[38;5;33mMaxPooling2D\u001b[0m)  │ (\u001b[38;5;45mNone\u001b[0m, \u001b[38;5;34m88\u001b[0m, \u001b[38;5;34m104\u001b[0m, \u001b[38;5;34m32\u001b[0m)    │             \u001b[38;5;34m0\u001b[0m │\n",
       "├─────────────────────────────────┼────────────────────────┼───────────────┤\n",
       "│ conv2d_4 (\u001b[38;5;33mConv2D\u001b[0m)               │ (\u001b[38;5;45mNone\u001b[0m, \u001b[38;5;34m88\u001b[0m, \u001b[38;5;34m104\u001b[0m, \u001b[38;5;34m64\u001b[0m)    │        \u001b[38;5;34m18,496\u001b[0m │\n",
       "├─────────────────────────────────┼────────────────────────┼───────────────┤\n",
       "│ max_pooling2d_4 (\u001b[38;5;33mMaxPooling2D\u001b[0m)  │ (\u001b[38;5;45mNone\u001b[0m, \u001b[38;5;34m44\u001b[0m, \u001b[38;5;34m52\u001b[0m, \u001b[38;5;34m64\u001b[0m)     │             \u001b[38;5;34m0\u001b[0m │\n",
       "├─────────────────────────────────┼────────────────────────┼───────────────┤\n",
       "│ conv2d_5 (\u001b[38;5;33mConv2D\u001b[0m)               │ (\u001b[38;5;45mNone\u001b[0m, \u001b[38;5;34m44\u001b[0m, \u001b[38;5;34m52\u001b[0m, \u001b[38;5;34m128\u001b[0m)    │        \u001b[38;5;34m73,856\u001b[0m │\n",
       "├─────────────────────────────────┼────────────────────────┼───────────────┤\n",
       "│ max_pooling2d_5 (\u001b[38;5;33mMaxPooling2D\u001b[0m)  │ (\u001b[38;5;45mNone\u001b[0m, \u001b[38;5;34m22\u001b[0m, \u001b[38;5;34m26\u001b[0m, \u001b[38;5;34m128\u001b[0m)    │             \u001b[38;5;34m0\u001b[0m │\n",
       "├─────────────────────────────────┼────────────────────────┼───────────────┤\n",
       "│ global_average_pooling2d_1      │ (\u001b[38;5;45mNone\u001b[0m, \u001b[38;5;34m128\u001b[0m)            │             \u001b[38;5;34m0\u001b[0m │\n",
       "│ (\u001b[38;5;33mGlobalAveragePooling2D\u001b[0m)        │                        │               │\n",
       "├─────────────────────────────────┼────────────────────────┼───────────────┤\n",
       "│ dense_2 (\u001b[38;5;33mDense\u001b[0m)                 │ (\u001b[38;5;45mNone\u001b[0m, \u001b[38;5;34m256\u001b[0m)            │        \u001b[38;5;34m33,024\u001b[0m │\n",
       "├─────────────────────────────────┼────────────────────────┼───────────────┤\n",
       "│ dropout_1 (\u001b[38;5;33mDropout\u001b[0m)             │ (\u001b[38;5;45mNone\u001b[0m, \u001b[38;5;34m256\u001b[0m)            │             \u001b[38;5;34m0\u001b[0m │\n",
       "├─────────────────────────────────┼────────────────────────┼───────────────┤\n",
       "│ dense_3 (\u001b[38;5;33mDense\u001b[0m)                 │ (\u001b[38;5;45mNone\u001b[0m, \u001b[38;5;34m4\u001b[0m)              │         \u001b[38;5;34m1,028\u001b[0m │\n",
       "└─────────────────────────────────┴────────────────────────┴───────────────┘\n"
      ]
     },
     "metadata": {},
     "output_type": "display_data"
    },
    {
     "data": {
      "text/html": [
       "<pre style=\"white-space:pre;overflow-x:auto;line-height:normal;font-family:Menlo,'DejaVu Sans Mono',consolas,'Courier New',monospace\"><span style=\"font-weight: bold\"> Total params: </span><span style=\"color: #00af00; text-decoration-color: #00af00\">127,300</span> (497.27 KB)\n",
       "</pre>\n"
      ],
      "text/plain": [
       "\u001b[1m Total params: \u001b[0m\u001b[38;5;34m127,300\u001b[0m (497.27 KB)\n"
      ]
     },
     "metadata": {},
     "output_type": "display_data"
    },
    {
     "data": {
      "text/html": [
       "<pre style=\"white-space:pre;overflow-x:auto;line-height:normal;font-family:Menlo,'DejaVu Sans Mono',consolas,'Courier New',monospace\"><span style=\"font-weight: bold\"> Trainable params: </span><span style=\"color: #00af00; text-decoration-color: #00af00\">127,300</span> (497.27 KB)\n",
       "</pre>\n"
      ],
      "text/plain": [
       "\u001b[1m Trainable params: \u001b[0m\u001b[38;5;34m127,300\u001b[0m (497.27 KB)\n"
      ]
     },
     "metadata": {},
     "output_type": "display_data"
    },
    {
     "data": {
      "text/html": [
       "<pre style=\"white-space:pre;overflow-x:auto;line-height:normal;font-family:Menlo,'DejaVu Sans Mono',consolas,'Courier New',monospace\"><span style=\"font-weight: bold\"> Non-trainable params: </span><span style=\"color: #00af00; text-decoration-color: #00af00\">0</span> (0.00 B)\n",
       "</pre>\n"
      ],
      "text/plain": [
       "\u001b[1m Non-trainable params: \u001b[0m\u001b[38;5;34m0\u001b[0m (0.00 B)\n"
      ]
     },
     "metadata": {},
     "output_type": "display_data"
    },
    {
     "name": "stdout",
     "output_type": "stream",
     "text": [
      "Epoch 1/100\n"
     ]
    },
    {
     "name": "stderr",
     "output_type": "stream",
     "text": [
      "/home/oskarem/.local/lib/python3.10/site-packages/keras/src/trainers/data_adapters/py_dataset_adapter.py:121: UserWarning: Your `PyDataset` class should call `super().__init__(**kwargs)` in its constructor. `**kwargs` can include `workers`, `use_multiprocessing`, `max_queue_size`. Do not pass these arguments to `fit()`, as they will be ignored.\n",
      "  self._warn_if_super_not_called()\n"
     ]
    },
    {
     "name": "stdout",
     "output_type": "stream",
     "text": [
      "\u001b[1m159/161\u001b[0m \u001b[32m━━━━━━━━━━━━━━━━━━━\u001b[0m\u001b[37m━\u001b[0m \u001b[1m0s\u001b[0m 34ms/step - accuracy: 0.4644 - loss: 1.1161\n",
      "Epoch 1: val_accuracy improved from -inf to 0.49574, saving model to ./model_checkpoints/checkpoint-01-0.50.keras\n",
      "\u001b[1m161/161\u001b[0m \u001b[32m━━━━━━━━━━━━━━━━━━━━\u001b[0m\u001b[37m\u001b[0m \u001b[1m10s\u001b[0m 44ms/step - accuracy: 0.4647 - loss: 1.1150 - val_accuracy: 0.4957 - val_loss: 1.0423\n",
      "Epoch 2/100\n",
      "\u001b[1m161/161\u001b[0m \u001b[32m━━━━━━━━━━━━━━━━━━━━\u001b[0m\u001b[37m\u001b[0m \u001b[1m0s\u001b[0m 24ms/step - accuracy: 0.5038 - loss: 1.0199\n",
      "Epoch 2: val_accuracy did not improve from 0.49574\n",
      "\u001b[1m161/161\u001b[0m \u001b[32m━━━━━━━━━━━━━━━━━━━━\u001b[0m\u001b[37m\u001b[0m \u001b[1m5s\u001b[0m 31ms/step - accuracy: 0.5037 - loss: 1.0200 - val_accuracy: 0.4957 - val_loss: 1.0383\n",
      "Epoch 3/100\n",
      "\u001b[1m160/161\u001b[0m \u001b[32m━━━━━━━━━━━━━━━━━━━\u001b[0m\u001b[37m━\u001b[0m \u001b[1m0s\u001b[0m 26ms/step - accuracy: 0.4963 - loss: 1.0296\n",
      "Epoch 3: val_accuracy did not improve from 0.49574\n",
      "\u001b[1m161/161\u001b[0m \u001b[32m━━━━━━━━━━━━━━━━━━━━\u001b[0m\u001b[37m\u001b[0m \u001b[1m5s\u001b[0m 32ms/step - accuracy: 0.4962 - loss: 1.0297 - val_accuracy: 0.4957 - val_loss: 1.0331\n",
      "Epoch 4/100\n",
      "\u001b[1m157/161\u001b[0m \u001b[32m━━━━━━━━━━━━━━━━━━━\u001b[0m\u001b[37m━\u001b[0m \u001b[1m0s\u001b[0m 23ms/step - accuracy: 0.5164 - loss: 0.9968\n",
      "Epoch 4: val_accuracy improved from 0.49574 to 0.51820, saving model to ./model_checkpoints/checkpoint-04-0.52.keras\n",
      "\u001b[1m161/161\u001b[0m \u001b[32m━━━━━━━━━━━━━━━━━━━━\u001b[0m\u001b[37m\u001b[0m \u001b[1m5s\u001b[0m 30ms/step - accuracy: 0.5161 - loss: 0.9975 - val_accuracy: 0.5182 - val_loss: 0.9977\n",
      "Epoch 5/100\n",
      "\u001b[1m157/161\u001b[0m \u001b[32m━━━━━━━━━━━━━━━━━━━\u001b[0m\u001b[37m━\u001b[0m \u001b[1m0s\u001b[0m 25ms/step - accuracy: 0.5159 - loss: 1.0078\n",
      "Epoch 5: val_accuracy improved from 0.51820 to 0.52208, saving model to ./model_checkpoints/checkpoint-05-0.52.keras\n",
      "\u001b[1m161/161\u001b[0m \u001b[32m━━━━━━━━━━━━━━━━━━━━\u001b[0m\u001b[37m\u001b[0m \u001b[1m5s\u001b[0m 32ms/step - accuracy: 0.5159 - loss: 1.0076 - val_accuracy: 0.5221 - val_loss: 1.0032\n",
      "Epoch 6/100\n",
      "\u001b[1m159/161\u001b[0m \u001b[32m━━━━━━━━━━━━━━━━━━━\u001b[0m\u001b[37m━\u001b[0m \u001b[1m0s\u001b[0m 24ms/step - accuracy: 0.5435 - loss: 0.9718\n",
      "Epoch 6: val_accuracy did not improve from 0.52208\n",
      "\u001b[1m161/161\u001b[0m \u001b[32m━━━━━━━━━━━━━━━━━━━━\u001b[0m\u001b[37m\u001b[0m \u001b[1m5s\u001b[0m 32ms/step - accuracy: 0.5433 - loss: 0.9720 - val_accuracy: 0.5205 - val_loss: 1.0001\n",
      "Epoch 7/100\n",
      "\u001b[1m159/161\u001b[0m \u001b[32m━━━━━━━━━━━━━━━━━━━\u001b[0m\u001b[37m━\u001b[0m \u001b[1m0s\u001b[0m 25ms/step - accuracy: 0.5345 - loss: 0.9781\n",
      "Epoch 7: val_accuracy improved from 0.52208 to 0.56081, saving model to ./model_checkpoints/checkpoint-07-0.56.keras\n",
      "\u001b[1m161/161\u001b[0m \u001b[32m━━━━━━━━━━━━━━━━━━━━\u001b[0m\u001b[37m\u001b[0m \u001b[1m5s\u001b[0m 32ms/step - accuracy: 0.5346 - loss: 0.9778 - val_accuracy: 0.5608 - val_loss: 0.9444\n",
      "Epoch 8/100\n",
      "\u001b[1m161/161\u001b[0m \u001b[32m━━━━━━━━━━━━━━━━━━━━\u001b[0m\u001b[37m\u001b[0m \u001b[1m0s\u001b[0m 27ms/step - accuracy: 0.5396 - loss: 0.9725\n",
      "Epoch 8: val_accuracy did not improve from 0.56081\n",
      "\u001b[1m161/161\u001b[0m \u001b[32m━━━━━━━━━━━━━━━━━━━━\u001b[0m\u001b[37m\u001b[0m \u001b[1m6s\u001b[0m 33ms/step - accuracy: 0.5396 - loss: 0.9725 - val_accuracy: 0.5252 - val_loss: 1.0095\n",
      "Epoch 9/100\n",
      "\u001b[1m158/161\u001b[0m \u001b[32m━━━━━━━━━━━━━━━━━━━\u001b[0m\u001b[37m━\u001b[0m \u001b[1m0s\u001b[0m 25ms/step - accuracy: 0.5452 - loss: 0.9363\n",
      "Epoch 9: val_accuracy improved from 0.56081 to 0.56545, saving model to ./model_checkpoints/checkpoint-09-0.57.keras\n",
      "\u001b[1m161/161\u001b[0m \u001b[32m━━━━━━━━━━━━━━━━━━━━\u001b[0m\u001b[37m\u001b[0m \u001b[1m5s\u001b[0m 32ms/step - accuracy: 0.5452 - loss: 0.9364 - val_accuracy: 0.5655 - val_loss: 0.9332\n",
      "Epoch 10/100\n",
      "\u001b[1m158/161\u001b[0m \u001b[32m━━━━━━━━━━━━━━━━━━━\u001b[0m\u001b[37m━\u001b[0m \u001b[1m0s\u001b[0m 25ms/step - accuracy: 0.5592 - loss: 0.9383\n",
      "Epoch 10: val_accuracy did not improve from 0.56545\n",
      "\u001b[1m161/161\u001b[0m \u001b[32m━━━━━━━━━━━━━━━━━━━━\u001b[0m\u001b[37m\u001b[0m \u001b[1m5s\u001b[0m 32ms/step - accuracy: 0.5591 - loss: 0.9382 - val_accuracy: 0.5577 - val_loss: 0.9388\n",
      "Epoch 11/100\n",
      "\u001b[1m160/161\u001b[0m \u001b[32m━━━━━━━━━━━━━━━━━━━\u001b[0m\u001b[37m━\u001b[0m \u001b[1m0s\u001b[0m 22ms/step - accuracy: 0.5577 - loss: 0.9258\n",
      "Epoch 11: val_accuracy improved from 0.56545 to 0.56700, saving model to ./model_checkpoints/checkpoint-11-0.57.keras\n",
      "\u001b[1m161/161\u001b[0m \u001b[32m━━━━━━━━━━━━━━━━━━━━\u001b[0m\u001b[37m\u001b[0m \u001b[1m5s\u001b[0m 29ms/step - accuracy: 0.5578 - loss: 0.9258 - val_accuracy: 0.5670 - val_loss: 0.9274\n",
      "Epoch 12/100\n",
      "\u001b[1m157/161\u001b[0m \u001b[32m━━━━━━━━━━━━━━━━━━━\u001b[0m\u001b[37m━\u001b[0m \u001b[1m0s\u001b[0m 22ms/step - accuracy: 0.5625 - loss: 0.9251\n",
      "Epoch 12: val_accuracy did not improve from 0.56700\n",
      "\u001b[1m161/161\u001b[0m \u001b[32m━━━━━━━━━━━━━━━━━━━━\u001b[0m\u001b[37m\u001b[0m \u001b[1m5s\u001b[0m 29ms/step - accuracy: 0.5625 - loss: 0.9250 - val_accuracy: 0.5259 - val_loss: 0.9816\n",
      "Epoch 13/100\n",
      "\u001b[1m161/161\u001b[0m \u001b[32m━━━━━━━━━━━━━━━━━━━━\u001b[0m\u001b[37m\u001b[0m \u001b[1m0s\u001b[0m 24ms/step - accuracy: 0.5671 - loss: 0.9187\n",
      "Epoch 13: val_accuracy improved from 0.56700 to 0.57475, saving model to ./model_checkpoints/checkpoint-13-0.57.keras\n",
      "\u001b[1m161/161\u001b[0m \u001b[32m━━━━━━━━━━━━━━━━━━━━\u001b[0m\u001b[37m\u001b[0m \u001b[1m5s\u001b[0m 31ms/step - accuracy: 0.5670 - loss: 0.9187 - val_accuracy: 0.5747 - val_loss: 0.9140\n",
      "Epoch 14/100\n",
      "\u001b[1m159/161\u001b[0m \u001b[32m━━━━━━━━━━━━━━━━━━━\u001b[0m\u001b[37m━\u001b[0m \u001b[1m0s\u001b[0m 25ms/step - accuracy: 0.5765 - loss: 0.8975\n",
      "Epoch 14: val_accuracy did not improve from 0.57475\n",
      "\u001b[1m161/161\u001b[0m \u001b[32m━━━━━━━━━━━━━━━━━━━━\u001b[0m\u001b[37m\u001b[0m \u001b[1m5s\u001b[0m 32ms/step - accuracy: 0.5764 - loss: 0.8977 - val_accuracy: 0.5716 - val_loss: 0.9256\n",
      "Epoch 15/100\n",
      "\u001b[1m160/161\u001b[0m \u001b[32m━━━━━━━━━━━━━━━━━━━\u001b[0m\u001b[37m━\u001b[0m \u001b[1m0s\u001b[0m 23ms/step - accuracy: 0.5734 - loss: 0.9225\n",
      "Epoch 15: val_accuracy did not improve from 0.57475\n",
      "\u001b[1m161/161\u001b[0m \u001b[32m━━━━━━━━━━━━━━━━━━━━\u001b[0m\u001b[37m\u001b[0m \u001b[1m5s\u001b[0m 29ms/step - accuracy: 0.5735 - loss: 0.9223 - val_accuracy: 0.5376 - val_loss: 0.9423\n",
      "Epoch 16/100\n",
      "\u001b[1m160/161\u001b[0m \u001b[32m━━━━━━━━━━━━━━━━━━━\u001b[0m\u001b[37m━\u001b[0m \u001b[1m0s\u001b[0m 24ms/step - accuracy: 0.5688 - loss: 0.9124\n",
      "Epoch 16: val_accuracy did not improve from 0.57475\n",
      "\u001b[1m161/161\u001b[0m \u001b[32m━━━━━━━━━━━━━━━━━━━━\u001b[0m\u001b[37m\u001b[0m \u001b[1m5s\u001b[0m 31ms/step - accuracy: 0.5689 - loss: 0.9122 - val_accuracy: 0.5686 - val_loss: 0.9566\n",
      "Epoch 17/100\n",
      "\u001b[1m159/161\u001b[0m \u001b[32m━━━━━━━━━━━━━━━━━━━\u001b[0m\u001b[37m━\u001b[0m \u001b[1m0s\u001b[0m 25ms/step - accuracy: 0.5712 - loss: 0.9175\n",
      "Epoch 17: val_accuracy improved from 0.57475 to 0.58017, saving model to ./model_checkpoints/checkpoint-17-0.58.keras\n",
      "\u001b[1m161/161\u001b[0m \u001b[32m━━━━━━━━━━━━━━━━━━━━\u001b[0m\u001b[37m\u001b[0m \u001b[1m5s\u001b[0m 32ms/step - accuracy: 0.5711 - loss: 0.9174 - val_accuracy: 0.5802 - val_loss: 0.9130\n",
      "Epoch 18/100\n",
      "\u001b[1m157/161\u001b[0m \u001b[32m━━━━━━━━━━━━━━━━━━━\u001b[0m\u001b[37m━\u001b[0m \u001b[1m0s\u001b[0m 23ms/step - accuracy: 0.5973 - loss: 0.8734\n",
      "Epoch 18: val_accuracy did not improve from 0.58017\n",
      "\u001b[1m161/161\u001b[0m \u001b[32m━━━━━━━━━━━━━━━━━━━━\u001b[0m\u001b[37m\u001b[0m \u001b[1m5s\u001b[0m 31ms/step - accuracy: 0.5970 - loss: 0.8737 - val_accuracy: 0.5259 - val_loss: 0.9592\n",
      "Epoch 19/100\n",
      "\u001b[1m158/161\u001b[0m \u001b[32m━━━━━━━━━━━━━━━━━━━\u001b[0m\u001b[37m━\u001b[0m \u001b[1m0s\u001b[0m 24ms/step - accuracy: 0.5718 - loss: 0.8861\n",
      "Epoch 19: val_accuracy did not improve from 0.58017\n",
      "\u001b[1m161/161\u001b[0m \u001b[32m━━━━━━━━━━━━━━━━━━━━\u001b[0m\u001b[37m\u001b[0m \u001b[1m5s\u001b[0m 30ms/step - accuracy: 0.5720 - loss: 0.8860 - val_accuracy: 0.5732 - val_loss: 0.9500\n",
      "Epoch 20/100\n",
      "\u001b[1m160/161\u001b[0m \u001b[32m━━━━━━━━━━━━━━━━━━━\u001b[0m\u001b[37m━\u001b[0m \u001b[1m0s\u001b[0m 24ms/step - accuracy: 0.5943 - loss: 0.8804\n",
      "Epoch 20: val_accuracy improved from 0.58017 to 0.58249, saving model to ./model_checkpoints/checkpoint-20-0.58.keras\n",
      "\u001b[1m161/161\u001b[0m \u001b[32m━━━━━━━━━━━━━━━━━━━━\u001b[0m\u001b[37m\u001b[0m \u001b[1m5s\u001b[0m 32ms/step - accuracy: 0.5943 - loss: 0.8804 - val_accuracy: 0.5825 - val_loss: 0.9130\n",
      "Epoch 21/100\n",
      "\u001b[1m159/161\u001b[0m \u001b[32m━━━━━━━━━━━━━━━━━━━\u001b[0m\u001b[37m━\u001b[0m \u001b[1m0s\u001b[0m 23ms/step - accuracy: 0.6014 - loss: 0.8719\n",
      "Epoch 21: val_accuracy did not improve from 0.58249\n",
      "\u001b[1m161/161\u001b[0m \u001b[32m━━━━━━━━━━━━━━━━━━━━\u001b[0m\u001b[37m\u001b[0m \u001b[1m5s\u001b[0m 30ms/step - accuracy: 0.6014 - loss: 0.8719 - val_accuracy: 0.5786 - val_loss: 0.9225\n",
      "Epoch 22/100\n",
      "\u001b[1m160/161\u001b[0m \u001b[32m━━━━━━━━━━━━━━━━━━━\u001b[0m\u001b[37m━\u001b[0m \u001b[1m0s\u001b[0m 24ms/step - accuracy: 0.5718 - loss: 0.9076\n",
      "Epoch 22: val_accuracy did not improve from 0.58249\n",
      "\u001b[1m161/161\u001b[0m \u001b[32m━━━━━━━━━━━━━━━━━━━━\u001b[0m\u001b[37m\u001b[0m \u001b[1m5s\u001b[0m 31ms/step - accuracy: 0.5719 - loss: 0.9075 - val_accuracy: 0.5778 - val_loss: 0.9252\n",
      "Epoch 23/100\n",
      "\u001b[1m157/161\u001b[0m \u001b[32m━━━━━━━━━━━━━━━━━━━\u001b[0m\u001b[37m━\u001b[0m \u001b[1m0s\u001b[0m 23ms/step - accuracy: 0.6007 - loss: 0.8670\n",
      "Epoch 23: val_accuracy did not improve from 0.58249\n",
      "\u001b[1m161/161\u001b[0m \u001b[32m━━━━━━━━━━━━━━━━━━━━\u001b[0m\u001b[37m\u001b[0m \u001b[1m5s\u001b[0m 30ms/step - accuracy: 0.6007 - loss: 0.8669 - val_accuracy: 0.5817 - val_loss: 0.9138\n",
      "Epoch 24/100\n",
      "\u001b[1m160/161\u001b[0m \u001b[32m━━━━━━━━━━━━━━━━━━━\u001b[0m\u001b[37m━\u001b[0m \u001b[1m0s\u001b[0m 21ms/step - accuracy: 0.6133 - loss: 0.8576\n",
      "Epoch 24: val_accuracy did not improve from 0.58249\n",
      "\u001b[1m161/161\u001b[0m \u001b[32m━━━━━━━━━━━━━━━━━━━━\u001b[0m\u001b[37m\u001b[0m \u001b[1m5s\u001b[0m 28ms/step - accuracy: 0.6132 - loss: 0.8575 - val_accuracy: 0.5492 - val_loss: 1.0218\n",
      "Epoch 25/100\n",
      "\u001b[1m158/161\u001b[0m \u001b[32m━━━━━━━━━━━━━━━━━━━\u001b[0m\u001b[37m━\u001b[0m \u001b[1m0s\u001b[0m 25ms/step - accuracy: 0.5884 - loss: 0.8667\n",
      "Epoch 25: val_accuracy did not improve from 0.58249\n",
      "\u001b[1m161/161\u001b[0m \u001b[32m━━━━━━━━━━━━━━━━━━━━\u001b[0m\u001b[37m\u001b[0m \u001b[1m5s\u001b[0m 30ms/step - accuracy: 0.5888 - loss: 0.8665 - val_accuracy: 0.5817 - val_loss: 0.9034\n",
      "Epoch 26/100\n",
      "\u001b[1m160/161\u001b[0m \u001b[32m━━━━━━━━━━━━━━━━━━━\u001b[0m\u001b[37m━\u001b[0m \u001b[1m0s\u001b[0m 24ms/step - accuracy: 0.6153 - loss: 0.8499\n",
      "Epoch 26: val_accuracy did not improve from 0.58249\n",
      "\u001b[1m161/161\u001b[0m \u001b[32m━━━━━━━━━━━━━━━━━━━━\u001b[0m\u001b[37m\u001b[0m \u001b[1m5s\u001b[0m 31ms/step - accuracy: 0.6152 - loss: 0.8501 - val_accuracy: 0.5693 - val_loss: 0.9610\n",
      "Epoch 27/100\n",
      "\u001b[1m160/161\u001b[0m \u001b[32m━━━━━━━━━━━━━━━━━━━\u001b[0m\u001b[37m━\u001b[0m \u001b[1m0s\u001b[0m 26ms/step - accuracy: 0.6032 - loss: 0.8433\n",
      "Epoch 27: val_accuracy improved from 0.58249 to 0.59721, saving model to ./model_checkpoints/checkpoint-27-0.60.keras\n",
      "\u001b[1m161/161\u001b[0m \u001b[32m━━━━━━━━━━━━━━━━━━━━\u001b[0m\u001b[37m\u001b[0m \u001b[1m6s\u001b[0m 33ms/step - accuracy: 0.6033 - loss: 0.8434 - val_accuracy: 0.5972 - val_loss: 0.9182\n",
      "Epoch 28/100\n",
      "\u001b[1m157/161\u001b[0m \u001b[32m━━━━━━━━━━━━━━━━━━━\u001b[0m\u001b[37m━\u001b[0m \u001b[1m0s\u001b[0m 24ms/step - accuracy: 0.6070 - loss: 0.8450\n",
      "Epoch 28: val_accuracy did not improve from 0.59721\n",
      "\u001b[1m161/161\u001b[0m \u001b[32m━━━━━━━━━━━━━━━━━━━━\u001b[0m\u001b[37m\u001b[0m \u001b[1m5s\u001b[0m 29ms/step - accuracy: 0.6072 - loss: 0.8448 - val_accuracy: 0.5887 - val_loss: 0.8971\n",
      "Epoch 29/100\n",
      "\u001b[1m161/161\u001b[0m \u001b[32m━━━━━━━━━━━━━━━━━━━━\u001b[0m\u001b[37m\u001b[0m \u001b[1m0s\u001b[0m 23ms/step - accuracy: 0.6206 - loss: 0.8356\n",
      "Epoch 29: val_accuracy did not improve from 0.59721\n",
      "\u001b[1m161/161\u001b[0m \u001b[32m━━━━━━━━━━━━━━━━━━━━\u001b[0m\u001b[37m\u001b[0m \u001b[1m5s\u001b[0m 30ms/step - accuracy: 0.6206 - loss: 0.8357 - val_accuracy: 0.5585 - val_loss: 0.9154\n",
      "Epoch 30/100\n",
      "\u001b[1m159/161\u001b[0m \u001b[32m━━━━━━━━━━━━━━━━━━━\u001b[0m\u001b[37m━\u001b[0m \u001b[1m0s\u001b[0m 24ms/step - accuracy: 0.6358 - loss: 0.8251\n",
      "Epoch 30: val_accuracy improved from 0.59721 to 0.60496, saving model to ./model_checkpoints/checkpoint-30-0.60.keras\n",
      "\u001b[1m161/161\u001b[0m \u001b[32m━━━━━━━━━━━━━━━━━━━━\u001b[0m\u001b[37m\u001b[0m \u001b[1m5s\u001b[0m 30ms/step - accuracy: 0.6356 - loss: 0.8251 - val_accuracy: 0.6050 - val_loss: 0.8892\n",
      "Epoch 31/100\n",
      "\u001b[1m157/161\u001b[0m \u001b[32m━━━━━━━━━━━━━━━━━━━\u001b[0m\u001b[37m━\u001b[0m \u001b[1m0s\u001b[0m 23ms/step - accuracy: 0.6294 - loss: 0.8329\n",
      "Epoch 31: val_accuracy did not improve from 0.60496\n",
      "\u001b[1m161/161\u001b[0m \u001b[32m━━━━━━━━━━━━━━━━━━━━\u001b[0m\u001b[37m\u001b[0m \u001b[1m5s\u001b[0m 29ms/step - accuracy: 0.6293 - loss: 0.8329 - val_accuracy: 0.5972 - val_loss: 0.9156\n",
      "Epoch 32/100\n",
      "\u001b[1m161/161\u001b[0m \u001b[32m━━━━━━━━━━━━━━━━━━━━\u001b[0m\u001b[37m\u001b[0m \u001b[1m0s\u001b[0m 24ms/step - accuracy: 0.6318 - loss: 0.8300\n",
      "Epoch 32: val_accuracy did not improve from 0.60496\n",
      "\u001b[1m161/161\u001b[0m \u001b[32m━━━━━━━━━━━━━━━━━━━━\u001b[0m\u001b[37m\u001b[0m \u001b[1m5s\u001b[0m 30ms/step - accuracy: 0.6318 - loss: 0.8300 - val_accuracy: 0.5662 - val_loss: 0.9887\n",
      "Epoch 33/100\n",
      "\u001b[1m157/161\u001b[0m \u001b[32m━━━━━━━━━━━━━━━━━━━\u001b[0m\u001b[37m━\u001b[0m \u001b[1m0s\u001b[0m 24ms/step - accuracy: 0.6179 - loss: 0.8623\n",
      "Epoch 33: val_accuracy did not improve from 0.60496\n",
      "\u001b[1m161/161\u001b[0m \u001b[32m━━━━━━━━━━━━━━━━━━━━\u001b[0m\u001b[37m\u001b[0m \u001b[1m5s\u001b[0m 30ms/step - accuracy: 0.6181 - loss: 0.8615 - val_accuracy: 0.5840 - val_loss: 0.9402\n",
      "Epoch 34/100\n",
      "\u001b[1m161/161\u001b[0m \u001b[32m━━━━━━━━━━━━━━━━━━━━\u001b[0m\u001b[37m\u001b[0m \u001b[1m0s\u001b[0m 25ms/step - accuracy: 0.6205 - loss: 0.8316\n",
      "Epoch 34: val_accuracy did not improve from 0.60496\n",
      "\u001b[1m161/161\u001b[0m \u001b[32m━━━━━━━━━━━━━━━━━━━━\u001b[0m\u001b[37m\u001b[0m \u001b[1m5s\u001b[0m 31ms/step - accuracy: 0.6205 - loss: 0.8315 - val_accuracy: 0.5988 - val_loss: 0.8855\n",
      "Epoch 35/100\n",
      "\u001b[1m159/161\u001b[0m \u001b[32m━━━━━━━━━━━━━━━━━━━\u001b[0m\u001b[37m━\u001b[0m \u001b[1m0s\u001b[0m 23ms/step - accuracy: 0.6286 - loss: 0.8110\n",
      "Epoch 35: val_accuracy did not improve from 0.60496\n",
      "\u001b[1m161/161\u001b[0m \u001b[32m━━━━━━━━━━━━━━━━━━━━\u001b[0m\u001b[37m\u001b[0m \u001b[1m5s\u001b[0m 29ms/step - accuracy: 0.6285 - loss: 0.8113 - val_accuracy: 0.5662 - val_loss: 1.0009\n",
      "Epoch 36/100\n",
      "\u001b[1m157/161\u001b[0m \u001b[32m━━━━━━━━━━━━━━━━━━━\u001b[0m\u001b[37m━\u001b[0m \u001b[1m0s\u001b[0m 22ms/step - accuracy: 0.6333 - loss: 0.8191\n",
      "Epoch 36: val_accuracy did not improve from 0.60496\n",
      "\u001b[1m161/161\u001b[0m \u001b[32m━━━━━━━━━━━━━━━━━━━━\u001b[0m\u001b[37m\u001b[0m \u001b[1m5s\u001b[0m 29ms/step - accuracy: 0.6335 - loss: 0.8188 - val_accuracy: 0.6034 - val_loss: 0.8849\n",
      "Epoch 37/100\n",
      "\u001b[1m161/161\u001b[0m \u001b[32m━━━━━━━━━━━━━━━━━━━━\u001b[0m\u001b[37m\u001b[0m \u001b[1m0s\u001b[0m 24ms/step - accuracy: 0.6361 - loss: 0.8221\n",
      "Epoch 37: val_accuracy did not improve from 0.60496\n",
      "\u001b[1m161/161\u001b[0m \u001b[32m━━━━━━━━━━━━━━━━━━━━\u001b[0m\u001b[37m\u001b[0m \u001b[1m5s\u001b[0m 31ms/step - accuracy: 0.6362 - loss: 0.8221 - val_accuracy: 0.5910 - val_loss: 0.8996\n",
      "Epoch 38/100\n",
      "\u001b[1m159/161\u001b[0m \u001b[32m━━━━━━━━━━━━━━━━━━━\u001b[0m\u001b[37m━\u001b[0m \u001b[1m0s\u001b[0m 24ms/step - accuracy: 0.6369 - loss: 0.7994\n",
      "Epoch 38: val_accuracy did not improve from 0.60496\n",
      "\u001b[1m161/161\u001b[0m \u001b[32m━━━━━━━━━━━━━━━━━━━━\u001b[0m\u001b[37m\u001b[0m \u001b[1m5s\u001b[0m 31ms/step - accuracy: 0.6370 - loss: 0.7994 - val_accuracy: 0.5910 - val_loss: 0.8909\n",
      "Epoch 39/100\n",
      "\u001b[1m160/161\u001b[0m \u001b[32m━━━━━━━━━━━━━━━━━━━\u001b[0m\u001b[37m━\u001b[0m \u001b[1m0s\u001b[0m 24ms/step - accuracy: 0.6399 - loss: 0.7820\n",
      "Epoch 39: val_accuracy did not improve from 0.60496\n",
      "\u001b[1m161/161\u001b[0m \u001b[32m━━━━━━━━━━━━━━━━━━━━\u001b[0m\u001b[37m\u001b[0m \u001b[1m5s\u001b[0m 30ms/step - accuracy: 0.6399 - loss: 0.7823 - val_accuracy: 0.5840 - val_loss: 0.9002\n",
      "Epoch 40/100\n",
      "\u001b[1m159/161\u001b[0m \u001b[32m━━━━━━━━━━━━━━━━━━━\u001b[0m\u001b[37m━\u001b[0m \u001b[1m0s\u001b[0m 23ms/step - accuracy: 0.6470 - loss: 0.7988\n",
      "Epoch 40: val_accuracy did not improve from 0.60496\n",
      "\u001b[1m161/161\u001b[0m \u001b[32m━━━━━━━━━━━━━━━━━━━━\u001b[0m\u001b[37m\u001b[0m \u001b[1m5s\u001b[0m 30ms/step - accuracy: 0.6469 - loss: 0.7987 - val_accuracy: 0.5964 - val_loss: 0.8811\n",
      "Epoch 41/100\n",
      "\u001b[1m160/161\u001b[0m \u001b[32m━━━━━━━━━━━━━━━━━━━\u001b[0m\u001b[37m━\u001b[0m \u001b[1m0s\u001b[0m 23ms/step - accuracy: 0.6453 - loss: 0.8036\n",
      "Epoch 41: val_accuracy did not improve from 0.60496\n",
      "\u001b[1m161/161\u001b[0m \u001b[32m━━━━━━━━━━━━━━━━━━━━\u001b[0m\u001b[37m\u001b[0m \u001b[1m5s\u001b[0m 29ms/step - accuracy: 0.6453 - loss: 0.8034 - val_accuracy: 0.6003 - val_loss: 0.8786\n",
      "Epoch 42/100\n",
      "\u001b[1m159/161\u001b[0m \u001b[32m━━━━━━━━━━━━━━━━━━━\u001b[0m\u001b[37m━\u001b[0m \u001b[1m0s\u001b[0m 24ms/step - accuracy: 0.6538 - loss: 0.7682\n",
      "Epoch 42: val_accuracy did not improve from 0.60496\n",
      "\u001b[1m161/161\u001b[0m \u001b[32m━━━━━━━━━━━━━━━━━━━━\u001b[0m\u001b[37m\u001b[0m \u001b[1m5s\u001b[0m 30ms/step - accuracy: 0.6537 - loss: 0.7683 - val_accuracy: 0.5988 - val_loss: 0.8822\n",
      "Epoch 43/100\n",
      "\u001b[1m160/161\u001b[0m \u001b[32m━━━━━━━━━━━━━━━━━━━\u001b[0m\u001b[37m━\u001b[0m \u001b[1m0s\u001b[0m 24ms/step - accuracy: 0.6717 - loss: 0.7644\n",
      "Epoch 43: val_accuracy improved from 0.60496 to 0.60651, saving model to ./model_checkpoints/checkpoint-43-0.61.keras\n",
      "\u001b[1m161/161\u001b[0m \u001b[32m━━━━━━━━━━━━━━━━━━━━\u001b[0m\u001b[37m\u001b[0m \u001b[1m5s\u001b[0m 30ms/step - accuracy: 0.6716 - loss: 0.7646 - val_accuracy: 0.6065 - val_loss: 0.8893\n",
      "Epoch 44/100\n",
      "\u001b[1m159/161\u001b[0m \u001b[32m━━━━━━━━━━━━━━━━━━━\u001b[0m\u001b[37m━\u001b[0m \u001b[1m0s\u001b[0m 23ms/step - accuracy: 0.6412 - loss: 0.7928\n",
      "Epoch 44: val_accuracy did not improve from 0.60651\n",
      "\u001b[1m161/161\u001b[0m \u001b[32m━━━━━━━━━━━━━━━━━━━━\u001b[0m\u001b[37m\u001b[0m \u001b[1m5s\u001b[0m 29ms/step - accuracy: 0.6413 - loss: 0.7925 - val_accuracy: 0.5949 - val_loss: 0.8871\n",
      "Epoch 45/100\n",
      "\u001b[1m160/161\u001b[0m \u001b[32m━━━━━━━━━━━━━━━━━━━\u001b[0m\u001b[37m━\u001b[0m \u001b[1m0s\u001b[0m 24ms/step - accuracy: 0.6559 - loss: 0.7719\n",
      "Epoch 45: val_accuracy did not improve from 0.60651\n",
      "\u001b[1m161/161\u001b[0m \u001b[32m━━━━━━━━━━━━━━━━━━━━\u001b[0m\u001b[37m\u001b[0m \u001b[1m5s\u001b[0m 30ms/step - accuracy: 0.6558 - loss: 0.7721 - val_accuracy: 0.5972 - val_loss: 0.8821\n",
      "Epoch 46/100\n",
      "\u001b[1m159/161\u001b[0m \u001b[32m━━━━━━━━━━━━━━━━━━━\u001b[0m\u001b[37m━\u001b[0m \u001b[1m0s\u001b[0m 25ms/step - accuracy: 0.6431 - loss: 0.7859\n",
      "Epoch 46: val_accuracy did not improve from 0.60651\n",
      "\u001b[1m161/161\u001b[0m \u001b[32m━━━━━━━━━━━━━━━━━━━━\u001b[0m\u001b[37m\u001b[0m \u001b[1m5s\u001b[0m 32ms/step - accuracy: 0.6432 - loss: 0.7859 - val_accuracy: 0.5833 - val_loss: 0.8701\n",
      "Epoch 47/100\n",
      "\u001b[1m160/161\u001b[0m \u001b[32m━━━━━━━━━━━━━━━━━━━\u001b[0m\u001b[37m━\u001b[0m \u001b[1m0s\u001b[0m 24ms/step - accuracy: 0.6580 - loss: 0.7733\n",
      "Epoch 47: val_accuracy did not improve from 0.60651\n",
      "\u001b[1m161/161\u001b[0m \u001b[32m━━━━━━━━━━━━━━━━━━━━\u001b[0m\u001b[37m\u001b[0m \u001b[1m5s\u001b[0m 31ms/step - accuracy: 0.6580 - loss: 0.7731 - val_accuracy: 0.6042 - val_loss: 0.8552\n",
      "Epoch 48/100\n",
      "\u001b[1m159/161\u001b[0m \u001b[32m━━━━━━━━━━━━━━━━━━━\u001b[0m\u001b[37m━\u001b[0m \u001b[1m0s\u001b[0m 22ms/step - accuracy: 0.6538 - loss: 0.7646\n",
      "Epoch 48: val_accuracy improved from 0.60651 to 0.61425, saving model to ./model_checkpoints/checkpoint-48-0.61.keras\n",
      "\u001b[1m161/161\u001b[0m \u001b[32m━━━━━━━━━━━━━━━━━━━━\u001b[0m\u001b[37m\u001b[0m \u001b[1m5s\u001b[0m 29ms/step - accuracy: 0.6540 - loss: 0.7644 - val_accuracy: 0.6143 - val_loss: 0.8526\n",
      "Epoch 49/100\n",
      "\u001b[1m159/161\u001b[0m \u001b[32m━━━━━━━━━━━━━━━━━━━\u001b[0m\u001b[37m━\u001b[0m \u001b[1m0s\u001b[0m 23ms/step - accuracy: 0.6835 - loss: 0.7419\n",
      "Epoch 49: val_accuracy did not improve from 0.61425\n",
      "\u001b[1m161/161\u001b[0m \u001b[32m━━━━━━━━━━━━━━━━━━━━\u001b[0m\u001b[37m\u001b[0m \u001b[1m5s\u001b[0m 29ms/step - accuracy: 0.6835 - loss: 0.7417 - val_accuracy: 0.5995 - val_loss: 0.8613\n",
      "Epoch 50/100\n",
      "\u001b[1m157/161\u001b[0m \u001b[32m━━━━━━━━━━━━━━━━━━━\u001b[0m\u001b[37m━\u001b[0m \u001b[1m0s\u001b[0m 25ms/step - accuracy: 0.6738 - loss: 0.7235\n",
      "Epoch 50: val_accuracy did not improve from 0.61425\n",
      "\u001b[1m161/161\u001b[0m \u001b[32m━━━━━━━━━━━━━━━━━━━━\u001b[0m\u001b[37m\u001b[0m \u001b[1m5s\u001b[0m 31ms/step - accuracy: 0.6738 - loss: 0.7240 - val_accuracy: 0.6081 - val_loss: 0.9648\n",
      "Epoch 51/100\n",
      "\u001b[1m157/161\u001b[0m \u001b[32m━━━━━━━━━━━━━━━━━━━\u001b[0m\u001b[37m━\u001b[0m \u001b[1m0s\u001b[0m 23ms/step - accuracy: 0.6740 - loss: 0.7391\n",
      "Epoch 51: val_accuracy did not improve from 0.61425\n",
      "\u001b[1m161/161\u001b[0m \u001b[32m━━━━━━━━━━━━━━━━━━━━\u001b[0m\u001b[37m\u001b[0m \u001b[1m5s\u001b[0m 29ms/step - accuracy: 0.6743 - loss: 0.7387 - val_accuracy: 0.6104 - val_loss: 0.8551\n",
      "Epoch 52/100\n",
      "\u001b[1m158/161\u001b[0m \u001b[32m━━━━━━━━━━━━━━━━━━━\u001b[0m\u001b[37m━\u001b[0m \u001b[1m0s\u001b[0m 25ms/step - accuracy: 0.6920 - loss: 0.7157\n",
      "Epoch 52: val_accuracy improved from 0.61425 to 0.61890, saving model to ./model_checkpoints/checkpoint-52-0.62.keras\n",
      "\u001b[1m161/161\u001b[0m \u001b[32m━━━━━━━━━━━━━━━━━━━━\u001b[0m\u001b[37m\u001b[0m \u001b[1m5s\u001b[0m 31ms/step - accuracy: 0.6919 - loss: 0.7157 - val_accuracy: 0.6189 - val_loss: 0.8749\n",
      "Epoch 53/100\n",
      "\u001b[1m159/161\u001b[0m \u001b[32m━━━━━━━━━━━━━━━━━━━\u001b[0m\u001b[37m━\u001b[0m \u001b[1m0s\u001b[0m 26ms/step - accuracy: 0.6861 - loss: 0.7346\n",
      "Epoch 53: val_accuracy did not improve from 0.61890\n",
      "\u001b[1m161/161\u001b[0m \u001b[32m━━━━━━━━━━━━━━━━━━━━\u001b[0m\u001b[37m\u001b[0m \u001b[1m5s\u001b[0m 32ms/step - accuracy: 0.6860 - loss: 0.7344 - val_accuracy: 0.6143 - val_loss: 0.8567\n",
      "Epoch 54/100\n",
      "\u001b[1m160/161\u001b[0m \u001b[32m━━━━━━━━━━━━━━━━━━━\u001b[0m\u001b[37m━\u001b[0m \u001b[1m0s\u001b[0m 23ms/step - accuracy: 0.6986 - loss: 0.6896\n",
      "Epoch 54: val_accuracy did not improve from 0.61890\n",
      "\u001b[1m161/161\u001b[0m \u001b[32m━━━━━━━━━━━━━━━━━━━━\u001b[0m\u001b[37m\u001b[0m \u001b[1m5s\u001b[0m 28ms/step - accuracy: 0.6984 - loss: 0.6899 - val_accuracy: 0.6065 - val_loss: 0.9470\n",
      "Epoch 55/100\n",
      "\u001b[1m160/161\u001b[0m \u001b[32m━━━━━━━━━━━━━━━━━━━\u001b[0m\u001b[37m━\u001b[0m \u001b[1m0s\u001b[0m 24ms/step - accuracy: 0.7030 - loss: 0.6916\n",
      "Epoch 55: val_accuracy did not improve from 0.61890\n",
      "\u001b[1m161/161\u001b[0m \u001b[32m━━━━━━━━━━━━━━━━━━━━\u001b[0m\u001b[37m\u001b[0m \u001b[1m5s\u001b[0m 31ms/step - accuracy: 0.7030 - loss: 0.6916 - val_accuracy: 0.6174 - val_loss: 0.8553\n",
      "Epoch 56/100\n",
      "\u001b[1m157/161\u001b[0m \u001b[32m━━━━━━━━━━━━━━━━━━━\u001b[0m\u001b[37m━\u001b[0m \u001b[1m0s\u001b[0m 24ms/step - accuracy: 0.7060 - loss: 0.6924\n",
      "Epoch 56: val_accuracy improved from 0.61890 to 0.62510, saving model to ./model_checkpoints/checkpoint-56-0.63.keras\n",
      "\u001b[1m161/161\u001b[0m \u001b[32m━━━━━━━━━━━━━━━━━━━━\u001b[0m\u001b[37m\u001b[0m \u001b[1m5s\u001b[0m 30ms/step - accuracy: 0.7062 - loss: 0.6919 - val_accuracy: 0.6251 - val_loss: 0.8353\n",
      "Epoch 57/100\n",
      "\u001b[1m159/161\u001b[0m \u001b[32m━━━━━━━━━━━━━━━━━━━\u001b[0m\u001b[37m━\u001b[0m \u001b[1m0s\u001b[0m 25ms/step - accuracy: 0.7070 - loss: 0.6892\n",
      "Epoch 57: val_accuracy improved from 0.62510 to 0.63439, saving model to ./model_checkpoints/checkpoint-57-0.63.keras\n",
      "\u001b[1m161/161\u001b[0m \u001b[32m━━━━━━━━━━━━━━━━━━━━\u001b[0m\u001b[37m\u001b[0m \u001b[1m5s\u001b[0m 31ms/step - accuracy: 0.7070 - loss: 0.6890 - val_accuracy: 0.6344 - val_loss: 0.8888\n",
      "Epoch 58/100\n",
      "\u001b[1m160/161\u001b[0m \u001b[32m━━━━━━━━━━━━━━━━━━━\u001b[0m\u001b[37m━\u001b[0m \u001b[1m0s\u001b[0m 24ms/step - accuracy: 0.6848 - loss: 0.7015\n",
      "Epoch 58: val_accuracy did not improve from 0.63439\n",
      "\u001b[1m161/161\u001b[0m \u001b[32m━━━━━━━━━━━━━━━━━━━━\u001b[0m\u001b[37m\u001b[0m \u001b[1m5s\u001b[0m 31ms/step - accuracy: 0.6847 - loss: 0.7016 - val_accuracy: 0.6011 - val_loss: 0.8789\n",
      "Epoch 59/100\n",
      "\u001b[1m157/161\u001b[0m \u001b[32m━━━━━━━━━━━━━━━━━━━\u001b[0m\u001b[37m━\u001b[0m \u001b[1m0s\u001b[0m 24ms/step - accuracy: 0.7066 - loss: 0.6872\n",
      "Epoch 59: val_accuracy did not improve from 0.63439\n",
      "\u001b[1m161/161\u001b[0m \u001b[32m━━━━━━━━━━━━━━━━━━━━\u001b[0m\u001b[37m\u001b[0m \u001b[1m5s\u001b[0m 30ms/step - accuracy: 0.7069 - loss: 0.6866 - val_accuracy: 0.6243 - val_loss: 0.9039\n",
      "Epoch 60/100\n",
      "\u001b[1m157/161\u001b[0m \u001b[32m━━━━━━━━━━━━━━━━━━━\u001b[0m\u001b[37m━\u001b[0m \u001b[1m0s\u001b[0m 23ms/step - accuracy: 0.7247 - loss: 0.6423\n",
      "Epoch 60: val_accuracy did not improve from 0.63439\n",
      "\u001b[1m161/161\u001b[0m \u001b[32m━━━━━━━━━━━━━━━━━━━━\u001b[0m\u001b[37m\u001b[0m \u001b[1m5s\u001b[0m 30ms/step - accuracy: 0.7244 - loss: 0.6426 - val_accuracy: 0.6057 - val_loss: 0.8862\n",
      "Epoch 61/100\n",
      "\u001b[1m158/161\u001b[0m \u001b[32m━━━━━━━━━━━━━━━━━━━\u001b[0m\u001b[37m━\u001b[0m \u001b[1m0s\u001b[0m 26ms/step - accuracy: 0.6835 - loss: 0.7057\n",
      "Epoch 61: val_accuracy did not improve from 0.63439\n",
      "\u001b[1m161/161\u001b[0m \u001b[32m━━━━━━━━━━━━━━━━━━━━\u001b[0m\u001b[37m\u001b[0m \u001b[1m5s\u001b[0m 32ms/step - accuracy: 0.6841 - loss: 0.7047 - val_accuracy: 0.6328 - val_loss: 0.8506\n",
      "Epoch 62/100\n",
      "\u001b[1m161/161\u001b[0m \u001b[32m━━━━━━━━━━━━━━━━━━━━\u001b[0m\u001b[37m\u001b[0m \u001b[1m0s\u001b[0m 25ms/step - accuracy: 0.7152 - loss: 0.6625\n",
      "Epoch 62: val_accuracy improved from 0.63439 to 0.63981, saving model to ./model_checkpoints/checkpoint-62-0.64.keras\n",
      "\u001b[1m161/161\u001b[0m \u001b[32m━━━━━━━━━━━━━━━━━━━━\u001b[0m\u001b[37m\u001b[0m \u001b[1m5s\u001b[0m 32ms/step - accuracy: 0.7153 - loss: 0.6624 - val_accuracy: 0.6398 - val_loss: 0.8526\n",
      "Epoch 63/100\n",
      "\u001b[1m159/161\u001b[0m \u001b[32m━━━━━━━━━━━━━━━━━━━\u001b[0m\u001b[37m━\u001b[0m \u001b[1m0s\u001b[0m 25ms/step - accuracy: 0.7307 - loss: 0.6443\n",
      "Epoch 63: val_accuracy did not improve from 0.63981\n",
      "\u001b[1m161/161\u001b[0m \u001b[32m━━━━━━━━━━━━━━━━━━━━\u001b[0m\u001b[37m\u001b[0m \u001b[1m5s\u001b[0m 31ms/step - accuracy: 0.7308 - loss: 0.6442 - val_accuracy: 0.6290 - val_loss: 0.8921\n",
      "Epoch 64/100\n",
      "\u001b[1m161/161\u001b[0m \u001b[32m━━━━━━━━━━━━━━━━━━━━\u001b[0m\u001b[37m\u001b[0m \u001b[1m0s\u001b[0m 25ms/step - accuracy: 0.7247 - loss: 0.6321\n",
      "Epoch 64: val_accuracy did not improve from 0.63981\n",
      "\u001b[1m161/161\u001b[0m \u001b[32m━━━━━━━━━━━━━━━━━━━━\u001b[0m\u001b[37m\u001b[0m \u001b[1m5s\u001b[0m 31ms/step - accuracy: 0.7247 - loss: 0.6321 - val_accuracy: 0.6259 - val_loss: 0.8449\n",
      "Epoch 65/100\n",
      "\u001b[1m160/161\u001b[0m \u001b[32m━━━━━━━━━━━━━━━━━━━\u001b[0m\u001b[37m━\u001b[0m \u001b[1m0s\u001b[0m 24ms/step - accuracy: 0.7454 - loss: 0.6125\n",
      "Epoch 65: val_accuracy improved from 0.63981 to 0.64756, saving model to ./model_checkpoints/checkpoint-65-0.65.keras\n",
      "\u001b[1m161/161\u001b[0m \u001b[32m━━━━━━━━━━━━━━━━━━━━\u001b[0m\u001b[37m\u001b[0m \u001b[1m5s\u001b[0m 31ms/step - accuracy: 0.7453 - loss: 0.6126 - val_accuracy: 0.6476 - val_loss: 0.9055\n",
      "Epoch 66/100\n",
      "\u001b[1m157/161\u001b[0m \u001b[32m━━━━━━━━━━━━━━━━━━━\u001b[0m\u001b[37m━\u001b[0m \u001b[1m0s\u001b[0m 23ms/step - accuracy: 0.7511 - loss: 0.6093\n",
      "Epoch 66: val_accuracy did not improve from 0.64756\n",
      "\u001b[1m161/161\u001b[0m \u001b[32m━━━━━━━━━━━━━━━━━━━━\u001b[0m\u001b[37m\u001b[0m \u001b[1m5s\u001b[0m 30ms/step - accuracy: 0.7507 - loss: 0.6094 - val_accuracy: 0.6390 - val_loss: 0.8606\n",
      "Epoch 67/100\n",
      "\u001b[1m159/161\u001b[0m \u001b[32m━━━━━━━━━━━━━━━━━━━\u001b[0m\u001b[37m━\u001b[0m \u001b[1m0s\u001b[0m 25ms/step - accuracy: 0.7490 - loss: 0.6010\n",
      "Epoch 67: val_accuracy improved from 0.64756 to 0.64988, saving model to ./model_checkpoints/checkpoint-67-0.65.keras\n",
      "\u001b[1m161/161\u001b[0m \u001b[32m━━━━━━━━━━━━━━━━━━━━\u001b[0m\u001b[37m\u001b[0m \u001b[1m5s\u001b[0m 31ms/step - accuracy: 0.7489 - loss: 0.6011 - val_accuracy: 0.6499 - val_loss: 0.8540\n",
      "Epoch 68/100\n",
      "\u001b[1m159/161\u001b[0m \u001b[32m━━━━━━━━━━━━━━━━━━━\u001b[0m\u001b[37m━\u001b[0m \u001b[1m0s\u001b[0m 24ms/step - accuracy: 0.7613 - loss: 0.5835\n",
      "Epoch 68: val_accuracy did not improve from 0.64988\n",
      "\u001b[1m161/161\u001b[0m \u001b[32m━━━━━━━━━━━━━━━━━━━━\u001b[0m\u001b[37m\u001b[0m \u001b[1m5s\u001b[0m 29ms/step - accuracy: 0.7612 - loss: 0.5835 - val_accuracy: 0.6328 - val_loss: 0.9173\n",
      "Epoch 69/100\n",
      "\u001b[1m160/161\u001b[0m \u001b[32m━━━━━━━━━━━━━━━━━━━\u001b[0m\u001b[37m━\u001b[0m \u001b[1m0s\u001b[0m 25ms/step - accuracy: 0.7603 - loss: 0.5696\n",
      "Epoch 69: val_accuracy improved from 0.64988 to 0.65221, saving model to ./model_checkpoints/checkpoint-69-0.65.keras\n",
      "\u001b[1m161/161\u001b[0m \u001b[32m━━━━━━━━━━━━━━━━━━━━\u001b[0m\u001b[37m\u001b[0m \u001b[1m5s\u001b[0m 32ms/step - accuracy: 0.7602 - loss: 0.5698 - val_accuracy: 0.6522 - val_loss: 0.8397\n",
      "Epoch 70/100\n",
      "\u001b[1m159/161\u001b[0m \u001b[32m━━━━━━━━━━━━━━━━━━━\u001b[0m\u001b[37m━\u001b[0m \u001b[1m0s\u001b[0m 23ms/step - accuracy: 0.7514 - loss: 0.5849\n",
      "Epoch 70: val_accuracy did not improve from 0.65221\n",
      "\u001b[1m161/161\u001b[0m \u001b[32m━━━━━━━━━━━━━━━━━━━━\u001b[0m\u001b[37m\u001b[0m \u001b[1m5s\u001b[0m 30ms/step - accuracy: 0.7516 - loss: 0.5846 - val_accuracy: 0.6460 - val_loss: 0.8862\n",
      "Epoch 71/100\n",
      "\u001b[1m159/161\u001b[0m \u001b[32m━━━━━━━━━━━━━━━━━━━\u001b[0m\u001b[37m━\u001b[0m \u001b[1m0s\u001b[0m 23ms/step - accuracy: 0.7677 - loss: 0.5479\n",
      "Epoch 71: val_accuracy did not improve from 0.65221\n",
      "\u001b[1m161/161\u001b[0m \u001b[32m━━━━━━━━━━━━━━━━━━━━\u001b[0m\u001b[37m\u001b[0m \u001b[1m5s\u001b[0m 28ms/step - accuracy: 0.7678 - loss: 0.5479 - val_accuracy: 0.6476 - val_loss: 0.8247\n",
      "Epoch 72/100\n",
      "\u001b[1m160/161\u001b[0m \u001b[32m━━━━━━━━━━━━━━━━━━━\u001b[0m\u001b[37m━\u001b[0m \u001b[1m0s\u001b[0m 24ms/step - accuracy: 0.7483 - loss: 0.5863\n",
      "Epoch 72: val_accuracy improved from 0.65221 to 0.66460, saving model to ./model_checkpoints/checkpoint-72-0.66.keras\n",
      "\u001b[1m161/161\u001b[0m \u001b[32m━━━━━━━━━━━━━━━━━━━━\u001b[0m\u001b[37m\u001b[0m \u001b[1m5s\u001b[0m 31ms/step - accuracy: 0.7483 - loss: 0.5863 - val_accuracy: 0.6646 - val_loss: 0.9506\n",
      "Epoch 73/100\n",
      "\u001b[1m159/161\u001b[0m \u001b[32m━━━━━━━━━━━━━━━━━━━\u001b[0m\u001b[37m━\u001b[0m \u001b[1m0s\u001b[0m 25ms/step - accuracy: 0.7821 - loss: 0.5618\n",
      "Epoch 73: val_accuracy did not improve from 0.66460\n",
      "\u001b[1m161/161\u001b[0m \u001b[32m━━━━━━━━━━━━━━━━━━━━\u001b[0m\u001b[37m\u001b[0m \u001b[1m5s\u001b[0m 31ms/step - accuracy: 0.7822 - loss: 0.5614 - val_accuracy: 0.6499 - val_loss: 0.8414\n",
      "Epoch 74/100\n",
      "\u001b[1m159/161\u001b[0m \u001b[32m━━━━━━━━━━━━━━━━━━━\u001b[0m\u001b[37m━\u001b[0m \u001b[1m0s\u001b[0m 24ms/step - accuracy: 0.7954 - loss: 0.5223\n",
      "Epoch 74: val_accuracy did not improve from 0.66460\n",
      "\u001b[1m161/161\u001b[0m \u001b[32m━━━━━━━━━━━━━━━━━━━━\u001b[0m\u001b[37m\u001b[0m \u001b[1m5s\u001b[0m 30ms/step - accuracy: 0.7952 - loss: 0.5225 - val_accuracy: 0.6623 - val_loss: 0.8561\n",
      "Epoch 75/100\n",
      "\u001b[1m161/161\u001b[0m \u001b[32m━━━━━━━━━━━━━━━━━━━━\u001b[0m\u001b[37m\u001b[0m \u001b[1m0s\u001b[0m 24ms/step - accuracy: 0.7977 - loss: 0.5092\n",
      "Epoch 75: val_accuracy did not improve from 0.66460\n",
      "\u001b[1m161/161\u001b[0m \u001b[32m━━━━━━━━━━━━━━━━━━━━\u001b[0m\u001b[37m\u001b[0m \u001b[1m5s\u001b[0m 31ms/step - accuracy: 0.7976 - loss: 0.5093 - val_accuracy: 0.6507 - val_loss: 0.9301\n",
      "Epoch 76/100\n",
      "\u001b[1m159/161\u001b[0m \u001b[32m━━━━━━━━━━━━━━━━━━━\u001b[0m\u001b[37m━\u001b[0m \u001b[1m0s\u001b[0m 23ms/step - accuracy: 0.7796 - loss: 0.5289\n",
      "Epoch 76: val_accuracy improved from 0.66460 to 0.66847, saving model to ./model_checkpoints/checkpoint-76-0.67.keras\n",
      "\u001b[1m161/161\u001b[0m \u001b[32m━━━━━━━━━━━━━━━━━━━━\u001b[0m\u001b[37m\u001b[0m \u001b[1m5s\u001b[0m 30ms/step - accuracy: 0.7797 - loss: 0.5289 - val_accuracy: 0.6685 - val_loss: 0.8402\n",
      "Epoch 77/100\n",
      "\u001b[1m157/161\u001b[0m \u001b[32m━━━━━━━━━━━━━━━━━━━\u001b[0m\u001b[37m━\u001b[0m \u001b[1m0s\u001b[0m 25ms/step - accuracy: 0.7992 - loss: 0.5029\n",
      "Epoch 77: val_accuracy did not improve from 0.66847\n",
      "\u001b[1m161/161\u001b[0m \u001b[32m━━━━━━━━━━━━━━━━━━━━\u001b[0m\u001b[37m\u001b[0m \u001b[1m5s\u001b[0m 31ms/step - accuracy: 0.7992 - loss: 0.5029 - val_accuracy: 0.6646 - val_loss: 0.8685\n",
      "Epoch 78/100\n",
      "\u001b[1m161/161\u001b[0m \u001b[32m━━━━━━━━━━━━━━━━━━━━\u001b[0m\u001b[37m\u001b[0m \u001b[1m0s\u001b[0m 24ms/step - accuracy: 0.8118 - loss: 0.4815\n",
      "Epoch 78: val_accuracy did not improve from 0.66847\n",
      "\u001b[1m161/161\u001b[0m \u001b[32m━━━━━━━━━━━━━━━━━━━━\u001b[0m\u001b[37m\u001b[0m \u001b[1m5s\u001b[0m 31ms/step - accuracy: 0.8118 - loss: 0.4815 - val_accuracy: 0.6669 - val_loss: 0.8716\n",
      "Epoch 79/100\n",
      "\u001b[1m158/161\u001b[0m \u001b[32m━━━━━━━━━━━━━━━━━━━\u001b[0m\u001b[37m━\u001b[0m \u001b[1m0s\u001b[0m 24ms/step - accuracy: 0.7846 - loss: 0.5213\n",
      "Epoch 79: val_accuracy did not improve from 0.66847\n",
      "\u001b[1m161/161\u001b[0m \u001b[32m━━━━━━━━━━━━━━━━━━━━\u001b[0m\u001b[37m\u001b[0m \u001b[1m5s\u001b[0m 30ms/step - accuracy: 0.7850 - loss: 0.5204 - val_accuracy: 0.6553 - val_loss: 0.8619\n",
      "Epoch 80/100\n",
      "\u001b[1m158/161\u001b[0m \u001b[32m━━━━━━━━━━━━━━━━━━━\u001b[0m\u001b[37m━\u001b[0m \u001b[1m0s\u001b[0m 23ms/step - accuracy: 0.8136 - loss: 0.4798\n",
      "Epoch 80: val_accuracy did not improve from 0.66847\n",
      "\u001b[1m161/161\u001b[0m \u001b[32m━━━━━━━━━━━━━━━━━━━━\u001b[0m\u001b[37m\u001b[0m \u001b[1m5s\u001b[0m 30ms/step - accuracy: 0.8135 - loss: 0.4798 - val_accuracy: 0.6638 - val_loss: 0.8613\n",
      "Epoch 81/100\n",
      "\u001b[1m161/161\u001b[0m \u001b[32m━━━━━━━━━━━━━━━━━━━━\u001b[0m\u001b[37m\u001b[0m \u001b[1m0s\u001b[0m 24ms/step - accuracy: 0.8282 - loss: 0.4391\n",
      "Epoch 81: val_accuracy did not improve from 0.66847\n",
      "\u001b[1m161/161\u001b[0m \u001b[32m━━━━━━━━━━━━━━━━━━━━\u001b[0m\u001b[37m\u001b[0m \u001b[1m5s\u001b[0m 31ms/step - accuracy: 0.8282 - loss: 0.4392 - val_accuracy: 0.6390 - val_loss: 0.8745\n",
      "Epoch 82/100\n",
      "\u001b[1m157/161\u001b[0m \u001b[32m━━━━━━━━━━━━━━━━━━━\u001b[0m\u001b[37m━\u001b[0m \u001b[1m0s\u001b[0m 24ms/step - accuracy: 0.8251 - loss: 0.4484\n",
      "Epoch 82: val_accuracy did not improve from 0.66847\n",
      "\u001b[1m161/161\u001b[0m \u001b[32m━━━━━━━━━━━━━━━━━━━━\u001b[0m\u001b[37m\u001b[0m \u001b[1m5s\u001b[0m 30ms/step - accuracy: 0.8251 - loss: 0.4487 - val_accuracy: 0.6476 - val_loss: 0.8823\n",
      "Epoch 83/100\n",
      "\u001b[1m159/161\u001b[0m \u001b[32m━━━━━━━━━━━━━━━━━━━\u001b[0m\u001b[37m━\u001b[0m \u001b[1m0s\u001b[0m 27ms/step - accuracy: 0.8132 - loss: 0.4601\n",
      "Epoch 83: val_accuracy did not improve from 0.66847\n",
      "\u001b[1m161/161\u001b[0m \u001b[32m━━━━━━━━━━━━━━━━━━━━\u001b[0m\u001b[37m\u001b[0m \u001b[1m6s\u001b[0m 33ms/step - accuracy: 0.8133 - loss: 0.4600 - val_accuracy: 0.6623 - val_loss: 0.8357\n",
      "Epoch 84/100\n",
      "\u001b[1m158/161\u001b[0m \u001b[32m━━━━━━━━━━━━━━━━━━━\u001b[0m\u001b[37m━\u001b[0m \u001b[1m0s\u001b[0m 24ms/step - accuracy: 0.8274 - loss: 0.4295\n",
      "Epoch 84: val_accuracy did not improve from 0.66847\n",
      "\u001b[1m161/161\u001b[0m \u001b[32m━━━━━━━━━━━━━━━━━━━━\u001b[0m\u001b[37m\u001b[0m \u001b[1m5s\u001b[0m 30ms/step - accuracy: 0.8273 - loss: 0.4298 - val_accuracy: 0.6631 - val_loss: 0.8770\n",
      "Epoch 85/100\n",
      "\u001b[1m160/161\u001b[0m \u001b[32m━━━━━━━━━━━━━━━━━━━\u001b[0m\u001b[37m━\u001b[0m \u001b[1m0s\u001b[0m 25ms/step - accuracy: 0.8312 - loss: 0.4386\n",
      "Epoch 85: val_accuracy did not improve from 0.66847\n",
      "\u001b[1m161/161\u001b[0m \u001b[32m━━━━━━━━━━━━━━━━━━━━\u001b[0m\u001b[37m\u001b[0m \u001b[1m5s\u001b[0m 31ms/step - accuracy: 0.8311 - loss: 0.4390 - val_accuracy: 0.6375 - val_loss: 0.9549\n",
      "Epoch 86/100\n",
      "\u001b[1m161/161\u001b[0m \u001b[32m━━━━━━━━━━━━━━━━━━━━\u001b[0m\u001b[37m\u001b[0m \u001b[1m0s\u001b[0m 25ms/step - accuracy: 0.8338 - loss: 0.4268\n",
      "Epoch 86: val_accuracy did not improve from 0.66847\n",
      "\u001b[1m161/161\u001b[0m \u001b[32m━━━━━━━━━━━━━━━━━━━━\u001b[0m\u001b[37m\u001b[0m \u001b[1m5s\u001b[0m 31ms/step - accuracy: 0.8338 - loss: 0.4267 - val_accuracy: 0.6646 - val_loss: 0.8641\n",
      "Epoch 87/100\n",
      "\u001b[1m159/161\u001b[0m \u001b[32m━━━━━━━━━━━━━━━━━━━\u001b[0m\u001b[37m━\u001b[0m \u001b[1m0s\u001b[0m 24ms/step - accuracy: 0.8428 - loss: 0.4118\n",
      "Epoch 87: val_accuracy improved from 0.66847 to 0.67545, saving model to ./model_checkpoints/checkpoint-87-0.68.keras\n",
      "\u001b[1m161/161\u001b[0m \u001b[32m━━━━━━━━━━━━━━━━━━━━\u001b[0m\u001b[37m\u001b[0m \u001b[1m5s\u001b[0m 30ms/step - accuracy: 0.8427 - loss: 0.4119 - val_accuracy: 0.6754 - val_loss: 0.9226\n",
      "Epoch 88/100\n",
      "\u001b[1m161/161\u001b[0m \u001b[32m━━━━━━━━━━━━━━━━━━━━\u001b[0m\u001b[37m\u001b[0m \u001b[1m0s\u001b[0m 24ms/step - accuracy: 0.8118 - loss: 0.4643\n",
      "Epoch 88: val_accuracy did not improve from 0.67545\n",
      "\u001b[1m161/161\u001b[0m \u001b[32m━━━━━━━━━━━━━━━━━━━━\u001b[0m\u001b[37m\u001b[0m \u001b[1m5s\u001b[0m 31ms/step - accuracy: 0.8119 - loss: 0.4640 - val_accuracy: 0.6042 - val_loss: 1.0074\n",
      "Epoch 89/100\n",
      "\u001b[1m159/161\u001b[0m \u001b[32m━━━━━━━━━━━━━━━━━━━\u001b[0m\u001b[37m━\u001b[0m \u001b[1m0s\u001b[0m 23ms/step - accuracy: 0.8386 - loss: 0.4076\n",
      "Epoch 89: val_accuracy did not improve from 0.67545\n",
      "\u001b[1m161/161\u001b[0m \u001b[32m━━━━━━━━━━━━━━━━━━━━\u001b[0m\u001b[37m\u001b[0m \u001b[1m5s\u001b[0m 29ms/step - accuracy: 0.8385 - loss: 0.4076 - val_accuracy: 0.6654 - val_loss: 0.8846\n",
      "Epoch 90/100\n",
      "\u001b[1m158/161\u001b[0m \u001b[32m━━━━━━━━━━━━━━━━━━━\u001b[0m\u001b[37m━\u001b[0m \u001b[1m0s\u001b[0m 25ms/step - accuracy: 0.8452 - loss: 0.3968\n",
      "Epoch 90: val_accuracy did not improve from 0.67545\n",
      "\u001b[1m161/161\u001b[0m \u001b[32m━━━━━━━━━━━━━━━━━━━━\u001b[0m\u001b[37m\u001b[0m \u001b[1m5s\u001b[0m 31ms/step - accuracy: 0.8453 - loss: 0.3966 - val_accuracy: 0.6313 - val_loss: 0.8633\n",
      "Epoch 91/100\n",
      "\u001b[1m160/161\u001b[0m \u001b[32m━━━━━━━━━━━━━━━━━━━\u001b[0m\u001b[37m━\u001b[0m \u001b[1m0s\u001b[0m 23ms/step - accuracy: 0.8373 - loss: 0.3957\n",
      "Epoch 91: val_accuracy improved from 0.67545 to 0.67777, saving model to ./model_checkpoints/checkpoint-91-0.68.keras\n",
      "\u001b[1m161/161\u001b[0m \u001b[32m━━━━━━━━━━━━━━━━━━━━\u001b[0m\u001b[37m\u001b[0m \u001b[1m5s\u001b[0m 29ms/step - accuracy: 0.8375 - loss: 0.3954 - val_accuracy: 0.6778 - val_loss: 0.8411\n",
      "Epoch 92/100\n",
      "\u001b[1m161/161\u001b[0m \u001b[32m━━━━━━━━━━━━━━━━━━━━\u001b[0m\u001b[37m\u001b[0m \u001b[1m0s\u001b[0m 23ms/step - accuracy: 0.8566 - loss: 0.3801\n",
      "Epoch 92: val_accuracy did not improve from 0.67777\n",
      "\u001b[1m161/161\u001b[0m \u001b[32m━━━━━━━━━━━━━━━━━━━━\u001b[0m\u001b[37m\u001b[0m \u001b[1m5s\u001b[0m 30ms/step - accuracy: 0.8566 - loss: 0.3801 - val_accuracy: 0.6716 - val_loss: 0.8479\n",
      "Epoch 93/100\n",
      "\u001b[1m160/161\u001b[0m \u001b[32m━━━━━━━━━━━━━━━━━━━\u001b[0m\u001b[37m━\u001b[0m \u001b[1m0s\u001b[0m 24ms/step - accuracy: 0.8372 - loss: 0.3967\n",
      "Epoch 93: val_accuracy improved from 0.67777 to 0.68009, saving model to ./model_checkpoints/checkpoint-93-0.68.keras\n",
      "\u001b[1m161/161\u001b[0m \u001b[32m━━━━━━━━━━━━━━━━━━━━\u001b[0m\u001b[37m\u001b[0m \u001b[1m5s\u001b[0m 30ms/step - accuracy: 0.8373 - loss: 0.3967 - val_accuracy: 0.6801 - val_loss: 0.9548\n",
      "Epoch 94/100\n",
      "\u001b[1m160/161\u001b[0m \u001b[32m━━━━━━━━━━━━━━━━━━━\u001b[0m\u001b[37m━\u001b[0m \u001b[1m0s\u001b[0m 24ms/step - accuracy: 0.8695 - loss: 0.3481\n",
      "Epoch 94: val_accuracy did not improve from 0.68009\n",
      "\u001b[1m161/161\u001b[0m \u001b[32m━━━━━━━━━━━━━━━━━━━━\u001b[0m\u001b[37m\u001b[0m \u001b[1m5s\u001b[0m 30ms/step - accuracy: 0.8695 - loss: 0.3481 - val_accuracy: 0.6677 - val_loss: 0.8636\n",
      "Epoch 95/100\n",
      "\u001b[1m157/161\u001b[0m \u001b[32m━━━━━━━━━━━━━━━━━━━\u001b[0m\u001b[37m━\u001b[0m \u001b[1m0s\u001b[0m 25ms/step - accuracy: 0.8790 - loss: 0.3289\n",
      "Epoch 95: val_accuracy improved from 0.68009 to 0.68706, saving model to ./model_checkpoints/checkpoint-95-0.69.keras\n",
      "\u001b[1m161/161\u001b[0m \u001b[32m━━━━━━━━━━━━━━━━━━━━\u001b[0m\u001b[37m\u001b[0m \u001b[1m5s\u001b[0m 32ms/step - accuracy: 0.8789 - loss: 0.3290 - val_accuracy: 0.6871 - val_loss: 0.8531\n",
      "Epoch 96/100\n",
      "\u001b[1m159/161\u001b[0m \u001b[32m━━━━━━━━━━━━━━━━━━━\u001b[0m\u001b[37m━\u001b[0m \u001b[1m0s\u001b[0m 24ms/step - accuracy: 0.8762 - loss: 0.3136\n",
      "Epoch 96: val_accuracy did not improve from 0.68706\n",
      "\u001b[1m161/161\u001b[0m \u001b[32m━━━━━━━━━━━━━━━━━━━━\u001b[0m\u001b[37m\u001b[0m \u001b[1m5s\u001b[0m 30ms/step - accuracy: 0.8761 - loss: 0.3138 - val_accuracy: 0.6739 - val_loss: 0.8776\n",
      "Epoch 97/100\n",
      "\u001b[1m158/161\u001b[0m \u001b[32m━━━━━━━━━━━━━━━━━━━\u001b[0m\u001b[37m━\u001b[0m \u001b[1m0s\u001b[0m 26ms/step - accuracy: 0.8650 - loss: 0.3494\n",
      "Epoch 97: val_accuracy did not improve from 0.68706\n",
      "\u001b[1m161/161\u001b[0m \u001b[32m━━━━━━━━━━━━━━━━━━━━\u001b[0m\u001b[37m\u001b[0m \u001b[1m5s\u001b[0m 32ms/step - accuracy: 0.8652 - loss: 0.3488 - val_accuracy: 0.6685 - val_loss: 1.0226\n",
      "Epoch 98/100\n",
      "\u001b[1m160/161\u001b[0m \u001b[32m━━━━━━━━━━━━━━━━━━━\u001b[0m\u001b[37m━\u001b[0m \u001b[1m0s\u001b[0m 25ms/step - accuracy: 0.8818 - loss: 0.3108\n",
      "Epoch 98: val_accuracy did not improve from 0.68706\n",
      "\u001b[1m161/161\u001b[0m \u001b[32m━━━━━━━━━━━━━━━━━━━━\u001b[0m\u001b[37m\u001b[0m \u001b[1m6s\u001b[0m 33ms/step - accuracy: 0.8818 - loss: 0.3108 - val_accuracy: 0.6654 - val_loss: 0.9223\n",
      "Epoch 99/100\n",
      "\u001b[1m159/161\u001b[0m \u001b[32m━━━━━━━━━━━━━━━━━━━\u001b[0m\u001b[37m━\u001b[0m \u001b[1m0s\u001b[0m 23ms/step - accuracy: 0.8879 - loss: 0.3019\n",
      "Epoch 99: val_accuracy did not improve from 0.68706\n",
      "\u001b[1m161/161\u001b[0m \u001b[32m━━━━━━━━━━━━━━━━━━━━\u001b[0m\u001b[37m\u001b[0m \u001b[1m5s\u001b[0m 30ms/step - accuracy: 0.8879 - loss: 0.3020 - val_accuracy: 0.6685 - val_loss: 0.8858\n",
      "Epoch 100/100\n",
      "\u001b[1m157/161\u001b[0m \u001b[32m━━━━━━━━━━━━━━━━━━━\u001b[0m\u001b[37m━\u001b[0m \u001b[1m0s\u001b[0m 23ms/step - accuracy: 0.8879 - loss: 0.3098\n",
      "Epoch 100: val_accuracy did not improve from 0.68706\n",
      "\u001b[1m161/161\u001b[0m \u001b[32m━━━━━━━━━━━━━━━━━━━━\u001b[0m\u001b[37m\u001b[0m \u001b[1m5s\u001b[0m 29ms/step - accuracy: 0.8875 - loss: 0.3106 - val_accuracy: 0.6197 - val_loss: 1.0997\n",
      "\u001b[1m41/41\u001b[0m \u001b[32m━━━━━━━━━━━━━━━━━━━━\u001b[0m\u001b[37m\u001b[0m \u001b[1m1s\u001b[0m 25ms/step - accuracy: 0.6055 - loss: 1.1709\n"
     ]
    },
    {
     "name": "stderr",
     "output_type": "stream",
     "text": [
      "WARNING:absl:You are saving your model as an HDF5 file via `model.save()` or `keras.saving.save_model(model)`. This file format is considered legacy. We recommend using instead the native Keras format, e.g. `model.save('my_model.keras')` or `keras.saving.save_model(model, 'my_model.keras')`. \n"
     ]
    },
    {
     "name": "stdout",
     "output_type": "stream",
     "text": [
      "Test accuracy: 0.6196746826171875\n",
      "Model saved successfully as 'alzheimer_model_customcnn_0.6197.h5'.\n"
     ]
    },
    {
     "data": {
      "image/png": "[encoded data removed]",
      "text/plain": [
       "<Figure size 1400x600 with 2 Axes>"
      ]
     },
     "metadata": {},
     "output_type": "display_data"
    },
    {
     "name": "stdout",
     "output_type": "stream",
     "text": [
      "\u001b[1m41/41\u001b[0m \u001b[32m━━━━━━━━━━━━━━━━━━━━\u001b[0m\u001b[37m\u001b[0m \u001b[1m1s\u001b[0m 30ms/step\n"
     ]
    },
    {
     "data": {
      "text/plain": [
       "<Figure size 800x800 with 0 Axes>"
      ]
     },
     "metadata": {},
     "output_type": "display_data"
    },
    {
     "data": {
      "image/png": "[encoded data removed]",
      "text/plain": [
       "<Figure size 640x480 with 2 Axes>"
      ]
     },
     "metadata": {},
     "output_type": "display_data"
    }
   ],
   "source": [
    "import os\n",
    "import tensorflow as tf\n",
    "from tensorflow.keras.preprocessing.image import ImageDataGenerator\n",
    "from tensorflow.keras.layers import Input, Conv2D, MaxPooling2D, Flatten, Dense, Dropout, GlobalAveragePooling2D\n",
    "from tensorflow.keras.models import Model\n",
    "from tensorflow.keras.optimizers import Adam\n",
    "from tensorflow.keras.callbacks import ModelCheckpoint\n",
    "import matplotlib.pyplot as plt\n",
    "import seaborn as sns\n",
    "from sklearn.metrics import confusion_matrix, ConfusionMatrixDisplay\n",
    "import numpy as np\n",
    "import wandb\n",
    "\n",
    "# Initialize wandb and config\n",
    "wandb.init(\n",
    "    project=\"computer_vision\",\n",
    "    config={\n",
    "        \"learning_rate\": 0.0005,\n",
    "        \"architecture\": \"CustomCNN\",\n",
    "        \"dataset\": \"alzheimer\",\n",
    "        \"epochs\": 100,\n",
    "        \"batch_size\": 32,\n",
    "        \"input_shape\": (176, 208, 3),\n",
    "        \"num_classes\": 4\n",
    "    }\n",
    ")\n",
    "\n",
    "config = wandb.config\n",
    "\n",
    "# Define data generators\n",
    "train_datagen = ImageDataGenerator(rescale=1./255)\n",
    "test_datagen = ImageDataGenerator(rescale=1./255)\n",
    "\n",
    "# Define data generators for training and testing\n",
    "train_generator = train_datagen.flow_from_directory(\n",
    "    'train',\n",
    "    target_size=config.input_shape[:2],\n",
    "    batch_size=config.batch_size,\n",
    "    class_mode='categorical')\n",
    "\n",
    "test_generator = test_datagen.flow_from_directory(\n",
    "    'test',\n",
    "    target_size=config.input_shape[:2],\n",
    "    batch_size=config.batch_size,\n",
    "    class_mode='categorical')\n",
    "\n",
    "# Create a custom CNN model\n",
    "def create_cnn_model(input_shape, num_classes):\n",
    "    inputs = Input(shape=input_shape)\n",
    "    x = Conv2D(32, (3, 3), activation='relu', padding='same')(inputs)\n",
    "    x = MaxPooling2D((2, 2))(x)\n",
    "    x = Conv2D(64, (3, 3), activation='relu', padding='same')(x)\n",
    "    x = MaxPooling2D((2, 2))(x)\n",
    "    x = Conv2D(128, (3, 3), activation='relu', padding='same')(x)\n",
    "    x = MaxPooling2D((2, 2))(x)\n",
    "    x = GlobalAveragePooling2D()(x)\n",
    "    x = Dense(256, activation='relu')(x)\n",
    "    x = Dropout(0.2)(x)\n",
    "    predictions = Dense(num_classes, activation='softmax')(x)\n",
    "\n",
    "    model = Model(inputs=inputs, outputs=predictions)\n",
    "    return model\n",
    "\n",
    "# Initialize CNN model\n",
    "model = create_cnn_model(config.input_shape, config.num_classes)\n",
    "\n",
    "# Compile the model\n",
    "model.compile(optimizer=Adam(config.learning_rate), loss='categorical_crossentropy', metrics=['accuracy'])\n",
    "\n",
    "# Print model summary\n",
    "model.summary()\n",
    "\n",
    "# Log model summary to Wandb\n",
    "wandb.log({'model_summary': model.summary()})\n",
    "\n",
    "# Setup checkpoint directory\n",
    "checkpoint_dir = './model_checkpoints'\n",
    "os.makedirs(checkpoint_dir, exist_ok=True)\n",
    "checkpoint_filepath = os.path.join(checkpoint_dir, 'checkpoint-{epoch:02d}-{val_accuracy:.2f}.keras')\n",
    "\n",
    "# Create a model checkpoint callback\n",
    "checkpoint_callback = ModelCheckpoint(\n",
    "    filepath=checkpoint_filepath,\n",
    "    save_weights_only=False,\n",
    "    monitor='val_accuracy',\n",
    "    mode='max',\n",
    "    save_best_only=True,\n",
    "    verbose=1)\n",
    "\n",
    "# Train the model\n",
    "history = model.fit(\n",
    "    train_generator,\n",
    "    epochs=config.epochs,\n",
    "    validation_data=test_generator,\n",
    "    callbacks=[checkpoint_callback]\n",
    ")\n",
    "\n",
    "# Evaluate the model\n",
    "test_loss, test_acc = model.evaluate(test_generator)\n",
    "wandb.log({'test_loss': test_loss, 'test_accuracy': test_acc})\n",
    "print('Test accuracy:', test_acc)\n",
    "\n",
    "# Save the model\n",
    "model_filename = 'alzheimer_model_customcnn_{:.4f}.h5'.format(test_acc)\n",
    "model.save(os.path.join('model', model_filename))\n",
    "print(f\"Model saved successfully as '{model_filename}'.\")\n",
    "\n",
    "# Plot training and validation accuracy and loss graphs\n",
    "plt.figure(figsize=(14, 6))\n",
    "\n",
    "# Accuracy plot\n",
    "plt.subplot(1, 2, 1)\n",
    "plt.plot(history.history['accuracy'], label='Training Accuracy')\n",
    "plt.plot(history.history['val_accuracy'], label='Validation Accuracy')\n",
    "plt.xlabel('Epochs')\n",
    "plt.ylabel('Accuracy')\n",
    "plt.title('Training and Validation Accuracy')\n",
    "plt.legend()\n",
    "\n",
    "# Loss plot\n",
    "plt.subplot(1, 2, 2)\n",
    "plt.plot(history.history['loss'], label='Training Loss')\n",
    "plt.plot(history.history['val_loss'], label='Validation Loss')\n",
    "plt.xlabel('Epochs')\n",
    "plt.ylabel('Loss')\n",
    "plt.title('Training and Validation Loss')\n",
    "plt.legend()\n",
    "\n",
    "plt.show()\n",
    "\n",
    "# Predict the labels on the test set\n",
    "test_labels = test_generator.classes\n",
    "test_preds = model.predict(test_generator)\n",
    "test_preds_classes = np.argmax(test_preds, axis=1)\n",
    "\n",
    "# Create confusion matrix\n",
    "conf_matrix = confusion_matrix(test_labels, test_preds_classes)\n",
    "disp = ConfusionMatrixDisplay(confusion_matrix=conf_matrix, display_labels=test_generator.class_indices.keys())\n",
    "\n",
    "# Plot confusion matrix\n",
    "plt.figure(figsize=(8, 8))\n",
    "disp.plot(cmap=plt.cm.Blues)\n",
    "plt.title(\"Confusion Matrix\")\n",
    "plt.show()\n"
   ]
  },
  {
   "cell_type": "code",
   "execution_count": null,
   "id": "1fa0ed40-c774-4a82-9812-2ffb947a1605",
   "metadata": {},
   "outputs": [],
   "source": []
  }
 ],
 "metadata": {
  "kernelspec": {
   "display_name": "Python 3 (ipykernel)",
   "language": "python",
   "name": "python3"
  },
  "language_info": {
   "codemirror_mode": {
    "name": "ipython",
    "version": 3
   },
   "file_extension": ".py",
   "mimetype": "text/x-python",
   "name": "python",
   "nbconvert_exporter": "python",
   "pygments_lexer": "ipython3",
   "version": "3.10.12"
  }
 },
 "nbformat": 4,
 "nbformat_minor": 5
}
